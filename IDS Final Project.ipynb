{
 "cells": [
  {
   "cell_type": "markdown",
   "metadata": {},
   "source": [
    "# **EDA of booming Tech-companies and predicting future stock prices**"
   ]
  },
  {
   "cell_type": "markdown",
   "metadata": {},
   "source": [
    "**About the project:**\n",
    "The group members of this project are: Abhishek Delwadia, Ami Dedhia, Akshata Chavan.\n",
    "\n",
    "We identify that IT sector was one of the biggest sector by percentage in S&P 500 and the we have analyzed the companies of IT sector and their behavior from the year 2006 to 2020.The main goal of this analysis is to get information about these companies financial trends for making wise investments.For this purpose we have done EDA on the dataset which has financial information of these companies from 2006-2020 and visualized various aspects to derive a conclusion about the the top companies that should be considered for investing. Also, we have performed linear regression to predict future stock prices for a company.\n"
   ]
  },
  {
   "cell_type": "markdown",
   "metadata": {},
   "source": [
    "### **1. Required Imports**"
   ]
  },
  {
   "cell_type": "code",
   "execution_count": 2,
   "metadata": {},
   "outputs": [
    {
     "data": {
      "text/html": [
       "        <script type=\"text/javascript\">\n",
       "        window.PlotlyConfig = {MathJaxConfig: 'local'};\n",
       "        if (window.MathJax) {MathJax.Hub.Config({SVG: {font: \"STIX-Web\"}});}\n",
       "        if (typeof require !== 'undefined') {\n",
       "        require.undef(\"plotly\");\n",
       "        requirejs.config({\n",
       "            paths: {\n",
       "                'plotly': ['https://cdn.plot.ly/plotly-latest.min']\n",
       "            }\n",
       "        });\n",
       "        require(['plotly'], function(Plotly) {\n",
       "            window._Plotly = Plotly;\n",
       "        });\n",
       "        }\n",
       "        </script>\n",
       "        "
      ]
     },
     "metadata": {},
     "output_type": "display_data"
    }
   ],
   "source": [
    "# for data analysis \n",
    "import pandas as pd\n",
    "from pandas_datareader import data\n",
    "import numpy as np\n",
    "import random as rnd\n",
    "import datetime\n",
    "\n",
    "# for visualization\n",
    "import seaborn as sns\n",
    "import matplotlib.pyplot as plt\n",
    "sns.set_style('whitegrid')\n",
    "%matplotlib inline\n",
    "## plotly\n",
    "import plotly\n",
    "import plotly.graph_objects as go\n",
    "import plotly.express as px\n",
    "from plotly.subplots import make_subplots\n",
    "import plotly.graph_objects as go\n",
    "import cufflinks as cf\n",
    "cf.go_offline()\n",
    "\n",
    "# web scraping\n",
    "import requests\n",
    "import bs4\n",
    "import csv\n",
    "import json \n",
    "import re\n",
    "from io import StringIO\n",
    "\n",
    "#Linear Regression\n",
    "from sklearn.linear_model import LinearRegression\n",
    "from sklearn.svm import SVR\n",
    "from sklearn.model_selection import train_test_split"
   ]
  },
  {
   "cell_type": "markdown",
   "metadata": {},
   "source": [
    "### **2. Loading the required data**\n",
    "\n",
    "Here we have extracted the data from yahoo finance using pandas DataReader. Pandas DataReader basically allows us to read information of the stock for the period of start date and end date that we mention directly from the Internet by using the Stock Ticker of the company. We have made a list of all stock tickers for which we require the data to be fetched from Yahoo finance."
   ]
  },
  {
   "cell_type": "code",
   "execution_count": 17,
   "metadata": {},
   "outputs": [],
   "source": [
    "# setting the start date and end date\n",
    "startdate = datetime.datetime(2006,1,1)\n",
    "enddate = datetime.datetime(2020,11,20)\n",
    "\n",
    "\n",
    "stock_List = ['AAPL','MSFT','TSM','NVDA','CRM','ADBE','INTC','ASML','CSCO','ORCL','QCOM','AVGO','ACN','TXN','SAP','SHOP','SNE',\n",
    "'IBM','AMD','NOW','SQ','FIS','INTU','UBER','SNOW','FISV','AMAT','MU','INFY','LRCX','VMW','ADSK','TEAM','DELL','ADI','WDAY',\n",
    "'NXPI','CTSH','ERIC','DOCU','PLTR','KLAC','APH','TEL','U','MCHP','STM','SNPS','XLNX','CRWD','SPLK','CDNS','MRVL','OKTA',\n",
    "'HPQ','MSI','PANW','GLW','DDOG','FTV-PA','ANSS','WIT','RNG','FTV','PAYC','SWKS','COUP','VRSN','STNE','GRMN','MXIM','KEYS','FLT',\n",
    "'NET','ANET','CAJ','ZBRA','ZS','FTNT','EPAM','CDW','GIB','TER','SSNC','ZI','UMC','WORK','BR','HUBS','QRVO','CHKP','AKAM','TYL',\n",
    "'CCC','UI','ZEN','CTXS','TRMB','AVLR','STX']\n",
    "\n",
    "d = {}\n",
    "for name in stock_List:\n",
    "    d[name] = data.DataReader(\"{}\".format(name), 'yahoo', startdate, enddate)"
   ]
  },
  {
   "cell_type": "markdown",
   "metadata": {},
   "source": [
    "Dataset comprises of infromation of stocks mentioned in the list above for the time period from 2006-2020.\n",
    "\n",
    "**Date:** Date of recorded prices. \n",
    "\n",
    "**High:** Highest prices of a traded stock for a trading day.\n",
    "\n",
    "**Low:** Lowest prices of a traded stock for a trading day.\n",
    "\n",
    "**Open:** Start price of a stock after the open bell rang.\n",
    "\n",
    "**Close:** Last price of a stock trades for a trading session.\n",
    "\n",
    "**Volume:** Number of shares that changed hands during a given day.\n",
    "\n",
    "**Adj Close:** The adjusted closing price factors in corporate actions, such as stock splits, dividends, and rights offerings."
   ]
  },
  {
   "cell_type": "code",
   "execution_count": 18,
   "metadata": {},
   "outputs": [
    {
     "data": {
      "text/html": [
       "<div>\n",
       "<style scoped>\n",
       "    .dataframe tbody tr th:only-of-type {\n",
       "        vertical-align: middle;\n",
       "    }\n",
       "\n",
       "    .dataframe tbody tr th {\n",
       "        vertical-align: top;\n",
       "    }\n",
       "\n",
       "    .dataframe thead th {\n",
       "        text-align: right;\n",
       "    }\n",
       "</style>\n",
       "<table border=\"1\" class=\"dataframe\">\n",
       "  <thead>\n",
       "    <tr style=\"text-align: right;\">\n",
       "      <th></th>\n",
       "      <th>High</th>\n",
       "      <th>Low</th>\n",
       "      <th>Open</th>\n",
       "      <th>Close</th>\n",
       "      <th>Volume</th>\n",
       "      <th>Adj Close</th>\n",
       "    </tr>\n",
       "    <tr>\n",
       "      <th>Date</th>\n",
       "      <th></th>\n",
       "      <th></th>\n",
       "      <th></th>\n",
       "      <th></th>\n",
       "      <th></th>\n",
       "      <th></th>\n",
       "    </tr>\n",
       "  </thead>\n",
       "  <tbody>\n",
       "    <tr>\n",
       "      <th>2006-01-03</th>\n",
       "      <td>20.129999</td>\n",
       "      <td>19.690001</td>\n",
       "      <td>20.100000</td>\n",
       "      <td>20.070000</td>\n",
       "      <td>8194000.0</td>\n",
       "      <td>11.385056</td>\n",
       "    </tr>\n",
       "    <tr>\n",
       "      <th>2006-01-04</th>\n",
       "      <td>21.120001</td>\n",
       "      <td>20.200001</td>\n",
       "      <td>20.240000</td>\n",
       "      <td>21.040001</td>\n",
       "      <td>12653000.0</td>\n",
       "      <td>11.935305</td>\n",
       "    </tr>\n",
       "    <tr>\n",
       "      <th>2006-01-05</th>\n",
       "      <td>21.120001</td>\n",
       "      <td>20.850000</td>\n",
       "      <td>21.010000</td>\n",
       "      <td>20.850000</td>\n",
       "      <td>9026600.0</td>\n",
       "      <td>11.827526</td>\n",
       "    </tr>\n",
       "    <tr>\n",
       "      <th>2006-01-06</th>\n",
       "      <td>21.450001</td>\n",
       "      <td>20.879999</td>\n",
       "      <td>21.080000</td>\n",
       "      <td>21.389999</td>\n",
       "      <td>9870500.0</td>\n",
       "      <td>12.133849</td>\n",
       "    </tr>\n",
       "    <tr>\n",
       "      <th>2006-01-09</th>\n",
       "      <td>22.350000</td>\n",
       "      <td>21.450001</td>\n",
       "      <td>21.520000</td>\n",
       "      <td>22.290001</td>\n",
       "      <td>9621700.0</td>\n",
       "      <td>12.644396</td>\n",
       "    </tr>\n",
       "    <tr>\n",
       "      <th>...</th>\n",
       "      <td>...</td>\n",
       "      <td>...</td>\n",
       "      <td>...</td>\n",
       "      <td>...</td>\n",
       "      <td>...</td>\n",
       "      <td>...</td>\n",
       "    </tr>\n",
       "    <tr>\n",
       "      <th>2020-11-16</th>\n",
       "      <td>56.000000</td>\n",
       "      <td>54.980000</td>\n",
       "      <td>55.000000</td>\n",
       "      <td>55.939999</td>\n",
       "      <td>3242400.0</td>\n",
       "      <td>55.939999</td>\n",
       "    </tr>\n",
       "    <tr>\n",
       "      <th>2020-11-17</th>\n",
       "      <td>55.889999</td>\n",
       "      <td>55.000000</td>\n",
       "      <td>55.410000</td>\n",
       "      <td>55.509998</td>\n",
       "      <td>2207000.0</td>\n",
       "      <td>55.509998</td>\n",
       "    </tr>\n",
       "    <tr>\n",
       "      <th>2020-11-18</th>\n",
       "      <td>56.450001</td>\n",
       "      <td>55.240002</td>\n",
       "      <td>55.669998</td>\n",
       "      <td>55.240002</td>\n",
       "      <td>2499700.0</td>\n",
       "      <td>55.240002</td>\n",
       "    </tr>\n",
       "    <tr>\n",
       "      <th>2020-11-19</th>\n",
       "      <td>56.080002</td>\n",
       "      <td>54.529999</td>\n",
       "      <td>54.799999</td>\n",
       "      <td>55.919998</td>\n",
       "      <td>1931300.0</td>\n",
       "      <td>55.919998</td>\n",
       "    </tr>\n",
       "    <tr>\n",
       "      <th>2020-11-20</th>\n",
       "      <td>56.450001</td>\n",
       "      <td>55.580002</td>\n",
       "      <td>55.810001</td>\n",
       "      <td>55.610001</td>\n",
       "      <td>2174800.0</td>\n",
       "      <td>55.610001</td>\n",
       "    </tr>\n",
       "  </tbody>\n",
       "</table>\n",
       "<p>3749 rows × 6 columns</p>\n",
       "</div>"
      ],
      "text/plain": [
       "                 High        Low       Open      Close      Volume  Adj Close\n",
       "Date                                                                         \n",
       "2006-01-03  20.129999  19.690001  20.100000  20.070000   8194000.0  11.385056\n",
       "2006-01-04  21.120001  20.200001  20.240000  21.040001  12653000.0  11.935305\n",
       "2006-01-05  21.120001  20.850000  21.010000  20.850000   9026600.0  11.827526\n",
       "2006-01-06  21.450001  20.879999  21.080000  21.389999   9870500.0  12.133849\n",
       "2006-01-09  22.350000  21.450001  21.520000  22.290001   9621700.0  12.644396\n",
       "...               ...        ...        ...        ...         ...        ...\n",
       "2020-11-16  56.000000  54.980000  55.000000  55.939999   3242400.0  55.939999\n",
       "2020-11-17  55.889999  55.000000  55.410000  55.509998   2207000.0  55.509998\n",
       "2020-11-18  56.450001  55.240002  55.669998  55.240002   2499700.0  55.240002\n",
       "2020-11-19  56.080002  54.529999  54.799999  55.919998   1931300.0  55.919998\n",
       "2020-11-20  56.450001  55.580002  55.810001  55.610001   2174800.0  55.610001\n",
       "\n",
       "[3749 rows x 6 columns]"
      ]
     },
     "execution_count": 18,
     "metadata": {},
     "output_type": "execute_result"
    }
   ],
   "source": [
    "#View the first 5 and last 5 rows of the dataset\n",
    "d[name]"
   ]
  },
  {
   "cell_type": "markdown",
   "metadata": {},
   "source": [
    "Every index file has the same structure as the dataset for stocks and with the same columns.\n",
    "\n",
    "**DJI** : The Dow Jones Industrial Average, Dow Jones, or simply the Dow, is a stock market index that measures the stock performance of 30 large companies listed on stock exchanges in the United States.\n",
    "\n",
    "**GSPC**: This Standard & Poor's Index is a capitalization-weighted index of 500 stocks. It is a popular index and is used to measure the performance of the large cap U.S. stock market. ... Money managers often index their portfolios to match or beat the S&P 500. GSPC is the ticker symbol.\n",
    "\n",
    "**IXIC**: The NASDAQ Composite is a stock market index that includes almost all stocks listed on the Nasdaq stock market. Along with the Dow Jones Industrial Average and S&P 500 Index, it is one of the three most-followed stock market indices in the United States. IXIC is the ticker symbol.\n",
    "\n",
    "**W5000**: The Wilshire 5000 Total Market Index is a market-capitalization-weighted index of the market value of all US-stocks actively traded in the United States. W5000 is the ticker symbol.\n",
    "\n",
    "**XLK**: The investment seeks investment results that, before expenses, correspond generally to the price and yield performance of publicly traded equity securities of companies in the Technology Select Sector Index."
   ]
  },
  {
   "cell_type": "code",
   "execution_count": 19,
   "metadata": {
    "scrolled": false
   },
   "outputs": [],
   "source": [
    "# Indices\n",
    "DJI = pd.read_csv('C:/Users/abhis/OneDrive/Desktop/idsproject/Indices/DJI.csv')\n",
    "GSPC = pd.read_csv('C:/Users/abhis/OneDrive/Desktop/idsproject/Indices/GSPC.csv')\n",
    "IXIC = pd.read_csv('C:/Users/abhis/OneDrive/Desktop/idsproject/Indices/IXIC.csv')\n",
    "W5000 = pd.read_csv('C:/Users/abhis/OneDrive/Desktop/idsproject/Indices/W5000.csv')\n",
    "XLK = pd.read_csv('C:/Users/abhis/OneDrive/Desktop/idsproject/Indices/XLK.csv')\n",
    "\n",
    "# Lists\n",
    "list_syp_comp = pd.read_csv('C:/Users/abhis/OneDrive/Desktop/idsproject/List of SP 500 companies.csv')\n",
    "tech_comp_list = pd.read_csv('C:/Users/abhis/OneDrive/Desktop/idsproject/Technology Sector List.csv')\n"
   ]
  },
  {
   "cell_type": "code",
   "execution_count": 20,
   "metadata": {},
   "outputs": [
    {
     "data": {
      "text/html": [
       "<div>\n",
       "<style scoped>\n",
       "    .dataframe tbody tr th:only-of-type {\n",
       "        vertical-align: middle;\n",
       "    }\n",
       "\n",
       "    .dataframe tbody tr th {\n",
       "        vertical-align: top;\n",
       "    }\n",
       "\n",
       "    .dataframe thead th {\n",
       "        text-align: right;\n",
       "    }\n",
       "</style>\n",
       "<table border=\"1\" class=\"dataframe\">\n",
       "  <thead>\n",
       "    <tr style=\"text-align: right;\">\n",
       "      <th></th>\n",
       "      <th>Symbol</th>\n",
       "      <th>Name</th>\n",
       "      <th>Sector</th>\n",
       "    </tr>\n",
       "  </thead>\n",
       "  <tbody>\n",
       "    <tr>\n",
       "      <th>0</th>\n",
       "      <td>MMM</td>\n",
       "      <td>3M Company</td>\n",
       "      <td>Industrials</td>\n",
       "    </tr>\n",
       "    <tr>\n",
       "      <th>1</th>\n",
       "      <td>AOS</td>\n",
       "      <td>A.O. Smith Corp</td>\n",
       "      <td>Industrials</td>\n",
       "    </tr>\n",
       "    <tr>\n",
       "      <th>2</th>\n",
       "      <td>ABT</td>\n",
       "      <td>Abbott Laboratories</td>\n",
       "      <td>Health Care</td>\n",
       "    </tr>\n",
       "    <tr>\n",
       "      <th>3</th>\n",
       "      <td>ABBV</td>\n",
       "      <td>AbbVie Inc.</td>\n",
       "      <td>Health Care</td>\n",
       "    </tr>\n",
       "    <tr>\n",
       "      <th>4</th>\n",
       "      <td>ABMD</td>\n",
       "      <td>ABIOMED Inc</td>\n",
       "      <td>Health Care</td>\n",
       "    </tr>\n",
       "  </tbody>\n",
       "</table>\n",
       "</div>"
      ],
      "text/plain": [
       "  Symbol                 Name       Sector\n",
       "0    MMM           3M Company  Industrials\n",
       "1    AOS      A.O. Smith Corp  Industrials\n",
       "2    ABT  Abbott Laboratories  Health Care\n",
       "3   ABBV          AbbVie Inc.  Health Care\n",
       "4   ABMD          ABIOMED Inc  Health Care"
      ]
     },
     "execution_count": 20,
     "metadata": {},
     "output_type": "execute_result"
    }
   ],
   "source": [
    "list_syp_comp.head()"
   ]
  },
  {
   "cell_type": "markdown",
   "metadata": {},
   "source": [
    "Technology Sector Companies List\n",
    "\n",
    "**Symbol**: Company's Ticker symbol.\n",
    "\n",
    "**Name**: Company's name.\n",
    "\n",
    "**Price**: It is the price at which a stock can be sold or purchased currently.\n",
    "\n",
    "**Change**: Its the difference between closing prices from one day to the next.\n",
    "\n",
    "**% Change**: Its the difference between closing prices from one day to the next in terms of percentage.\n",
    "\n",
    "**Volume**: During a given day number of shares that changed hands is the volume of that stock.\n",
    "\n",
    "**Avg Vol**: It is the daily average of the cumulative trading volume during the last three months.\n",
    "\n",
    "**Market Cap (Billions)**: Is the total valuation of a company’s outstanding shares at a given moment in time.\n",
    "\n",
    "**PE Ratio**: Is the ratio of  stock price of a company to the earnings per share of the company."
   ]
  },
  {
   "cell_type": "code",
   "execution_count": 21,
   "metadata": {},
   "outputs": [
    {
     "data": {
      "text/html": [
       "<div>\n",
       "<style scoped>\n",
       "    .dataframe tbody tr th:only-of-type {\n",
       "        vertical-align: middle;\n",
       "    }\n",
       "\n",
       "    .dataframe tbody tr th {\n",
       "        vertical-align: top;\n",
       "    }\n",
       "\n",
       "    .dataframe thead th {\n",
       "        text-align: right;\n",
       "    }\n",
       "</style>\n",
       "<table border=\"1\" class=\"dataframe\">\n",
       "  <thead>\n",
       "    <tr style=\"text-align: right;\">\n",
       "      <th></th>\n",
       "      <th>Symbol</th>\n",
       "      <th>Name</th>\n",
       "      <th>Price</th>\n",
       "      <th>Change</th>\n",
       "      <th>% Change</th>\n",
       "      <th>Volume</th>\n",
       "      <th>Avg Vol</th>\n",
       "      <th>Market Cap (Billions)</th>\n",
       "      <th>PE Ratio</th>\n",
       "    </tr>\n",
       "  </thead>\n",
       "  <tbody>\n",
       "    <tr>\n",
       "      <th>0</th>\n",
       "      <td>AAPL</td>\n",
       "      <td>Apple Inc.</td>\n",
       "      <td>113.85</td>\n",
       "      <td>-3.49</td>\n",
       "      <td>-0.0297</td>\n",
       "      <td>127959000</td>\n",
       "      <td>150549000</td>\n",
       "      <td>1936.000</td>\n",
       "      <td>34.71</td>\n",
       "    </tr>\n",
       "    <tr>\n",
       "      <th>1</th>\n",
       "      <td>MSFT</td>\n",
       "      <td>Microsoft Corporation</td>\n",
       "      <td>210.11</td>\n",
       "      <td>-0.28</td>\n",
       "      <td>-0.0013</td>\n",
       "      <td>25684000</td>\n",
       "      <td>31868000</td>\n",
       "      <td>1589.000</td>\n",
       "      <td>33.89</td>\n",
       "    </tr>\n",
       "    <tr>\n",
       "      <th>2</th>\n",
       "      <td>TSM</td>\n",
       "      <td>Taiwan Semiconductor Manufacturing Company Lim...</td>\n",
       "      <td>98.13</td>\n",
       "      <td>2.80</td>\n",
       "      <td>0.0294</td>\n",
       "      <td>8610000</td>\n",
       "      <td>8620000</td>\n",
       "      <td>451.466</td>\n",
       "      <td>44.00</td>\n",
       "    </tr>\n",
       "    <tr>\n",
       "      <th>3</th>\n",
       "      <td>NVDA</td>\n",
       "      <td>NVIDIA Corporation</td>\n",
       "      <td>525.60</td>\n",
       "      <td>2.09</td>\n",
       "      <td>0.0040</td>\n",
       "      <td>9034000</td>\n",
       "      <td>12642000</td>\n",
       "      <td>325.346</td>\n",
       "      <td>85.92</td>\n",
       "    </tr>\n",
       "    <tr>\n",
       "      <th>4</th>\n",
       "      <td>CRM</td>\n",
       "      <td>salesforce.com inc.</td>\n",
       "      <td>257.64</td>\n",
       "      <td>-0.40</td>\n",
       "      <td>-0.0016</td>\n",
       "      <td>5382000</td>\n",
       "      <td>7842000</td>\n",
       "      <td>234.452</td>\n",
       "      <td>99.44</td>\n",
       "    </tr>\n",
       "  </tbody>\n",
       "</table>\n",
       "</div>"
      ],
      "text/plain": [
       "  Symbol                                               Name   Price  Change  \\\n",
       "0   AAPL                                         Apple Inc.  113.85   -3.49   \n",
       "1   MSFT                              Microsoft Corporation  210.11   -0.28   \n",
       "2    TSM  Taiwan Semiconductor Manufacturing Company Lim...   98.13    2.80   \n",
       "3   NVDA                                 NVIDIA Corporation  525.60    2.09   \n",
       "4    CRM                                salesforce.com inc.  257.64   -0.40   \n",
       "\n",
       "   % Change     Volume    Avg Vol  Market Cap (Billions)  PE Ratio  \n",
       "0   -0.0297  127959000  150549000               1936.000     34.71  \n",
       "1   -0.0013   25684000   31868000               1589.000     33.89  \n",
       "2    0.0294    8610000    8620000                451.466     44.00  \n",
       "3    0.0040    9034000   12642000                325.346     85.92  \n",
       "4   -0.0016    5382000    7842000                234.452     99.44  "
      ]
     },
     "execution_count": 21,
     "metadata": {},
     "output_type": "execute_result"
    }
   ],
   "source": [
    "tech_comp_list.head()"
   ]
  },
  {
   "cell_type": "code",
   "execution_count": 22,
   "metadata": {},
   "outputs": [
    {
     "data": {
      "text/html": [
       "<div>\n",
       "<style scoped>\n",
       "    .dataframe tbody tr th:only-of-type {\n",
       "        vertical-align: middle;\n",
       "    }\n",
       "\n",
       "    .dataframe tbody tr th {\n",
       "        vertical-align: top;\n",
       "    }\n",
       "\n",
       "    .dataframe thead th {\n",
       "        text-align: right;\n",
       "    }\n",
       "</style>\n",
       "<table border=\"1\" class=\"dataframe\">\n",
       "  <thead>\n",
       "    <tr style=\"text-align: right;\">\n",
       "      <th></th>\n",
       "      <th>Date</th>\n",
       "      <th>High</th>\n",
       "      <th>Low</th>\n",
       "      <th>Open</th>\n",
       "      <th>Close</th>\n",
       "      <th>Volume</th>\n",
       "      <th>Adj Close</th>\n",
       "    </tr>\n",
       "  </thead>\n",
       "  <tbody>\n",
       "    <tr>\n",
       "      <th>0</th>\n",
       "      <td>2006-01-03</td>\n",
       "      <td>10862.780273</td>\n",
       "      <td>10684.450195</td>\n",
       "      <td>10718.299805</td>\n",
       "      <td>10847.410156</td>\n",
       "      <td>302950000</td>\n",
       "      <td>10847.410156</td>\n",
       "    </tr>\n",
       "    <tr>\n",
       "      <th>1</th>\n",
       "      <td>2006-01-04</td>\n",
       "      <td>10892.639648</td>\n",
       "      <td>10833.900391</td>\n",
       "      <td>10843.969727</td>\n",
       "      <td>10880.150391</td>\n",
       "      <td>271490000</td>\n",
       "      <td>10880.150391</td>\n",
       "    </tr>\n",
       "    <tr>\n",
       "      <th>2</th>\n",
       "      <td>2006-01-05</td>\n",
       "      <td>10908.250000</td>\n",
       "      <td>10843.650391</td>\n",
       "      <td>10880.389648</td>\n",
       "      <td>10882.150391</td>\n",
       "      <td>250910000</td>\n",
       "      <td>10882.150391</td>\n",
       "    </tr>\n",
       "    <tr>\n",
       "      <th>3</th>\n",
       "      <td>2006-01-06</td>\n",
       "      <td>10968.839844</td>\n",
       "      <td>10875.450195</td>\n",
       "      <td>10875.450195</td>\n",
       "      <td>10959.309570</td>\n",
       "      <td>291740000</td>\n",
       "      <td>10959.309570</td>\n",
       "    </tr>\n",
       "    <tr>\n",
       "      <th>4</th>\n",
       "      <td>2006-01-09</td>\n",
       "      <td>11020.150391</td>\n",
       "      <td>10944.429688</td>\n",
       "      <td>10959.469727</td>\n",
       "      <td>11011.900391</td>\n",
       "      <td>248240000</td>\n",
       "      <td>11011.900391</td>\n",
       "    </tr>\n",
       "  </tbody>\n",
       "</table>\n",
       "</div>"
      ],
      "text/plain": [
       "         Date          High           Low          Open         Close  \\\n",
       "0  2006-01-03  10862.780273  10684.450195  10718.299805  10847.410156   \n",
       "1  2006-01-04  10892.639648  10833.900391  10843.969727  10880.150391   \n",
       "2  2006-01-05  10908.250000  10843.650391  10880.389648  10882.150391   \n",
       "3  2006-01-06  10968.839844  10875.450195  10875.450195  10959.309570   \n",
       "4  2006-01-09  11020.150391  10944.429688  10959.469727  11011.900391   \n",
       "\n",
       "      Volume     Adj Close  \n",
       "0  302950000  10847.410156  \n",
       "1  271490000  10880.150391  \n",
       "2  250910000  10882.150391  \n",
       "3  291740000  10959.309570  \n",
       "4  248240000  11011.900391  "
      ]
     },
     "execution_count": 22,
     "metadata": {},
     "output_type": "execute_result"
    }
   ],
   "source": [
    "DJI.head()"
   ]
  },
  {
   "cell_type": "code",
   "execution_count": 23,
   "metadata": {},
   "outputs": [
    {
     "data": {
      "text/html": [
       "<div>\n",
       "<style scoped>\n",
       "    .dataframe tbody tr th:only-of-type {\n",
       "        vertical-align: middle;\n",
       "    }\n",
       "\n",
       "    .dataframe tbody tr th {\n",
       "        vertical-align: top;\n",
       "    }\n",
       "\n",
       "    .dataframe thead th {\n",
       "        text-align: right;\n",
       "    }\n",
       "</style>\n",
       "<table border=\"1\" class=\"dataframe\">\n",
       "  <thead>\n",
       "    <tr style=\"text-align: right;\">\n",
       "      <th></th>\n",
       "      <th>Date</th>\n",
       "      <th>High</th>\n",
       "      <th>Low</th>\n",
       "      <th>Open</th>\n",
       "      <th>Close</th>\n",
       "      <th>Volume</th>\n",
       "      <th>Adj Close</th>\n",
       "    </tr>\n",
       "  </thead>\n",
       "  <tbody>\n",
       "    <tr>\n",
       "      <th>0</th>\n",
       "      <td>2006-01-03</td>\n",
       "      <td>1270.219971</td>\n",
       "      <td>1245.739990</td>\n",
       "      <td>1248.290039</td>\n",
       "      <td>1268.800049</td>\n",
       "      <td>2554570000</td>\n",
       "      <td>1268.800049</td>\n",
       "    </tr>\n",
       "    <tr>\n",
       "      <th>1</th>\n",
       "      <td>2006-01-04</td>\n",
       "      <td>1275.369995</td>\n",
       "      <td>1267.739990</td>\n",
       "      <td>1268.800049</td>\n",
       "      <td>1273.459961</td>\n",
       "      <td>2515330000</td>\n",
       "      <td>1273.459961</td>\n",
       "    </tr>\n",
       "    <tr>\n",
       "      <th>2</th>\n",
       "      <td>2006-01-05</td>\n",
       "      <td>1276.910034</td>\n",
       "      <td>1270.300049</td>\n",
       "      <td>1273.459961</td>\n",
       "      <td>1273.479980</td>\n",
       "      <td>2433340000</td>\n",
       "      <td>1273.479980</td>\n",
       "    </tr>\n",
       "    <tr>\n",
       "      <th>3</th>\n",
       "      <td>2006-01-06</td>\n",
       "      <td>1286.089966</td>\n",
       "      <td>1273.479980</td>\n",
       "      <td>1273.479980</td>\n",
       "      <td>1285.449951</td>\n",
       "      <td>2446560000</td>\n",
       "      <td>1285.449951</td>\n",
       "    </tr>\n",
       "    <tr>\n",
       "      <th>4</th>\n",
       "      <td>2006-01-09</td>\n",
       "      <td>1290.780029</td>\n",
       "      <td>1284.819946</td>\n",
       "      <td>1285.449951</td>\n",
       "      <td>1290.150024</td>\n",
       "      <td>2301490000</td>\n",
       "      <td>1290.150024</td>\n",
       "    </tr>\n",
       "  </tbody>\n",
       "</table>\n",
       "</div>"
      ],
      "text/plain": [
       "         Date         High          Low         Open        Close      Volume  \\\n",
       "0  2006-01-03  1270.219971  1245.739990  1248.290039  1268.800049  2554570000   \n",
       "1  2006-01-04  1275.369995  1267.739990  1268.800049  1273.459961  2515330000   \n",
       "2  2006-01-05  1276.910034  1270.300049  1273.459961  1273.479980  2433340000   \n",
       "3  2006-01-06  1286.089966  1273.479980  1273.479980  1285.449951  2446560000   \n",
       "4  2006-01-09  1290.780029  1284.819946  1285.449951  1290.150024  2301490000   \n",
       "\n",
       "     Adj Close  \n",
       "0  1268.800049  \n",
       "1  1273.459961  \n",
       "2  1273.479980  \n",
       "3  1285.449951  \n",
       "4  1290.150024  "
      ]
     },
     "execution_count": 23,
     "metadata": {},
     "output_type": "execute_result"
    }
   ],
   "source": [
    "GSPC.head()"
   ]
  },
  {
   "cell_type": "code",
   "execution_count": 24,
   "metadata": {},
   "outputs": [
    {
     "data": {
      "text/html": [
       "<div>\n",
       "<style scoped>\n",
       "    .dataframe tbody tr th:only-of-type {\n",
       "        vertical-align: middle;\n",
       "    }\n",
       "\n",
       "    .dataframe tbody tr th {\n",
       "        vertical-align: top;\n",
       "    }\n",
       "\n",
       "    .dataframe thead th {\n",
       "        text-align: right;\n",
       "    }\n",
       "</style>\n",
       "<table border=\"1\" class=\"dataframe\">\n",
       "  <thead>\n",
       "    <tr style=\"text-align: right;\">\n",
       "      <th></th>\n",
       "      <th>Date</th>\n",
       "      <th>High</th>\n",
       "      <th>Low</th>\n",
       "      <th>Open</th>\n",
       "      <th>Close</th>\n",
       "      <th>Volume</th>\n",
       "      <th>Adj Close</th>\n",
       "    </tr>\n",
       "  </thead>\n",
       "  <tbody>\n",
       "    <tr>\n",
       "      <th>0</th>\n",
       "      <td>2006-01-03</td>\n",
       "      <td>2249.679932</td>\n",
       "      <td>2189.909912</td>\n",
       "      <td>2216.530029</td>\n",
       "      <td>2243.739990</td>\n",
       "      <td>1998300000</td>\n",
       "      <td>2243.739990</td>\n",
       "    </tr>\n",
       "    <tr>\n",
       "      <th>1</th>\n",
       "      <td>2006-01-04</td>\n",
       "      <td>2265.280029</td>\n",
       "      <td>2246.070068</td>\n",
       "      <td>2246.959961</td>\n",
       "      <td>2263.459961</td>\n",
       "      <td>1887560000</td>\n",
       "      <td>2263.459961</td>\n",
       "    </tr>\n",
       "    <tr>\n",
       "      <th>2</th>\n",
       "      <td>2006-01-05</td>\n",
       "      <td>2277.560059</td>\n",
       "      <td>2264.500000</td>\n",
       "      <td>2264.929932</td>\n",
       "      <td>2276.870117</td>\n",
       "      <td>1891750000</td>\n",
       "      <td>2276.870117</td>\n",
       "    </tr>\n",
       "    <tr>\n",
       "      <th>3</th>\n",
       "      <td>2006-01-06</td>\n",
       "      <td>2306.719971</td>\n",
       "      <td>2281.010010</td>\n",
       "      <td>2289.209961</td>\n",
       "      <td>2305.620117</td>\n",
       "      <td>2233640000</td>\n",
       "      <td>2305.620117</td>\n",
       "    </tr>\n",
       "    <tr>\n",
       "      <th>4</th>\n",
       "      <td>2006-01-09</td>\n",
       "      <td>2322.629883</td>\n",
       "      <td>2303.129883</td>\n",
       "      <td>2306.179932</td>\n",
       "      <td>2318.689941</td>\n",
       "      <td>1949140000</td>\n",
       "      <td>2318.689941</td>\n",
       "    </tr>\n",
       "  </tbody>\n",
       "</table>\n",
       "</div>"
      ],
      "text/plain": [
       "         Date         High          Low         Open        Close      Volume  \\\n",
       "0  2006-01-03  2249.679932  2189.909912  2216.530029  2243.739990  1998300000   \n",
       "1  2006-01-04  2265.280029  2246.070068  2246.959961  2263.459961  1887560000   \n",
       "2  2006-01-05  2277.560059  2264.500000  2264.929932  2276.870117  1891750000   \n",
       "3  2006-01-06  2306.719971  2281.010010  2289.209961  2305.620117  2233640000   \n",
       "4  2006-01-09  2322.629883  2303.129883  2306.179932  2318.689941  1949140000   \n",
       "\n",
       "     Adj Close  \n",
       "0  2243.739990  \n",
       "1  2263.459961  \n",
       "2  2276.870117  \n",
       "3  2305.620117  \n",
       "4  2318.689941  "
      ]
     },
     "execution_count": 24,
     "metadata": {},
     "output_type": "execute_result"
    }
   ],
   "source": [
    "IXIC.head()"
   ]
  },
  {
   "cell_type": "code",
   "execution_count": 25,
   "metadata": {},
   "outputs": [
    {
     "data": {
      "text/html": [
       "<div>\n",
       "<style scoped>\n",
       "    .dataframe tbody tr th:only-of-type {\n",
       "        vertical-align: middle;\n",
       "    }\n",
       "\n",
       "    .dataframe tbody tr th {\n",
       "        vertical-align: top;\n",
       "    }\n",
       "\n",
       "    .dataframe thead th {\n",
       "        text-align: right;\n",
       "    }\n",
       "</style>\n",
       "<table border=\"1\" class=\"dataframe\">\n",
       "  <thead>\n",
       "    <tr style=\"text-align: right;\">\n",
       "      <th></th>\n",
       "      <th>Date</th>\n",
       "      <th>High</th>\n",
       "      <th>Low</th>\n",
       "      <th>Open</th>\n",
       "      <th>Close</th>\n",
       "      <th>Volume</th>\n",
       "      <th>Adj Close</th>\n",
       "    </tr>\n",
       "  </thead>\n",
       "  <tbody>\n",
       "    <tr>\n",
       "      <th>0</th>\n",
       "      <td>2006-01-03</td>\n",
       "      <td>12713.879883</td>\n",
       "      <td>12713.879883</td>\n",
       "      <td>12713.879883</td>\n",
       "      <td>12713.879883</td>\n",
       "      <td>0.0</td>\n",
       "      <td>12713.879883</td>\n",
       "    </tr>\n",
       "    <tr>\n",
       "      <th>1</th>\n",
       "      <td>2006-01-04</td>\n",
       "      <td>12773.490234</td>\n",
       "      <td>12773.490234</td>\n",
       "      <td>12773.490234</td>\n",
       "      <td>12773.490234</td>\n",
       "      <td>0.0</td>\n",
       "      <td>12773.490234</td>\n",
       "    </tr>\n",
       "    <tr>\n",
       "      <th>2</th>\n",
       "      <td>2006-01-05</td>\n",
       "      <td>12779.820312</td>\n",
       "      <td>12779.820312</td>\n",
       "      <td>12779.820312</td>\n",
       "      <td>12779.820312</td>\n",
       "      <td>0.0</td>\n",
       "      <td>12779.820312</td>\n",
       "    </tr>\n",
       "    <tr>\n",
       "      <th>3</th>\n",
       "      <td>2006-01-06</td>\n",
       "      <td>12901.690430</td>\n",
       "      <td>12901.690430</td>\n",
       "      <td>12901.690430</td>\n",
       "      <td>12901.690430</td>\n",
       "      <td>0.0</td>\n",
       "      <td>12901.690430</td>\n",
       "    </tr>\n",
       "    <tr>\n",
       "      <th>4</th>\n",
       "      <td>2006-01-09</td>\n",
       "      <td>12963.000000</td>\n",
       "      <td>12963.000000</td>\n",
       "      <td>12963.000000</td>\n",
       "      <td>12963.000000</td>\n",
       "      <td>0.0</td>\n",
       "      <td>12963.000000</td>\n",
       "    </tr>\n",
       "  </tbody>\n",
       "</table>\n",
       "</div>"
      ],
      "text/plain": [
       "         Date          High           Low          Open         Close  Volume  \\\n",
       "0  2006-01-03  12713.879883  12713.879883  12713.879883  12713.879883     0.0   \n",
       "1  2006-01-04  12773.490234  12773.490234  12773.490234  12773.490234     0.0   \n",
       "2  2006-01-05  12779.820312  12779.820312  12779.820312  12779.820312     0.0   \n",
       "3  2006-01-06  12901.690430  12901.690430  12901.690430  12901.690430     0.0   \n",
       "4  2006-01-09  12963.000000  12963.000000  12963.000000  12963.000000     0.0   \n",
       "\n",
       "      Adj Close  \n",
       "0  12713.879883  \n",
       "1  12773.490234  \n",
       "2  12779.820312  \n",
       "3  12901.690430  \n",
       "4  12963.000000  "
      ]
     },
     "execution_count": 25,
     "metadata": {},
     "output_type": "execute_result"
    }
   ],
   "source": [
    "W5000.head()"
   ]
  },
  {
   "cell_type": "code",
   "execution_count": 26,
   "metadata": {},
   "outputs": [
    {
     "data": {
      "text/html": [
       "<div>\n",
       "<style scoped>\n",
       "    .dataframe tbody tr th:only-of-type {\n",
       "        vertical-align: middle;\n",
       "    }\n",
       "\n",
       "    .dataframe tbody tr th {\n",
       "        vertical-align: top;\n",
       "    }\n",
       "\n",
       "    .dataframe thead th {\n",
       "        text-align: right;\n",
       "    }\n",
       "</style>\n",
       "<table border=\"1\" class=\"dataframe\">\n",
       "  <thead>\n",
       "    <tr style=\"text-align: right;\">\n",
       "      <th></th>\n",
       "      <th>Date</th>\n",
       "      <th>High</th>\n",
       "      <th>Low</th>\n",
       "      <th>Open</th>\n",
       "      <th>Close</th>\n",
       "      <th>Volume</th>\n",
       "      <th>Adj Close</th>\n",
       "    </tr>\n",
       "  </thead>\n",
       "  <tbody>\n",
       "    <tr>\n",
       "      <th>0</th>\n",
       "      <td>2006-01-03</td>\n",
       "      <td>21.350000</td>\n",
       "      <td>20.840000</td>\n",
       "      <td>21.000000</td>\n",
       "      <td>21.309999</td>\n",
       "      <td>2708300.0</td>\n",
       "      <td>17.157997</td>\n",
       "    </tr>\n",
       "    <tr>\n",
       "      <th>1</th>\n",
       "      <td>2006-01-04</td>\n",
       "      <td>21.559999</td>\n",
       "      <td>21.309999</td>\n",
       "      <td>21.350000</td>\n",
       "      <td>21.559999</td>\n",
       "      <td>2729600.0</td>\n",
       "      <td>17.359285</td>\n",
       "    </tr>\n",
       "    <tr>\n",
       "      <th>2</th>\n",
       "      <td>2006-01-05</td>\n",
       "      <td>21.690001</td>\n",
       "      <td>21.469999</td>\n",
       "      <td>21.469999</td>\n",
       "      <td>21.660000</td>\n",
       "      <td>1282200.0</td>\n",
       "      <td>17.439810</td>\n",
       "    </tr>\n",
       "    <tr>\n",
       "      <th>3</th>\n",
       "      <td>2006-01-06</td>\n",
       "      <td>22.020000</td>\n",
       "      <td>21.740000</td>\n",
       "      <td>21.799999</td>\n",
       "      <td>22.000000</td>\n",
       "      <td>4508700.0</td>\n",
       "      <td>17.713560</td>\n",
       "    </tr>\n",
       "    <tr>\n",
       "      <th>4</th>\n",
       "      <td>2006-01-09</td>\n",
       "      <td>22.090000</td>\n",
       "      <td>21.920000</td>\n",
       "      <td>22.020000</td>\n",
       "      <td>22.070000</td>\n",
       "      <td>2458300.0</td>\n",
       "      <td>17.769913</td>\n",
       "    </tr>\n",
       "  </tbody>\n",
       "</table>\n",
       "</div>"
      ],
      "text/plain": [
       "         Date       High        Low       Open      Close     Volume  \\\n",
       "0  2006-01-03  21.350000  20.840000  21.000000  21.309999  2708300.0   \n",
       "1  2006-01-04  21.559999  21.309999  21.350000  21.559999  2729600.0   \n",
       "2  2006-01-05  21.690001  21.469999  21.469999  21.660000  1282200.0   \n",
       "3  2006-01-06  22.020000  21.740000  21.799999  22.000000  4508700.0   \n",
       "4  2006-01-09  22.090000  21.920000  22.020000  22.070000  2458300.0   \n",
       "\n",
       "   Adj Close  \n",
       "0  17.157997  \n",
       "1  17.359285  \n",
       "2  17.439810  \n",
       "3  17.713560  \n",
       "4  17.769913  "
      ]
     },
     "execution_count": 26,
     "metadata": {},
     "output_type": "execute_result"
    }
   ],
   "source": [
    "XLK.head()"
   ]
  },
  {
   "cell_type": "markdown",
   "metadata": {},
   "source": [
    "### **3. Setting the Date Column as the index**\n",
    "This will help us in next step for concatinating all the stock dataframes and creating new dataframe."
   ]
  },
  {
   "cell_type": "code",
   "execution_count": 27,
   "metadata": {},
   "outputs": [
    {
     "data": {
      "text/html": [
       "<div>\n",
       "<style scoped>\n",
       "    .dataframe tbody tr th:only-of-type {\n",
       "        vertical-align: middle;\n",
       "    }\n",
       "\n",
       "    .dataframe tbody tr th {\n",
       "        vertical-align: top;\n",
       "    }\n",
       "\n",
       "    .dataframe thead th {\n",
       "        text-align: right;\n",
       "    }\n",
       "</style>\n",
       "<table border=\"1\" class=\"dataframe\">\n",
       "  <thead>\n",
       "    <tr style=\"text-align: right;\">\n",
       "      <th></th>\n",
       "      <th>Date</th>\n",
       "      <th>High</th>\n",
       "      <th>Low</th>\n",
       "      <th>Open</th>\n",
       "      <th>Close</th>\n",
       "      <th>Volume</th>\n",
       "      <th>Adj Close</th>\n",
       "    </tr>\n",
       "    <tr>\n",
       "      <th>Date</th>\n",
       "      <th></th>\n",
       "      <th></th>\n",
       "      <th></th>\n",
       "      <th></th>\n",
       "      <th></th>\n",
       "      <th></th>\n",
       "      <th></th>\n",
       "    </tr>\n",
       "  </thead>\n",
       "  <tbody>\n",
       "    <tr>\n",
       "      <th>2006-01-03</th>\n",
       "      <td>2006-01-03</td>\n",
       "      <td>10862.780273</td>\n",
       "      <td>10684.450195</td>\n",
       "      <td>10718.299805</td>\n",
       "      <td>10847.410156</td>\n",
       "      <td>302950000</td>\n",
       "      <td>10847.410156</td>\n",
       "    </tr>\n",
       "    <tr>\n",
       "      <th>2006-01-04</th>\n",
       "      <td>2006-01-04</td>\n",
       "      <td>10892.639648</td>\n",
       "      <td>10833.900391</td>\n",
       "      <td>10843.969727</td>\n",
       "      <td>10880.150391</td>\n",
       "      <td>271490000</td>\n",
       "      <td>10880.150391</td>\n",
       "    </tr>\n",
       "    <tr>\n",
       "      <th>2006-01-05</th>\n",
       "      <td>2006-01-05</td>\n",
       "      <td>10908.250000</td>\n",
       "      <td>10843.650391</td>\n",
       "      <td>10880.389648</td>\n",
       "      <td>10882.150391</td>\n",
       "      <td>250910000</td>\n",
       "      <td>10882.150391</td>\n",
       "    </tr>\n",
       "    <tr>\n",
       "      <th>2006-01-06</th>\n",
       "      <td>2006-01-06</td>\n",
       "      <td>10968.839844</td>\n",
       "      <td>10875.450195</td>\n",
       "      <td>10875.450195</td>\n",
       "      <td>10959.309570</td>\n",
       "      <td>291740000</td>\n",
       "      <td>10959.309570</td>\n",
       "    </tr>\n",
       "    <tr>\n",
       "      <th>2006-01-09</th>\n",
       "      <td>2006-01-09</td>\n",
       "      <td>11020.150391</td>\n",
       "      <td>10944.429688</td>\n",
       "      <td>10959.469727</td>\n",
       "      <td>11011.900391</td>\n",
       "      <td>248240000</td>\n",
       "      <td>11011.900391</td>\n",
       "    </tr>\n",
       "  </tbody>\n",
       "</table>\n",
       "</div>"
      ],
      "text/plain": [
       "                  Date          High           Low          Open  \\\n",
       "Date                                                               \n",
       "2006-01-03  2006-01-03  10862.780273  10684.450195  10718.299805   \n",
       "2006-01-04  2006-01-04  10892.639648  10833.900391  10843.969727   \n",
       "2006-01-05  2006-01-05  10908.250000  10843.650391  10880.389648   \n",
       "2006-01-06  2006-01-06  10968.839844  10875.450195  10875.450195   \n",
       "2006-01-09  2006-01-09  11020.150391  10944.429688  10959.469727   \n",
       "\n",
       "                   Close     Volume     Adj Close  \n",
       "Date                                               \n",
       "2006-01-03  10847.410156  302950000  10847.410156  \n",
       "2006-01-04  10880.150391  271490000  10880.150391  \n",
       "2006-01-05  10882.150391  250910000  10882.150391  \n",
       "2006-01-06  10959.309570  291740000  10959.309570  \n",
       "2006-01-09  11011.900391  248240000  11011.900391  "
      ]
     },
     "execution_count": 27,
     "metadata": {},
     "output_type": "execute_result"
    }
   ],
   "source": [
    "DJI.set_index(DJI['Date'], inplace=True)\n",
    "DJI.head()"
   ]
  },
  {
   "cell_type": "code",
   "execution_count": 28,
   "metadata": {},
   "outputs": [
    {
     "data": {
      "text/html": [
       "<div>\n",
       "<style scoped>\n",
       "    .dataframe tbody tr th:only-of-type {\n",
       "        vertical-align: middle;\n",
       "    }\n",
       "\n",
       "    .dataframe tbody tr th {\n",
       "        vertical-align: top;\n",
       "    }\n",
       "\n",
       "    .dataframe thead th {\n",
       "        text-align: right;\n",
       "    }\n",
       "</style>\n",
       "<table border=\"1\" class=\"dataframe\">\n",
       "  <thead>\n",
       "    <tr style=\"text-align: right;\">\n",
       "      <th></th>\n",
       "      <th>Date</th>\n",
       "      <th>High</th>\n",
       "      <th>Low</th>\n",
       "      <th>Open</th>\n",
       "      <th>Close</th>\n",
       "      <th>Volume</th>\n",
       "      <th>Adj Close</th>\n",
       "    </tr>\n",
       "    <tr>\n",
       "      <th>Date</th>\n",
       "      <th></th>\n",
       "      <th></th>\n",
       "      <th></th>\n",
       "      <th></th>\n",
       "      <th></th>\n",
       "      <th></th>\n",
       "      <th></th>\n",
       "    </tr>\n",
       "  </thead>\n",
       "  <tbody>\n",
       "    <tr>\n",
       "      <th>2006-01-03</th>\n",
       "      <td>2006-01-03</td>\n",
       "      <td>1270.219971</td>\n",
       "      <td>1245.739990</td>\n",
       "      <td>1248.290039</td>\n",
       "      <td>1268.800049</td>\n",
       "      <td>2554570000</td>\n",
       "      <td>1268.800049</td>\n",
       "    </tr>\n",
       "    <tr>\n",
       "      <th>2006-01-04</th>\n",
       "      <td>2006-01-04</td>\n",
       "      <td>1275.369995</td>\n",
       "      <td>1267.739990</td>\n",
       "      <td>1268.800049</td>\n",
       "      <td>1273.459961</td>\n",
       "      <td>2515330000</td>\n",
       "      <td>1273.459961</td>\n",
       "    </tr>\n",
       "    <tr>\n",
       "      <th>2006-01-05</th>\n",
       "      <td>2006-01-05</td>\n",
       "      <td>1276.910034</td>\n",
       "      <td>1270.300049</td>\n",
       "      <td>1273.459961</td>\n",
       "      <td>1273.479980</td>\n",
       "      <td>2433340000</td>\n",
       "      <td>1273.479980</td>\n",
       "    </tr>\n",
       "    <tr>\n",
       "      <th>2006-01-06</th>\n",
       "      <td>2006-01-06</td>\n",
       "      <td>1286.089966</td>\n",
       "      <td>1273.479980</td>\n",
       "      <td>1273.479980</td>\n",
       "      <td>1285.449951</td>\n",
       "      <td>2446560000</td>\n",
       "      <td>1285.449951</td>\n",
       "    </tr>\n",
       "    <tr>\n",
       "      <th>2006-01-09</th>\n",
       "      <td>2006-01-09</td>\n",
       "      <td>1290.780029</td>\n",
       "      <td>1284.819946</td>\n",
       "      <td>1285.449951</td>\n",
       "      <td>1290.150024</td>\n",
       "      <td>2301490000</td>\n",
       "      <td>1290.150024</td>\n",
       "    </tr>\n",
       "  </tbody>\n",
       "</table>\n",
       "</div>"
      ],
      "text/plain": [
       "                  Date         High          Low         Open        Close  \\\n",
       "Date                                                                         \n",
       "2006-01-03  2006-01-03  1270.219971  1245.739990  1248.290039  1268.800049   \n",
       "2006-01-04  2006-01-04  1275.369995  1267.739990  1268.800049  1273.459961   \n",
       "2006-01-05  2006-01-05  1276.910034  1270.300049  1273.459961  1273.479980   \n",
       "2006-01-06  2006-01-06  1286.089966  1273.479980  1273.479980  1285.449951   \n",
       "2006-01-09  2006-01-09  1290.780029  1284.819946  1285.449951  1290.150024   \n",
       "\n",
       "                Volume    Adj Close  \n",
       "Date                                 \n",
       "2006-01-03  2554570000  1268.800049  \n",
       "2006-01-04  2515330000  1273.459961  \n",
       "2006-01-05  2433340000  1273.479980  \n",
       "2006-01-06  2446560000  1285.449951  \n",
       "2006-01-09  2301490000  1290.150024  "
      ]
     },
     "execution_count": 28,
     "metadata": {},
     "output_type": "execute_result"
    }
   ],
   "source": [
    "GSPC.set_index(GSPC['Date'], inplace=True)\n",
    "GSPC.head()"
   ]
  },
  {
   "cell_type": "code",
   "execution_count": 29,
   "metadata": {},
   "outputs": [
    {
     "data": {
      "text/html": [
       "<div>\n",
       "<style scoped>\n",
       "    .dataframe tbody tr th:only-of-type {\n",
       "        vertical-align: middle;\n",
       "    }\n",
       "\n",
       "    .dataframe tbody tr th {\n",
       "        vertical-align: top;\n",
       "    }\n",
       "\n",
       "    .dataframe thead th {\n",
       "        text-align: right;\n",
       "    }\n",
       "</style>\n",
       "<table border=\"1\" class=\"dataframe\">\n",
       "  <thead>\n",
       "    <tr style=\"text-align: right;\">\n",
       "      <th></th>\n",
       "      <th>Date</th>\n",
       "      <th>High</th>\n",
       "      <th>Low</th>\n",
       "      <th>Open</th>\n",
       "      <th>Close</th>\n",
       "      <th>Volume</th>\n",
       "      <th>Adj Close</th>\n",
       "    </tr>\n",
       "    <tr>\n",
       "      <th>Date</th>\n",
       "      <th></th>\n",
       "      <th></th>\n",
       "      <th></th>\n",
       "      <th></th>\n",
       "      <th></th>\n",
       "      <th></th>\n",
       "      <th></th>\n",
       "    </tr>\n",
       "  </thead>\n",
       "  <tbody>\n",
       "    <tr>\n",
       "      <th>2006-01-03</th>\n",
       "      <td>2006-01-03</td>\n",
       "      <td>2249.679932</td>\n",
       "      <td>2189.909912</td>\n",
       "      <td>2216.530029</td>\n",
       "      <td>2243.739990</td>\n",
       "      <td>1998300000</td>\n",
       "      <td>2243.739990</td>\n",
       "    </tr>\n",
       "    <tr>\n",
       "      <th>2006-01-04</th>\n",
       "      <td>2006-01-04</td>\n",
       "      <td>2265.280029</td>\n",
       "      <td>2246.070068</td>\n",
       "      <td>2246.959961</td>\n",
       "      <td>2263.459961</td>\n",
       "      <td>1887560000</td>\n",
       "      <td>2263.459961</td>\n",
       "    </tr>\n",
       "    <tr>\n",
       "      <th>2006-01-05</th>\n",
       "      <td>2006-01-05</td>\n",
       "      <td>2277.560059</td>\n",
       "      <td>2264.500000</td>\n",
       "      <td>2264.929932</td>\n",
       "      <td>2276.870117</td>\n",
       "      <td>1891750000</td>\n",
       "      <td>2276.870117</td>\n",
       "    </tr>\n",
       "    <tr>\n",
       "      <th>2006-01-06</th>\n",
       "      <td>2006-01-06</td>\n",
       "      <td>2306.719971</td>\n",
       "      <td>2281.010010</td>\n",
       "      <td>2289.209961</td>\n",
       "      <td>2305.620117</td>\n",
       "      <td>2233640000</td>\n",
       "      <td>2305.620117</td>\n",
       "    </tr>\n",
       "    <tr>\n",
       "      <th>2006-01-09</th>\n",
       "      <td>2006-01-09</td>\n",
       "      <td>2322.629883</td>\n",
       "      <td>2303.129883</td>\n",
       "      <td>2306.179932</td>\n",
       "      <td>2318.689941</td>\n",
       "      <td>1949140000</td>\n",
       "      <td>2318.689941</td>\n",
       "    </tr>\n",
       "  </tbody>\n",
       "</table>\n",
       "</div>"
      ],
      "text/plain": [
       "                  Date         High          Low         Open        Close  \\\n",
       "Date                                                                         \n",
       "2006-01-03  2006-01-03  2249.679932  2189.909912  2216.530029  2243.739990   \n",
       "2006-01-04  2006-01-04  2265.280029  2246.070068  2246.959961  2263.459961   \n",
       "2006-01-05  2006-01-05  2277.560059  2264.500000  2264.929932  2276.870117   \n",
       "2006-01-06  2006-01-06  2306.719971  2281.010010  2289.209961  2305.620117   \n",
       "2006-01-09  2006-01-09  2322.629883  2303.129883  2306.179932  2318.689941   \n",
       "\n",
       "                Volume    Adj Close  \n",
       "Date                                 \n",
       "2006-01-03  1998300000  2243.739990  \n",
       "2006-01-04  1887560000  2263.459961  \n",
       "2006-01-05  1891750000  2276.870117  \n",
       "2006-01-06  2233640000  2305.620117  \n",
       "2006-01-09  1949140000  2318.689941  "
      ]
     },
     "execution_count": 29,
     "metadata": {},
     "output_type": "execute_result"
    }
   ],
   "source": [
    "IXIC.set_index(IXIC['Date'], inplace=True)\n",
    "IXIC.head()"
   ]
  },
  {
   "cell_type": "code",
   "execution_count": 30,
   "metadata": {},
   "outputs": [
    {
     "data": {
      "text/html": [
       "<div>\n",
       "<style scoped>\n",
       "    .dataframe tbody tr th:only-of-type {\n",
       "        vertical-align: middle;\n",
       "    }\n",
       "\n",
       "    .dataframe tbody tr th {\n",
       "        vertical-align: top;\n",
       "    }\n",
       "\n",
       "    .dataframe thead th {\n",
       "        text-align: right;\n",
       "    }\n",
       "</style>\n",
       "<table border=\"1\" class=\"dataframe\">\n",
       "  <thead>\n",
       "    <tr style=\"text-align: right;\">\n",
       "      <th></th>\n",
       "      <th>Date</th>\n",
       "      <th>High</th>\n",
       "      <th>Low</th>\n",
       "      <th>Open</th>\n",
       "      <th>Close</th>\n",
       "      <th>Volume</th>\n",
       "      <th>Adj Close</th>\n",
       "    </tr>\n",
       "    <tr>\n",
       "      <th>Date</th>\n",
       "      <th></th>\n",
       "      <th></th>\n",
       "      <th></th>\n",
       "      <th></th>\n",
       "      <th></th>\n",
       "      <th></th>\n",
       "      <th></th>\n",
       "    </tr>\n",
       "  </thead>\n",
       "  <tbody>\n",
       "    <tr>\n",
       "      <th>2006-01-03</th>\n",
       "      <td>2006-01-03</td>\n",
       "      <td>12713.879883</td>\n",
       "      <td>12713.879883</td>\n",
       "      <td>12713.879883</td>\n",
       "      <td>12713.879883</td>\n",
       "      <td>0.0</td>\n",
       "      <td>12713.879883</td>\n",
       "    </tr>\n",
       "    <tr>\n",
       "      <th>2006-01-04</th>\n",
       "      <td>2006-01-04</td>\n",
       "      <td>12773.490234</td>\n",
       "      <td>12773.490234</td>\n",
       "      <td>12773.490234</td>\n",
       "      <td>12773.490234</td>\n",
       "      <td>0.0</td>\n",
       "      <td>12773.490234</td>\n",
       "    </tr>\n",
       "    <tr>\n",
       "      <th>2006-01-05</th>\n",
       "      <td>2006-01-05</td>\n",
       "      <td>12779.820312</td>\n",
       "      <td>12779.820312</td>\n",
       "      <td>12779.820312</td>\n",
       "      <td>12779.820312</td>\n",
       "      <td>0.0</td>\n",
       "      <td>12779.820312</td>\n",
       "    </tr>\n",
       "    <tr>\n",
       "      <th>2006-01-06</th>\n",
       "      <td>2006-01-06</td>\n",
       "      <td>12901.690430</td>\n",
       "      <td>12901.690430</td>\n",
       "      <td>12901.690430</td>\n",
       "      <td>12901.690430</td>\n",
       "      <td>0.0</td>\n",
       "      <td>12901.690430</td>\n",
       "    </tr>\n",
       "    <tr>\n",
       "      <th>2006-01-09</th>\n",
       "      <td>2006-01-09</td>\n",
       "      <td>12963.000000</td>\n",
       "      <td>12963.000000</td>\n",
       "      <td>12963.000000</td>\n",
       "      <td>12963.000000</td>\n",
       "      <td>0.0</td>\n",
       "      <td>12963.000000</td>\n",
       "    </tr>\n",
       "  </tbody>\n",
       "</table>\n",
       "</div>"
      ],
      "text/plain": [
       "                  Date          High           Low          Open  \\\n",
       "Date                                                               \n",
       "2006-01-03  2006-01-03  12713.879883  12713.879883  12713.879883   \n",
       "2006-01-04  2006-01-04  12773.490234  12773.490234  12773.490234   \n",
       "2006-01-05  2006-01-05  12779.820312  12779.820312  12779.820312   \n",
       "2006-01-06  2006-01-06  12901.690430  12901.690430  12901.690430   \n",
       "2006-01-09  2006-01-09  12963.000000  12963.000000  12963.000000   \n",
       "\n",
       "                   Close  Volume     Adj Close  \n",
       "Date                                            \n",
       "2006-01-03  12713.879883     0.0  12713.879883  \n",
       "2006-01-04  12773.490234     0.0  12773.490234  \n",
       "2006-01-05  12779.820312     0.0  12779.820312  \n",
       "2006-01-06  12901.690430     0.0  12901.690430  \n",
       "2006-01-09  12963.000000     0.0  12963.000000  "
      ]
     },
     "execution_count": 30,
     "metadata": {},
     "output_type": "execute_result"
    }
   ],
   "source": [
    "W5000.set_index(W5000['Date'], inplace=True)\n",
    "W5000.head()"
   ]
  },
  {
   "cell_type": "code",
   "execution_count": 31,
   "metadata": {},
   "outputs": [
    {
     "data": {
      "text/html": [
       "<div>\n",
       "<style scoped>\n",
       "    .dataframe tbody tr th:only-of-type {\n",
       "        vertical-align: middle;\n",
       "    }\n",
       "\n",
       "    .dataframe tbody tr th {\n",
       "        vertical-align: top;\n",
       "    }\n",
       "\n",
       "    .dataframe thead th {\n",
       "        text-align: right;\n",
       "    }\n",
       "</style>\n",
       "<table border=\"1\" class=\"dataframe\">\n",
       "  <thead>\n",
       "    <tr style=\"text-align: right;\">\n",
       "      <th></th>\n",
       "      <th>Date</th>\n",
       "      <th>High</th>\n",
       "      <th>Low</th>\n",
       "      <th>Open</th>\n",
       "      <th>Close</th>\n",
       "      <th>Volume</th>\n",
       "      <th>Adj Close</th>\n",
       "    </tr>\n",
       "    <tr>\n",
       "      <th>Date</th>\n",
       "      <th></th>\n",
       "      <th></th>\n",
       "      <th></th>\n",
       "      <th></th>\n",
       "      <th></th>\n",
       "      <th></th>\n",
       "      <th></th>\n",
       "    </tr>\n",
       "  </thead>\n",
       "  <tbody>\n",
       "    <tr>\n",
       "      <th>2006-01-03</th>\n",
       "      <td>2006-01-03</td>\n",
       "      <td>21.350000</td>\n",
       "      <td>20.840000</td>\n",
       "      <td>21.000000</td>\n",
       "      <td>21.309999</td>\n",
       "      <td>2708300.0</td>\n",
       "      <td>17.157997</td>\n",
       "    </tr>\n",
       "    <tr>\n",
       "      <th>2006-01-04</th>\n",
       "      <td>2006-01-04</td>\n",
       "      <td>21.559999</td>\n",
       "      <td>21.309999</td>\n",
       "      <td>21.350000</td>\n",
       "      <td>21.559999</td>\n",
       "      <td>2729600.0</td>\n",
       "      <td>17.359285</td>\n",
       "    </tr>\n",
       "    <tr>\n",
       "      <th>2006-01-05</th>\n",
       "      <td>2006-01-05</td>\n",
       "      <td>21.690001</td>\n",
       "      <td>21.469999</td>\n",
       "      <td>21.469999</td>\n",
       "      <td>21.660000</td>\n",
       "      <td>1282200.0</td>\n",
       "      <td>17.439810</td>\n",
       "    </tr>\n",
       "    <tr>\n",
       "      <th>2006-01-06</th>\n",
       "      <td>2006-01-06</td>\n",
       "      <td>22.020000</td>\n",
       "      <td>21.740000</td>\n",
       "      <td>21.799999</td>\n",
       "      <td>22.000000</td>\n",
       "      <td>4508700.0</td>\n",
       "      <td>17.713560</td>\n",
       "    </tr>\n",
       "    <tr>\n",
       "      <th>2006-01-09</th>\n",
       "      <td>2006-01-09</td>\n",
       "      <td>22.090000</td>\n",
       "      <td>21.920000</td>\n",
       "      <td>22.020000</td>\n",
       "      <td>22.070000</td>\n",
       "      <td>2458300.0</td>\n",
       "      <td>17.769913</td>\n",
       "    </tr>\n",
       "  </tbody>\n",
       "</table>\n",
       "</div>"
      ],
      "text/plain": [
       "                  Date       High        Low       Open      Close     Volume  \\\n",
       "Date                                                                            \n",
       "2006-01-03  2006-01-03  21.350000  20.840000  21.000000  21.309999  2708300.0   \n",
       "2006-01-04  2006-01-04  21.559999  21.309999  21.350000  21.559999  2729600.0   \n",
       "2006-01-05  2006-01-05  21.690001  21.469999  21.469999  21.660000  1282200.0   \n",
       "2006-01-06  2006-01-06  22.020000  21.740000  21.799999  22.000000  4508700.0   \n",
       "2006-01-09  2006-01-09  22.090000  21.920000  22.020000  22.070000  2458300.0   \n",
       "\n",
       "            Adj Close  \n",
       "Date                   \n",
       "2006-01-03  17.157997  \n",
       "2006-01-04  17.359285  \n",
       "2006-01-05  17.439810  \n",
       "2006-01-06  17.713560  \n",
       "2006-01-09  17.769913  "
      ]
     },
     "execution_count": 31,
     "metadata": {},
     "output_type": "execute_result"
    }
   ],
   "source": [
    "XLK.set_index(XLK['Date'], inplace=True)\n",
    "XLK.head()"
   ]
  },
  {
   "cell_type": "markdown",
   "metadata": {},
   "source": [
    "### **4. Creating new dataframe by concating all the stock dataframes**\n",
    "We will create a new data frame called tech_comp_stocks by concatinating all the stock dataframes together. This will give us the ability to analyze it together and will also help us in having better control over the dataframes.\n",
    "\n",
    "Similarly, will also create a dataframe called top_indices with GSPC, DJI, IXIC, XLK and W5000."
   ]
  },
  {
   "cell_type": "code",
   "execution_count": 32,
   "metadata": {},
   "outputs": [],
   "source": [
    "Tickr = ['AAPL','MSFT','TSM','NVDA','CRM','ADBE','INTC','ASML','CSCO','ORCL','QCOM','AVGO','ACN','TXN','SAP','SHOP','SNE',\n",
    "'IBM','AMD','NOW','SQ','FIS','INTU','UBER','SNOW','FISV','AMAT','MU','INFY','LRCX','VMW','ADSK','TEAM','DELL','ADI','WDAY',\n",
    "'NXPI','CTSH','ERIC','DOCU','PLTR','KLAC','APH','TEL','U','MCHP','STM','SNPS','XLNX','CRWD','SPLK','CDNS','MRVL','OKTA',\n",
    "'HPQ','MSI','PANW','GLW','DDOG','FTV-PA','ANSS','WIT','RNG','FTV','PAYC','SWKS','COUP','VRSN','STNE','GRMN','MXIM','KEYS','FLT',\n",
    "'NET','ANET','CAJ','ZBRA','ZS','FTNT','EPAM','CDW','GIB','TER','SSNC','ZI','UMC','WORK','BR','HUBS','QRVO','CHKP','AKAM','TYL',\n",
    "'CCC','UI','ZEN','CTXS','TRMB','AVLR','STX']\n",
    "\n",
    "Tickr2 = ['DJI','GSPC','IXIC','W5000','XLK']\n",
    "\n",
    "# New Dataframes\n",
    "tech_comp_stocks = pd.concat(d.values(), axis=1, keys=Tickr)\n",
    "top_indices = pd.concat([DJI,GSPC,IXIC,W5000,XLK], axis=1, keys=Tickr2)\n",
    "\n",
    "# Set the column name levels\n",
    "tech_comp_stocks.columns.names = ['Stock Ticker','Stock Info']\n",
    "top_indices.columns.names = ['Stock Ticker','Stock Info']"
   ]
  },
  {
   "cell_type": "code",
   "execution_count": 33,
   "metadata": {},
   "outputs": [
    {
     "data": {
      "text/html": [
       "<div>\n",
       "<style scoped>\n",
       "    .dataframe tbody tr th:only-of-type {\n",
       "        vertical-align: middle;\n",
       "    }\n",
       "\n",
       "    .dataframe tbody tr th {\n",
       "        vertical-align: top;\n",
       "    }\n",
       "\n",
       "    .dataframe thead tr th {\n",
       "        text-align: left;\n",
       "    }\n",
       "\n",
       "    .dataframe thead tr:last-of-type th {\n",
       "        text-align: right;\n",
       "    }\n",
       "</style>\n",
       "<table border=\"1\" class=\"dataframe\">\n",
       "  <thead>\n",
       "    <tr>\n",
       "      <th>Stock Ticker</th>\n",
       "      <th colspan=\"6\" halign=\"left\">AAPL</th>\n",
       "      <th colspan=\"4\" halign=\"left\">MSFT</th>\n",
       "      <th>...</th>\n",
       "      <th colspan=\"4\" halign=\"left\">AVLR</th>\n",
       "      <th colspan=\"6\" halign=\"left\">STX</th>\n",
       "    </tr>\n",
       "    <tr>\n",
       "      <th>Stock Info</th>\n",
       "      <th>High</th>\n",
       "      <th>Low</th>\n",
       "      <th>Open</th>\n",
       "      <th>Close</th>\n",
       "      <th>Volume</th>\n",
       "      <th>Adj Close</th>\n",
       "      <th>High</th>\n",
       "      <th>Low</th>\n",
       "      <th>Open</th>\n",
       "      <th>Close</th>\n",
       "      <th>...</th>\n",
       "      <th>Open</th>\n",
       "      <th>Close</th>\n",
       "      <th>Volume</th>\n",
       "      <th>Adj Close</th>\n",
       "      <th>High</th>\n",
       "      <th>Low</th>\n",
       "      <th>Open</th>\n",
       "      <th>Close</th>\n",
       "      <th>Volume</th>\n",
       "      <th>Adj Close</th>\n",
       "    </tr>\n",
       "    <tr>\n",
       "      <th>Date</th>\n",
       "      <th></th>\n",
       "      <th></th>\n",
       "      <th></th>\n",
       "      <th></th>\n",
       "      <th></th>\n",
       "      <th></th>\n",
       "      <th></th>\n",
       "      <th></th>\n",
       "      <th></th>\n",
       "      <th></th>\n",
       "      <th></th>\n",
       "      <th></th>\n",
       "      <th></th>\n",
       "      <th></th>\n",
       "      <th></th>\n",
       "      <th></th>\n",
       "      <th></th>\n",
       "      <th></th>\n",
       "      <th></th>\n",
       "      <th></th>\n",
       "      <th></th>\n",
       "    </tr>\n",
       "  </thead>\n",
       "  <tbody>\n",
       "    <tr>\n",
       "      <th>2006-01-03</th>\n",
       "      <td>2.669643</td>\n",
       "      <td>2.580357</td>\n",
       "      <td>2.585000</td>\n",
       "      <td>2.669643</td>\n",
       "      <td>807234400.0</td>\n",
       "      <td>2.284267</td>\n",
       "      <td>27.000000</td>\n",
       "      <td>26.100000</td>\n",
       "      <td>26.250000</td>\n",
       "      <td>26.840000</td>\n",
       "      <td>...</td>\n",
       "      <td>NaN</td>\n",
       "      <td>NaN</td>\n",
       "      <td>NaN</td>\n",
       "      <td>NaN</td>\n",
       "      <td>20.129999</td>\n",
       "      <td>19.690001</td>\n",
       "      <td>20.100000</td>\n",
       "      <td>20.070000</td>\n",
       "      <td>8194000.0</td>\n",
       "      <td>11.385056</td>\n",
       "    </tr>\n",
       "    <tr>\n",
       "      <th>2006-01-04</th>\n",
       "      <td>2.713571</td>\n",
       "      <td>2.660714</td>\n",
       "      <td>2.683214</td>\n",
       "      <td>2.677500</td>\n",
       "      <td>619603600.0</td>\n",
       "      <td>2.290990</td>\n",
       "      <td>27.080000</td>\n",
       "      <td>26.770000</td>\n",
       "      <td>26.770000</td>\n",
       "      <td>26.969999</td>\n",
       "      <td>...</td>\n",
       "      <td>NaN</td>\n",
       "      <td>NaN</td>\n",
       "      <td>NaN</td>\n",
       "      <td>NaN</td>\n",
       "      <td>21.120001</td>\n",
       "      <td>20.200001</td>\n",
       "      <td>20.240000</td>\n",
       "      <td>21.040001</td>\n",
       "      <td>12653000.0</td>\n",
       "      <td>11.935305</td>\n",
       "    </tr>\n",
       "    <tr>\n",
       "      <th>2006-01-05</th>\n",
       "      <td>2.675000</td>\n",
       "      <td>2.633929</td>\n",
       "      <td>2.672500</td>\n",
       "      <td>2.656429</td>\n",
       "      <td>449422400.0</td>\n",
       "      <td>2.272961</td>\n",
       "      <td>27.129999</td>\n",
       "      <td>26.910000</td>\n",
       "      <td>26.959999</td>\n",
       "      <td>26.990000</td>\n",
       "      <td>...</td>\n",
       "      <td>NaN</td>\n",
       "      <td>NaN</td>\n",
       "      <td>NaN</td>\n",
       "      <td>NaN</td>\n",
       "      <td>21.120001</td>\n",
       "      <td>20.850000</td>\n",
       "      <td>21.010000</td>\n",
       "      <td>20.850000</td>\n",
       "      <td>9026600.0</td>\n",
       "      <td>11.827526</td>\n",
       "    </tr>\n",
       "    <tr>\n",
       "      <th>2006-01-06</th>\n",
       "      <td>2.739286</td>\n",
       "      <td>2.662500</td>\n",
       "      <td>2.687500</td>\n",
       "      <td>2.725000</td>\n",
       "      <td>704457600.0</td>\n",
       "      <td>2.331634</td>\n",
       "      <td>27.000000</td>\n",
       "      <td>26.490000</td>\n",
       "      <td>26.889999</td>\n",
       "      <td>26.910000</td>\n",
       "      <td>...</td>\n",
       "      <td>NaN</td>\n",
       "      <td>NaN</td>\n",
       "      <td>NaN</td>\n",
       "      <td>NaN</td>\n",
       "      <td>21.450001</td>\n",
       "      <td>20.879999</td>\n",
       "      <td>21.080000</td>\n",
       "      <td>21.389999</td>\n",
       "      <td>9870500.0</td>\n",
       "      <td>12.133849</td>\n",
       "    </tr>\n",
       "    <tr>\n",
       "      <th>2006-01-09</th>\n",
       "      <td>2.757143</td>\n",
       "      <td>2.705000</td>\n",
       "      <td>2.740357</td>\n",
       "      <td>2.716071</td>\n",
       "      <td>675040800.0</td>\n",
       "      <td>2.323994</td>\n",
       "      <td>27.070000</td>\n",
       "      <td>26.760000</td>\n",
       "      <td>26.930000</td>\n",
       "      <td>26.860001</td>\n",
       "      <td>...</td>\n",
       "      <td>NaN</td>\n",
       "      <td>NaN</td>\n",
       "      <td>NaN</td>\n",
       "      <td>NaN</td>\n",
       "      <td>22.350000</td>\n",
       "      <td>21.450001</td>\n",
       "      <td>21.520000</td>\n",
       "      <td>22.290001</td>\n",
       "      <td>9621700.0</td>\n",
       "      <td>12.644396</td>\n",
       "    </tr>\n",
       "    <tr>\n",
       "      <th>...</th>\n",
       "      <td>...</td>\n",
       "      <td>...</td>\n",
       "      <td>...</td>\n",
       "      <td>...</td>\n",
       "      <td>...</td>\n",
       "      <td>...</td>\n",
       "      <td>...</td>\n",
       "      <td>...</td>\n",
       "      <td>...</td>\n",
       "      <td>...</td>\n",
       "      <td>...</td>\n",
       "      <td>...</td>\n",
       "      <td>...</td>\n",
       "      <td>...</td>\n",
       "      <td>...</td>\n",
       "      <td>...</td>\n",
       "      <td>...</td>\n",
       "      <td>...</td>\n",
       "      <td>...</td>\n",
       "      <td>...</td>\n",
       "      <td>...</td>\n",
       "    </tr>\n",
       "    <tr>\n",
       "      <th>2020-11-16</th>\n",
       "      <td>120.989998</td>\n",
       "      <td>118.150002</td>\n",
       "      <td>118.919998</td>\n",
       "      <td>120.300003</td>\n",
       "      <td>91183000.0</td>\n",
       "      <td>120.300003</td>\n",
       "      <td>217.740005</td>\n",
       "      <td>214.520004</td>\n",
       "      <td>214.869995</td>\n",
       "      <td>217.229996</td>\n",
       "      <td>...</td>\n",
       "      <td>150.279999</td>\n",
       "      <td>151.380005</td>\n",
       "      <td>418500.0</td>\n",
       "      <td>151.380005</td>\n",
       "      <td>56.000000</td>\n",
       "      <td>54.980000</td>\n",
       "      <td>55.000000</td>\n",
       "      <td>55.939999</td>\n",
       "      <td>3242400.0</td>\n",
       "      <td>55.939999</td>\n",
       "    </tr>\n",
       "    <tr>\n",
       "      <th>2020-11-17</th>\n",
       "      <td>120.669998</td>\n",
       "      <td>118.959999</td>\n",
       "      <td>119.550003</td>\n",
       "      <td>119.389999</td>\n",
       "      <td>74271000.0</td>\n",
       "      <td>119.389999</td>\n",
       "      <td>217.679993</td>\n",
       "      <td>214.080002</td>\n",
       "      <td>216.100006</td>\n",
       "      <td>214.460007</td>\n",
       "      <td>...</td>\n",
       "      <td>152.830002</td>\n",
       "      <td>157.330002</td>\n",
       "      <td>427900.0</td>\n",
       "      <td>157.330002</td>\n",
       "      <td>55.889999</td>\n",
       "      <td>55.000000</td>\n",
       "      <td>55.410000</td>\n",
       "      <td>55.509998</td>\n",
       "      <td>2207000.0</td>\n",
       "      <td>55.509998</td>\n",
       "    </tr>\n",
       "    <tr>\n",
       "      <th>2020-11-18</th>\n",
       "      <td>119.820000</td>\n",
       "      <td>118.000000</td>\n",
       "      <td>118.610001</td>\n",
       "      <td>118.029999</td>\n",
       "      <td>76322100.0</td>\n",
       "      <td>118.029999</td>\n",
       "      <td>215.169998</td>\n",
       "      <td>210.929993</td>\n",
       "      <td>213.649994</td>\n",
       "      <td>211.080002</td>\n",
       "      <td>...</td>\n",
       "      <td>157.970001</td>\n",
       "      <td>156.779999</td>\n",
       "      <td>363600.0</td>\n",
       "      <td>156.779999</td>\n",
       "      <td>56.450001</td>\n",
       "      <td>55.240002</td>\n",
       "      <td>55.669998</td>\n",
       "      <td>55.240002</td>\n",
       "      <td>2499700.0</td>\n",
       "      <td>55.240002</td>\n",
       "    </tr>\n",
       "    <tr>\n",
       "      <th>2020-11-19</th>\n",
       "      <td>119.059998</td>\n",
       "      <td>116.809998</td>\n",
       "      <td>117.589996</td>\n",
       "      <td>118.639999</td>\n",
       "      <td>74113000.0</td>\n",
       "      <td>118.639999</td>\n",
       "      <td>213.029999</td>\n",
       "      <td>209.929993</td>\n",
       "      <td>211.380005</td>\n",
       "      <td>212.419998</td>\n",
       "      <td>...</td>\n",
       "      <td>156.080002</td>\n",
       "      <td>164.050003</td>\n",
       "      <td>647700.0</td>\n",
       "      <td>164.050003</td>\n",
       "      <td>56.080002</td>\n",
       "      <td>54.529999</td>\n",
       "      <td>54.799999</td>\n",
       "      <td>55.919998</td>\n",
       "      <td>1931300.0</td>\n",
       "      <td>55.919998</td>\n",
       "    </tr>\n",
       "    <tr>\n",
       "      <th>2020-11-20</th>\n",
       "      <td>118.769997</td>\n",
       "      <td>117.290001</td>\n",
       "      <td>118.639999</td>\n",
       "      <td>117.339996</td>\n",
       "      <td>73391400.0</td>\n",
       "      <td>117.339996</td>\n",
       "      <td>213.289993</td>\n",
       "      <td>210.000000</td>\n",
       "      <td>212.199997</td>\n",
       "      <td>210.389999</td>\n",
       "      <td>...</td>\n",
       "      <td>164.479996</td>\n",
       "      <td>168.139999</td>\n",
       "      <td>631100.0</td>\n",
       "      <td>168.139999</td>\n",
       "      <td>56.450001</td>\n",
       "      <td>55.580002</td>\n",
       "      <td>55.810001</td>\n",
       "      <td>55.610001</td>\n",
       "      <td>2174800.0</td>\n",
       "      <td>55.610001</td>\n",
       "    </tr>\n",
       "  </tbody>\n",
       "</table>\n",
       "<p>3749 rows × 600 columns</p>\n",
       "</div>"
      ],
      "text/plain": [
       "Stock Ticker        AAPL                                                   \\\n",
       "Stock Info          High         Low        Open       Close       Volume   \n",
       "Date                                                                        \n",
       "2006-01-03      2.669643    2.580357    2.585000    2.669643  807234400.0   \n",
       "2006-01-04      2.713571    2.660714    2.683214    2.677500  619603600.0   \n",
       "2006-01-05      2.675000    2.633929    2.672500    2.656429  449422400.0   \n",
       "2006-01-06      2.739286    2.662500    2.687500    2.725000  704457600.0   \n",
       "2006-01-09      2.757143    2.705000    2.740357    2.716071  675040800.0   \n",
       "...                  ...         ...         ...         ...          ...   \n",
       "2020-11-16    120.989998  118.150002  118.919998  120.300003   91183000.0   \n",
       "2020-11-17    120.669998  118.959999  119.550003  119.389999   74271000.0   \n",
       "2020-11-18    119.820000  118.000000  118.610001  118.029999   76322100.0   \n",
       "2020-11-19    119.059998  116.809998  117.589996  118.639999   74113000.0   \n",
       "2020-11-20    118.769997  117.290001  118.639999  117.339996   73391400.0   \n",
       "\n",
       "Stock Ticker                    MSFT                                      ...  \\\n",
       "Stock Info     Adj Close        High         Low        Open       Close  ...   \n",
       "Date                                                                      ...   \n",
       "2006-01-03      2.284267   27.000000   26.100000   26.250000   26.840000  ...   \n",
       "2006-01-04      2.290990   27.080000   26.770000   26.770000   26.969999  ...   \n",
       "2006-01-05      2.272961   27.129999   26.910000   26.959999   26.990000  ...   \n",
       "2006-01-06      2.331634   27.000000   26.490000   26.889999   26.910000  ...   \n",
       "2006-01-09      2.323994   27.070000   26.760000   26.930000   26.860001  ...   \n",
       "...                  ...         ...         ...         ...         ...  ...   \n",
       "2020-11-16    120.300003  217.740005  214.520004  214.869995  217.229996  ...   \n",
       "2020-11-17    119.389999  217.679993  214.080002  216.100006  214.460007  ...   \n",
       "2020-11-18    118.029999  215.169998  210.929993  213.649994  211.080002  ...   \n",
       "2020-11-19    118.639999  213.029999  209.929993  211.380005  212.419998  ...   \n",
       "2020-11-20    117.339996  213.289993  210.000000  212.199997  210.389999  ...   \n",
       "\n",
       "Stock Ticker        AVLR                                          STX  \\\n",
       "Stock Info          Open       Close    Volume   Adj Close       High   \n",
       "Date                                                                    \n",
       "2006-01-03           NaN         NaN       NaN         NaN  20.129999   \n",
       "2006-01-04           NaN         NaN       NaN         NaN  21.120001   \n",
       "2006-01-05           NaN         NaN       NaN         NaN  21.120001   \n",
       "2006-01-06           NaN         NaN       NaN         NaN  21.450001   \n",
       "2006-01-09           NaN         NaN       NaN         NaN  22.350000   \n",
       "...                  ...         ...       ...         ...        ...   \n",
       "2020-11-16    150.279999  151.380005  418500.0  151.380005  56.000000   \n",
       "2020-11-17    152.830002  157.330002  427900.0  157.330002  55.889999   \n",
       "2020-11-18    157.970001  156.779999  363600.0  156.779999  56.450001   \n",
       "2020-11-19    156.080002  164.050003  647700.0  164.050003  56.080002   \n",
       "2020-11-20    164.479996  168.139999  631100.0  168.139999  56.450001   \n",
       "\n",
       "Stock Ticker                                                          \n",
       "Stock Info          Low       Open      Close      Volume  Adj Close  \n",
       "Date                                                                  \n",
       "2006-01-03    19.690001  20.100000  20.070000   8194000.0  11.385056  \n",
       "2006-01-04    20.200001  20.240000  21.040001  12653000.0  11.935305  \n",
       "2006-01-05    20.850000  21.010000  20.850000   9026600.0  11.827526  \n",
       "2006-01-06    20.879999  21.080000  21.389999   9870500.0  12.133849  \n",
       "2006-01-09    21.450001  21.520000  22.290001   9621700.0  12.644396  \n",
       "...                 ...        ...        ...         ...        ...  \n",
       "2020-11-16    54.980000  55.000000  55.939999   3242400.0  55.939999  \n",
       "2020-11-17    55.000000  55.410000  55.509998   2207000.0  55.509998  \n",
       "2020-11-18    55.240002  55.669998  55.240002   2499700.0  55.240002  \n",
       "2020-11-19    54.529999  54.799999  55.919998   1931300.0  55.919998  \n",
       "2020-11-20    55.580002  55.810001  55.610001   2174800.0  55.610001  \n",
       "\n",
       "[3749 rows x 600 columns]"
      ]
     },
     "execution_count": 33,
     "metadata": {},
     "output_type": "execute_result"
    }
   ],
   "source": [
    "tech_comp_stocks"
   ]
  },
  {
   "cell_type": "code",
   "execution_count": 34,
   "metadata": {},
   "outputs": [
    {
     "data": {
      "text/html": [
       "<div>\n",
       "<style scoped>\n",
       "    .dataframe tbody tr th:only-of-type {\n",
       "        vertical-align: middle;\n",
       "    }\n",
       "\n",
       "    .dataframe tbody tr th {\n",
       "        vertical-align: top;\n",
       "    }\n",
       "\n",
       "    .dataframe thead tr th {\n",
       "        text-align: left;\n",
       "    }\n",
       "</style>\n",
       "<table border=\"1\" class=\"dataframe\">\n",
       "  <thead>\n",
       "    <tr>\n",
       "      <th>Stock Ticker</th>\n",
       "      <th colspan=\"7\" halign=\"left\">DJI</th>\n",
       "      <th colspan=\"3\" halign=\"left\">GSPC</th>\n",
       "      <th>...</th>\n",
       "      <th colspan=\"3\" halign=\"left\">W5000</th>\n",
       "      <th colspan=\"7\" halign=\"left\">XLK</th>\n",
       "    </tr>\n",
       "    <tr>\n",
       "      <th>Stock Info</th>\n",
       "      <th>Date</th>\n",
       "      <th>High</th>\n",
       "      <th>Low</th>\n",
       "      <th>Open</th>\n",
       "      <th>Close</th>\n",
       "      <th>Volume</th>\n",
       "      <th>Adj Close</th>\n",
       "      <th>Date</th>\n",
       "      <th>High</th>\n",
       "      <th>Low</th>\n",
       "      <th>...</th>\n",
       "      <th>Close</th>\n",
       "      <th>Volume</th>\n",
       "      <th>Adj Close</th>\n",
       "      <th>Date</th>\n",
       "      <th>High</th>\n",
       "      <th>Low</th>\n",
       "      <th>Open</th>\n",
       "      <th>Close</th>\n",
       "      <th>Volume</th>\n",
       "      <th>Adj Close</th>\n",
       "    </tr>\n",
       "  </thead>\n",
       "  <tbody>\n",
       "    <tr>\n",
       "      <th>2006-01-03</th>\n",
       "      <td>2006-01-03</td>\n",
       "      <td>10862.780273</td>\n",
       "      <td>10684.450195</td>\n",
       "      <td>10718.299805</td>\n",
       "      <td>10847.410156</td>\n",
       "      <td>302950000</td>\n",
       "      <td>10847.410156</td>\n",
       "      <td>2006-01-03</td>\n",
       "      <td>1270.219971</td>\n",
       "      <td>1245.739990</td>\n",
       "      <td>...</td>\n",
       "      <td>12713.879883</td>\n",
       "      <td>0.0</td>\n",
       "      <td>12713.879883</td>\n",
       "      <td>2006-01-03</td>\n",
       "      <td>21.350000</td>\n",
       "      <td>20.840000</td>\n",
       "      <td>21.000000</td>\n",
       "      <td>21.309999</td>\n",
       "      <td>2708300.0</td>\n",
       "      <td>17.157997</td>\n",
       "    </tr>\n",
       "    <tr>\n",
       "      <th>2006-01-04</th>\n",
       "      <td>2006-01-04</td>\n",
       "      <td>10892.639648</td>\n",
       "      <td>10833.900391</td>\n",
       "      <td>10843.969727</td>\n",
       "      <td>10880.150391</td>\n",
       "      <td>271490000</td>\n",
       "      <td>10880.150391</td>\n",
       "      <td>2006-01-04</td>\n",
       "      <td>1275.369995</td>\n",
       "      <td>1267.739990</td>\n",
       "      <td>...</td>\n",
       "      <td>12773.490234</td>\n",
       "      <td>0.0</td>\n",
       "      <td>12773.490234</td>\n",
       "      <td>2006-01-04</td>\n",
       "      <td>21.559999</td>\n",
       "      <td>21.309999</td>\n",
       "      <td>21.350000</td>\n",
       "      <td>21.559999</td>\n",
       "      <td>2729600.0</td>\n",
       "      <td>17.359285</td>\n",
       "    </tr>\n",
       "    <tr>\n",
       "      <th>2006-01-05</th>\n",
       "      <td>2006-01-05</td>\n",
       "      <td>10908.250000</td>\n",
       "      <td>10843.650391</td>\n",
       "      <td>10880.389648</td>\n",
       "      <td>10882.150391</td>\n",
       "      <td>250910000</td>\n",
       "      <td>10882.150391</td>\n",
       "      <td>2006-01-05</td>\n",
       "      <td>1276.910034</td>\n",
       "      <td>1270.300049</td>\n",
       "      <td>...</td>\n",
       "      <td>12779.820312</td>\n",
       "      <td>0.0</td>\n",
       "      <td>12779.820312</td>\n",
       "      <td>2006-01-05</td>\n",
       "      <td>21.690001</td>\n",
       "      <td>21.469999</td>\n",
       "      <td>21.469999</td>\n",
       "      <td>21.660000</td>\n",
       "      <td>1282200.0</td>\n",
       "      <td>17.439810</td>\n",
       "    </tr>\n",
       "    <tr>\n",
       "      <th>2006-01-06</th>\n",
       "      <td>2006-01-06</td>\n",
       "      <td>10968.839844</td>\n",
       "      <td>10875.450195</td>\n",
       "      <td>10875.450195</td>\n",
       "      <td>10959.309570</td>\n",
       "      <td>291740000</td>\n",
       "      <td>10959.309570</td>\n",
       "      <td>2006-01-06</td>\n",
       "      <td>1286.089966</td>\n",
       "      <td>1273.479980</td>\n",
       "      <td>...</td>\n",
       "      <td>12901.690430</td>\n",
       "      <td>0.0</td>\n",
       "      <td>12901.690430</td>\n",
       "      <td>2006-01-06</td>\n",
       "      <td>22.020000</td>\n",
       "      <td>21.740000</td>\n",
       "      <td>21.799999</td>\n",
       "      <td>22.000000</td>\n",
       "      <td>4508700.0</td>\n",
       "      <td>17.713560</td>\n",
       "    </tr>\n",
       "    <tr>\n",
       "      <th>2006-01-09</th>\n",
       "      <td>2006-01-09</td>\n",
       "      <td>11020.150391</td>\n",
       "      <td>10944.429688</td>\n",
       "      <td>10959.469727</td>\n",
       "      <td>11011.900391</td>\n",
       "      <td>248240000</td>\n",
       "      <td>11011.900391</td>\n",
       "      <td>2006-01-09</td>\n",
       "      <td>1290.780029</td>\n",
       "      <td>1284.819946</td>\n",
       "      <td>...</td>\n",
       "      <td>12963.000000</td>\n",
       "      <td>0.0</td>\n",
       "      <td>12963.000000</td>\n",
       "      <td>2006-01-09</td>\n",
       "      <td>22.090000</td>\n",
       "      <td>21.920000</td>\n",
       "      <td>22.020000</td>\n",
       "      <td>22.070000</td>\n",
       "      <td>2458300.0</td>\n",
       "      <td>17.769913</td>\n",
       "    </tr>\n",
       "    <tr>\n",
       "      <th>...</th>\n",
       "      <td>...</td>\n",
       "      <td>...</td>\n",
       "      <td>...</td>\n",
       "      <td>...</td>\n",
       "      <td>...</td>\n",
       "      <td>...</td>\n",
       "      <td>...</td>\n",
       "      <td>...</td>\n",
       "      <td>...</td>\n",
       "      <td>...</td>\n",
       "      <td>...</td>\n",
       "      <td>...</td>\n",
       "      <td>...</td>\n",
       "      <td>...</td>\n",
       "      <td>...</td>\n",
       "      <td>...</td>\n",
       "      <td>...</td>\n",
       "      <td>...</td>\n",
       "      <td>...</td>\n",
       "      <td>...</td>\n",
       "      <td>...</td>\n",
       "    </tr>\n",
       "    <tr>\n",
       "      <th>2020-11-16</th>\n",
       "      <td>2020-11-16</td>\n",
       "      <td>29964.289062</td>\n",
       "      <td>29672.359375</td>\n",
       "      <td>29672.359375</td>\n",
       "      <td>29950.439453</td>\n",
       "      <td>418290000</td>\n",
       "      <td>29950.439453</td>\n",
       "      <td>2020-11-16</td>\n",
       "      <td>3628.510010</td>\n",
       "      <td>3600.159912</td>\n",
       "      <td>...</td>\n",
       "      <td>37456.898438</td>\n",
       "      <td>0.0</td>\n",
       "      <td>37456.898438</td>\n",
       "      <td>2020-11-16</td>\n",
       "      <td>122.589996</td>\n",
       "      <td>120.959999</td>\n",
       "      <td>121.209999</td>\n",
       "      <td>122.370003</td>\n",
       "      <td>7432100.0</td>\n",
       "      <td>122.370003</td>\n",
       "    </tr>\n",
       "    <tr>\n",
       "      <th>2020-11-17</th>\n",
       "      <td>2020-11-17</td>\n",
       "      <td>29872.419922</td>\n",
       "      <td>29520.289062</td>\n",
       "      <td>29800.150391</td>\n",
       "      <td>29783.349609</td>\n",
       "      <td>372380000</td>\n",
       "      <td>29783.349609</td>\n",
       "      <td>2020-11-17</td>\n",
       "      <td>3623.110107</td>\n",
       "      <td>3588.679932</td>\n",
       "      <td>...</td>\n",
       "      <td>37372.378906</td>\n",
       "      <td>0.0</td>\n",
       "      <td>37372.378906</td>\n",
       "      <td>2020-11-17</td>\n",
       "      <td>122.349998</td>\n",
       "      <td>121.169998</td>\n",
       "      <td>121.760002</td>\n",
       "      <td>121.690002</td>\n",
       "      <td>4969700.0</td>\n",
       "      <td>121.690002</td>\n",
       "    </tr>\n",
       "    <tr>\n",
       "      <th>2020-11-18</th>\n",
       "      <td>2020-11-18</td>\n",
       "      <td>29930.849609</td>\n",
       "      <td>29432.839844</td>\n",
       "      <td>29875.400391</td>\n",
       "      <td>29438.419922</td>\n",
       "      <td>382850000</td>\n",
       "      <td>29438.419922</td>\n",
       "      <td>2020-11-18</td>\n",
       "      <td>3619.090088</td>\n",
       "      <td>3567.330078</td>\n",
       "      <td>...</td>\n",
       "      <td>37004.921875</td>\n",
       "      <td>0.0</td>\n",
       "      <td>37004.921875</td>\n",
       "      <td>2020-11-18</td>\n",
       "      <td>122.059998</td>\n",
       "      <td>120.339996</td>\n",
       "      <td>121.480003</td>\n",
       "      <td>120.389999</td>\n",
       "      <td>4771400.0</td>\n",
       "      <td>120.389999</td>\n",
       "    </tr>\n",
       "    <tr>\n",
       "      <th>2020-11-19</th>\n",
       "      <td>2020-11-19</td>\n",
       "      <td>29524.900391</td>\n",
       "      <td>29228.380859</td>\n",
       "      <td>29370.919922</td>\n",
       "      <td>29483.230469</td>\n",
       "      <td>331330000</td>\n",
       "      <td>29483.230469</td>\n",
       "      <td>2020-11-19</td>\n",
       "      <td>3585.219971</td>\n",
       "      <td>3543.840088</td>\n",
       "      <td>...</td>\n",
       "      <td>37219.050781</td>\n",
       "      <td>0.0</td>\n",
       "      <td>37219.050781</td>\n",
       "      <td>2020-11-19</td>\n",
       "      <td>121.580002</td>\n",
       "      <td>119.620003</td>\n",
       "      <td>120.150002</td>\n",
       "      <td>121.360001</td>\n",
       "      <td>6077600.0</td>\n",
       "      <td>121.360001</td>\n",
       "    </tr>\n",
       "    <tr>\n",
       "      <th>2020-11-20</th>\n",
       "      <td>2020-11-20</td>\n",
       "      <td>29469.890625</td>\n",
       "      <td>29231.199219</td>\n",
       "      <td>29437.570312</td>\n",
       "      <td>29263.480469</td>\n",
       "      <td>305350000</td>\n",
       "      <td>29263.480469</td>\n",
       "      <td>2020-11-20</td>\n",
       "      <td>3581.229980</td>\n",
       "      <td>3556.850098</td>\n",
       "      <td>...</td>\n",
       "      <td>37023.179688</td>\n",
       "      <td>0.0</td>\n",
       "      <td>37023.179688</td>\n",
       "      <td>2020-11-20</td>\n",
       "      <td>121.500000</td>\n",
       "      <td>120.070000</td>\n",
       "      <td>121.470001</td>\n",
       "      <td>120.110001</td>\n",
       "      <td>4957900.0</td>\n",
       "      <td>120.110001</td>\n",
       "    </tr>\n",
       "  </tbody>\n",
       "</table>\n",
       "<p>3749 rows × 35 columns</p>\n",
       "</div>"
      ],
      "text/plain": [
       "Stock Ticker         DJI                                            \\\n",
       "Stock Info          Date          High           Low          Open   \n",
       "2006-01-03    2006-01-03  10862.780273  10684.450195  10718.299805   \n",
       "2006-01-04    2006-01-04  10892.639648  10833.900391  10843.969727   \n",
       "2006-01-05    2006-01-05  10908.250000  10843.650391  10880.389648   \n",
       "2006-01-06    2006-01-06  10968.839844  10875.450195  10875.450195   \n",
       "2006-01-09    2006-01-09  11020.150391  10944.429688  10959.469727   \n",
       "...                  ...           ...           ...           ...   \n",
       "2020-11-16    2020-11-16  29964.289062  29672.359375  29672.359375   \n",
       "2020-11-17    2020-11-17  29872.419922  29520.289062  29800.150391   \n",
       "2020-11-18    2020-11-18  29930.849609  29432.839844  29875.400391   \n",
       "2020-11-19    2020-11-19  29524.900391  29228.380859  29370.919922   \n",
       "2020-11-20    2020-11-20  29469.890625  29231.199219  29437.570312   \n",
       "\n",
       "Stock Ticker                                               GSPC               \\\n",
       "Stock Info           Close     Volume     Adj Close        Date         High   \n",
       "2006-01-03    10847.410156  302950000  10847.410156  2006-01-03  1270.219971   \n",
       "2006-01-04    10880.150391  271490000  10880.150391  2006-01-04  1275.369995   \n",
       "2006-01-05    10882.150391  250910000  10882.150391  2006-01-05  1276.910034   \n",
       "2006-01-06    10959.309570  291740000  10959.309570  2006-01-06  1286.089966   \n",
       "2006-01-09    11011.900391  248240000  11011.900391  2006-01-09  1290.780029   \n",
       "...                    ...        ...           ...         ...          ...   \n",
       "2020-11-16    29950.439453  418290000  29950.439453  2020-11-16  3628.510010   \n",
       "2020-11-17    29783.349609  372380000  29783.349609  2020-11-17  3623.110107   \n",
       "2020-11-18    29438.419922  382850000  29438.419922  2020-11-18  3619.090088   \n",
       "2020-11-19    29483.230469  331330000  29483.230469  2020-11-19  3585.219971   \n",
       "2020-11-20    29263.480469  305350000  29263.480469  2020-11-20  3581.229980   \n",
       "\n",
       "Stock Ticker               ...         W5000                              XLK  \\\n",
       "Stock Info            Low  ...         Close Volume     Adj Close        Date   \n",
       "2006-01-03    1245.739990  ...  12713.879883    0.0  12713.879883  2006-01-03   \n",
       "2006-01-04    1267.739990  ...  12773.490234    0.0  12773.490234  2006-01-04   \n",
       "2006-01-05    1270.300049  ...  12779.820312    0.0  12779.820312  2006-01-05   \n",
       "2006-01-06    1273.479980  ...  12901.690430    0.0  12901.690430  2006-01-06   \n",
       "2006-01-09    1284.819946  ...  12963.000000    0.0  12963.000000  2006-01-09   \n",
       "...                   ...  ...           ...    ...           ...         ...   \n",
       "2020-11-16    3600.159912  ...  37456.898438    0.0  37456.898438  2020-11-16   \n",
       "2020-11-17    3588.679932  ...  37372.378906    0.0  37372.378906  2020-11-17   \n",
       "2020-11-18    3567.330078  ...  37004.921875    0.0  37004.921875  2020-11-18   \n",
       "2020-11-19    3543.840088  ...  37219.050781    0.0  37219.050781  2020-11-19   \n",
       "2020-11-20    3556.850098  ...  37023.179688    0.0  37023.179688  2020-11-20   \n",
       "\n",
       "Stock Ticker                                                             \\\n",
       "Stock Info          High         Low        Open       Close     Volume   \n",
       "2006-01-03     21.350000   20.840000   21.000000   21.309999  2708300.0   \n",
       "2006-01-04     21.559999   21.309999   21.350000   21.559999  2729600.0   \n",
       "2006-01-05     21.690001   21.469999   21.469999   21.660000  1282200.0   \n",
       "2006-01-06     22.020000   21.740000   21.799999   22.000000  4508700.0   \n",
       "2006-01-09     22.090000   21.920000   22.020000   22.070000  2458300.0   \n",
       "...                  ...         ...         ...         ...        ...   \n",
       "2020-11-16    122.589996  120.959999  121.209999  122.370003  7432100.0   \n",
       "2020-11-17    122.349998  121.169998  121.760002  121.690002  4969700.0   \n",
       "2020-11-18    122.059998  120.339996  121.480003  120.389999  4771400.0   \n",
       "2020-11-19    121.580002  119.620003  120.150002  121.360001  6077600.0   \n",
       "2020-11-20    121.500000  120.070000  121.470001  120.110001  4957900.0   \n",
       "\n",
       "Stock Ticker              \n",
       "Stock Info     Adj Close  \n",
       "2006-01-03     17.157997  \n",
       "2006-01-04     17.359285  \n",
       "2006-01-05     17.439810  \n",
       "2006-01-06     17.713560  \n",
       "2006-01-09     17.769913  \n",
       "...                  ...  \n",
       "2020-11-16    122.370003  \n",
       "2020-11-17    121.690002  \n",
       "2020-11-18    120.389999  \n",
       "2020-11-19    121.360001  \n",
       "2020-11-20    120.110001  \n",
       "\n",
       "[3749 rows x 35 columns]"
      ]
     },
     "execution_count": 34,
     "metadata": {},
     "output_type": "execute_result"
    }
   ],
   "source": [
    "top_indices"
   ]
  },
  {
   "cell_type": "markdown",
   "metadata": {},
   "source": [
    "### **5. Exploratory Data Analysis**\n",
    "We use Exploratory data analysis in order to analyze the datasets for summarizing the important characteristics by using different visualization techniques. In our project we are using historical data of stocks in order to visualize and analyze. "
   ]
  },
  {
   "cell_type": "markdown",
   "metadata": {},
   "source": [
    "### **i. Plotting bar graph to find the Number of companies in every sector**\n",
    "This bar graph helps us find out which sector is biggest based on the number of companies in each sector."
   ]
  },
  {
   "cell_type": "code",
   "execution_count": 35,
   "metadata": {},
   "outputs": [
    {
     "data": {
      "text/plain": [
       "Text(0, 0.5, 'No. od Companies')"
      ]
     },
     "execution_count": 35,
     "metadata": {},
     "output_type": "execute_result"
    },
    {
     "data": {
      "image/png": "[encoded data removed]",
      "text/plain": [
       "<Figure size 1008x576 with 1 Axes>"
      ]
     },
     "metadata": {
      "needs_background": "light"
     },
     "output_type": "display_data"
    }
   ],
   "source": [
    "ax = list_syp_comp['Sector'].value_counts().plot(kind='bar', figsize=(14,8),\n",
    "                                    title=\"No. of Companies in every sector\")\n",
    "ax.set_xlabel(\"Types of Sectors\")\n",
    "ax.set_ylabel(\"No. od Companies\")\n",
    "\n",
    "\n",
    "  "
   ]
  },
  {
   "cell_type": "markdown",
   "metadata": {},
   "source": [
    "We find percentage share of each sector by dividing number of companies in each sector by total number of companies in all the sector. The bar graph and the percentage share of number of companies in each sector helps us find out that industrial sector is biggest followed by IT sector. Then we analyze IT sector company stocks in more depth as it is one of the biggest sectors by percentage share of number of companies in each sector."
   ]
  },
  {
   "cell_type": "code",
   "execution_count": 37,
   "metadata": {},
   "outputs": [
    {
     "data": {
      "text/html": [
       "<style  type=\"text/css\" >\n",
       "    #T_7c239531_387c_11eb_b798_c8348e094a6brow0_col0 {\n",
       "            background-color:  #67000d;\n",
       "            color:  #f1f1f1;\n",
       "        }    #T_7c239531_387c_11eb_b798_c8348e094a6brow1_col0 {\n",
       "            background-color:  #7a0510;\n",
       "            color:  #f1f1f1;\n",
       "        }    #T_7c239531_387c_11eb_b798_c8348e094a6brow2_col0 {\n",
       "            background-color:  #ac1117;\n",
       "            color:  #f1f1f1;\n",
       "        }    #T_7c239531_387c_11eb_b798_c8348e094a6brow3_col0 {\n",
       "            background-color:  #c5171c;\n",
       "            color:  #f1f1f1;\n",
       "        }    #T_7c239531_387c_11eb_b798_c8348e094a6brow4_col0 {\n",
       "            background-color:  #cc191e;\n",
       "            color:  #f1f1f1;\n",
       "        }    #T_7c239531_387c_11eb_b798_c8348e094a6brow5_col0 {\n",
       "            background-color:  #fed9c9;\n",
       "            color:  #000000;\n",
       "        }    #T_7c239531_387c_11eb_b798_c8348e094a6brow6_col0 {\n",
       "            background-color:  #fee3d7;\n",
       "            color:  #000000;\n",
       "        }    #T_7c239531_387c_11eb_b798_c8348e094a6brow7_col0 {\n",
       "            background-color:  #ffeee7;\n",
       "            color:  #000000;\n",
       "        }    #T_7c239531_387c_11eb_b798_c8348e094a6brow8_col0 {\n",
       "            background-color:  #ffeee7;\n",
       "            color:  #000000;\n",
       "        }    #T_7c239531_387c_11eb_b798_c8348e094a6brow9_col0 {\n",
       "            background-color:  #fff5f0;\n",
       "            color:  #000000;\n",
       "        }    #T_7c239531_387c_11eb_b798_c8348e094a6brow10_col0 {\n",
       "            background-color:  #fff5f0;\n",
       "            color:  #000000;\n",
       "        }</style><table id=\"T_7c239531_387c_11eb_b798_c8348e094a6b\" ><thead>    <tr>        <th class=\"blank level0\" ></th>        <th class=\"col_heading level0 col0\" >Sector</th>    </tr></thead><tbody>\n",
       "                <tr>\n",
       "                        <th id=\"T_7c239531_387c_11eb_b798_c8348e094a6blevel0_row0\" class=\"row_heading level0 row0\" >Industrials</th>\n",
       "                        <td id=\"T_7c239531_387c_11eb_b798_c8348e094a6brow0_col0\" class=\"data row0 col0\" >14.455446</td>\n",
       "            </tr>\n",
       "            <tr>\n",
       "                        <th id=\"T_7c239531_387c_11eb_b798_c8348e094a6blevel0_row1\" class=\"row_heading level0 row1\" >Information Technology</th>\n",
       "                        <td id=\"T_7c239531_387c_11eb_b798_c8348e094a6brow1_col0\" class=\"data row1 col0\" >14.059406</td>\n",
       "            </tr>\n",
       "            <tr>\n",
       "                        <th id=\"T_7c239531_387c_11eb_b798_c8348e094a6blevel0_row2\" class=\"row_heading level0 row2\" >Financials</th>\n",
       "                        <td id=\"T_7c239531_387c_11eb_b798_c8348e094a6brow2_col0\" class=\"data row2 col0\" >13.069307</td>\n",
       "            </tr>\n",
       "            <tr>\n",
       "                        <th id=\"T_7c239531_387c_11eb_b798_c8348e094a6blevel0_row3\" class=\"row_heading level0 row3\" >Health Care</th>\n",
       "                        <td id=\"T_7c239531_387c_11eb_b798_c8348e094a6brow3_col0\" class=\"data row3 col0\" >12.277228</td>\n",
       "            </tr>\n",
       "            <tr>\n",
       "                        <th id=\"T_7c239531_387c_11eb_b798_c8348e094a6blevel0_row4\" class=\"row_heading level0 row4\" >Consumer Discretionary</th>\n",
       "                        <td id=\"T_7c239531_387c_11eb_b798_c8348e094a6brow4_col0\" class=\"data row4 col0\" >12.079208</td>\n",
       "            </tr>\n",
       "            <tr>\n",
       "                        <th id=\"T_7c239531_387c_11eb_b798_c8348e094a6blevel0_row5\" class=\"row_heading level0 row5\" >Consumer Staples</th>\n",
       "                        <td id=\"T_7c239531_387c_11eb_b798_c8348e094a6brow5_col0\" class=\"data row5 col0\" >6.534653</td>\n",
       "            </tr>\n",
       "            <tr>\n",
       "                        <th id=\"T_7c239531_387c_11eb_b798_c8348e094a6blevel0_row6\" class=\"row_heading level0 row6\" >Real Estate</th>\n",
       "                        <td id=\"T_7c239531_387c_11eb_b798_c8348e094a6brow6_col0\" class=\"data row6 col0\" >6.138614</td>\n",
       "            </tr>\n",
       "            <tr>\n",
       "                        <th id=\"T_7c239531_387c_11eb_b798_c8348e094a6blevel0_row7\" class=\"row_heading level0 row7\" >Materials</th>\n",
       "                        <td id=\"T_7c239531_387c_11eb_b798_c8348e094a6brow7_col0\" class=\"data row7 col0\" >5.544554</td>\n",
       "            </tr>\n",
       "            <tr>\n",
       "                        <th id=\"T_7c239531_387c_11eb_b798_c8348e094a6blevel0_row8\" class=\"row_heading level0 row8\" >Utilities</th>\n",
       "                        <td id=\"T_7c239531_387c_11eb_b798_c8348e094a6brow8_col0\" class=\"data row8 col0\" >5.544554</td>\n",
       "            </tr>\n",
       "            <tr>\n",
       "                        <th id=\"T_7c239531_387c_11eb_b798_c8348e094a6blevel0_row9\" class=\"row_heading level0 row9\" >Energy</th>\n",
       "                        <td id=\"T_7c239531_387c_11eb_b798_c8348e094a6brow9_col0\" class=\"data row9 col0\" >5.148515</td>\n",
       "            </tr>\n",
       "            <tr>\n",
       "                        <th id=\"T_7c239531_387c_11eb_b798_c8348e094a6blevel0_row10\" class=\"row_heading level0 row10\" >Communication Services</th>\n",
       "                        <td id=\"T_7c239531_387c_11eb_b798_c8348e094a6brow10_col0\" class=\"data row10 col0\" >5.148515</td>\n",
       "            </tr>\n",
       "    </tbody></table>"
      ],
      "text/plain": [
       "<pandas.io.formats.style.Styler at 0x19b93c13d30>"
      ]
     },
     "execution_count": 37,
     "metadata": {},
     "output_type": "execute_result"
    }
   ],
   "source": [
    "#Percentage share of each sector\n",
    "sectors = pd.DataFrame((list_syp_comp['Sector'].value_counts() / list_syp_comp['Sector'].count())*100)\n",
    "sectors.style.background_gradient(cmap='Reds')"
   ]
  },
  {
   "cell_type": "markdown",
   "metadata": {},
   "source": [
    "### **ii. Pie-chart based on Market Capitalization**"
   ]
  },
  {
   "cell_type": "markdown",
   "metadata": {},
   "source": [
    "We have displayed top 10 companies by market capitalization out of top 100 companies of IT sector. "
   ]
  },
  {
   "cell_type": "code",
   "execution_count": 39,
   "metadata": {},
   "outputs": [
    {
     "data": {
      "application/vnd.plotly.v1+json": {
       "config": {
        "plotlyServerURL": "https://plot.ly"
       },
       "data": [
        {
         "hole": 0.28,
         "labels": [
          "AAPL",
          "MSFT",
          "TSM",
          "NVDA",
          "CRM",
          "ADBE",
          "INTC",
          "ASML",
          "CSCO",
          "ORCL",
          "QCOM",
          "AVGO",
          "ACN",
          "TXN",
          "SAP",
          "SHOP",
          "SNE",
          "IBM",
          "AMD",
          "NOW",
          "SQ",
          "FIS",
          "INTU",
          "UBER",
          "SNOW",
          "FISV",
          "AMAT",
          "MU",
          "INFY",
          "LRCX",
          "VMW",
          "ADSK",
          "TEAM",
          "DELL",
          "ADI",
          "WDAY",
          "NXPI",
          "CTSH",
          "ERIC",
          "DOCU",
          "PLTR",
          "KLAC",
          "APH",
          "TEL",
          "U",
          "MCHP",
          "STM",
          "SNPS",
          "XLNX",
          "CRWD",
          "SPLK",
          "CDNS",
          "MRVL",
          "OKTA",
          "HPQ",
          "MSI",
          "PANW",
          "GLW",
          "DDOG",
          "FTV-PA",
          "ANSS",
          "WIT",
          "RNG",
          "FTV",
          "PAYC",
          "SWKS",
          "COUP",
          "VRSN",
          "STNE",
          "GRMN",
          "MXIM",
          "KEYS",
          "FLT",
          "NET",
          "ANET",
          "CAJ",
          "ZBRA",
          "ZS",
          "FTNT",
          "EPAM",
          "CDW",
          "GIB",
          "TER",
          "SSNC",
          "ZI",
          "UMC",
          "WORK",
          "BR",
          "HUBS",
          "QRVO",
          "CHKP",
          "AKAM",
          "TYL",
          "CCC",
          "UI",
          "ZEN",
          "CTXS",
          "TRMB",
          "AVLR",
          "STX"
         ],
         "pull": [
          0.1,
          0.1,
          0.1,
          0.1,
          0.1,
          0.1,
          0.1,
          0.1,
          0.1,
          0.1
         ],
         "textinfo": "percent+label",
         "textposition": "inside",
         "type": "pie",
         "values": [
          1936,
          1589,
          451.466,
          325.346,
          234.452,
          220.963,
          188.75400000000002,
          177.354,
          175.95,
          168.851,
          162.66,
          156.542,
          156.20600000000002,
          144.502,
          139.19799999999998,
          119.54899999999999,
          109.721,
          107.007,
          102.603,
          101.86399999999999,
          93.75399999999999,
          90.17200000000001,
          90.20700000000001,
          88.259,
          75.85600000000001,
          75.156,
          73.51899999999999,
          71.446,
          64.973,
          64.623,
          62.574,
          56.41,
          52.593999999999994,
          51.806999999999995,
          50.656000000000006,
          49.70399999999999,
          43.61600000000001,
          41.273999999999994,
          40.175,
          40.211999999999996,
          39.512,
          38.652,
          38.313,
          37.364000000000004,
          35.039,
          34.271,
          33.554,
          32.781,
          32.675,
          32.378,
          31.776,
          31.031,
          29.948,
          29.182,
          29.104,
          28.714000000000002,
          28.186,
          27.986,
          27.725,
          26.996,
          26.918000000000003,
          26.875,
          25.835,
          24.17,
          23.195999999999998,
          22.924,
          22.47,
          22.430999999999997,
          22.396,
          21.927,
          21.851999999999997,
          21.708000000000002,
          21.239,
          20.31,
          20.312,
          19.434,
          19.337,
          19.011,
          19.006,
          18.795,
          18.762999999999998,
          18.49,
          17.987000000000002,
          17.697,
          17.383,
          15.834000000000001,
          17.076,
          17.063,
          17.022000000000002,
          17.017,
          16.804000000000002,
          16.737000000000002,
          16.676,
          16.567,
          15.331,
          14.855,
          14.795,
          14.75,
          14.597000000000001,
          14.625
         ]
        }
       ],
       "layout": {
        "height": 800,
        "template": {
         "data": {
          "bar": [
           {
            "error_x": {
             "color": "#2a3f5f"
            },
            "error_y": {
             "color": "#2a3f5f"
            },
            "marker": {
             "line": {
              "color": "#E5ECF6",
              "width": 0.5
             }
            },
            "type": "bar"
           }
          ],
          "barpolar": [
           {
            "marker": {
             "line": {
              "color": "#E5ECF6",
              "width": 0.5
             }
            },
            "type": "barpolar"
           }
          ],
          "carpet": [
           {
            "aaxis": {
             "endlinecolor": "#2a3f5f",
             "gridcolor": "white",
             "linecolor": "white",
             "minorgridcolor": "white",
             "startlinecolor": "#2a3f5f"
            },
            "baxis": {
             "endlinecolor": "#2a3f5f",
             "gridcolor": "white",
             "linecolor": "white",
             "minorgridcolor": "white",
             "startlinecolor": "#2a3f5f"
            },
            "type": "carpet"
           }
          ],
          "choropleth": [
           {
            "colorbar": {
             "outlinewidth": 0,
             "ticks": ""
            },
            "type": "choropleth"
           }
          ],
          "contour": [
           {
            "colorbar": {
             "outlinewidth": 0,
             "ticks": ""
            },
            "colorscale": [
             [
              0,
              "#0d0887"
             ],
             [
              0.1111111111111111,
              "#46039f"
             ],
             [
              0.2222222222222222,
              "#7201a8"
             ],
             [
              0.3333333333333333,
              "#9c179e"
             ],
             [
              0.4444444444444444,
              "#bd3786"
             ],
             [
              0.5555555555555556,
              "#d8576b"
             ],
             [
              0.6666666666666666,
              "#ed7953"
             ],
             [
              0.7777777777777778,
              "#fb9f3a"
             ],
             [
              0.8888888888888888,
              "#fdca26"
             ],
             [
              1,
              "#f0f921"
             ]
            ],
            "type": "contour"
           }
          ],
          "contourcarpet": [
           {
            "colorbar": {
             "outlinewidth": 0,
             "ticks": ""
            },
            "type": "contourcarpet"
           }
          ],
          "heatmap": [
           {
            "colorbar": {
             "outlinewidth": 0,
             "ticks": ""
            },
            "colorscale": [
             [
              0,
              "#0d0887"
             ],
             [
              0.1111111111111111,
              "#46039f"
             ],
             [
              0.2222222222222222,
              "#7201a8"
             ],
             [
              0.3333333333333333,
              "#9c179e"
             ],
             [
              0.4444444444444444,
              "#bd3786"
             ],
             [
              0.5555555555555556,
              "#d8576b"
             ],
             [
              0.6666666666666666,
              "#ed7953"
             ],
             [
              0.7777777777777778,
              "#fb9f3a"
             ],
             [
              0.8888888888888888,
              "#fdca26"
             ],
             [
              1,
              "#f0f921"
             ]
            ],
            "type": "heatmap"
           }
          ],
          "heatmapgl": [
           {
            "colorbar": {
             "outlinewidth": 0,
             "ticks": ""
            },
            "colorscale": [
             [
              0,
              "#0d0887"
             ],
             [
              0.1111111111111111,
              "#46039f"
             ],
             [
              0.2222222222222222,
              "#7201a8"
             ],
             [
              0.3333333333333333,
              "#9c179e"
             ],
             [
              0.4444444444444444,
              "#bd3786"
             ],
             [
              0.5555555555555556,
              "#d8576b"
             ],
             [
              0.6666666666666666,
              "#ed7953"
             ],
             [
              0.7777777777777778,
              "#fb9f3a"
             ],
             [
              0.8888888888888888,
              "#fdca26"
             ],
             [
              1,
              "#f0f921"
             ]
            ],
            "type": "heatmapgl"
           }
          ],
          "histogram": [
           {
            "marker": {
             "colorbar": {
              "outlinewidth": 0,
              "ticks": ""
             }
            },
            "type": "histogram"
           }
          ],
          "histogram2d": [
           {
            "colorbar": {
             "outlinewidth": 0,
             "ticks": ""
            },
            "colorscale": [
             [
              0,
              "#0d0887"
             ],
             [
              0.1111111111111111,
              "#46039f"
             ],
             [
              0.2222222222222222,
              "#7201a8"
             ],
             [
              0.3333333333333333,
              "#9c179e"
             ],
             [
              0.4444444444444444,
              "#bd3786"
             ],
             [
              0.5555555555555556,
              "#d8576b"
             ],
             [
              0.6666666666666666,
              "#ed7953"
             ],
             [
              0.7777777777777778,
              "#fb9f3a"
             ],
             [
              0.8888888888888888,
              "#fdca26"
             ],
             [
              1,
              "#f0f921"
             ]
            ],
            "type": "histogram2d"
           }
          ],
          "histogram2dcontour": [
           {
            "colorbar": {
             "outlinewidth": 0,
             "ticks": ""
            },
            "colorscale": [
             [
              0,
              "#0d0887"
             ],
             [
              0.1111111111111111,
              "#46039f"
             ],
             [
              0.2222222222222222,
              "#7201a8"
             ],
             [
              0.3333333333333333,
              "#9c179e"
             ],
             [
              0.4444444444444444,
              "#bd3786"
             ],
             [
              0.5555555555555556,
              "#d8576b"
             ],
             [
              0.6666666666666666,
              "#ed7953"
             ],
             [
              0.7777777777777778,
              "#fb9f3a"
             ],
             [
              0.8888888888888888,
              "#fdca26"
             ],
             [
              1,
              "#f0f921"
             ]
            ],
            "type": "histogram2dcontour"
           }
          ],
          "mesh3d": [
           {
            "colorbar": {
             "outlinewidth": 0,
             "ticks": ""
            },
            "type": "mesh3d"
           }
          ],
          "parcoords": [
           {
            "line": {
             "colorbar": {
              "outlinewidth": 0,
              "ticks": ""
             }
            },
            "type": "parcoords"
           }
          ],
          "pie": [
           {
            "automargin": true,
            "type": "pie"
           }
          ],
          "scatter": [
           {
            "marker": {
             "colorbar": {
              "outlinewidth": 0,
              "ticks": ""
             }
            },
            "type": "scatter"
           }
          ],
          "scatter3d": [
           {
            "line": {
             "colorbar": {
              "outlinewidth": 0,
              "ticks": ""
             }
            },
            "marker": {
             "colorbar": {
              "outlinewidth": 0,
              "ticks": ""
             }
            },
            "type": "scatter3d"
           }
          ],
          "scattercarpet": [
           {
            "marker": {
             "colorbar": {
              "outlinewidth": 0,
              "ticks": ""
             }
            },
            "type": "scattercarpet"
           }
          ],
          "scattergeo": [
           {
            "marker": {
             "colorbar": {
              "outlinewidth": 0,
              "ticks": ""
             }
            },
            "type": "scattergeo"
           }
          ],
          "scattergl": [
           {
            "marker": {
             "colorbar": {
              "outlinewidth": 0,
              "ticks": ""
             }
            },
            "type": "scattergl"
           }
          ],
          "scattermapbox": [
           {
            "marker": {
             "colorbar": {
              "outlinewidth": 0,
              "ticks": ""
             }
            },
            "type": "scattermapbox"
           }
          ],
          "scatterpolar": [
           {
            "marker": {
             "colorbar": {
              "outlinewidth": 0,
              "ticks": ""
             }
            },
            "type": "scatterpolar"
           }
          ],
          "scatterpolargl": [
           {
            "marker": {
             "colorbar": {
              "outlinewidth": 0,
              "ticks": ""
             }
            },
            "type": "scatterpolargl"
           }
          ],
          "scatterternary": [
           {
            "marker": {
             "colorbar": {
              "outlinewidth": 0,
              "ticks": ""
             }
            },
            "type": "scatterternary"
           }
          ],
          "surface": [
           {
            "colorbar": {
             "outlinewidth": 0,
             "ticks": ""
            },
            "colorscale": [
             [
              0,
              "#0d0887"
             ],
             [
              0.1111111111111111,
              "#46039f"
             ],
             [
              0.2222222222222222,
              "#7201a8"
             ],
             [
              0.3333333333333333,
              "#9c179e"
             ],
             [
              0.4444444444444444,
              "#bd3786"
             ],
             [
              0.5555555555555556,
              "#d8576b"
             ],
             [
              0.6666666666666666,
              "#ed7953"
             ],
             [
              0.7777777777777778,
              "#fb9f3a"
             ],
             [
              0.8888888888888888,
              "#fdca26"
             ],
             [
              1,
              "#f0f921"
             ]
            ],
            "type": "surface"
           }
          ],
          "table": [
           {
            "cells": {
             "fill": {
              "color": "#EBF0F8"
             },
             "line": {
              "color": "white"
             }
            },
            "header": {
             "fill": {
              "color": "#C8D4E3"
             },
             "line": {
              "color": "white"
             }
            },
            "type": "table"
           }
          ]
         },
         "layout": {
          "annotationdefaults": {
           "arrowcolor": "#2a3f5f",
           "arrowhead": 0,
           "arrowwidth": 1
          },
          "coloraxis": {
           "colorbar": {
            "outlinewidth": 0,
            "ticks": ""
           }
          },
          "colorscale": {
           "diverging": [
            [
             0,
             "#8e0152"
            ],
            [
             0.1,
             "#c51b7d"
            ],
            [
             0.2,
             "#de77ae"
            ],
            [
             0.3,
             "#f1b6da"
            ],
            [
             0.4,
             "#fde0ef"
            ],
            [
             0.5,
             "#f7f7f7"
            ],
            [
             0.6,
             "#e6f5d0"
            ],
            [
             0.7,
             "#b8e186"
            ],
            [
             0.8,
             "#7fbc41"
            ],
            [
             0.9,
             "#4d9221"
            ],
            [
             1,
             "#276419"
            ]
           ],
           "sequential": [
            [
             0,
             "#0d0887"
            ],
            [
             0.1111111111111111,
             "#46039f"
            ],
            [
             0.2222222222222222,
             "#7201a8"
            ],
            [
             0.3333333333333333,
             "#9c179e"
            ],
            [
             0.4444444444444444,
             "#bd3786"
            ],
            [
             0.5555555555555556,
             "#d8576b"
            ],
            [
             0.6666666666666666,
             "#ed7953"
            ],
            [
             0.7777777777777778,
             "#fb9f3a"
            ],
            [
             0.8888888888888888,
             "#fdca26"
            ],
            [
             1,
             "#f0f921"
            ]
           ],
           "sequentialminus": [
            [
             0,
             "#0d0887"
            ],
            [
             0.1111111111111111,
             "#46039f"
            ],
            [
             0.2222222222222222,
             "#7201a8"
            ],
            [
             0.3333333333333333,
             "#9c179e"
            ],
            [
             0.4444444444444444,
             "#bd3786"
            ],
            [
             0.5555555555555556,
             "#d8576b"
            ],
            [
             0.6666666666666666,
             "#ed7953"
            ],
            [
             0.7777777777777778,
             "#fb9f3a"
            ],
            [
             0.8888888888888888,
             "#fdca26"
            ],
            [
             1,
             "#f0f921"
            ]
           ]
          },
          "colorway": [
           "#636efa",
           "#EF553B",
           "#00cc96",
           "#ab63fa",
           "#FFA15A",
           "#19d3f3",
           "#FF6692",
           "#B6E880",
           "#FF97FF",
           "#FECB52"
          ],
          "font": {
           "color": "#2a3f5f"
          },
          "geo": {
           "bgcolor": "white",
           "lakecolor": "white",
           "landcolor": "#E5ECF6",
           "showlakes": true,
           "showland": true,
           "subunitcolor": "white"
          },
          "hoverlabel": {
           "align": "left"
          },
          "hovermode": "closest",
          "mapbox": {
           "style": "light"
          },
          "paper_bgcolor": "white",
          "plot_bgcolor": "#E5ECF6",
          "polar": {
           "angularaxis": {
            "gridcolor": "white",
            "linecolor": "white",
            "ticks": ""
           },
           "bgcolor": "#E5ECF6",
           "radialaxis": {
            "gridcolor": "white",
            "linecolor": "white",
            "ticks": ""
           }
          },
          "scene": {
           "xaxis": {
            "backgroundcolor": "#E5ECF6",
            "gridcolor": "white",
            "gridwidth": 2,
            "linecolor": "white",
            "showbackground": true,
            "ticks": "",
            "zerolinecolor": "white"
           },
           "yaxis": {
            "backgroundcolor": "#E5ECF6",
            "gridcolor": "white",
            "gridwidth": 2,
            "linecolor": "white",
            "showbackground": true,
            "ticks": "",
            "zerolinecolor": "white"
           },
           "zaxis": {
            "backgroundcolor": "#E5ECF6",
            "gridcolor": "white",
            "gridwidth": 2,
            "linecolor": "white",
            "showbackground": true,
            "ticks": "",
            "zerolinecolor": "white"
           }
          },
          "shapedefaults": {
           "line": {
            "color": "#2a3f5f"
           }
          },
          "ternary": {
           "aaxis": {
            "gridcolor": "white",
            "linecolor": "white",
            "ticks": ""
           },
           "baxis": {
            "gridcolor": "white",
            "linecolor": "white",
            "ticks": ""
           },
           "bgcolor": "#E5ECF6",
           "caxis": {
            "gridcolor": "white",
            "linecolor": "white",
            "ticks": ""
           }
          },
          "title": {
           "x": 0.05
          },
          "xaxis": {
           "automargin": true,
           "gridcolor": "white",
           "linecolor": "white",
           "ticks": "",
           "title": {
            "standoff": 15
           },
           "zerolinecolor": "white",
           "zerolinewidth": 2
          },
          "yaxis": {
           "automargin": true,
           "gridcolor": "white",
           "linecolor": "white",
           "ticks": "",
           "title": {
            "standoff": 15
           },
           "zerolinecolor": "white",
           "zerolinewidth": 2
          }
         }
        }
       }
      },
      "text/html": [
       "<div>                            <div id=\"571de1e1-89d2-47fd-8787-c3b21b294905\" class=\"plotly-graph-div\" style=\"height:800px; width:100%;\"></div>            <script type=\"text/javascript\">                require([\"plotly\"], function(Plotly) {                    window.PLOTLYENV=window.PLOTLYENV || {};                                    if (document.getElementById(\"571de1e1-89d2-47fd-8787-c3b21b294905\")) {                    Plotly.newPlot(                        \"571de1e1-89d2-47fd-8787-c3b21b294905\",                        [{\"hole\": 0.28, \"labels\": [\"AAPL\", \"MSFT\", \"TSM\", \"NVDA\", \"CRM\", \"ADBE\", \"INTC\", \"ASML\", \"CSCO\", \"ORCL\", \"QCOM\", \"AVGO\", \"ACN\", \"TXN\", \"SAP\", \"SHOP\", \"SNE\", \"IBM\", \"AMD\", \"NOW\", \"SQ\", \"FIS\", \"INTU\", \"UBER\", \"SNOW\", \"FISV\", \"AMAT\", \"MU\", \"INFY\", \"LRCX\", \"VMW\", \"ADSK\", \"TEAM\", \"DELL\", \"ADI\", \"WDAY\", \"NXPI\", \"CTSH\", \"ERIC\", \"DOCU\", \"PLTR\", \"KLAC\", \"APH\", \"TEL\", \"U\", \"MCHP\", \"STM\", \"SNPS\", \"XLNX\", \"CRWD\", \"SPLK\", \"CDNS\", \"MRVL\", \"OKTA\", \"HPQ\", \"MSI\", \"PANW\", \"GLW\", \"DDOG\", \"FTV-PA\", \"ANSS\", \"WIT\", \"RNG\", \"FTV\", \"PAYC\", \"SWKS\", \"COUP\", \"VRSN\", \"STNE\", \"GRMN\", \"MXIM\", \"KEYS\", \"FLT\", \"NET\", \"ANET\", \"CAJ\", \"ZBRA\", \"ZS\", \"FTNT\", \"EPAM\", \"CDW\", \"GIB\", \"TER\", \"SSNC\", \"ZI\", \"UMC\", \"WORK\", \"BR\", \"HUBS\", \"QRVO\", \"CHKP\", \"AKAM\", \"TYL\", \"CCC\", \"UI\", \"ZEN\", \"CTXS\", \"TRMB\", \"AVLR\", \"STX\"], \"pull\": [0.1, 0.1, 0.1, 0.1, 0.1, 0.1, 0.1, 0.1, 0.1, 0.1], \"textinfo\": \"percent+label\", \"textposition\": \"inside\", \"type\": \"pie\", \"values\": [1936.0, 1589.0, 451.466, 325.346, 234.452, 220.963, 188.75400000000002, 177.354, 175.95, 168.851, 162.66, 156.542, 156.20600000000002, 144.502, 139.19799999999998, 119.54899999999999, 109.721, 107.007, 102.603, 101.86399999999999, 93.75399999999999, 90.17200000000001, 90.20700000000001, 88.259, 75.85600000000001, 75.156, 73.51899999999999, 71.446, 64.973, 64.623, 62.574, 56.41, 52.593999999999994, 51.806999999999995, 50.656000000000006, 49.70399999999999, 43.61600000000001, 41.273999999999994, 40.175, 40.211999999999996, 39.512, 38.652, 38.313, 37.364000000000004, 35.039, 34.271, 33.554, 32.781, 32.675, 32.378, 31.776, 31.031, 29.948, 29.182, 29.104, 28.714000000000002, 28.186, 27.986, 27.725, 26.996, 26.918000000000003, 26.875, 25.835, 24.17, 23.195999999999998, 22.924, 22.47, 22.430999999999997, 22.396, 21.927, 21.851999999999997, 21.708000000000002, 21.239, 20.31, 20.312, 19.434, 19.337, 19.011, 19.006, 18.795, 18.762999999999998, 18.49, 17.987000000000002, 17.697, 17.383, 15.834000000000001, 17.076, 17.063, 17.022000000000002, 17.017, 16.804000000000002, 16.737000000000002, 16.676, 16.567, 15.331, 14.855, 14.795, 14.75, 14.597000000000001, 14.625]}],                        {\"height\": 800, \"template\": {\"data\": {\"bar\": [{\"error_x\": {\"color\": \"#2a3f5f\"}, \"error_y\": {\"color\": \"#2a3f5f\"}, \"marker\": {\"line\": {\"color\": \"#E5ECF6\", \"width\": 0.5}}, \"type\": \"bar\"}], \"barpolar\": [{\"marker\": {\"line\": {\"color\": \"#E5ECF6\", \"width\": 0.5}}, \"type\": \"barpolar\"}], \"carpet\": [{\"aaxis\": {\"endlinecolor\": \"#2a3f5f\", \"gridcolor\": \"white\", \"linecolor\": \"white\", \"minorgridcolor\": \"white\", \"startlinecolor\": \"#2a3f5f\"}, \"baxis\": {\"endlinecolor\": \"#2a3f5f\", \"gridcolor\": \"white\", \"linecolor\": \"white\", \"minorgridcolor\": \"white\", \"startlinecolor\": \"#2a3f5f\"}, \"type\": \"carpet\"}], \"choropleth\": [{\"colorbar\": {\"outlinewidth\": 0, \"ticks\": \"\"}, \"type\": \"choropleth\"}], \"contour\": [{\"colorbar\": {\"outlinewidth\": 0, \"ticks\": \"\"}, \"colorscale\": [[0.0, \"#0d0887\"], [0.1111111111111111, \"#46039f\"], [0.2222222222222222, \"#7201a8\"], [0.3333333333333333, \"#9c179e\"], [0.4444444444444444, \"#bd3786\"], [0.5555555555555556, \"#d8576b\"], [0.6666666666666666, \"#ed7953\"], [0.7777777777777778, \"#fb9f3a\"], [0.8888888888888888, \"#fdca26\"], [1.0, \"#f0f921\"]], \"type\": \"contour\"}], \"contourcarpet\": [{\"colorbar\": {\"outlinewidth\": 0, \"ticks\": \"\"}, \"type\": \"contourcarpet\"}], \"heatmap\": [{\"colorbar\": {\"outlinewidth\": 0, \"ticks\": \"\"}, \"colorscale\": [[0.0, \"#0d0887\"], [0.1111111111111111, \"#46039f\"], [0.2222222222222222, \"#7201a8\"], [0.3333333333333333, \"#9c179e\"], [0.4444444444444444, \"#bd3786\"], [0.5555555555555556, \"#d8576b\"], [0.6666666666666666, \"#ed7953\"], [0.7777777777777778, \"#fb9f3a\"], [0.8888888888888888, \"#fdca26\"], [1.0, \"#f0f921\"]], \"type\": \"heatmap\"}], \"heatmapgl\": [{\"colorbar\": {\"outlinewidth\": 0, \"ticks\": \"\"}, \"colorscale\": [[0.0, \"#0d0887\"], [0.1111111111111111, \"#46039f\"], [0.2222222222222222, \"#7201a8\"], [0.3333333333333333, \"#9c179e\"], [0.4444444444444444, \"#bd3786\"], [0.5555555555555556, \"#d8576b\"], [0.6666666666666666, \"#ed7953\"], [0.7777777777777778, \"#fb9f3a\"], [0.8888888888888888, \"#fdca26\"], [1.0, \"#f0f921\"]], \"type\": \"heatmapgl\"}], \"histogram\": [{\"marker\": {\"colorbar\": {\"outlinewidth\": 0, \"ticks\": \"\"}}, \"type\": \"histogram\"}], \"histogram2d\": [{\"colorbar\": {\"outlinewidth\": 0, \"ticks\": \"\"}, \"colorscale\": [[0.0, \"#0d0887\"], [0.1111111111111111, \"#46039f\"], [0.2222222222222222, \"#7201a8\"], [0.3333333333333333, \"#9c179e\"], [0.4444444444444444, \"#bd3786\"], [0.5555555555555556, \"#d8576b\"], [0.6666666666666666, \"#ed7953\"], [0.7777777777777778, \"#fb9f3a\"], [0.8888888888888888, \"#fdca26\"], [1.0, \"#f0f921\"]], \"type\": \"histogram2d\"}], \"histogram2dcontour\": [{\"colorbar\": {\"outlinewidth\": 0, \"ticks\": \"\"}, \"colorscale\": [[0.0, \"#0d0887\"], [0.1111111111111111, \"#46039f\"], [0.2222222222222222, \"#7201a8\"], [0.3333333333333333, \"#9c179e\"], [0.4444444444444444, \"#bd3786\"], [0.5555555555555556, \"#d8576b\"], [0.6666666666666666, \"#ed7953\"], [0.7777777777777778, \"#fb9f3a\"], [0.8888888888888888, \"#fdca26\"], [1.0, \"#f0f921\"]], \"type\": \"histogram2dcontour\"}], \"mesh3d\": [{\"colorbar\": {\"outlinewidth\": 0, \"ticks\": \"\"}, \"type\": \"mesh3d\"}], \"parcoords\": [{\"line\": {\"colorbar\": {\"outlinewidth\": 0, \"ticks\": \"\"}}, \"type\": \"parcoords\"}], \"pie\": [{\"automargin\": true, \"type\": \"pie\"}], \"scatter\": [{\"marker\": {\"colorbar\": {\"outlinewidth\": 0, \"ticks\": \"\"}}, \"type\": \"scatter\"}], \"scatter3d\": [{\"line\": {\"colorbar\": {\"outlinewidth\": 0, \"ticks\": \"\"}}, \"marker\": {\"colorbar\": {\"outlinewidth\": 0, \"ticks\": \"\"}}, \"type\": \"scatter3d\"}], \"scattercarpet\": [{\"marker\": {\"colorbar\": {\"outlinewidth\": 0, \"ticks\": \"\"}}, \"type\": \"scattercarpet\"}], \"scattergeo\": [{\"marker\": {\"colorbar\": {\"outlinewidth\": 0, \"ticks\": \"\"}}, \"type\": \"scattergeo\"}], \"scattergl\": [{\"marker\": {\"colorbar\": {\"outlinewidth\": 0, \"ticks\": \"\"}}, \"type\": \"scattergl\"}], \"scattermapbox\": [{\"marker\": {\"colorbar\": {\"outlinewidth\": 0, \"ticks\": \"\"}}, \"type\": \"scattermapbox\"}], \"scatterpolar\": [{\"marker\": {\"colorbar\": {\"outlinewidth\": 0, \"ticks\": \"\"}}, \"type\": \"scatterpolar\"}], \"scatterpolargl\": [{\"marker\": {\"colorbar\": {\"outlinewidth\": 0, \"ticks\": \"\"}}, \"type\": \"scatterpolargl\"}], \"scatterternary\": [{\"marker\": {\"colorbar\": {\"outlinewidth\": 0, \"ticks\": \"\"}}, \"type\": \"scatterternary\"}], \"surface\": [{\"colorbar\": {\"outlinewidth\": 0, \"ticks\": \"\"}, \"colorscale\": [[0.0, \"#0d0887\"], [0.1111111111111111, \"#46039f\"], [0.2222222222222222, \"#7201a8\"], [0.3333333333333333, \"#9c179e\"], [0.4444444444444444, \"#bd3786\"], [0.5555555555555556, \"#d8576b\"], [0.6666666666666666, \"#ed7953\"], [0.7777777777777778, \"#fb9f3a\"], [0.8888888888888888, \"#fdca26\"], [1.0, \"#f0f921\"]], \"type\": \"surface\"}], \"table\": [{\"cells\": {\"fill\": {\"color\": \"#EBF0F8\"}, \"line\": {\"color\": \"white\"}}, \"header\": {\"fill\": {\"color\": \"#C8D4E3\"}, \"line\": {\"color\": \"white\"}}, \"type\": \"table\"}]}, \"layout\": {\"annotationdefaults\": {\"arrowcolor\": \"#2a3f5f\", \"arrowhead\": 0, \"arrowwidth\": 1}, \"coloraxis\": {\"colorbar\": {\"outlinewidth\": 0, \"ticks\": \"\"}}, \"colorscale\": {\"diverging\": [[0, \"#8e0152\"], [0.1, \"#c51b7d\"], [0.2, \"#de77ae\"], [0.3, \"#f1b6da\"], [0.4, \"#fde0ef\"], [0.5, \"#f7f7f7\"], [0.6, \"#e6f5d0\"], [0.7, \"#b8e186\"], [0.8, \"#7fbc41\"], [0.9, \"#4d9221\"], [1, \"#276419\"]], \"sequential\": [[0.0, \"#0d0887\"], [0.1111111111111111, \"#46039f\"], [0.2222222222222222, \"#7201a8\"], [0.3333333333333333, \"#9c179e\"], [0.4444444444444444, \"#bd3786\"], [0.5555555555555556, \"#d8576b\"], [0.6666666666666666, \"#ed7953\"], [0.7777777777777778, \"#fb9f3a\"], [0.8888888888888888, \"#fdca26\"], [1.0, \"#f0f921\"]], \"sequentialminus\": [[0.0, \"#0d0887\"], [0.1111111111111111, \"#46039f\"], [0.2222222222222222, \"#7201a8\"], [0.3333333333333333, \"#9c179e\"], [0.4444444444444444, \"#bd3786\"], [0.5555555555555556, \"#d8576b\"], [0.6666666666666666, \"#ed7953\"], [0.7777777777777778, \"#fb9f3a\"], [0.8888888888888888, \"#fdca26\"], [1.0, \"#f0f921\"]]}, \"colorway\": [\"#636efa\", \"#EF553B\", \"#00cc96\", \"#ab63fa\", \"#FFA15A\", \"#19d3f3\", \"#FF6692\", \"#B6E880\", \"#FF97FF\", \"#FECB52\"], \"font\": {\"color\": \"#2a3f5f\"}, \"geo\": {\"bgcolor\": \"white\", \"lakecolor\": \"white\", \"landcolor\": \"#E5ECF6\", \"showlakes\": true, \"showland\": true, \"subunitcolor\": \"white\"}, \"hoverlabel\": {\"align\": \"left\"}, \"hovermode\": \"closest\", \"mapbox\": {\"style\": \"light\"}, \"paper_bgcolor\": \"white\", \"plot_bgcolor\": \"#E5ECF6\", \"polar\": {\"angularaxis\": {\"gridcolor\": \"white\", \"linecolor\": \"white\", \"ticks\": \"\"}, \"bgcolor\": \"#E5ECF6\", \"radialaxis\": {\"gridcolor\": \"white\", \"linecolor\": \"white\", \"ticks\": \"\"}}, \"scene\": {\"xaxis\": {\"backgroundcolor\": \"#E5ECF6\", \"gridcolor\": \"white\", \"gridwidth\": 2, \"linecolor\": \"white\", \"showbackground\": true, \"ticks\": \"\", \"zerolinecolor\": \"white\"}, \"yaxis\": {\"backgroundcolor\": \"#E5ECF6\", \"gridcolor\": \"white\", \"gridwidth\": 2, \"linecolor\": \"white\", \"showbackground\": true, \"ticks\": \"\", \"zerolinecolor\": \"white\"}, \"zaxis\": {\"backgroundcolor\": \"#E5ECF6\", \"gridcolor\": \"white\", \"gridwidth\": 2, \"linecolor\": \"white\", \"showbackground\": true, \"ticks\": \"\", \"zerolinecolor\": \"white\"}}, \"shapedefaults\": {\"line\": {\"color\": \"#2a3f5f\"}}, \"ternary\": {\"aaxis\": {\"gridcolor\": \"white\", \"linecolor\": \"white\", \"ticks\": \"\"}, \"baxis\": {\"gridcolor\": \"white\", \"linecolor\": \"white\", \"ticks\": \"\"}, \"bgcolor\": \"#E5ECF6\", \"caxis\": {\"gridcolor\": \"white\", \"linecolor\": \"white\", \"ticks\": \"\"}}, \"title\": {\"x\": 0.05}, \"xaxis\": {\"automargin\": true, \"gridcolor\": \"white\", \"linecolor\": \"white\", \"ticks\": \"\", \"title\": {\"standoff\": 15}, \"zerolinecolor\": \"white\", \"zerolinewidth\": 2}, \"yaxis\": {\"automargin\": true, \"gridcolor\": \"white\", \"linecolor\": \"white\", \"ticks\": \"\", \"title\": {\"standoff\": 15}, \"zerolinecolor\": \"white\", \"zerolinewidth\": 2}}}},                        {\"responsive\": true}                    ).then(function(){\n",
       "                            \n",
       "var gd = document.getElementById('571de1e1-89d2-47fd-8787-c3b21b294905');\n",
       "var x = new MutationObserver(function (mutations, observer) {{\n",
       "        var display = window.getComputedStyle(gd).display;\n",
       "        if (!display || display === 'none') {{\n",
       "            console.log([gd, 'removed!']);\n",
       "            Plotly.purge(gd);\n",
       "            observer.disconnect();\n",
       "        }}\n",
       "}});\n",
       "\n",
       "// Listen for the removal of the full notebook cells\n",
       "var notebookContainer = gd.closest('#notebook-container');\n",
       "if (notebookContainer) {{\n",
       "    x.observe(notebookContainer, {childList: true});\n",
       "}}\n",
       "\n",
       "// Listen for the clearing of the current output cell\n",
       "var outputEl = gd.closest('.output');\n",
       "if (outputEl) {{\n",
       "    x.observe(outputEl, {childList: true});\n",
       "}}\n",
       "\n",
       "                        })                };                });            </script>        </div>"
      ]
     },
     "metadata": {},
     "output_type": "display_data"
    }
   ],
   "source": [
    "# Pie Chart based on Market Capitalization\n",
    "fig = go.Figure()\n",
    "fig.add_trace(go.Pie(values=tech_comp_list['Market Cap (Billions)'],labels=tech_comp_list['Symbol'], hole=.28, pull=[0.1, 0.1, 0.1, 0.1, 0.1, 0.1, 0.1, 0.1, 0.1, 0.1]))\n",
    "fig.update_traces(textposition='inside', textinfo='percent+label')\n",
    "fig.update_layout(height=800)\n",
    "fig.show()"
   ]
  },
  {
   "cell_type": "markdown",
   "metadata": {},
   "source": [
    "### **iii. Bar Graph for PE Ratio per Company of top 20 IT sector companies**"
   ]
  },
  {
   "cell_type": "markdown",
   "metadata": {},
   "source": [
    "**PE Ratio:** It is the ratio of stock price of a company to the earnings per share of the company. A company's stock is over-valued if its P/E ratio is high or else it can mean that investors are expecting high growth rates in the future. Since one cannot put anything in the denominator,companies that are losing money or have no earnings don't have P/E ratio."
   ]
  },
  {
   "cell_type": "code",
   "execution_count": 40,
   "metadata": {},
   "outputs": [
    {
     "data": {
      "application/vnd.plotly.v1+json": {
       "config": {
        "plotlyServerURL": "https://plot.ly"
       },
       "data": [
        {
         "alignmentgroup": "True",
         "hovertemplate": "Symbol=%{y}<br>PE Ratio=%{x}<extra></extra>",
         "legendgroup": "FTV-PA",
         "marker": {
          "color": "#636efa"
         },
         "name": "FTV-PA",
         "offsetgroup": "FTV-PA",
         "orientation": "h",
         "showlegend": true,
         "textposition": "auto",
         "type": "bar",
         "x": [
          667.1
         ],
         "xaxis": "x",
         "y": [
          "FTV-PA"
         ],
         "yaxis": "y"
        },
        {
         "alignmentgroup": "True",
         "hovertemplate": "Symbol=%{y}<br>PE Ratio=%{x}<extra></extra>",
         "legendgroup": "SHOP",
         "marker": {
          "color": "#EF553B"
         },
         "name": "SHOP",
         "offsetgroup": "SHOP",
         "orientation": "h",
         "showlegend": true,
         "textposition": "auto",
         "type": "bar",
         "x": [
          605.32
         ],
         "xaxis": "x",
         "y": [
          "SHOP"
         ],
         "yaxis": "y"
        },
        {
         "alignmentgroup": "True",
         "hovertemplate": "Symbol=%{y}<br>PE Ratio=%{x}<extra></extra>",
         "legendgroup": "STNE",
         "marker": {
          "color": "#00cc96"
         },
         "name": "STNE",
         "offsetgroup": "STNE",
         "orientation": "h",
         "showlegend": true,
         "textposition": "auto",
         "type": "bar",
         "x": [
          386.54
         ],
         "xaxis": "x",
         "y": [
          "STNE"
         ],
         "yaxis": "y"
        },
        {
         "alignmentgroup": "True",
         "hovertemplate": "Symbol=%{y}<br>PE Ratio=%{x}<extra></extra>",
         "legendgroup": "SQ",
         "marker": {
          "color": "#ab63fa"
         },
         "name": "SQ",
         "offsetgroup": "SQ",
         "orientation": "h",
         "showlegend": true,
         "textposition": "auto",
         "type": "bar",
         "x": [
          315.49
         ],
         "xaxis": "x",
         "y": [
          "SQ"
         ],
         "yaxis": "y"
        },
        {
         "alignmentgroup": "True",
         "hovertemplate": "Symbol=%{y}<br>PE Ratio=%{x}<extra></extra>",
         "legendgroup": "ADSK",
         "marker": {
          "color": "#FFA15A"
         },
         "name": "ADSK",
         "offsetgroup": "ADSK",
         "orientation": "h",
         "showlegend": true,
         "textposition": "auto",
         "type": "bar",
         "x": [
          157.92
         ],
         "xaxis": "x",
         "y": [
          "ADSK"
         ],
         "yaxis": "y"
        },
        {
         "alignmentgroup": "True",
         "hovertemplate": "Symbol=%{y}<br>PE Ratio=%{x}<extra></extra>",
         "legendgroup": "NOW",
         "marker": {
          "color": "#19d3f3"
         },
         "name": "NOW",
         "offsetgroup": "NOW",
         "orientation": "h",
         "showlegend": true,
         "textposition": "auto",
         "type": "bar",
         "x": [
          150.29
         ],
         "xaxis": "x",
         "y": [
          "NOW"
         ],
         "yaxis": "y"
        },
        {
         "alignmentgroup": "True",
         "hovertemplate": "Symbol=%{y}<br>PE Ratio=%{x}<extra></extra>",
         "legendgroup": "GLW",
         "marker": {
          "color": "#FF6692"
         },
         "name": "GLW",
         "offsetgroup": "GLW",
         "orientation": "h",
         "showlegend": true,
         "textposition": "auto",
         "type": "bar",
         "x": [
          143.65
         ],
         "xaxis": "x",
         "y": [
          "GLW"
         ],
         "yaxis": "y"
        },
        {
         "alignmentgroup": "True",
         "hovertemplate": "Symbol=%{y}<br>PE Ratio=%{x}<extra></extra>",
         "legendgroup": "PAYC",
         "marker": {
          "color": "#B6E880"
         },
         "name": "PAYC",
         "offsetgroup": "PAYC",
         "orientation": "h",
         "showlegend": true,
         "textposition": "auto",
         "type": "bar",
         "x": [
          142.88
         ],
         "xaxis": "x",
         "y": [
          "PAYC"
         ],
         "yaxis": "y"
        },
        {
         "alignmentgroup": "True",
         "hovertemplate": "Symbol=%{y}<br>PE Ratio=%{x}<extra></extra>",
         "legendgroup": "STM",
         "marker": {
          "color": "#FF97FF"
         },
         "name": "STM",
         "offsetgroup": "STM",
         "orientation": "h",
         "showlegend": true,
         "textposition": "auto",
         "type": "bar",
         "x": [
          126.72
         ],
         "xaxis": "x",
         "y": [
          "STM"
         ],
         "yaxis": "y"
        },
        {
         "alignmentgroup": "True",
         "hovertemplate": "Symbol=%{y}<br>PE Ratio=%{x}<extra></extra>",
         "legendgroup": "AMD",
         "marker": {
          "color": "#FECB52"
         },
         "name": "AMD",
         "offsetgroup": "AMD",
         "orientation": "h",
         "showlegend": true,
         "textposition": "auto",
         "type": "bar",
         "x": [
          115.6
         ],
         "xaxis": "x",
         "y": [
          "AMD"
         ],
         "yaxis": "y"
        },
        {
         "alignmentgroup": "True",
         "hovertemplate": "Symbol=%{y}<br>PE Ratio=%{x}<extra></extra>",
         "legendgroup": "CRM",
         "marker": {
          "color": "#636efa"
         },
         "name": "CRM",
         "offsetgroup": "CRM",
         "orientation": "h",
         "showlegend": true,
         "textposition": "auto",
         "type": "bar",
         "x": [
          99.44
         ],
         "xaxis": "x",
         "y": [
          "CRM"
         ],
         "yaxis": "y"
        },
        {
         "alignmentgroup": "True",
         "hovertemplate": "Symbol=%{y}<br>PE Ratio=%{x}<extra></extra>",
         "legendgroup": "TYL",
         "marker": {
          "color": "#EF553B"
         },
         "name": "TYL",
         "offsetgroup": "TYL",
         "orientation": "h",
         "showlegend": true,
         "textposition": "auto",
         "type": "bar",
         "x": [
          90.94
         ],
         "xaxis": "x",
         "y": [
          "TYL"
         ],
         "yaxis": "y"
        },
        {
         "alignmentgroup": "True",
         "hovertemplate": "Symbol=%{y}<br>PE Ratio=%{x}<extra></extra>",
         "legendgroup": "NVDA",
         "marker": {
          "color": "#00cc96"
         },
         "name": "NVDA",
         "offsetgroup": "NVDA",
         "orientation": "h",
         "showlegend": true,
         "textposition": "auto",
         "type": "bar",
         "x": [
          85.92
         ],
         "xaxis": "x",
         "y": [
          "NVDA"
         ],
         "yaxis": "y"
        },
        {
         "alignmentgroup": "True",
         "hovertemplate": "Symbol=%{y}<br>PE Ratio=%{x}<extra></extra>",
         "legendgroup": "FISV",
         "marker": {
          "color": "#ab63fa"
         },
         "name": "FISV",
         "offsetgroup": "FISV",
         "orientation": "h",
         "showlegend": true,
         "textposition": "auto",
         "type": "bar",
         "x": [
          85.18
         ],
         "xaxis": "x",
         "y": [
          "FISV"
         ],
         "yaxis": "y"
        },
        {
         "alignmentgroup": "True",
         "hovertemplate": "Symbol=%{y}<br>PE Ratio=%{x}<extra></extra>",
         "legendgroup": "AVGO",
         "marker": {
          "color": "#FFA15A"
         },
         "name": "AVGO",
         "offsetgroup": "AVGO",
         "orientation": "h",
         "showlegend": true,
         "textposition": "auto",
         "type": "bar",
         "x": [
          72.68
         ],
         "xaxis": "x",
         "y": [
          "AVGO"
         ],
         "yaxis": "y"
        },
        {
         "alignmentgroup": "True",
         "hovertemplate": "Symbol=%{y}<br>PE Ratio=%{x}<extra></extra>",
         "legendgroup": "ANSS",
         "marker": {
          "color": "#19d3f3"
         },
         "name": "ANSS",
         "offsetgroup": "ANSS",
         "orientation": "h",
         "showlegend": true,
         "textposition": "auto",
         "type": "bar",
         "x": [
          71.25
         ],
         "xaxis": "x",
         "y": [
          "ANSS"
         ],
         "yaxis": "y"
        },
        {
         "alignmentgroup": "True",
         "hovertemplate": "Symbol=%{y}<br>PE Ratio=%{x}<extra></extra>",
         "legendgroup": "EPAM",
         "marker": {
          "color": "#FF6692"
         },
         "name": "EPAM",
         "offsetgroup": "EPAM",
         "orientation": "h",
         "showlegend": true,
         "textposition": "auto",
         "type": "bar",
         "x": [
          61.83
         ],
         "xaxis": "x",
         "y": [
          "EPAM"
         ],
         "yaxis": "y"
        },
        {
         "alignmentgroup": "True",
         "hovertemplate": "Symbol=%{y}<br>PE Ratio=%{x}<extra></extra>",
         "legendgroup": "ASML",
         "marker": {
          "color": "#B6E880"
         },
         "name": "ASML",
         "offsetgroup": "ASML",
         "orientation": "h",
         "showlegend": true,
         "textposition": "auto",
         "type": "bar",
         "x": [
          61.38
         ],
         "xaxis": "x",
         "y": [
          "ASML"
         ],
         "yaxis": "y"
        },
        {
         "alignmentgroup": "True",
         "hovertemplate": "Symbol=%{y}<br>PE Ratio=%{x}<extra></extra>",
         "legendgroup": "ADBE",
         "marker": {
          "color": "#FF97FF"
         },
         "name": "ADBE",
         "offsetgroup": "ADBE",
         "orientation": "h",
         "showlegend": true,
         "textposition": "auto",
         "type": "bar",
         "x": [
          58.01
         ],
         "xaxis": "x",
         "y": [
          "ADBE"
         ],
         "yaxis": "y"
        },
        {
         "alignmentgroup": "True",
         "hovertemplate": "Symbol=%{y}<br>PE Ratio=%{x}<extra></extra>",
         "legendgroup": "MCHP",
         "marker": {
          "color": "#FECB52"
         },
         "name": "MCHP",
         "offsetgroup": "MCHP",
         "orientation": "h",
         "showlegend": true,
         "textposition": "auto",
         "type": "bar",
         "x": [
          56.34
         ],
         "xaxis": "x",
         "y": [
          "MCHP"
         ],
         "yaxis": "y"
        }
       ],
       "layout": {
        "barmode": "relative",
        "legend": {
         "title": {
          "text": "Symbol"
         },
         "tracegroupgap": 0
        },
        "showlegend": false,
        "template": {
         "data": {
          "bar": [
           {
            "error_x": {
             "color": "#2a3f5f"
            },
            "error_y": {
             "color": "#2a3f5f"
            },
            "marker": {
             "line": {
              "color": "#E5ECF6",
              "width": 0.5
             }
            },
            "type": "bar"
           }
          ],
          "barpolar": [
           {
            "marker": {
             "line": {
              "color": "#E5ECF6",
              "width": 0.5
             }
            },
            "type": "barpolar"
           }
          ],
          "carpet": [
           {
            "aaxis": {
             "endlinecolor": "#2a3f5f",
             "gridcolor": "white",
             "linecolor": "white",
             "minorgridcolor": "white",
             "startlinecolor": "#2a3f5f"
            },
            "baxis": {
             "endlinecolor": "#2a3f5f",
             "gridcolor": "white",
             "linecolor": "white",
             "minorgridcolor": "white",
             "startlinecolor": "#2a3f5f"
            },
            "type": "carpet"
           }
          ],
          "choropleth": [
           {
            "colorbar": {
             "outlinewidth": 0,
             "ticks": ""
            },
            "type": "choropleth"
           }
          ],
          "contour": [
           {
            "colorbar": {
             "outlinewidth": 0,
             "ticks": ""
            },
            "colorscale": [
             [
              0,
              "#0d0887"
             ],
             [
              0.1111111111111111,
              "#46039f"
             ],
             [
              0.2222222222222222,
              "#7201a8"
             ],
             [
              0.3333333333333333,
              "#9c179e"
             ],
             [
              0.4444444444444444,
              "#bd3786"
             ],
             [
              0.5555555555555556,
              "#d8576b"
             ],
             [
              0.6666666666666666,
              "#ed7953"
             ],
             [
              0.7777777777777778,
              "#fb9f3a"
             ],
             [
              0.8888888888888888,
              "#fdca26"
             ],
             [
              1,
              "#f0f921"
             ]
            ],
            "type": "contour"
           }
          ],
          "contourcarpet": [
           {
            "colorbar": {
             "outlinewidth": 0,
             "ticks": ""
            },
            "type": "contourcarpet"
           }
          ],
          "heatmap": [
           {
            "colorbar": {
             "outlinewidth": 0,
             "ticks": ""
            },
            "colorscale": [
             [
              0,
              "#0d0887"
             ],
             [
              0.1111111111111111,
              "#46039f"
             ],
             [
              0.2222222222222222,
              "#7201a8"
             ],
             [
              0.3333333333333333,
              "#9c179e"
             ],
             [
              0.4444444444444444,
              "#bd3786"
             ],
             [
              0.5555555555555556,
              "#d8576b"
             ],
             [
              0.6666666666666666,
              "#ed7953"
             ],
             [
              0.7777777777777778,
              "#fb9f3a"
             ],
             [
              0.8888888888888888,
              "#fdca26"
             ],
             [
              1,
              "#f0f921"
             ]
            ],
            "type": "heatmap"
           }
          ],
          "heatmapgl": [
           {
            "colorbar": {
             "outlinewidth": 0,
             "ticks": ""
            },
            "colorscale": [
             [
              0,
              "#0d0887"
             ],
             [
              0.1111111111111111,
              "#46039f"
             ],
             [
              0.2222222222222222,
              "#7201a8"
             ],
             [
              0.3333333333333333,
              "#9c179e"
             ],
             [
              0.4444444444444444,
              "#bd3786"
             ],
             [
              0.5555555555555556,
              "#d8576b"
             ],
             [
              0.6666666666666666,
              "#ed7953"
             ],
             [
              0.7777777777777778,
              "#fb9f3a"
             ],
             [
              0.8888888888888888,
              "#fdca26"
             ],
             [
              1,
              "#f0f921"
             ]
            ],
            "type": "heatmapgl"
           }
          ],
          "histogram": [
           {
            "marker": {
             "colorbar": {
              "outlinewidth": 0,
              "ticks": ""
             }
            },
            "type": "histogram"
           }
          ],
          "histogram2d": [
           {
            "colorbar": {
             "outlinewidth": 0,
             "ticks": ""
            },
            "colorscale": [
             [
              0,
              "#0d0887"
             ],
             [
              0.1111111111111111,
              "#46039f"
             ],
             [
              0.2222222222222222,
              "#7201a8"
             ],
             [
              0.3333333333333333,
              "#9c179e"
             ],
             [
              0.4444444444444444,
              "#bd3786"
             ],
             [
              0.5555555555555556,
              "#d8576b"
             ],
             [
              0.6666666666666666,
              "#ed7953"
             ],
             [
              0.7777777777777778,
              "#fb9f3a"
             ],
             [
              0.8888888888888888,
              "#fdca26"
             ],
             [
              1,
              "#f0f921"
             ]
            ],
            "type": "histogram2d"
           }
          ],
          "histogram2dcontour": [
           {
            "colorbar": {
             "outlinewidth": 0,
             "ticks": ""
            },
            "colorscale": [
             [
              0,
              "#0d0887"
             ],
             [
              0.1111111111111111,
              "#46039f"
             ],
             [
              0.2222222222222222,
              "#7201a8"
             ],
             [
              0.3333333333333333,
              "#9c179e"
             ],
             [
              0.4444444444444444,
              "#bd3786"
             ],
             [
              0.5555555555555556,
              "#d8576b"
             ],
             [
              0.6666666666666666,
              "#ed7953"
             ],
             [
              0.7777777777777778,
              "#fb9f3a"
             ],
             [
              0.8888888888888888,
              "#fdca26"
             ],
             [
              1,
              "#f0f921"
             ]
            ],
            "type": "histogram2dcontour"
           }
          ],
          "mesh3d": [
           {
            "colorbar": {
             "outlinewidth": 0,
             "ticks": ""
            },
            "type": "mesh3d"
           }
          ],
          "parcoords": [
           {
            "line": {
             "colorbar": {
              "outlinewidth": 0,
              "ticks": ""
             }
            },
            "type": "parcoords"
           }
          ],
          "pie": [
           {
            "automargin": true,
            "type": "pie"
           }
          ],
          "scatter": [
           {
            "marker": {
             "colorbar": {
              "outlinewidth": 0,
              "ticks": ""
             }
            },
            "type": "scatter"
           }
          ],
          "scatter3d": [
           {
            "line": {
             "colorbar": {
              "outlinewidth": 0,
              "ticks": ""
             }
            },
            "marker": {
             "colorbar": {
              "outlinewidth": 0,
              "ticks": ""
             }
            },
            "type": "scatter3d"
           }
          ],
          "scattercarpet": [
           {
            "marker": {
             "colorbar": {
              "outlinewidth": 0,
              "ticks": ""
             }
            },
            "type": "scattercarpet"
           }
          ],
          "scattergeo": [
           {
            "marker": {
             "colorbar": {
              "outlinewidth": 0,
              "ticks": ""
             }
            },
            "type": "scattergeo"
           }
          ],
          "scattergl": [
           {
            "marker": {
             "colorbar": {
              "outlinewidth": 0,
              "ticks": ""
             }
            },
            "type": "scattergl"
           }
          ],
          "scattermapbox": [
           {
            "marker": {
             "colorbar": {
              "outlinewidth": 0,
              "ticks": ""
             }
            },
            "type": "scattermapbox"
           }
          ],
          "scatterpolar": [
           {
            "marker": {
             "colorbar": {
              "outlinewidth": 0,
              "ticks": ""
             }
            },
            "type": "scatterpolar"
           }
          ],
          "scatterpolargl": [
           {
            "marker": {
             "colorbar": {
              "outlinewidth": 0,
              "ticks": ""
             }
            },
            "type": "scatterpolargl"
           }
          ],
          "scatterternary": [
           {
            "marker": {
             "colorbar": {
              "outlinewidth": 0,
              "ticks": ""
             }
            },
            "type": "scatterternary"
           }
          ],
          "surface": [
           {
            "colorbar": {
             "outlinewidth": 0,
             "ticks": ""
            },
            "colorscale": [
             [
              0,
              "#0d0887"
             ],
             [
              0.1111111111111111,
              "#46039f"
             ],
             [
              0.2222222222222222,
              "#7201a8"
             ],
             [
              0.3333333333333333,
              "#9c179e"
             ],
             [
              0.4444444444444444,
              "#bd3786"
             ],
             [
              0.5555555555555556,
              "#d8576b"
             ],
             [
              0.6666666666666666,
              "#ed7953"
             ],
             [
              0.7777777777777778,
              "#fb9f3a"
             ],
             [
              0.8888888888888888,
              "#fdca26"
             ],
             [
              1,
              "#f0f921"
             ]
            ],
            "type": "surface"
           }
          ],
          "table": [
           {
            "cells": {
             "fill": {
              "color": "#EBF0F8"
             },
             "line": {
              "color": "white"
             }
            },
            "header": {
             "fill": {
              "color": "#C8D4E3"
             },
             "line": {
              "color": "white"
             }
            },
            "type": "table"
           }
          ]
         },
         "layout": {
          "annotationdefaults": {
           "arrowcolor": "#2a3f5f",
           "arrowhead": 0,
           "arrowwidth": 1
          },
          "coloraxis": {
           "colorbar": {
            "outlinewidth": 0,
            "ticks": ""
           }
          },
          "colorscale": {
           "diverging": [
            [
             0,
             "#8e0152"
            ],
            [
             0.1,
             "#c51b7d"
            ],
            [
             0.2,
             "#de77ae"
            ],
            [
             0.3,
             "#f1b6da"
            ],
            [
             0.4,
             "#fde0ef"
            ],
            [
             0.5,
             "#f7f7f7"
            ],
            [
             0.6,
             "#e6f5d0"
            ],
            [
             0.7,
             "#b8e186"
            ],
            [
             0.8,
             "#7fbc41"
            ],
            [
             0.9,
             "#4d9221"
            ],
            [
             1,
             "#276419"
            ]
           ],
           "sequential": [
            [
             0,
             "#0d0887"
            ],
            [
             0.1111111111111111,
             "#46039f"
            ],
            [
             0.2222222222222222,
             "#7201a8"
            ],
            [
             0.3333333333333333,
             "#9c179e"
            ],
            [
             0.4444444444444444,
             "#bd3786"
            ],
            [
             0.5555555555555556,
             "#d8576b"
            ],
            [
             0.6666666666666666,
             "#ed7953"
            ],
            [
             0.7777777777777778,
             "#fb9f3a"
            ],
            [
             0.8888888888888888,
             "#fdca26"
            ],
            [
             1,
             "#f0f921"
            ]
           ],
           "sequentialminus": [
            [
             0,
             "#0d0887"
            ],
            [
             0.1111111111111111,
             "#46039f"
            ],
            [
             0.2222222222222222,
             "#7201a8"
            ],
            [
             0.3333333333333333,
             "#9c179e"
            ],
            [
             0.4444444444444444,
             "#bd3786"
            ],
            [
             0.5555555555555556,
             "#d8576b"
            ],
            [
             0.6666666666666666,
             "#ed7953"
            ],
            [
             0.7777777777777778,
             "#fb9f3a"
            ],
            [
             0.8888888888888888,
             "#fdca26"
            ],
            [
             1,
             "#f0f921"
            ]
           ]
          },
          "colorway": [
           "#636efa",
           "#EF553B",
           "#00cc96",
           "#ab63fa",
           "#FFA15A",
           "#19d3f3",
           "#FF6692",
           "#B6E880",
           "#FF97FF",
           "#FECB52"
          ],
          "font": {
           "color": "#2a3f5f"
          },
          "geo": {
           "bgcolor": "white",
           "lakecolor": "white",
           "landcolor": "#E5ECF6",
           "showlakes": true,
           "showland": true,
           "subunitcolor": "white"
          },
          "hoverlabel": {
           "align": "left"
          },
          "hovermode": "closest",
          "mapbox": {
           "style": "light"
          },
          "paper_bgcolor": "white",
          "plot_bgcolor": "#E5ECF6",
          "polar": {
           "angularaxis": {
            "gridcolor": "white",
            "linecolor": "white",
            "ticks": ""
           },
           "bgcolor": "#E5ECF6",
           "radialaxis": {
            "gridcolor": "white",
            "linecolor": "white",
            "ticks": ""
           }
          },
          "scene": {
           "xaxis": {
            "backgroundcolor": "#E5ECF6",
            "gridcolor": "white",
            "gridwidth": 2,
            "linecolor": "white",
            "showbackground": true,
            "ticks": "",
            "zerolinecolor": "white"
           },
           "yaxis": {
            "backgroundcolor": "#E5ECF6",
            "gridcolor": "white",
            "gridwidth": 2,
            "linecolor": "white",
            "showbackground": true,
            "ticks": "",
            "zerolinecolor": "white"
           },
           "zaxis": {
            "backgroundcolor": "#E5ECF6",
            "gridcolor": "white",
            "gridwidth": 2,
            "linecolor": "white",
            "showbackground": true,
            "ticks": "",
            "zerolinecolor": "white"
           }
          },
          "shapedefaults": {
           "line": {
            "color": "#2a3f5f"
           }
          },
          "ternary": {
           "aaxis": {
            "gridcolor": "white",
            "linecolor": "white",
            "ticks": ""
           },
           "baxis": {
            "gridcolor": "white",
            "linecolor": "white",
            "ticks": ""
           },
           "bgcolor": "#E5ECF6",
           "caxis": {
            "gridcolor": "white",
            "linecolor": "white",
            "ticks": ""
           }
          },
          "title": {
           "x": 0.05
          },
          "xaxis": {
           "automargin": true,
           "gridcolor": "white",
           "linecolor": "white",
           "ticks": "",
           "title": {
            "standoff": 15
           },
           "zerolinecolor": "white",
           "zerolinewidth": 2
          },
          "yaxis": {
           "automargin": true,
           "gridcolor": "white",
           "linecolor": "white",
           "ticks": "",
           "title": {
            "standoff": 15
           },
           "zerolinecolor": "white",
           "zerolinewidth": 2
          }
         }
        },
        "title": {
         "text": "PE Ratio per Company of Top 20 Tech Stocks"
        },
        "xaxis": {
         "anchor": "y",
         "domain": [
          0,
          1
         ],
         "title": {
          "text": "PE Ratio"
         }
        },
        "yaxis": {
         "anchor": "x",
         "categoryarray": [
          "MCHP",
          "ADBE",
          "ASML",
          "EPAM",
          "ANSS",
          "AVGO",
          "FISV",
          "NVDA",
          "TYL",
          "CRM",
          "AMD",
          "STM",
          "PAYC",
          "GLW",
          "NOW",
          "ADSK",
          "SQ",
          "STNE",
          "SHOP",
          "FTV-PA"
         ],
         "categoryorder": "array",
         "domain": [
          0,
          1
         ],
         "title": {
          "text": "Symbol"
         }
        }
       }
      },
      "text/html": [
       "<div>                            <div id=\"3c5843fa-96e5-488e-b795-9e0277e28a3d\" class=\"plotly-graph-div\" style=\"height:525px; width:100%;\"></div>            <script type=\"text/javascript\">                require([\"plotly\"], function(Plotly) {                    window.PLOTLYENV=window.PLOTLYENV || {};                                    if (document.getElementById(\"3c5843fa-96e5-488e-b795-9e0277e28a3d\")) {                    Plotly.newPlot(                        \"3c5843fa-96e5-488e-b795-9e0277e28a3d\",                        [{\"alignmentgroup\": \"True\", \"hovertemplate\": \"Symbol=%{y}<br>PE Ratio=%{x}<extra></extra>\", \"legendgroup\": \"FTV-PA\", \"marker\": {\"color\": \"#636efa\"}, \"name\": \"FTV-PA\", \"offsetgroup\": \"FTV-PA\", \"orientation\": \"h\", \"showlegend\": true, \"textposition\": \"auto\", \"type\": \"bar\", \"x\": [667.1], \"xaxis\": \"x\", \"y\": [\"FTV-PA\"], \"yaxis\": \"y\"}, {\"alignmentgroup\": \"True\", \"hovertemplate\": \"Symbol=%{y}<br>PE Ratio=%{x}<extra></extra>\", \"legendgroup\": \"SHOP\", \"marker\": {\"color\": \"#EF553B\"}, \"name\": \"SHOP\", \"offsetgroup\": \"SHOP\", \"orientation\": \"h\", \"showlegend\": true, \"textposition\": \"auto\", \"type\": \"bar\", \"x\": [605.32], \"xaxis\": \"x\", \"y\": [\"SHOP\"], \"yaxis\": \"y\"}, {\"alignmentgroup\": \"True\", \"hovertemplate\": \"Symbol=%{y}<br>PE Ratio=%{x}<extra></extra>\", \"legendgroup\": \"STNE\", \"marker\": {\"color\": \"#00cc96\"}, \"name\": \"STNE\", \"offsetgroup\": \"STNE\", \"orientation\": \"h\", \"showlegend\": true, \"textposition\": \"auto\", \"type\": \"bar\", \"x\": [386.54], \"xaxis\": \"x\", \"y\": [\"STNE\"], \"yaxis\": \"y\"}, {\"alignmentgroup\": \"True\", \"hovertemplate\": \"Symbol=%{y}<br>PE Ratio=%{x}<extra></extra>\", \"legendgroup\": \"SQ\", \"marker\": {\"color\": \"#ab63fa\"}, \"name\": \"SQ\", \"offsetgroup\": \"SQ\", \"orientation\": \"h\", \"showlegend\": true, \"textposition\": \"auto\", \"type\": \"bar\", \"x\": [315.49], \"xaxis\": \"x\", \"y\": [\"SQ\"], \"yaxis\": \"y\"}, {\"alignmentgroup\": \"True\", \"hovertemplate\": \"Symbol=%{y}<br>PE Ratio=%{x}<extra></extra>\", \"legendgroup\": \"ADSK\", \"marker\": {\"color\": \"#FFA15A\"}, \"name\": \"ADSK\", \"offsetgroup\": \"ADSK\", \"orientation\": \"h\", \"showlegend\": true, \"textposition\": \"auto\", \"type\": \"bar\", \"x\": [157.92], \"xaxis\": \"x\", \"y\": [\"ADSK\"], \"yaxis\": \"y\"}, {\"alignmentgroup\": \"True\", \"hovertemplate\": \"Symbol=%{y}<br>PE Ratio=%{x}<extra></extra>\", \"legendgroup\": \"NOW\", \"marker\": {\"color\": \"#19d3f3\"}, \"name\": \"NOW\", \"offsetgroup\": \"NOW\", \"orientation\": \"h\", \"showlegend\": true, \"textposition\": \"auto\", \"type\": \"bar\", \"x\": [150.29], \"xaxis\": \"x\", \"y\": [\"NOW\"], \"yaxis\": \"y\"}, {\"alignmentgroup\": \"True\", \"hovertemplate\": \"Symbol=%{y}<br>PE Ratio=%{x}<extra></extra>\", \"legendgroup\": \"GLW\", \"marker\": {\"color\": \"#FF6692\"}, \"name\": \"GLW\", \"offsetgroup\": \"GLW\", \"orientation\": \"h\", \"showlegend\": true, \"textposition\": \"auto\", \"type\": \"bar\", \"x\": [143.65], \"xaxis\": \"x\", \"y\": [\"GLW\"], \"yaxis\": \"y\"}, {\"alignmentgroup\": \"True\", \"hovertemplate\": \"Symbol=%{y}<br>PE Ratio=%{x}<extra></extra>\", \"legendgroup\": \"PAYC\", \"marker\": {\"color\": \"#B6E880\"}, \"name\": \"PAYC\", \"offsetgroup\": \"PAYC\", \"orientation\": \"h\", \"showlegend\": true, \"textposition\": \"auto\", \"type\": \"bar\", \"x\": [142.88], \"xaxis\": \"x\", \"y\": [\"PAYC\"], \"yaxis\": \"y\"}, {\"alignmentgroup\": \"True\", \"hovertemplate\": \"Symbol=%{y}<br>PE Ratio=%{x}<extra></extra>\", \"legendgroup\": \"STM\", \"marker\": {\"color\": \"#FF97FF\"}, \"name\": \"STM\", \"offsetgroup\": \"STM\", \"orientation\": \"h\", \"showlegend\": true, \"textposition\": \"auto\", \"type\": \"bar\", \"x\": [126.72], \"xaxis\": \"x\", \"y\": [\"STM\"], \"yaxis\": \"y\"}, {\"alignmentgroup\": \"True\", \"hovertemplate\": \"Symbol=%{y}<br>PE Ratio=%{x}<extra></extra>\", \"legendgroup\": \"AMD\", \"marker\": {\"color\": \"#FECB52\"}, \"name\": \"AMD\", \"offsetgroup\": \"AMD\", \"orientation\": \"h\", \"showlegend\": true, \"textposition\": \"auto\", \"type\": \"bar\", \"x\": [115.6], \"xaxis\": \"x\", \"y\": [\"AMD\"], \"yaxis\": \"y\"}, {\"alignmentgroup\": \"True\", \"hovertemplate\": \"Symbol=%{y}<br>PE Ratio=%{x}<extra></extra>\", \"legendgroup\": \"CRM\", \"marker\": {\"color\": \"#636efa\"}, \"name\": \"CRM\", \"offsetgroup\": \"CRM\", \"orientation\": \"h\", \"showlegend\": true, \"textposition\": \"auto\", \"type\": \"bar\", \"x\": [99.44], \"xaxis\": \"x\", \"y\": [\"CRM\"], \"yaxis\": \"y\"}, {\"alignmentgroup\": \"True\", \"hovertemplate\": \"Symbol=%{y}<br>PE Ratio=%{x}<extra></extra>\", \"legendgroup\": \"TYL\", \"marker\": {\"color\": \"#EF553B\"}, \"name\": \"TYL\", \"offsetgroup\": \"TYL\", \"orientation\": \"h\", \"showlegend\": true, \"textposition\": \"auto\", \"type\": \"bar\", \"x\": [90.94], \"xaxis\": \"x\", \"y\": [\"TYL\"], \"yaxis\": \"y\"}, {\"alignmentgroup\": \"True\", \"hovertemplate\": \"Symbol=%{y}<br>PE Ratio=%{x}<extra></extra>\", \"legendgroup\": \"NVDA\", \"marker\": {\"color\": \"#00cc96\"}, \"name\": \"NVDA\", \"offsetgroup\": \"NVDA\", \"orientation\": \"h\", \"showlegend\": true, \"textposition\": \"auto\", \"type\": \"bar\", \"x\": [85.92], \"xaxis\": \"x\", \"y\": [\"NVDA\"], \"yaxis\": \"y\"}, {\"alignmentgroup\": \"True\", \"hovertemplate\": \"Symbol=%{y}<br>PE Ratio=%{x}<extra></extra>\", \"legendgroup\": \"FISV\", \"marker\": {\"color\": \"#ab63fa\"}, \"name\": \"FISV\", \"offsetgroup\": \"FISV\", \"orientation\": \"h\", \"showlegend\": true, \"textposition\": \"auto\", \"type\": \"bar\", \"x\": [85.18], \"xaxis\": \"x\", \"y\": [\"FISV\"], \"yaxis\": \"y\"}, {\"alignmentgroup\": \"True\", \"hovertemplate\": \"Symbol=%{y}<br>PE Ratio=%{x}<extra></extra>\", \"legendgroup\": \"AVGO\", \"marker\": {\"color\": \"#FFA15A\"}, \"name\": \"AVGO\", \"offsetgroup\": \"AVGO\", \"orientation\": \"h\", \"showlegend\": true, \"textposition\": \"auto\", \"type\": \"bar\", \"x\": [72.68], \"xaxis\": \"x\", \"y\": [\"AVGO\"], \"yaxis\": \"y\"}, {\"alignmentgroup\": \"True\", \"hovertemplate\": \"Symbol=%{y}<br>PE Ratio=%{x}<extra></extra>\", \"legendgroup\": \"ANSS\", \"marker\": {\"color\": \"#19d3f3\"}, \"name\": \"ANSS\", \"offsetgroup\": \"ANSS\", \"orientation\": \"h\", \"showlegend\": true, \"textposition\": \"auto\", \"type\": \"bar\", \"x\": [71.25], \"xaxis\": \"x\", \"y\": [\"ANSS\"], \"yaxis\": \"y\"}, {\"alignmentgroup\": \"True\", \"hovertemplate\": \"Symbol=%{y}<br>PE Ratio=%{x}<extra></extra>\", \"legendgroup\": \"EPAM\", \"marker\": {\"color\": \"#FF6692\"}, \"name\": \"EPAM\", \"offsetgroup\": \"EPAM\", \"orientation\": \"h\", \"showlegend\": true, \"textposition\": \"auto\", \"type\": \"bar\", \"x\": [61.83], \"xaxis\": \"x\", \"y\": [\"EPAM\"], \"yaxis\": \"y\"}, {\"alignmentgroup\": \"True\", \"hovertemplate\": \"Symbol=%{y}<br>PE Ratio=%{x}<extra></extra>\", \"legendgroup\": \"ASML\", \"marker\": {\"color\": \"#B6E880\"}, \"name\": \"ASML\", \"offsetgroup\": \"ASML\", \"orientation\": \"h\", \"showlegend\": true, \"textposition\": \"auto\", \"type\": \"bar\", \"x\": [61.38], \"xaxis\": \"x\", \"y\": [\"ASML\"], \"yaxis\": \"y\"}, {\"alignmentgroup\": \"True\", \"hovertemplate\": \"Symbol=%{y}<br>PE Ratio=%{x}<extra></extra>\", \"legendgroup\": \"ADBE\", \"marker\": {\"color\": \"#FF97FF\"}, \"name\": \"ADBE\", \"offsetgroup\": \"ADBE\", \"orientation\": \"h\", \"showlegend\": true, \"textposition\": \"auto\", \"type\": \"bar\", \"x\": [58.01], \"xaxis\": \"x\", \"y\": [\"ADBE\"], \"yaxis\": \"y\"}, {\"alignmentgroup\": \"True\", \"hovertemplate\": \"Symbol=%{y}<br>PE Ratio=%{x}<extra></extra>\", \"legendgroup\": \"MCHP\", \"marker\": {\"color\": \"#FECB52\"}, \"name\": \"MCHP\", \"offsetgroup\": \"MCHP\", \"orientation\": \"h\", \"showlegend\": true, \"textposition\": \"auto\", \"type\": \"bar\", \"x\": [56.34], \"xaxis\": \"x\", \"y\": [\"MCHP\"], \"yaxis\": \"y\"}],                        {\"barmode\": \"relative\", \"legend\": {\"title\": {\"text\": \"Symbol\"}, \"tracegroupgap\": 0}, \"showlegend\": false, \"template\": {\"data\": {\"bar\": [{\"error_x\": {\"color\": \"#2a3f5f\"}, \"error_y\": {\"color\": \"#2a3f5f\"}, \"marker\": {\"line\": {\"color\": \"#E5ECF6\", \"width\": 0.5}}, \"type\": \"bar\"}], \"barpolar\": [{\"marker\": {\"line\": {\"color\": \"#E5ECF6\", \"width\": 0.5}}, \"type\": \"barpolar\"}], \"carpet\": [{\"aaxis\": {\"endlinecolor\": \"#2a3f5f\", \"gridcolor\": \"white\", \"linecolor\": \"white\", \"minorgridcolor\": \"white\", \"startlinecolor\": \"#2a3f5f\"}, \"baxis\": {\"endlinecolor\": \"#2a3f5f\", \"gridcolor\": \"white\", \"linecolor\": \"white\", \"minorgridcolor\": \"white\", \"startlinecolor\": \"#2a3f5f\"}, \"type\": \"carpet\"}], \"choropleth\": [{\"colorbar\": {\"outlinewidth\": 0, \"ticks\": \"\"}, \"type\": \"choropleth\"}], \"contour\": [{\"colorbar\": {\"outlinewidth\": 0, \"ticks\": \"\"}, \"colorscale\": [[0.0, \"#0d0887\"], [0.1111111111111111, \"#46039f\"], [0.2222222222222222, \"#7201a8\"], [0.3333333333333333, \"#9c179e\"], [0.4444444444444444, \"#bd3786\"], [0.5555555555555556, \"#d8576b\"], [0.6666666666666666, \"#ed7953\"], [0.7777777777777778, \"#fb9f3a\"], [0.8888888888888888, \"#fdca26\"], [1.0, \"#f0f921\"]], \"type\": \"contour\"}], \"contourcarpet\": [{\"colorbar\": {\"outlinewidth\": 0, \"ticks\": \"\"}, \"type\": \"contourcarpet\"}], \"heatmap\": [{\"colorbar\": {\"outlinewidth\": 0, \"ticks\": \"\"}, \"colorscale\": [[0.0, \"#0d0887\"], [0.1111111111111111, \"#46039f\"], [0.2222222222222222, \"#7201a8\"], [0.3333333333333333, \"#9c179e\"], [0.4444444444444444, \"#bd3786\"], [0.5555555555555556, \"#d8576b\"], [0.6666666666666666, \"#ed7953\"], [0.7777777777777778, \"#fb9f3a\"], [0.8888888888888888, \"#fdca26\"], [1.0, \"#f0f921\"]], \"type\": \"heatmap\"}], \"heatmapgl\": [{\"colorbar\": {\"outlinewidth\": 0, \"ticks\": \"\"}, \"colorscale\": [[0.0, \"#0d0887\"], [0.1111111111111111, \"#46039f\"], [0.2222222222222222, \"#7201a8\"], [0.3333333333333333, \"#9c179e\"], [0.4444444444444444, \"#bd3786\"], [0.5555555555555556, \"#d8576b\"], [0.6666666666666666, \"#ed7953\"], [0.7777777777777778, \"#fb9f3a\"], [0.8888888888888888, \"#fdca26\"], [1.0, \"#f0f921\"]], \"type\": \"heatmapgl\"}], \"histogram\": [{\"marker\": {\"colorbar\": {\"outlinewidth\": 0, \"ticks\": \"\"}}, \"type\": \"histogram\"}], \"histogram2d\": [{\"colorbar\": {\"outlinewidth\": 0, \"ticks\": \"\"}, \"colorscale\": [[0.0, \"#0d0887\"], [0.1111111111111111, \"#46039f\"], [0.2222222222222222, \"#7201a8\"], [0.3333333333333333, \"#9c179e\"], [0.4444444444444444, \"#bd3786\"], [0.5555555555555556, \"#d8576b\"], [0.6666666666666666, \"#ed7953\"], [0.7777777777777778, \"#fb9f3a\"], [0.8888888888888888, \"#fdca26\"], [1.0, \"#f0f921\"]], \"type\": \"histogram2d\"}], \"histogram2dcontour\": [{\"colorbar\": {\"outlinewidth\": 0, \"ticks\": \"\"}, \"colorscale\": [[0.0, \"#0d0887\"], [0.1111111111111111, \"#46039f\"], [0.2222222222222222, \"#7201a8\"], [0.3333333333333333, \"#9c179e\"], [0.4444444444444444, \"#bd3786\"], [0.5555555555555556, \"#d8576b\"], [0.6666666666666666, \"#ed7953\"], [0.7777777777777778, \"#fb9f3a\"], [0.8888888888888888, \"#fdca26\"], [1.0, \"#f0f921\"]], \"type\": \"histogram2dcontour\"}], \"mesh3d\": [{\"colorbar\": {\"outlinewidth\": 0, \"ticks\": \"\"}, \"type\": \"mesh3d\"}], \"parcoords\": [{\"line\": {\"colorbar\": {\"outlinewidth\": 0, \"ticks\": \"\"}}, \"type\": \"parcoords\"}], \"pie\": [{\"automargin\": true, \"type\": \"pie\"}], \"scatter\": [{\"marker\": {\"colorbar\": {\"outlinewidth\": 0, \"ticks\": \"\"}}, \"type\": \"scatter\"}], \"scatter3d\": [{\"line\": {\"colorbar\": {\"outlinewidth\": 0, \"ticks\": \"\"}}, \"marker\": {\"colorbar\": {\"outlinewidth\": 0, \"ticks\": \"\"}}, \"type\": \"scatter3d\"}], \"scattercarpet\": [{\"marker\": {\"colorbar\": {\"outlinewidth\": 0, \"ticks\": \"\"}}, \"type\": \"scattercarpet\"}], \"scattergeo\": [{\"marker\": {\"colorbar\": {\"outlinewidth\": 0, \"ticks\": \"\"}}, \"type\": \"scattergeo\"}], \"scattergl\": [{\"marker\": {\"colorbar\": {\"outlinewidth\": 0, \"ticks\": \"\"}}, \"type\": \"scattergl\"}], \"scattermapbox\": [{\"marker\": {\"colorbar\": {\"outlinewidth\": 0, \"ticks\": \"\"}}, \"type\": \"scattermapbox\"}], \"scatterpolar\": [{\"marker\": {\"colorbar\": {\"outlinewidth\": 0, \"ticks\": \"\"}}, \"type\": \"scatterpolar\"}], \"scatterpolargl\": [{\"marker\": {\"colorbar\": {\"outlinewidth\": 0, \"ticks\": \"\"}}, \"type\": \"scatterpolargl\"}], \"scatterternary\": [{\"marker\": {\"colorbar\": {\"outlinewidth\": 0, \"ticks\": \"\"}}, \"type\": \"scatterternary\"}], \"surface\": [{\"colorbar\": {\"outlinewidth\": 0, \"ticks\": \"\"}, \"colorscale\": [[0.0, \"#0d0887\"], [0.1111111111111111, \"#46039f\"], [0.2222222222222222, \"#7201a8\"], [0.3333333333333333, \"#9c179e\"], [0.4444444444444444, \"#bd3786\"], [0.5555555555555556, \"#d8576b\"], [0.6666666666666666, \"#ed7953\"], [0.7777777777777778, \"#fb9f3a\"], [0.8888888888888888, \"#fdca26\"], [1.0, \"#f0f921\"]], \"type\": \"surface\"}], \"table\": [{\"cells\": {\"fill\": {\"color\": \"#EBF0F8\"}, \"line\": {\"color\": \"white\"}}, \"header\": {\"fill\": {\"color\": \"#C8D4E3\"}, \"line\": {\"color\": \"white\"}}, \"type\": \"table\"}]}, \"layout\": {\"annotationdefaults\": {\"arrowcolor\": \"#2a3f5f\", \"arrowhead\": 0, \"arrowwidth\": 1}, \"coloraxis\": {\"colorbar\": {\"outlinewidth\": 0, \"ticks\": \"\"}}, \"colorscale\": {\"diverging\": [[0, \"#8e0152\"], [0.1, \"#c51b7d\"], [0.2, \"#de77ae\"], [0.3, \"#f1b6da\"], [0.4, \"#fde0ef\"], [0.5, \"#f7f7f7\"], [0.6, \"#e6f5d0\"], [0.7, \"#b8e186\"], [0.8, \"#7fbc41\"], [0.9, \"#4d9221\"], [1, \"#276419\"]], \"sequential\": [[0.0, \"#0d0887\"], [0.1111111111111111, \"#46039f\"], [0.2222222222222222, \"#7201a8\"], [0.3333333333333333, \"#9c179e\"], [0.4444444444444444, \"#bd3786\"], [0.5555555555555556, \"#d8576b\"], [0.6666666666666666, \"#ed7953\"], [0.7777777777777778, \"#fb9f3a\"], [0.8888888888888888, \"#fdca26\"], [1.0, \"#f0f921\"]], \"sequentialminus\": [[0.0, \"#0d0887\"], [0.1111111111111111, \"#46039f\"], [0.2222222222222222, \"#7201a8\"], [0.3333333333333333, \"#9c179e\"], [0.4444444444444444, \"#bd3786\"], [0.5555555555555556, \"#d8576b\"], [0.6666666666666666, \"#ed7953\"], [0.7777777777777778, \"#fb9f3a\"], [0.8888888888888888, \"#fdca26\"], [1.0, \"#f0f921\"]]}, \"colorway\": [\"#636efa\", \"#EF553B\", \"#00cc96\", \"#ab63fa\", \"#FFA15A\", \"#19d3f3\", \"#FF6692\", \"#B6E880\", \"#FF97FF\", \"#FECB52\"], \"font\": {\"color\": \"#2a3f5f\"}, \"geo\": {\"bgcolor\": \"white\", \"lakecolor\": \"white\", \"landcolor\": \"#E5ECF6\", \"showlakes\": true, \"showland\": true, \"subunitcolor\": \"white\"}, \"hoverlabel\": {\"align\": \"left\"}, \"hovermode\": \"closest\", \"mapbox\": {\"style\": \"light\"}, \"paper_bgcolor\": \"white\", \"plot_bgcolor\": \"#E5ECF6\", \"polar\": {\"angularaxis\": {\"gridcolor\": \"white\", \"linecolor\": \"white\", \"ticks\": \"\"}, \"bgcolor\": \"#E5ECF6\", \"radialaxis\": {\"gridcolor\": \"white\", \"linecolor\": \"white\", \"ticks\": \"\"}}, \"scene\": {\"xaxis\": {\"backgroundcolor\": \"#E5ECF6\", \"gridcolor\": \"white\", \"gridwidth\": 2, \"linecolor\": \"white\", \"showbackground\": true, \"ticks\": \"\", \"zerolinecolor\": \"white\"}, \"yaxis\": {\"backgroundcolor\": \"#E5ECF6\", \"gridcolor\": \"white\", \"gridwidth\": 2, \"linecolor\": \"white\", \"showbackground\": true, \"ticks\": \"\", \"zerolinecolor\": \"white\"}, \"zaxis\": {\"backgroundcolor\": \"#E5ECF6\", \"gridcolor\": \"white\", \"gridwidth\": 2, \"linecolor\": \"white\", \"showbackground\": true, \"ticks\": \"\", \"zerolinecolor\": \"white\"}}, \"shapedefaults\": {\"line\": {\"color\": \"#2a3f5f\"}}, \"ternary\": {\"aaxis\": {\"gridcolor\": \"white\", \"linecolor\": \"white\", \"ticks\": \"\"}, \"baxis\": {\"gridcolor\": \"white\", \"linecolor\": \"white\", \"ticks\": \"\"}, \"bgcolor\": \"#E5ECF6\", \"caxis\": {\"gridcolor\": \"white\", \"linecolor\": \"white\", \"ticks\": \"\"}}, \"title\": {\"x\": 0.05}, \"xaxis\": {\"automargin\": true, \"gridcolor\": \"white\", \"linecolor\": \"white\", \"ticks\": \"\", \"title\": {\"standoff\": 15}, \"zerolinecolor\": \"white\", \"zerolinewidth\": 2}, \"yaxis\": {\"automargin\": true, \"gridcolor\": \"white\", \"linecolor\": \"white\", \"ticks\": \"\", \"title\": {\"standoff\": 15}, \"zerolinecolor\": \"white\", \"zerolinewidth\": 2}}}, \"title\": {\"text\": \"PE Ratio per Company of Top 20 Tech Stocks\"}, \"xaxis\": {\"anchor\": \"y\", \"domain\": [0.0, 1.0], \"title\": {\"text\": \"PE Ratio\"}}, \"yaxis\": {\"anchor\": \"x\", \"categoryarray\": [\"MCHP\", \"ADBE\", \"ASML\", \"EPAM\", \"ANSS\", \"AVGO\", \"FISV\", \"NVDA\", \"TYL\", \"CRM\", \"AMD\", \"STM\", \"PAYC\", \"GLW\", \"NOW\", \"ADSK\", \"SQ\", \"STNE\", \"SHOP\", \"FTV-PA\"], \"categoryorder\": \"array\", \"domain\": [0.0, 1.0], \"title\": {\"text\": \"Symbol\"}}},                        {\"responsive\": true}                    ).then(function(){\n",
       "                            \n",
       "var gd = document.getElementById('3c5843fa-96e5-488e-b795-9e0277e28a3d');\n",
       "var x = new MutationObserver(function (mutations, observer) {{\n",
       "        var display = window.getComputedStyle(gd).display;\n",
       "        if (!display || display === 'none') {{\n",
       "            console.log([gd, 'removed!']);\n",
       "            Plotly.purge(gd);\n",
       "            observer.disconnect();\n",
       "        }}\n",
       "}});\n",
       "\n",
       "// Listen for the removal of the full notebook cells\n",
       "var notebookContainer = gd.closest('#notebook-container');\n",
       "if (notebookContainer) {{\n",
       "    x.observe(notebookContainer, {childList: true});\n",
       "}}\n",
       "\n",
       "// Listen for the clearing of the current output cell\n",
       "var outputEl = gd.closest('.output');\n",
       "if (outputEl) {{\n",
       "    x.observe(outputEl, {childList: true});\n",
       "}}\n",
       "\n",
       "                        })                };                });            </script>        </div>"
      ]
     },
     "metadata": {},
     "output_type": "display_data"
    }
   ],
   "source": [
    "# Top 20 Tech Stocks\n",
    "order_PE_ratio = tech_comp_list[['Symbol', 'PE Ratio']].sort_values('PE Ratio', ascending=False).head(20)\n",
    "\n",
    "figure = px.bar(order_PE_ratio, y=order_PE_ratio['Symbol'], x=order_PE_ratio['PE Ratio'], color='Symbol', \n",
    "                title='PE Ratio per Company of Top 20 Tech Stocks')\n",
    "figure.update_layout(showlegend=False)\n",
    "figure.show()"
   ]
  },
  {
   "cell_type": "markdown",
   "metadata": {},
   "source": [
    "### **iv. List of Top 10 companies by the Volume in IT sector**"
   ]
  },
  {
   "cell_type": "markdown",
   "metadata": {},
   "source": [
    "**Volume:** The number of shares that changed hands during a given day."
   ]
  },
  {
   "cell_type": "code",
   "execution_count": 41,
   "metadata": {},
   "outputs": [
    {
     "data": {
      "text/html": [
       "<style  type=\"text/css\" >\n",
       "    #T_2c1afec8_387f_11eb_9d90_c8348e094a6brow0_col1 {\n",
       "            background-color:  #08306b;\n",
       "            color:  #f1f1f1;\n",
       "        }    #T_2c1afec8_387f_11eb_9d90_c8348e094a6brow1_col1 {\n",
       "            background-color:  #3e8ec4;\n",
       "            color:  #000000;\n",
       "        }    #T_2c1afec8_387f_11eb_9d90_c8348e094a6brow2_col1 {\n",
       "            background-color:  #abd0e6;\n",
       "            color:  #000000;\n",
       "        }    #T_2c1afec8_387f_11eb_9d90_c8348e094a6brow3_col1 {\n",
       "            background-color:  #d0e1f2;\n",
       "            color:  #000000;\n",
       "        }    #T_2c1afec8_387f_11eb_9d90_c8348e094a6brow4_col1 {\n",
       "            background-color:  #d7e6f5;\n",
       "            color:  #000000;\n",
       "        }    #T_2c1afec8_387f_11eb_9d90_c8348e094a6brow5_col1 {\n",
       "            background-color:  #e0ecf8;\n",
       "            color:  #000000;\n",
       "        }    #T_2c1afec8_387f_11eb_9d90_c8348e094a6brow6_col1 {\n",
       "            background-color:  #e1edf8;\n",
       "            color:  #000000;\n",
       "        }    #T_2c1afec8_387f_11eb_9d90_c8348e094a6brow7_col1 {\n",
       "            background-color:  #e7f0fa;\n",
       "            color:  #000000;\n",
       "        }    #T_2c1afec8_387f_11eb_9d90_c8348e094a6brow8_col1 {\n",
       "            background-color:  #edf4fc;\n",
       "            color:  #000000;\n",
       "        }    #T_2c1afec8_387f_11eb_9d90_c8348e094a6brow9_col1 {\n",
       "            background-color:  #eef5fc;\n",
       "            color:  #000000;\n",
       "        }    #T_2c1afec8_387f_11eb_9d90_c8348e094a6brow10_col1 {\n",
       "            background-color:  #eef5fc;\n",
       "            color:  #000000;\n",
       "        }    #T_2c1afec8_387f_11eb_9d90_c8348e094a6brow11_col1 {\n",
       "            background-color:  #f0f6fd;\n",
       "            color:  #000000;\n",
       "        }    #T_2c1afec8_387f_11eb_9d90_c8348e094a6brow12_col1 {\n",
       "            background-color:  #f2f7fd;\n",
       "            color:  #000000;\n",
       "        }    #T_2c1afec8_387f_11eb_9d90_c8348e094a6brow13_col1 {\n",
       "            background-color:  #f2f8fd;\n",
       "            color:  #000000;\n",
       "        }    #T_2c1afec8_387f_11eb_9d90_c8348e094a6brow14_col1 {\n",
       "            background-color:  #f2f8fd;\n",
       "            color:  #000000;\n",
       "        }    #T_2c1afec8_387f_11eb_9d90_c8348e094a6brow15_col1 {\n",
       "            background-color:  #f2f8fd;\n",
       "            color:  #000000;\n",
       "        }    #T_2c1afec8_387f_11eb_9d90_c8348e094a6brow16_col1 {\n",
       "            background-color:  #f3f8fe;\n",
       "            color:  #000000;\n",
       "        }    #T_2c1afec8_387f_11eb_9d90_c8348e094a6brow17_col1 {\n",
       "            background-color:  #f5f9fe;\n",
       "            color:  #000000;\n",
       "        }    #T_2c1afec8_387f_11eb_9d90_c8348e094a6brow18_col1 {\n",
       "            background-color:  #f7fbff;\n",
       "            color:  #000000;\n",
       "        }    #T_2c1afec8_387f_11eb_9d90_c8348e094a6brow19_col1 {\n",
       "            background-color:  #f7fbff;\n",
       "            color:  #000000;\n",
       "        }</style><table id=\"T_2c1afec8_387f_11eb_9d90_c8348e094a6b\" ><thead>    <tr>        <th class=\"col_heading level0 col0\" >Name</th>        <th class=\"col_heading level0 col1\" >Volume</th>    </tr></thead><tbody>\n",
       "                <tr>\n",
       "                                <td id=\"T_2c1afec8_387f_11eb_9d90_c8348e094a6brow0_col0\" class=\"data row0 col0\" >Apple Inc.</td>\n",
       "                        <td id=\"T_2c1afec8_387f_11eb_9d90_c8348e094a6brow0_col1\" class=\"data row0 col1\" >127959000</td>\n",
       "            </tr>\n",
       "            <tr>\n",
       "                                <td id=\"T_2c1afec8_387f_11eb_9d90_c8348e094a6brow1_col0\" class=\"data row1 col0\" >Palantir Technologies Inc.</td>\n",
       "                        <td id=\"T_2c1afec8_387f_11eb_9d90_c8348e094a6brow1_col1\" class=\"data row1 col1\" >83806000</td>\n",
       "            </tr>\n",
       "            <tr>\n",
       "                                <td id=\"T_2c1afec8_387f_11eb_9d90_c8348e094a6brow2_col0\" class=\"data row2 col0\" >Advanced Micro Devices Inc.</td>\n",
       "                        <td id=\"T_2c1afec8_387f_11eb_9d90_c8348e094a6brow2_col1\" class=\"data row2 col1\" >46505000</td>\n",
       "            </tr>\n",
       "            <tr>\n",
       "                                <td id=\"T_2c1afec8_387f_11eb_9d90_c8348e094a6brow3_col0\" class=\"data row3 col0\" >Intel Corporation</td>\n",
       "                        <td id=\"T_2c1afec8_387f_11eb_9d90_c8348e094a6brow3_col1\" class=\"data row3 col1\" >30126000</td>\n",
       "            </tr>\n",
       "            <tr>\n",
       "                                <td id=\"T_2c1afec8_387f_11eb_9d90_c8348e094a6brow4_col0\" class=\"data row4 col0\" >Microsoft Corporation</td>\n",
       "                        <td id=\"T_2c1afec8_387f_11eb_9d90_c8348e094a6brow4_col1\" class=\"data row4 col1\" >25684000</td>\n",
       "            </tr>\n",
       "            <tr>\n",
       "                                <td id=\"T_2c1afec8_387f_11eb_9d90_c8348e094a6brow5_col0\" class=\"data row5 col0\" >Cisco Systems Inc.</td>\n",
       "                        <td id=\"T_2c1afec8_387f_11eb_9d90_c8348e094a6brow5_col1\" class=\"data row5 col1\" >19657000</td>\n",
       "            </tr>\n",
       "            <tr>\n",
       "                                <td id=\"T_2c1afec8_387f_11eb_9d90_c8348e094a6brow6_col0\" class=\"data row6 col0\" >Micron Technology Inc.</td>\n",
       "                        <td id=\"T_2c1afec8_387f_11eb_9d90_c8348e094a6brow6_col1\" class=\"data row6 col1\" >19299000</td>\n",
       "            </tr>\n",
       "            <tr>\n",
       "                                <td id=\"T_2c1afec8_387f_11eb_9d90_c8348e094a6brow7_col0\" class=\"data row7 col0\" >Uber Technologies Inc.</td>\n",
       "                        <td id=\"T_2c1afec8_387f_11eb_9d90_c8348e094a6brow7_col1\" class=\"data row7 col1\" >16042000</td>\n",
       "            </tr>\n",
       "            <tr>\n",
       "                                <td id=\"T_2c1afec8_387f_11eb_9d90_c8348e094a6brow8_col0\" class=\"data row8 col0\" >Square Inc.</td>\n",
       "                        <td id=\"T_2c1afec8_387f_11eb_9d90_c8348e094a6brow8_col1\" class=\"data row8 col1\" >12216000</td>\n",
       "            </tr>\n",
       "            <tr>\n",
       "                                <td id=\"T_2c1afec8_387f_11eb_9d90_c8348e094a6brow9_col0\" class=\"data row9 col0\" >QUALCOMM Incorporated</td>\n",
       "                        <td id=\"T_2c1afec8_387f_11eb_9d90_c8348e094a6brow9_col1\" class=\"data row9 col1\" >11655000</td>\n",
       "            </tr>\n",
       "            <tr>\n",
       "                                <td id=\"T_2c1afec8_387f_11eb_9d90_c8348e094a6brow10_col0\" class=\"data row10 col0\" >United Microelectronics Corporation</td>\n",
       "                        <td id=\"T_2c1afec8_387f_11eb_9d90_c8348e094a6brow10_col1\" class=\"data row10 col1\" >11208000</td>\n",
       "            </tr>\n",
       "            <tr>\n",
       "                                <td id=\"T_2c1afec8_387f_11eb_9d90_c8348e094a6brow11_col0\" class=\"data row11 col0\" >Slack Technologies Inc.</td>\n",
       "                        <td id=\"T_2c1afec8_387f_11eb_9d90_c8348e094a6brow11_col1\" class=\"data row11 col1\" >10151000</td>\n",
       "            </tr>\n",
       "            <tr>\n",
       "                                <td id=\"T_2c1afec8_387f_11eb_9d90_c8348e094a6brow12_col0\" class=\"data row12 col0\" >NVIDIA Corporation</td>\n",
       "                        <td id=\"T_2c1afec8_387f_11eb_9d90_c8348e094a6brow12_col1\" class=\"data row12 col1\" >9034000</td>\n",
       "            </tr>\n",
       "            <tr>\n",
       "                                <td id=\"T_2c1afec8_387f_11eb_9d90_c8348e094a6brow13_col0\" class=\"data row13 col0\" >Applied Materials Inc.</td>\n",
       "                        <td id=\"T_2c1afec8_387f_11eb_9d90_c8348e094a6brow13_col1\" class=\"data row13 col1\" >8810000</td>\n",
       "            </tr>\n",
       "            <tr>\n",
       "                                <td id=\"T_2c1afec8_387f_11eb_9d90_c8348e094a6brow14_col0\" class=\"data row14 col0\" >HP Inc.</td>\n",
       "                        <td id=\"T_2c1afec8_387f_11eb_9d90_c8348e094a6brow14_col1\" class=\"data row14 col1\" >8697000</td>\n",
       "            </tr>\n",
       "            <tr>\n",
       "                                <td id=\"T_2c1afec8_387f_11eb_9d90_c8348e094a6brow15_col0\" class=\"data row15 col0\" >Taiwan Semiconductor Manufacturing Company Limited</td>\n",
       "                        <td id=\"T_2c1afec8_387f_11eb_9d90_c8348e094a6brow15_col1\" class=\"data row15 col1\" >8610000</td>\n",
       "            </tr>\n",
       "            <tr>\n",
       "                                <td id=\"T_2c1afec8_387f_11eb_9d90_c8348e094a6brow16_col0\" class=\"data row16 col0\" >Oracle Corporation</td>\n",
       "                        <td id=\"T_2c1afec8_387f_11eb_9d90_c8348e094a6brow16_col1\" class=\"data row16 col1\" >8236000</td>\n",
       "            </tr>\n",
       "            <tr>\n",
       "                                <td id=\"T_2c1afec8_387f_11eb_9d90_c8348e094a6brow17_col0\" class=\"data row17 col0\" >Marvell Technology Group Ltd.</td>\n",
       "                        <td id=\"T_2c1afec8_387f_11eb_9d90_c8348e094a6brow17_col1\" class=\"data row17 col1\" >7402000</td>\n",
       "            </tr>\n",
       "            <tr>\n",
       "                                <td id=\"T_2c1afec8_387f_11eb_9d90_c8348e094a6brow18_col0\" class=\"data row18 col0\" >Telefonaktiebolaget LM Ericsson (publ)</td>\n",
       "                        <td id=\"T_2c1afec8_387f_11eb_9d90_c8348e094a6brow18_col1\" class=\"data row18 col1\" >5760000</td>\n",
       "            </tr>\n",
       "            <tr>\n",
       "                                <td id=\"T_2c1afec8_387f_11eb_9d90_c8348e094a6brow19_col0\" class=\"data row19 col0\" >International Business Machines Corporation</td>\n",
       "                        <td id=\"T_2c1afec8_387f_11eb_9d90_c8348e094a6brow19_col1\" class=\"data row19 col1\" >5650000</td>\n",
       "            </tr>\n",
       "    </tbody></table>"
      ],
      "text/plain": [
       "<pandas.io.formats.style.Styler at 0x19b9ba9f130>"
      ]
     },
     "execution_count": 41,
     "metadata": {},
     "output_type": "execute_result"
    }
   ],
   "source": [
    "# Top 10 company by volume\n",
    "volume_order = tech_comp_list[['Name', 'Volume']].sort_values('Volume', ascending=False).head(20)\n",
    "volume_order.style.background_gradient(cmap='Blues').hide_index()"
   ]
  },
  {
   "cell_type": "markdown",
   "metadata": {},
   "source": [
    "we are now creating a new empty DataFrame called returns which will contain the returns for each stock. We use pandas pct_change() on a close column to create a column representing this return value. Then we will create a for loop and for each Stock Ticker creates a returns column and set's it as a column in the returns DataFrame. Our first value will be NaN as we can't get a percentage return on first day as there will be not data in the past for its comparison."
   ]
  },
  {
   "cell_type": "code",
   "execution_count": 42,
   "metadata": {},
   "outputs": [],
   "source": [
    "#Data frame for daily return\n",
    "returns = pd.DataFrame()\n",
    "\n",
    "for tick in Tickr:\n",
    "    returns[tick + ' Return'] = tech_comp_stocks[tick]['Adj Close'].pct_change()\n",
    "    \n",
    "for tick in Tickr2:\n",
    "    returns[tick + ' Return'] = top_indices[tick]['Adj Close'].pct_change()"
   ]
  },
  {
   "cell_type": "code",
   "execution_count": 43,
   "metadata": {},
   "outputs": [
    {
     "data": {
      "text/html": [
       "<div>\n",
       "<style scoped>\n",
       "    .dataframe tbody tr th:only-of-type {\n",
       "        vertical-align: middle;\n",
       "    }\n",
       "\n",
       "    .dataframe tbody tr th {\n",
       "        vertical-align: top;\n",
       "    }\n",
       "\n",
       "    .dataframe thead th {\n",
       "        text-align: right;\n",
       "    }\n",
       "</style>\n",
       "<table border=\"1\" class=\"dataframe\">\n",
       "  <thead>\n",
       "    <tr style=\"text-align: right;\">\n",
       "      <th></th>\n",
       "      <th>AAPL Return</th>\n",
       "      <th>MSFT Return</th>\n",
       "      <th>TSM Return</th>\n",
       "      <th>NVDA Return</th>\n",
       "      <th>CRM Return</th>\n",
       "      <th>ADBE Return</th>\n",
       "      <th>INTC Return</th>\n",
       "      <th>ASML Return</th>\n",
       "      <th>CSCO Return</th>\n",
       "      <th>ORCL Return</th>\n",
       "      <th>...</th>\n",
       "      <th>ZEN Return</th>\n",
       "      <th>CTXS Return</th>\n",
       "      <th>TRMB Return</th>\n",
       "      <th>AVLR Return</th>\n",
       "      <th>STX Return</th>\n",
       "      <th>DJI Return</th>\n",
       "      <th>GSPC Return</th>\n",
       "      <th>IXIC Return</th>\n",
       "      <th>W5000 Return</th>\n",
       "      <th>XLK Return</th>\n",
       "    </tr>\n",
       "    <tr>\n",
       "      <th>Date</th>\n",
       "      <th></th>\n",
       "      <th></th>\n",
       "      <th></th>\n",
       "      <th></th>\n",
       "      <th></th>\n",
       "      <th></th>\n",
       "      <th></th>\n",
       "      <th></th>\n",
       "      <th></th>\n",
       "      <th></th>\n",
       "      <th></th>\n",
       "      <th></th>\n",
       "      <th></th>\n",
       "      <th></th>\n",
       "      <th></th>\n",
       "      <th></th>\n",
       "      <th></th>\n",
       "      <th></th>\n",
       "      <th></th>\n",
       "      <th></th>\n",
       "      <th></th>\n",
       "    </tr>\n",
       "  </thead>\n",
       "  <tbody>\n",
       "    <tr>\n",
       "      <th>2006-01-03</th>\n",
       "      <td>NaN</td>\n",
       "      <td>NaN</td>\n",
       "      <td>NaN</td>\n",
       "      <td>NaN</td>\n",
       "      <td>NaN</td>\n",
       "      <td>NaN</td>\n",
       "      <td>NaN</td>\n",
       "      <td>NaN</td>\n",
       "      <td>NaN</td>\n",
       "      <td>NaN</td>\n",
       "      <td>...</td>\n",
       "      <td>NaN</td>\n",
       "      <td>NaN</td>\n",
       "      <td>NaN</td>\n",
       "      <td>NaN</td>\n",
       "      <td>NaN</td>\n",
       "      <td>NaN</td>\n",
       "      <td>NaN</td>\n",
       "      <td>NaN</td>\n",
       "      <td>NaN</td>\n",
       "      <td>NaN</td>\n",
       "    </tr>\n",
       "    <tr>\n",
       "      <th>2006-01-04</th>\n",
       "      <td>0.002943</td>\n",
       "      <td>0.004844</td>\n",
       "      <td>0.007921</td>\n",
       "      <td>0.027996</td>\n",
       "      <td>0.050526</td>\n",
       "      <td>-0.002596</td>\n",
       "      <td>0.013296</td>\n",
       "      <td>0.016137</td>\n",
       "      <td>0.022922</td>\n",
       "      <td>0.001588</td>\n",
       "      <td>...</td>\n",
       "      <td>NaN</td>\n",
       "      <td>0.023940</td>\n",
       "      <td>0.001664</td>\n",
       "      <td>NaN</td>\n",
       "      <td>0.048331</td>\n",
       "      <td>0.003018</td>\n",
       "      <td>0.003673</td>\n",
       "      <td>0.008789</td>\n",
       "      <td>0.004689</td>\n",
       "      <td>0.011731</td>\n",
       "    </tr>\n",
       "    <tr>\n",
       "      <th>2006-01-05</th>\n",
       "      <td>-0.007869</td>\n",
       "      <td>0.000741</td>\n",
       "      <td>0.016700</td>\n",
       "      <td>0.022652</td>\n",
       "      <td>0.002502</td>\n",
       "      <td>-0.009110</td>\n",
       "      <td>0.013894</td>\n",
       "      <td>0.022137</td>\n",
       "      <td>0.028012</td>\n",
       "      <td>0.013471</td>\n",
       "      <td>...</td>\n",
       "      <td>NaN</td>\n",
       "      <td>0.000668</td>\n",
       "      <td>-0.003599</td>\n",
       "      <td>NaN</td>\n",
       "      <td>-0.009030</td>\n",
       "      <td>0.000184</td>\n",
       "      <td>0.000016</td>\n",
       "      <td>0.005925</td>\n",
       "      <td>0.000496</td>\n",
       "      <td>0.004639</td>\n",
       "    </tr>\n",
       "    <tr>\n",
       "      <th>2006-01-06</th>\n",
       "      <td>0.025813</td>\n",
       "      <td>-0.002964</td>\n",
       "      <td>0.043478</td>\n",
       "      <td>0.016426</td>\n",
       "      <td>0.105103</td>\n",
       "      <td>0.024429</td>\n",
       "      <td>0.001523</td>\n",
       "      <td>0.033428</td>\n",
       "      <td>0.022888</td>\n",
       "      <td>0.025801</td>\n",
       "      <td>...</td>\n",
       "      <td>NaN</td>\n",
       "      <td>0.005674</td>\n",
       "      <td>0.008058</td>\n",
       "      <td>NaN</td>\n",
       "      <td>0.025899</td>\n",
       "      <td>0.007090</td>\n",
       "      <td>0.009399</td>\n",
       "      <td>0.012627</td>\n",
       "      <td>0.009536</td>\n",
       "      <td>0.015697</td>\n",
       "    </tr>\n",
       "    <tr>\n",
       "      <th>2006-01-09</th>\n",
       "      <td>-0.003277</td>\n",
       "      <td>-0.001858</td>\n",
       "      <td>0.012037</td>\n",
       "      <td>0.027914</td>\n",
       "      <td>-0.033124</td>\n",
       "      <td>-0.015897</td>\n",
       "      <td>0.006081</td>\n",
       "      <td>0.025057</td>\n",
       "      <td>0.015451</td>\n",
       "      <td>-0.018293</td>\n",
       "      <td>...</td>\n",
       "      <td>NaN</td>\n",
       "      <td>-0.006970</td>\n",
       "      <td>0.011301</td>\n",
       "      <td>NaN</td>\n",
       "      <td>0.042076</td>\n",
       "      <td>0.004799</td>\n",
       "      <td>0.003656</td>\n",
       "      <td>0.005669</td>\n",
       "      <td>0.004752</td>\n",
       "      <td>0.003181</td>\n",
       "    </tr>\n",
       "  </tbody>\n",
       "</table>\n",
       "<p>5 rows × 105 columns</p>\n",
       "</div>"
      ],
      "text/plain": [
       "            AAPL Return  MSFT Return  TSM Return  NVDA Return  CRM Return  \\\n",
       "Date                                                                        \n",
       "2006-01-03          NaN          NaN         NaN          NaN         NaN   \n",
       "2006-01-04     0.002943     0.004844    0.007921     0.027996    0.050526   \n",
       "2006-01-05    -0.007869     0.000741    0.016700     0.022652    0.002502   \n",
       "2006-01-06     0.025813    -0.002964    0.043478     0.016426    0.105103   \n",
       "2006-01-09    -0.003277    -0.001858    0.012037     0.027914   -0.033124   \n",
       "\n",
       "            ADBE Return  INTC Return  ASML Return  CSCO Return  ORCL Return  \\\n",
       "Date                                                                          \n",
       "2006-01-03          NaN          NaN          NaN          NaN          NaN   \n",
       "2006-01-04    -0.002596     0.013296     0.016137     0.022922     0.001588   \n",
       "2006-01-05    -0.009110     0.013894     0.022137     0.028012     0.013471   \n",
       "2006-01-06     0.024429     0.001523     0.033428     0.022888     0.025801   \n",
       "2006-01-09    -0.015897     0.006081     0.025057     0.015451    -0.018293   \n",
       "\n",
       "            ...  ZEN Return  CTXS Return  TRMB Return  AVLR Return  \\\n",
       "Date        ...                                                      \n",
       "2006-01-03  ...         NaN          NaN          NaN          NaN   \n",
       "2006-01-04  ...         NaN     0.023940     0.001664          NaN   \n",
       "2006-01-05  ...         NaN     0.000668    -0.003599          NaN   \n",
       "2006-01-06  ...         NaN     0.005674     0.008058          NaN   \n",
       "2006-01-09  ...         NaN    -0.006970     0.011301          NaN   \n",
       "\n",
       "            STX Return  DJI Return  GSPC Return  IXIC Return  W5000 Return  \\\n",
       "Date                                                                         \n",
       "2006-01-03         NaN         NaN          NaN          NaN           NaN   \n",
       "2006-01-04    0.048331    0.003018     0.003673     0.008789      0.004689   \n",
       "2006-01-05   -0.009030    0.000184     0.000016     0.005925      0.000496   \n",
       "2006-01-06    0.025899    0.007090     0.009399     0.012627      0.009536   \n",
       "2006-01-09    0.042076    0.004799     0.003656     0.005669      0.004752   \n",
       "\n",
       "            XLK Return  \n",
       "Date                    \n",
       "2006-01-03         NaN  \n",
       "2006-01-04    0.011731  \n",
       "2006-01-05    0.004639  \n",
       "2006-01-06    0.015697  \n",
       "2006-01-09    0.003181  \n",
       "\n",
       "[5 rows x 105 columns]"
      ]
     },
     "execution_count": 43,
     "metadata": {},
     "output_type": "execute_result"
    }
   ],
   "source": [
    "returns.head()"
   ]
  },
  {
   "cell_type": "markdown",
   "metadata": {},
   "source": [
    "### **v. Visualizing MSFT stock for daily return**"
   ]
  },
  {
   "cell_type": "code",
   "execution_count": 44,
   "metadata": {},
   "outputs": [
    {
     "data": {
      "text/plain": [
       "<matplotlib.axes._subplots.AxesSubplot at 0x19b93c77f40>"
      ]
     },
     "execution_count": 44,
     "metadata": {},
     "output_type": "execute_result"
    },
    {
     "data": {
      "image/png": "[encoded data removed]",
      "text/plain": [
       "<Figure size 1080x360 with 1 Axes>"
      ]
     },
     "metadata": {
      "needs_background": "light"
     },
     "output_type": "display_data"
    }
   ],
   "source": [
    "# Visualize MSFT stock of the new dataframe for new daily return\n",
    "returns['MSFT Return'].plot(figsize=(15,5), color='Green', lw=0.5)"
   ]
  },
  {
   "cell_type": "markdown",
   "metadata": {},
   "source": [
    "We are now creating an empty dataframe called monthly_returns which will contain the monthly return for each stock in the same way we created daily returns dataframe.we use dataframe.resample() function which is used for time series data. We also use dataframe.ffil() function which is used to fill the missing values in the dataframe."
   ]
  },
  {
   "cell_type": "code",
   "execution_count": 47,
   "metadata": {},
   "outputs": [],
   "source": [
    "# Data frame for monthly return\n",
    "monthly_returns = pd.DataFrame()\n",
    "\n",
    "for tick in Tickr:\n",
    "    monthly_returns[tick + ' Return'] = tech_comp_stocks[tick]['Adj Close'].resample('M').ffill().pct_change()\n",
    "    \n",
    "#for tick in Tickr2:\n",
    "#    monthly_returns[tick + ' Return'] = top_indices[tick]['Adj Close'].resample('Y').ffill().pct_change()"
   ]
  },
  {
   "cell_type": "code",
   "execution_count": 48,
   "metadata": {},
   "outputs": [
    {
     "data": {
      "text/html": [
       "<div>\n",
       "<style scoped>\n",
       "    .dataframe tbody tr th:only-of-type {\n",
       "        vertical-align: middle;\n",
       "    }\n",
       "\n",
       "    .dataframe tbody tr th {\n",
       "        vertical-align: top;\n",
       "    }\n",
       "\n",
       "    .dataframe thead th {\n",
       "        text-align: right;\n",
       "    }\n",
       "</style>\n",
       "<table border=\"1\" class=\"dataframe\">\n",
       "  <thead>\n",
       "    <tr style=\"text-align: right;\">\n",
       "      <th></th>\n",
       "      <th>AAPL Return</th>\n",
       "      <th>MSFT Return</th>\n",
       "      <th>TSM Return</th>\n",
       "      <th>NVDA Return</th>\n",
       "      <th>CRM Return</th>\n",
       "      <th>ADBE Return</th>\n",
       "      <th>INTC Return</th>\n",
       "      <th>ASML Return</th>\n",
       "      <th>CSCO Return</th>\n",
       "      <th>ORCL Return</th>\n",
       "      <th>...</th>\n",
       "      <th>CHKP Return</th>\n",
       "      <th>AKAM Return</th>\n",
       "      <th>TYL Return</th>\n",
       "      <th>CCC Return</th>\n",
       "      <th>UI Return</th>\n",
       "      <th>ZEN Return</th>\n",
       "      <th>CTXS Return</th>\n",
       "      <th>TRMB Return</th>\n",
       "      <th>AVLR Return</th>\n",
       "      <th>STX Return</th>\n",
       "    </tr>\n",
       "    <tr>\n",
       "      <th>Date</th>\n",
       "      <th></th>\n",
       "      <th></th>\n",
       "      <th></th>\n",
       "      <th></th>\n",
       "      <th></th>\n",
       "      <th></th>\n",
       "      <th></th>\n",
       "      <th></th>\n",
       "      <th></th>\n",
       "      <th></th>\n",
       "      <th></th>\n",
       "      <th></th>\n",
       "      <th></th>\n",
       "      <th></th>\n",
       "      <th></th>\n",
       "      <th></th>\n",
       "      <th></th>\n",
       "      <th></th>\n",
       "      <th></th>\n",
       "      <th></th>\n",
       "      <th></th>\n",
       "    </tr>\n",
       "  </thead>\n",
       "  <tbody>\n",
       "    <tr>\n",
       "      <th>2006-01-31</th>\n",
       "      <td>NaN</td>\n",
       "      <td>NaN</td>\n",
       "      <td>NaN</td>\n",
       "      <td>NaN</td>\n",
       "      <td>NaN</td>\n",
       "      <td>NaN</td>\n",
       "      <td>NaN</td>\n",
       "      <td>NaN</td>\n",
       "      <td>NaN</td>\n",
       "      <td>NaN</td>\n",
       "      <td>...</td>\n",
       "      <td>NaN</td>\n",
       "      <td>NaN</td>\n",
       "      <td>NaN</td>\n",
       "      <td>NaN</td>\n",
       "      <td>NaN</td>\n",
       "      <td>NaN</td>\n",
       "      <td>NaN</td>\n",
       "      <td>NaN</td>\n",
       "      <td>NaN</td>\n",
       "      <td>NaN</td>\n",
       "    </tr>\n",
       "    <tr>\n",
       "      <th>2006-02-28</th>\n",
       "      <td>-0.092968</td>\n",
       "      <td>-0.042236</td>\n",
       "      <td>-0.099074</td>\n",
       "      <td>0.048265</td>\n",
       "      <td>-0.151035</td>\n",
       "      <td>-0.029700</td>\n",
       "      <td>-0.026452</td>\n",
       "      <td>-0.084956</td>\n",
       "      <td>0.089930</td>\n",
       "      <td>-0.011933</td>\n",
       "      <td>...</td>\n",
       "      <td>-0.013915</td>\n",
       "      <td>0.211152</td>\n",
       "      <td>0.139080</td>\n",
       "      <td>NaN</td>\n",
       "      <td>NaN</td>\n",
       "      <td>NaN</td>\n",
       "      <td>0.049287</td>\n",
       "      <td>0.022239</td>\n",
       "      <td>NaN</td>\n",
       "      <td>0.021923</td>\n",
       "    </tr>\n",
       "    <tr>\n",
       "      <th>2006-03-31</th>\n",
       "      <td>-0.084246</td>\n",
       "      <td>0.012654</td>\n",
       "      <td>0.033915</td>\n",
       "      <td>0.214938</td>\n",
       "      <td>0.042468</td>\n",
       "      <td>-0.093385</td>\n",
       "      <td>-0.055340</td>\n",
       "      <td>-0.014990</td>\n",
       "      <td>0.070653</td>\n",
       "      <td>0.102254</td>\n",
       "      <td>...</td>\n",
       "      <td>-0.058325</td>\n",
       "      <td>0.241132</td>\n",
       "      <td>0.109990</td>\n",
       "      <td>NaN</td>\n",
       "      <td>NaN</td>\n",
       "      <td>NaN</td>\n",
       "      <td>0.171199</td>\n",
       "      <td>0.101198</td>\n",
       "      <td>NaN</td>\n",
       "      <td>-0.009033</td>\n",
       "    </tr>\n",
       "    <tr>\n",
       "      <th>2006-04-30</th>\n",
       "      <td>0.122289</td>\n",
       "      <td>-0.112459</td>\n",
       "      <td>0.041750</td>\n",
       "      <td>0.020608</td>\n",
       "      <td>-0.035233</td>\n",
       "      <td>0.121602</td>\n",
       "      <td>0.026721</td>\n",
       "      <td>0.037801</td>\n",
       "      <td>-0.033226</td>\n",
       "      <td>0.065742</td>\n",
       "      <td>...</td>\n",
       "      <td>-0.032468</td>\n",
       "      <td>0.024323</td>\n",
       "      <td>0.002727</td>\n",
       "      <td>NaN</td>\n",
       "      <td>NaN</td>\n",
       "      <td>NaN</td>\n",
       "      <td>0.053298</td>\n",
       "      <td>0.051720</td>\n",
       "      <td>NaN</td>\n",
       "      <td>0.008736</td>\n",
       "    </tr>\n",
       "    <tr>\n",
       "      <th>2006-05-31</th>\n",
       "      <td>-0.150874</td>\n",
       "      <td>-0.058455</td>\n",
       "      <td>-0.096374</td>\n",
       "      <td>-0.213552</td>\n",
       "      <td>-0.158060</td>\n",
       "      <td>-0.269643</td>\n",
       "      <td>-0.093471</td>\n",
       "      <td>-0.037843</td>\n",
       "      <td>-0.060620</td>\n",
       "      <td>-0.025360</td>\n",
       "      <td>...</td>\n",
       "      <td>-0.003614</td>\n",
       "      <td>-0.071238</td>\n",
       "      <td>-0.036265</td>\n",
       "      <td>NaN</td>\n",
       "      <td>NaN</td>\n",
       "      <td>NaN</td>\n",
       "      <td>-0.058617</td>\n",
       "      <td>-0.030393</td>\n",
       "      <td>NaN</td>\n",
       "      <td>-0.118221</td>\n",
       "    </tr>\n",
       "  </tbody>\n",
       "</table>\n",
       "<p>5 rows × 100 columns</p>\n",
       "</div>"
      ],
      "text/plain": [
       "            AAPL Return  MSFT Return  TSM Return  NVDA Return  CRM Return  \\\n",
       "Date                                                                        \n",
       "2006-01-31          NaN          NaN         NaN          NaN         NaN   \n",
       "2006-02-28    -0.092968    -0.042236   -0.099074     0.048265   -0.151035   \n",
       "2006-03-31    -0.084246     0.012654    0.033915     0.214938    0.042468   \n",
       "2006-04-30     0.122289    -0.112459    0.041750     0.020608   -0.035233   \n",
       "2006-05-31    -0.150874    -0.058455   -0.096374    -0.213552   -0.158060   \n",
       "\n",
       "            ADBE Return  INTC Return  ASML Return  CSCO Return  ORCL Return  \\\n",
       "Date                                                                          \n",
       "2006-01-31          NaN          NaN          NaN          NaN          NaN   \n",
       "2006-02-28    -0.029700    -0.026452    -0.084956     0.089930    -0.011933   \n",
       "2006-03-31    -0.093385    -0.055340    -0.014990     0.070653     0.102254   \n",
       "2006-04-30     0.121602     0.026721     0.037801    -0.033226     0.065742   \n",
       "2006-05-31    -0.269643    -0.093471    -0.037843    -0.060620    -0.025360   \n",
       "\n",
       "            ...  CHKP Return  AKAM Return  TYL Return  CCC Return  UI Return  \\\n",
       "Date        ...                                                                \n",
       "2006-01-31  ...          NaN          NaN         NaN         NaN        NaN   \n",
       "2006-02-28  ...    -0.013915     0.211152    0.139080         NaN        NaN   \n",
       "2006-03-31  ...    -0.058325     0.241132    0.109990         NaN        NaN   \n",
       "2006-04-30  ...    -0.032468     0.024323    0.002727         NaN        NaN   \n",
       "2006-05-31  ...    -0.003614    -0.071238   -0.036265         NaN        NaN   \n",
       "\n",
       "            ZEN Return  CTXS Return  TRMB Return  AVLR Return  STX Return  \n",
       "Date                                                                       \n",
       "2006-01-31         NaN          NaN          NaN          NaN         NaN  \n",
       "2006-02-28         NaN     0.049287     0.022239          NaN    0.021923  \n",
       "2006-03-31         NaN     0.171199     0.101198          NaN   -0.009033  \n",
       "2006-04-30         NaN     0.053298     0.051720          NaN    0.008736  \n",
       "2006-05-31         NaN    -0.058617    -0.030393          NaN   -0.118221  \n",
       "\n",
       "[5 rows x 100 columns]"
      ]
     },
     "execution_count": 48,
     "metadata": {},
     "output_type": "execute_result"
    }
   ],
   "source": [
    "monthly_returns.head()"
   ]
  },
  {
   "cell_type": "markdown",
   "metadata": {},
   "source": [
    "### **vi. Visualizing AAPL stock for monthly return**"
   ]
  },
  {
   "cell_type": "code",
   "execution_count": 49,
   "metadata": {},
   "outputs": [
    {
     "data": {
      "text/plain": [
       "<matplotlib.axes._subplots.AxesSubplot at 0x19b9c518580>"
      ]
     },
     "execution_count": 49,
     "metadata": {},
     "output_type": "execute_result"
    },
    {
     "data": {
      "image/png": "[encoded data removed]",
      "text/plain": [
       "<Figure size 1080x360 with 1 Axes>"
      ]
     },
     "metadata": {
      "needs_background": "light"
     },
     "output_type": "display_data"
    }
   ],
   "source": [
    "#line chart of AAPL stock for monthly returns\n",
    "monthly_returns['AAPL Return'].plot(figsize=(15,5), color='Blue', lw=1)"
   ]
  },
  {
   "cell_type": "markdown",
   "metadata": {},
   "source": [
    "We are now creating an empty dataframe called yearly_returns which will contain the yearly return for each stock in the same way we created monthly_returns dataframe."
   ]
  },
  {
   "cell_type": "code",
   "execution_count": 50,
   "metadata": {},
   "outputs": [],
   "source": [
    "#Data frame for yearly return\n",
    "yearly_returns = pd.DataFrame()\n",
    "\n",
    "for tick in Tickr:\n",
    "    yearly_returns[tick + ' Return'] = tech_comp_stocks[tick]['Adj Close'].resample('Y').ffill().pct_change()\n",
    "    \n",
    "#for tick in Tickr2:\n",
    "#    yearly_returns[tick + ' Return'] = top_indices[tick]['Adj Close'].resample('Y').ffill().pct_change()"
   ]
  },
  {
   "cell_type": "code",
   "execution_count": 52,
   "metadata": {},
   "outputs": [
    {
     "data": {
      "text/html": [
       "<div>\n",
       "<style scoped>\n",
       "    .dataframe tbody tr th:only-of-type {\n",
       "        vertical-align: middle;\n",
       "    }\n",
       "\n",
       "    .dataframe tbody tr th {\n",
       "        vertical-align: top;\n",
       "    }\n",
       "\n",
       "    .dataframe thead th {\n",
       "        text-align: right;\n",
       "    }\n",
       "</style>\n",
       "<table border=\"1\" class=\"dataframe\">\n",
       "  <thead>\n",
       "    <tr style=\"text-align: right;\">\n",
       "      <th></th>\n",
       "      <th>AAPL Return</th>\n",
       "      <th>MSFT Return</th>\n",
       "      <th>TSM Return</th>\n",
       "      <th>NVDA Return</th>\n",
       "      <th>CRM Return</th>\n",
       "      <th>ADBE Return</th>\n",
       "      <th>INTC Return</th>\n",
       "      <th>ASML Return</th>\n",
       "      <th>CSCO Return</th>\n",
       "      <th>ORCL Return</th>\n",
       "      <th>...</th>\n",
       "      <th>CHKP Return</th>\n",
       "      <th>AKAM Return</th>\n",
       "      <th>TYL Return</th>\n",
       "      <th>CCC Return</th>\n",
       "      <th>UI Return</th>\n",
       "      <th>ZEN Return</th>\n",
       "      <th>CTXS Return</th>\n",
       "      <th>TRMB Return</th>\n",
       "      <th>AVLR Return</th>\n",
       "      <th>STX Return</th>\n",
       "    </tr>\n",
       "    <tr>\n",
       "      <th>Date</th>\n",
       "      <th></th>\n",
       "      <th></th>\n",
       "      <th></th>\n",
       "      <th></th>\n",
       "      <th></th>\n",
       "      <th></th>\n",
       "      <th></th>\n",
       "      <th></th>\n",
       "      <th></th>\n",
       "      <th></th>\n",
       "      <th></th>\n",
       "      <th></th>\n",
       "      <th></th>\n",
       "      <th></th>\n",
       "      <th></th>\n",
       "      <th></th>\n",
       "      <th></th>\n",
       "      <th></th>\n",
       "      <th></th>\n",
       "      <th></th>\n",
       "      <th></th>\n",
       "    </tr>\n",
       "  </thead>\n",
       "  <tbody>\n",
       "    <tr>\n",
       "      <th>2006-12-31</th>\n",
       "      <td>NaN</td>\n",
       "      <td>NaN</td>\n",
       "      <td>NaN</td>\n",
       "      <td>NaN</td>\n",
       "      <td>NaN</td>\n",
       "      <td>NaN</td>\n",
       "      <td>NaN</td>\n",
       "      <td>NaN</td>\n",
       "      <td>NaN</td>\n",
       "      <td>NaN</td>\n",
       "      <td>...</td>\n",
       "      <td>NaN</td>\n",
       "      <td>NaN</td>\n",
       "      <td>NaN</td>\n",
       "      <td>NaN</td>\n",
       "      <td>NaN</td>\n",
       "      <td>NaN</td>\n",
       "      <td>NaN</td>\n",
       "      <td>NaN</td>\n",
       "      <td>NaN</td>\n",
       "      <td>NaN</td>\n",
       "    </tr>\n",
       "    <tr>\n",
       "      <th>2007-12-31</th>\n",
       "      <td>1.334748</td>\n",
       "      <td>0.208429</td>\n",
       "      <td>-0.049057</td>\n",
       "      <td>0.378817</td>\n",
       "      <td>0.719890</td>\n",
       "      <td>0.039154</td>\n",
       "      <td>0.342319</td>\n",
       "      <td>0.223219</td>\n",
       "      <td>-0.009513</td>\n",
       "      <td>0.317386</td>\n",
       "      <td>...</td>\n",
       "      <td>0.001825</td>\n",
       "      <td>-0.348645</td>\n",
       "      <td>-0.083215</td>\n",
       "      <td>NaN</td>\n",
       "      <td>NaN</td>\n",
       "      <td>NaN</td>\n",
       "      <td>0.405176</td>\n",
       "      <td>0.192194</td>\n",
       "      <td>NaN</td>\n",
       "      <td>-0.021977</td>\n",
       "    </tr>\n",
       "    <tr>\n",
       "      <th>2008-12-31</th>\n",
       "      <td>-0.569113</td>\n",
       "      <td>-0.443856</td>\n",
       "      <td>-0.164318</td>\n",
       "      <td>-0.762787</td>\n",
       "      <td>-0.489392</td>\n",
       "      <td>-0.501755</td>\n",
       "      <td>-0.435123</td>\n",
       "      <td>-0.414211</td>\n",
       "      <td>-0.397857</td>\n",
       "      <td>-0.214792</td>\n",
       "      <td>...</td>\n",
       "      <td>-0.135246</td>\n",
       "      <td>-0.563873</td>\n",
       "      <td>-0.070597</td>\n",
       "      <td>NaN</td>\n",
       "      <td>NaN</td>\n",
       "      <td>NaN</td>\n",
       "      <td>-0.379900</td>\n",
       "      <td>-0.285384</td>\n",
       "      <td>NaN</td>\n",
       "      <td>-0.820046</td>\n",
       "    </tr>\n",
       "    <tr>\n",
       "      <th>2009-12-31</th>\n",
       "      <td>1.469010</td>\n",
       "      <td>0.604672</td>\n",
       "      <td>0.526093</td>\n",
       "      <td>1.314747</td>\n",
       "      <td>1.304592</td>\n",
       "      <td>0.727571</td>\n",
       "      <td>0.439030</td>\n",
       "      <td>0.916219</td>\n",
       "      <td>0.468712</td>\n",
       "      <td>0.393870</td>\n",
       "      <td>...</td>\n",
       "      <td>0.784097</td>\n",
       "      <td>0.679258</td>\n",
       "      <td>0.661937</td>\n",
       "      <td>NaN</td>\n",
       "      <td>NaN</td>\n",
       "      <td>NaN</td>\n",
       "      <td>0.765379</td>\n",
       "      <td>0.166127</td>\n",
       "      <td>NaN</td>\n",
       "      <td>3.138511</td>\n",
       "    </tr>\n",
       "    <tr>\n",
       "      <th>2010-12-31</th>\n",
       "      <td>0.530679</td>\n",
       "      <td>-0.065246</td>\n",
       "      <td>0.150723</td>\n",
       "      <td>-0.175589</td>\n",
       "      <td>0.789345</td>\n",
       "      <td>-0.163132</td>\n",
       "      <td>0.062695</td>\n",
       "      <td>0.133804</td>\n",
       "      <td>-0.154971</td>\n",
       "      <td>0.286125</td>\n",
       "      <td>...</td>\n",
       "      <td>0.365407</td>\n",
       "      <td>0.856748</td>\n",
       "      <td>0.042692</td>\n",
       "      <td>NaN</td>\n",
       "      <td>NaN</td>\n",
       "      <td>NaN</td>\n",
       "      <td>0.644076</td>\n",
       "      <td>0.584524</td>\n",
       "      <td>NaN</td>\n",
       "      <td>-0.173722</td>\n",
       "    </tr>\n",
       "  </tbody>\n",
       "</table>\n",
       "<p>5 rows × 100 columns</p>\n",
       "</div>"
      ],
      "text/plain": [
       "            AAPL Return  MSFT Return  TSM Return  NVDA Return  CRM Return  \\\n",
       "Date                                                                        \n",
       "2006-12-31          NaN          NaN         NaN          NaN         NaN   \n",
       "2007-12-31     1.334748     0.208429   -0.049057     0.378817    0.719890   \n",
       "2008-12-31    -0.569113    -0.443856   -0.164318    -0.762787   -0.489392   \n",
       "2009-12-31     1.469010     0.604672    0.526093     1.314747    1.304592   \n",
       "2010-12-31     0.530679    -0.065246    0.150723    -0.175589    0.789345   \n",
       "\n",
       "            ADBE Return  INTC Return  ASML Return  CSCO Return  ORCL Return  \\\n",
       "Date                                                                          \n",
       "2006-12-31          NaN          NaN          NaN          NaN          NaN   \n",
       "2007-12-31     0.039154     0.342319     0.223219    -0.009513     0.317386   \n",
       "2008-12-31    -0.501755    -0.435123    -0.414211    -0.397857    -0.214792   \n",
       "2009-12-31     0.727571     0.439030     0.916219     0.468712     0.393870   \n",
       "2010-12-31    -0.163132     0.062695     0.133804    -0.154971     0.286125   \n",
       "\n",
       "            ...  CHKP Return  AKAM Return  TYL Return  CCC Return  UI Return  \\\n",
       "Date        ...                                                                \n",
       "2006-12-31  ...          NaN          NaN         NaN         NaN        NaN   \n",
       "2007-12-31  ...     0.001825    -0.348645   -0.083215         NaN        NaN   \n",
       "2008-12-31  ...    -0.135246    -0.563873   -0.070597         NaN        NaN   \n",
       "2009-12-31  ...     0.784097     0.679258    0.661937         NaN        NaN   \n",
       "2010-12-31  ...     0.365407     0.856748    0.042692         NaN        NaN   \n",
       "\n",
       "            ZEN Return  CTXS Return  TRMB Return  AVLR Return  STX Return  \n",
       "Date                                                                       \n",
       "2006-12-31         NaN          NaN          NaN          NaN         NaN  \n",
       "2007-12-31         NaN     0.405176     0.192194          NaN   -0.021977  \n",
       "2008-12-31         NaN    -0.379900    -0.285384          NaN   -0.820046  \n",
       "2009-12-31         NaN     0.765379     0.166127          NaN    3.138511  \n",
       "2010-12-31         NaN     0.644076     0.584524          NaN   -0.173722  \n",
       "\n",
       "[5 rows x 100 columns]"
      ]
     },
     "execution_count": 52,
     "metadata": {},
     "output_type": "execute_result"
    }
   ],
   "source": [
    "yearly_returns.head()"
   ]
  },
  {
   "cell_type": "markdown",
   "metadata": {},
   "source": [
    "### **vii. Visualizing TSM stock for yearly return**"
   ]
  },
  {
   "cell_type": "code",
   "execution_count": 51,
   "metadata": {},
   "outputs": [
    {
     "data": {
      "text/plain": [
       "<matplotlib.axes._subplots.AxesSubplot at 0x19b9c554e80>"
      ]
     },
     "execution_count": 51,
     "metadata": {},
     "output_type": "execute_result"
    },
    {
     "data": {
      "image/png": "[encoded data removed]",
      "text/plain": [
       "<Figure size 720x360 with 1 Axes>"
      ]
     },
     "metadata": {
      "needs_background": "light"
     },
     "output_type": "display_data"
    }
   ],
   "source": [
    "#line chart of TSM stock for yearly returns\n",
    "yearly_returns['TSM Return'].plot(figsize=(10,5), color='brown', lw=2)"
   ]
  },
  {
   "cell_type": "markdown",
   "metadata": {},
   "source": [
    "### **viii. Visualizing Monthly, Yearly cumulative returns**\n",
    "In order to calculate the cumulative returns we are using the cumprod() function.cumprod() function returns a dataframe or series of the same size containing the cumulative product."
   ]
  },
  {
   "cell_type": "code",
   "execution_count": 53,
   "metadata": {},
   "outputs": [
    {
     "data": {
      "text/html": [
       "<div>\n",
       "<style scoped>\n",
       "    .dataframe tbody tr th:only-of-type {\n",
       "        vertical-align: middle;\n",
       "    }\n",
       "\n",
       "    .dataframe tbody tr th {\n",
       "        vertical-align: top;\n",
       "    }\n",
       "\n",
       "    .dataframe thead th {\n",
       "        text-align: right;\n",
       "    }\n",
       "</style>\n",
       "<table border=\"1\" class=\"dataframe\">\n",
       "  <thead>\n",
       "    <tr style=\"text-align: right;\">\n",
       "      <th></th>\n",
       "      <th>AAPL Return</th>\n",
       "      <th>MSFT Return</th>\n",
       "      <th>TSM Return</th>\n",
       "      <th>NVDA Return</th>\n",
       "      <th>CRM Return</th>\n",
       "      <th>ADBE Return</th>\n",
       "      <th>INTC Return</th>\n",
       "      <th>ASML Return</th>\n",
       "      <th>CSCO Return</th>\n",
       "      <th>ORCL Return</th>\n",
       "      <th>...</th>\n",
       "      <th>CHKP Return</th>\n",
       "      <th>AKAM Return</th>\n",
       "      <th>TYL Return</th>\n",
       "      <th>CCC Return</th>\n",
       "      <th>UI Return</th>\n",
       "      <th>ZEN Return</th>\n",
       "      <th>CTXS Return</th>\n",
       "      <th>TRMB Return</th>\n",
       "      <th>AVLR Return</th>\n",
       "      <th>STX Return</th>\n",
       "    </tr>\n",
       "    <tr>\n",
       "      <th>Date</th>\n",
       "      <th></th>\n",
       "      <th></th>\n",
       "      <th></th>\n",
       "      <th></th>\n",
       "      <th></th>\n",
       "      <th></th>\n",
       "      <th></th>\n",
       "      <th></th>\n",
       "      <th></th>\n",
       "      <th></th>\n",
       "      <th></th>\n",
       "      <th></th>\n",
       "      <th></th>\n",
       "      <th></th>\n",
       "      <th></th>\n",
       "      <th></th>\n",
       "      <th></th>\n",
       "      <th></th>\n",
       "      <th></th>\n",
       "      <th></th>\n",
       "      <th></th>\n",
       "    </tr>\n",
       "  </thead>\n",
       "  <tbody>\n",
       "    <tr>\n",
       "      <th>2006-01-31</th>\n",
       "      <td>NaN</td>\n",
       "      <td>NaN</td>\n",
       "      <td>NaN</td>\n",
       "      <td>NaN</td>\n",
       "      <td>NaN</td>\n",
       "      <td>NaN</td>\n",
       "      <td>NaN</td>\n",
       "      <td>NaN</td>\n",
       "      <td>NaN</td>\n",
       "      <td>NaN</td>\n",
       "      <td>...</td>\n",
       "      <td>NaN</td>\n",
       "      <td>NaN</td>\n",
       "      <td>NaN</td>\n",
       "      <td>NaN</td>\n",
       "      <td>NaN</td>\n",
       "      <td>NaN</td>\n",
       "      <td>NaN</td>\n",
       "      <td>NaN</td>\n",
       "      <td>NaN</td>\n",
       "      <td>NaN</td>\n",
       "    </tr>\n",
       "    <tr>\n",
       "      <th>2006-02-28</th>\n",
       "      <td>0.907032</td>\n",
       "      <td>0.957764</td>\n",
       "      <td>0.900926</td>\n",
       "      <td>1.048265</td>\n",
       "      <td>0.848965</td>\n",
       "      <td>0.970300</td>\n",
       "      <td>0.973548</td>\n",
       "      <td>0.915044</td>\n",
       "      <td>1.089930</td>\n",
       "      <td>0.988067</td>\n",
       "      <td>...</td>\n",
       "      <td>0.986085</td>\n",
       "      <td>1.211152</td>\n",
       "      <td>1.139080</td>\n",
       "      <td>NaN</td>\n",
       "      <td>NaN</td>\n",
       "      <td>NaN</td>\n",
       "      <td>1.049287</td>\n",
       "      <td>1.022239</td>\n",
       "      <td>NaN</td>\n",
       "      <td>1.021923</td>\n",
       "    </tr>\n",
       "    <tr>\n",
       "      <th>2006-03-31</th>\n",
       "      <td>0.830618</td>\n",
       "      <td>0.969883</td>\n",
       "      <td>0.931481</td>\n",
       "      <td>1.273577</td>\n",
       "      <td>0.885018</td>\n",
       "      <td>0.879688</td>\n",
       "      <td>0.919672</td>\n",
       "      <td>0.901327</td>\n",
       "      <td>1.166937</td>\n",
       "      <td>1.089101</td>\n",
       "      <td>...</td>\n",
       "      <td>0.928571</td>\n",
       "      <td>1.503199</td>\n",
       "      <td>1.264368</td>\n",
       "      <td>NaN</td>\n",
       "      <td>NaN</td>\n",
       "      <td>NaN</td>\n",
       "      <td>1.228923</td>\n",
       "      <td>1.125687</td>\n",
       "      <td>NaN</td>\n",
       "      <td>1.012692</td>\n",
       "    </tr>\n",
       "    <tr>\n",
       "      <th>2006-04-30</th>\n",
       "      <td>0.932194</td>\n",
       "      <td>0.860812</td>\n",
       "      <td>0.970371</td>\n",
       "      <td>1.299822</td>\n",
       "      <td>0.853837</td>\n",
       "      <td>0.986660</td>\n",
       "      <td>0.944247</td>\n",
       "      <td>0.935398</td>\n",
       "      <td>1.128164</td>\n",
       "      <td>1.160700</td>\n",
       "      <td>...</td>\n",
       "      <td>0.898423</td>\n",
       "      <td>1.539762</td>\n",
       "      <td>1.267816</td>\n",
       "      <td>NaN</td>\n",
       "      <td>NaN</td>\n",
       "      <td>NaN</td>\n",
       "      <td>1.294423</td>\n",
       "      <td>1.183908</td>\n",
       "      <td>NaN</td>\n",
       "      <td>1.021539</td>\n",
       "    </tr>\n",
       "    <tr>\n",
       "      <th>2006-05-31</th>\n",
       "      <td>0.791551</td>\n",
       "      <td>0.810493</td>\n",
       "      <td>0.876852</td>\n",
       "      <td>1.022242</td>\n",
       "      <td>0.718879</td>\n",
       "      <td>0.720614</td>\n",
       "      <td>0.855988</td>\n",
       "      <td>0.900000</td>\n",
       "      <td>1.059774</td>\n",
       "      <td>1.131265</td>\n",
       "      <td>...</td>\n",
       "      <td>0.895176</td>\n",
       "      <td>1.430073</td>\n",
       "      <td>1.221839</td>\n",
       "      <td>NaN</td>\n",
       "      <td>NaN</td>\n",
       "      <td>NaN</td>\n",
       "      <td>1.218547</td>\n",
       "      <td>1.147926</td>\n",
       "      <td>NaN</td>\n",
       "      <td>0.900771</td>\n",
       "    </tr>\n",
       "  </tbody>\n",
       "</table>\n",
       "<p>5 rows × 100 columns</p>\n",
       "</div>"
      ],
      "text/plain": [
       "            AAPL Return  MSFT Return  TSM Return  NVDA Return  CRM Return  \\\n",
       "Date                                                                        \n",
       "2006-01-31          NaN          NaN         NaN          NaN         NaN   \n",
       "2006-02-28     0.907032     0.957764    0.900926     1.048265    0.848965   \n",
       "2006-03-31     0.830618     0.969883    0.931481     1.273577    0.885018   \n",
       "2006-04-30     0.932194     0.860812    0.970371     1.299822    0.853837   \n",
       "2006-05-31     0.791551     0.810493    0.876852     1.022242    0.718879   \n",
       "\n",
       "            ADBE Return  INTC Return  ASML Return  CSCO Return  ORCL Return  \\\n",
       "Date                                                                          \n",
       "2006-01-31          NaN          NaN          NaN          NaN          NaN   \n",
       "2006-02-28     0.970300     0.973548     0.915044     1.089930     0.988067   \n",
       "2006-03-31     0.879688     0.919672     0.901327     1.166937     1.089101   \n",
       "2006-04-30     0.986660     0.944247     0.935398     1.128164     1.160700   \n",
       "2006-05-31     0.720614     0.855988     0.900000     1.059774     1.131265   \n",
       "\n",
       "            ...  CHKP Return  AKAM Return  TYL Return  CCC Return  UI Return  \\\n",
       "Date        ...                                                                \n",
       "2006-01-31  ...          NaN          NaN         NaN         NaN        NaN   \n",
       "2006-02-28  ...     0.986085     1.211152    1.139080         NaN        NaN   \n",
       "2006-03-31  ...     0.928571     1.503199    1.264368         NaN        NaN   \n",
       "2006-04-30  ...     0.898423     1.539762    1.267816         NaN        NaN   \n",
       "2006-05-31  ...     0.895176     1.430073    1.221839         NaN        NaN   \n",
       "\n",
       "            ZEN Return  CTXS Return  TRMB Return  AVLR Return  STX Return  \n",
       "Date                                                                       \n",
       "2006-01-31         NaN          NaN          NaN          NaN         NaN  \n",
       "2006-02-28         NaN     1.049287     1.022239          NaN    1.021923  \n",
       "2006-03-31         NaN     1.228923     1.125687          NaN    1.012692  \n",
       "2006-04-30         NaN     1.294423     1.183908          NaN    1.021539  \n",
       "2006-05-31         NaN     1.218547     1.147926          NaN    0.900771  \n",
       "\n",
       "[5 rows x 100 columns]"
      ]
     },
     "execution_count": 53,
     "metadata": {},
     "output_type": "execute_result"
    }
   ],
   "source": [
    "# Monthly Cumulative Returns\n",
    "monthly_cumulative_returns = pd.DataFrame()\n",
    "\n",
    "for tick in Tickr:\n",
    "    monthly_cumulative_returns[tick + ' Return'] = (monthly_returns[tick + ' Return'] + 1).cumprod()\n",
    "monthly_cumulative_returns.head()    "
   ]
  },
  {
   "cell_type": "code",
   "execution_count": 54,
   "metadata": {},
   "outputs": [
    {
     "data": {
      "text/html": [
       "<div>\n",
       "<style scoped>\n",
       "    .dataframe tbody tr th:only-of-type {\n",
       "        vertical-align: middle;\n",
       "    }\n",
       "\n",
       "    .dataframe tbody tr th {\n",
       "        vertical-align: top;\n",
       "    }\n",
       "\n",
       "    .dataframe thead th {\n",
       "        text-align: right;\n",
       "    }\n",
       "</style>\n",
       "<table border=\"1\" class=\"dataframe\">\n",
       "  <thead>\n",
       "    <tr style=\"text-align: right;\">\n",
       "      <th></th>\n",
       "      <th>AAPL Return</th>\n",
       "      <th>MSFT Return</th>\n",
       "      <th>TSM Return</th>\n",
       "      <th>NVDA Return</th>\n",
       "      <th>CRM Return</th>\n",
       "      <th>ADBE Return</th>\n",
       "      <th>INTC Return</th>\n",
       "      <th>ASML Return</th>\n",
       "      <th>CSCO Return</th>\n",
       "      <th>ORCL Return</th>\n",
       "      <th>...</th>\n",
       "      <th>CHKP Return</th>\n",
       "      <th>AKAM Return</th>\n",
       "      <th>TYL Return</th>\n",
       "      <th>CCC Return</th>\n",
       "      <th>UI Return</th>\n",
       "      <th>ZEN Return</th>\n",
       "      <th>CTXS Return</th>\n",
       "      <th>TRMB Return</th>\n",
       "      <th>AVLR Return</th>\n",
       "      <th>STX Return</th>\n",
       "    </tr>\n",
       "    <tr>\n",
       "      <th>Date</th>\n",
       "      <th></th>\n",
       "      <th></th>\n",
       "      <th></th>\n",
       "      <th></th>\n",
       "      <th></th>\n",
       "      <th></th>\n",
       "      <th></th>\n",
       "      <th></th>\n",
       "      <th></th>\n",
       "      <th></th>\n",
       "      <th></th>\n",
       "      <th></th>\n",
       "      <th></th>\n",
       "      <th></th>\n",
       "      <th></th>\n",
       "      <th></th>\n",
       "      <th></th>\n",
       "      <th></th>\n",
       "      <th></th>\n",
       "      <th></th>\n",
       "      <th></th>\n",
       "    </tr>\n",
       "  </thead>\n",
       "  <tbody>\n",
       "    <tr>\n",
       "      <th>2006-12-31</th>\n",
       "      <td>NaN</td>\n",
       "      <td>NaN</td>\n",
       "      <td>NaN</td>\n",
       "      <td>NaN</td>\n",
       "      <td>NaN</td>\n",
       "      <td>NaN</td>\n",
       "      <td>NaN</td>\n",
       "      <td>NaN</td>\n",
       "      <td>NaN</td>\n",
       "      <td>NaN</td>\n",
       "      <td>...</td>\n",
       "      <td>NaN</td>\n",
       "      <td>NaN</td>\n",
       "      <td>NaN</td>\n",
       "      <td>NaN</td>\n",
       "      <td>NaN</td>\n",
       "      <td>NaN</td>\n",
       "      <td>NaN</td>\n",
       "      <td>NaN</td>\n",
       "      <td>NaN</td>\n",
       "      <td>NaN</td>\n",
       "    </tr>\n",
       "    <tr>\n",
       "      <th>2007-12-31</th>\n",
       "      <td>2.334748</td>\n",
       "      <td>1.208429</td>\n",
       "      <td>0.950943</td>\n",
       "      <td>1.378817</td>\n",
       "      <td>1.719890</td>\n",
       "      <td>1.039154</td>\n",
       "      <td>1.342319</td>\n",
       "      <td>1.223219</td>\n",
       "      <td>0.990487</td>\n",
       "      <td>1.317386</td>\n",
       "      <td>...</td>\n",
       "      <td>1.001825</td>\n",
       "      <td>0.651355</td>\n",
       "      <td>0.916785</td>\n",
       "      <td>NaN</td>\n",
       "      <td>NaN</td>\n",
       "      <td>NaN</td>\n",
       "      <td>1.405176</td>\n",
       "      <td>1.192194</td>\n",
       "      <td>NaN</td>\n",
       "      <td>0.978023</td>\n",
       "    </tr>\n",
       "    <tr>\n",
       "      <th>2008-12-31</th>\n",
       "      <td>1.006011</td>\n",
       "      <td>0.672060</td>\n",
       "      <td>0.794686</td>\n",
       "      <td>0.327074</td>\n",
       "      <td>0.878189</td>\n",
       "      <td>0.517753</td>\n",
       "      <td>0.758245</td>\n",
       "      <td>0.716549</td>\n",
       "      <td>0.596414</td>\n",
       "      <td>1.034422</td>\n",
       "      <td>...</td>\n",
       "      <td>0.866332</td>\n",
       "      <td>0.284074</td>\n",
       "      <td>0.852063</td>\n",
       "      <td>NaN</td>\n",
       "      <td>NaN</td>\n",
       "      <td>NaN</td>\n",
       "      <td>0.871349</td>\n",
       "      <td>0.851961</td>\n",
       "      <td>NaN</td>\n",
       "      <td>0.175999</td>\n",
       "    </tr>\n",
       "    <tr>\n",
       "      <th>2009-12-31</th>\n",
       "      <td>2.483852</td>\n",
       "      <td>1.078436</td>\n",
       "      <td>1.212765</td>\n",
       "      <td>0.757093</td>\n",
       "      <td>2.023868</td>\n",
       "      <td>0.894455</td>\n",
       "      <td>1.091137</td>\n",
       "      <td>1.373064</td>\n",
       "      <td>0.875961</td>\n",
       "      <td>1.441850</td>\n",
       "      <td>...</td>\n",
       "      <td>1.545620</td>\n",
       "      <td>0.477033</td>\n",
       "      <td>1.416074</td>\n",
       "      <td>NaN</td>\n",
       "      <td>NaN</td>\n",
       "      <td>NaN</td>\n",
       "      <td>1.538262</td>\n",
       "      <td>0.993495</td>\n",
       "      <td>NaN</td>\n",
       "      <td>0.728375</td>\n",
       "    </tr>\n",
       "    <tr>\n",
       "      <th>2010-12-31</th>\n",
       "      <td>3.801980</td>\n",
       "      <td>1.008072</td>\n",
       "      <td>1.395557</td>\n",
       "      <td>0.624156</td>\n",
       "      <td>3.621399</td>\n",
       "      <td>0.748541</td>\n",
       "      <td>1.159547</td>\n",
       "      <td>1.556785</td>\n",
       "      <td>0.740212</td>\n",
       "      <td>1.854400</td>\n",
       "      <td>...</td>\n",
       "      <td>2.110401</td>\n",
       "      <td>0.885730</td>\n",
       "      <td>1.476529</td>\n",
       "      <td>NaN</td>\n",
       "      <td>NaN</td>\n",
       "      <td>NaN</td>\n",
       "      <td>2.529020</td>\n",
       "      <td>1.574216</td>\n",
       "      <td>NaN</td>\n",
       "      <td>0.601840</td>\n",
       "    </tr>\n",
       "  </tbody>\n",
       "</table>\n",
       "<p>5 rows × 100 columns</p>\n",
       "</div>"
      ],
      "text/plain": [
       "            AAPL Return  MSFT Return  TSM Return  NVDA Return  CRM Return  \\\n",
       "Date                                                                        \n",
       "2006-12-31          NaN          NaN         NaN          NaN         NaN   \n",
       "2007-12-31     2.334748     1.208429    0.950943     1.378817    1.719890   \n",
       "2008-12-31     1.006011     0.672060    0.794686     0.327074    0.878189   \n",
       "2009-12-31     2.483852     1.078436    1.212765     0.757093    2.023868   \n",
       "2010-12-31     3.801980     1.008072    1.395557     0.624156    3.621399   \n",
       "\n",
       "            ADBE Return  INTC Return  ASML Return  CSCO Return  ORCL Return  \\\n",
       "Date                                                                          \n",
       "2006-12-31          NaN          NaN          NaN          NaN          NaN   \n",
       "2007-12-31     1.039154     1.342319     1.223219     0.990487     1.317386   \n",
       "2008-12-31     0.517753     0.758245     0.716549     0.596414     1.034422   \n",
       "2009-12-31     0.894455     1.091137     1.373064     0.875961     1.441850   \n",
       "2010-12-31     0.748541     1.159547     1.556785     0.740212     1.854400   \n",
       "\n",
       "            ...  CHKP Return  AKAM Return  TYL Return  CCC Return  UI Return  \\\n",
       "Date        ...                                                                \n",
       "2006-12-31  ...          NaN          NaN         NaN         NaN        NaN   \n",
       "2007-12-31  ...     1.001825     0.651355    0.916785         NaN        NaN   \n",
       "2008-12-31  ...     0.866332     0.284074    0.852063         NaN        NaN   \n",
       "2009-12-31  ...     1.545620     0.477033    1.416074         NaN        NaN   \n",
       "2010-12-31  ...     2.110401     0.885730    1.476529         NaN        NaN   \n",
       "\n",
       "            ZEN Return  CTXS Return  TRMB Return  AVLR Return  STX Return  \n",
       "Date                                                                       \n",
       "2006-12-31         NaN          NaN          NaN          NaN         NaN  \n",
       "2007-12-31         NaN     1.405176     1.192194          NaN    0.978023  \n",
       "2008-12-31         NaN     0.871349     0.851961          NaN    0.175999  \n",
       "2009-12-31         NaN     1.538262     0.993495          NaN    0.728375  \n",
       "2010-12-31         NaN     2.529020     1.574216          NaN    0.601840  \n",
       "\n",
       "[5 rows x 100 columns]"
      ]
     },
     "execution_count": 54,
     "metadata": {},
     "output_type": "execute_result"
    }
   ],
   "source": [
    "# yearly cumulative returns\n",
    "yearly_cumulative_returns = pd.DataFrame()\n",
    "\n",
    "for tick in Tickr:\n",
    "    yearly_cumulative_returns[tick + ' Return'] = (yearly_returns[tick + ' Return'] + 1).cumprod()\n",
    "yearly_cumulative_returns.head()"
   ]
  },
  {
   "cell_type": "markdown",
   "metadata": {},
   "source": [
    "### **ix. Visualizing Best and Worst Yearly cumulative returns  of IT sector companies**\n"
   ]
  },
  {
   "cell_type": "code",
   "execution_count": 68,
   "metadata": {},
   "outputs": [
    {
     "data": {
      "application/vnd.plotly.v1+json": {
       "config": {
        "plotlyServerURL": "https://plot.ly"
       },
       "data": [
        {
         "alignmentgroup": "True",
         "hovertemplate": "variable=0<br>Stocks=%{x}<br>Yearly Cumulative Return=%{y}<extra></extra>",
         "legendgroup": "0",
         "marker": {
          "color": "#636efa"
         },
         "name": "0",
         "offsetgroup": "0",
         "orientation": "v",
         "showlegend": true,
         "textposition": "auto",
         "type": "bar",
         "x": [
          "AAPL Return",
          "AVGO Return",
          "TYL Return",
          "SHOP Return",
          "SWKS Return",
          "CRM Return",
          "ASML Return",
          "PAYC Return",
          "NVDA Return",
          "EPAM Return",
          "FTNT Return",
          "GIB Return",
          "RNG Return",
          "UI Return",
          "ANSS Return",
          "NOW Return",
          "VRSN Return",
          "INTU Return",
          "FLT Return",
          "FISV Return"
         ],
         "xaxis": "x",
         "y": [
          7.3100489222744915,
          7.111555111353673,
          6.369136250018787,
          6.075556854129315,
          5.682166753835683,
          5.231645963466164,
          4.471349919434779,
          3.521297017587476,
          3.4087018454530913,
          3.2972438861207527,
          3.2519693915359715,
          3.239445473921835,
          3.207413477355594,
          3.190988648604097,
          2.8347460732233793,
          2.707448756390749,
          2.617291245230597,
          2.590698201326364,
          2.4704256353971767,
          2.4046381501687395
         ],
         "yaxis": "y"
        }
       ],
       "layout": {
        "barmode": "relative",
        "legend": {
         "title": {
          "text": "variable"
         },
         "tracegroupgap": 0
        },
        "showlegend": false,
        "template": {
         "data": {
          "bar": [
           {
            "error_x": {
             "color": "#2a3f5f"
            },
            "error_y": {
             "color": "#2a3f5f"
            },
            "marker": {
             "line": {
              "color": "#E5ECF6",
              "width": 0.5
             }
            },
            "type": "bar"
           }
          ],
          "barpolar": [
           {
            "marker": {
             "line": {
              "color": "#E5ECF6",
              "width": 0.5
             }
            },
            "type": "barpolar"
           }
          ],
          "carpet": [
           {
            "aaxis": {
             "endlinecolor": "#2a3f5f",
             "gridcolor": "white",
             "linecolor": "white",
             "minorgridcolor": "white",
             "startlinecolor": "#2a3f5f"
            },
            "baxis": {
             "endlinecolor": "#2a3f5f",
             "gridcolor": "white",
             "linecolor": "white",
             "minorgridcolor": "white",
             "startlinecolor": "#2a3f5f"
            },
            "type": "carpet"
           }
          ],
          "choropleth": [
           {
            "colorbar": {
             "outlinewidth": 0,
             "ticks": ""
            },
            "type": "choropleth"
           }
          ],
          "contour": [
           {
            "colorbar": {
             "outlinewidth": 0,
             "ticks": ""
            },
            "colorscale": [
             [
              0,
              "#0d0887"
             ],
             [
              0.1111111111111111,
              "#46039f"
             ],
             [
              0.2222222222222222,
              "#7201a8"
             ],
             [
              0.3333333333333333,
              "#9c179e"
             ],
             [
              0.4444444444444444,
              "#bd3786"
             ],
             [
              0.5555555555555556,
              "#d8576b"
             ],
             [
              0.6666666666666666,
              "#ed7953"
             ],
             [
              0.7777777777777778,
              "#fb9f3a"
             ],
             [
              0.8888888888888888,
              "#fdca26"
             ],
             [
              1,
              "#f0f921"
             ]
            ],
            "type": "contour"
           }
          ],
          "contourcarpet": [
           {
            "colorbar": {
             "outlinewidth": 0,
             "ticks": ""
            },
            "type": "contourcarpet"
           }
          ],
          "heatmap": [
           {
            "colorbar": {
             "outlinewidth": 0,
             "ticks": ""
            },
            "colorscale": [
             [
              0,
              "#0d0887"
             ],
             [
              0.1111111111111111,
              "#46039f"
             ],
             [
              0.2222222222222222,
              "#7201a8"
             ],
             [
              0.3333333333333333,
              "#9c179e"
             ],
             [
              0.4444444444444444,
              "#bd3786"
             ],
             [
              0.5555555555555556,
              "#d8576b"
             ],
             [
              0.6666666666666666,
              "#ed7953"
             ],
             [
              0.7777777777777778,
              "#fb9f3a"
             ],
             [
              0.8888888888888888,
              "#fdca26"
             ],
             [
              1,
              "#f0f921"
             ]
            ],
            "type": "heatmap"
           }
          ],
          "heatmapgl": [
           {
            "colorbar": {
             "outlinewidth": 0,
             "ticks": ""
            },
            "colorscale": [
             [
              0,
              "#0d0887"
             ],
             [
              0.1111111111111111,
              "#46039f"
             ],
             [
              0.2222222222222222,
              "#7201a8"
             ],
             [
              0.3333333333333333,
              "#9c179e"
             ],
             [
              0.4444444444444444,
              "#bd3786"
             ],
             [
              0.5555555555555556,
              "#d8576b"
             ],
             [
              0.6666666666666666,
              "#ed7953"
             ],
             [
              0.7777777777777778,
              "#fb9f3a"
             ],
             [
              0.8888888888888888,
              "#fdca26"
             ],
             [
              1,
              "#f0f921"
             ]
            ],
            "type": "heatmapgl"
           }
          ],
          "histogram": [
           {
            "marker": {
             "colorbar": {
              "outlinewidth": 0,
              "ticks": ""
             }
            },
            "type": "histogram"
           }
          ],
          "histogram2d": [
           {
            "colorbar": {
             "outlinewidth": 0,
             "ticks": ""
            },
            "colorscale": [
             [
              0,
              "#0d0887"
             ],
             [
              0.1111111111111111,
              "#46039f"
             ],
             [
              0.2222222222222222,
              "#7201a8"
             ],
             [
              0.3333333333333333,
              "#9c179e"
             ],
             [
              0.4444444444444444,
              "#bd3786"
             ],
             [
              0.5555555555555556,
              "#d8576b"
             ],
             [
              0.6666666666666666,
              "#ed7953"
             ],
             [
              0.7777777777777778,
              "#fb9f3a"
             ],
             [
              0.8888888888888888,
              "#fdca26"
             ],
             [
              1,
              "#f0f921"
             ]
            ],
            "type": "histogram2d"
           }
          ],
          "histogram2dcontour": [
           {
            "colorbar": {
             "outlinewidth": 0,
             "ticks": ""
            },
            "colorscale": [
             [
              0,
              "#0d0887"
             ],
             [
              0.1111111111111111,
              "#46039f"
             ],
             [
              0.2222222222222222,
              "#7201a8"
             ],
             [
              0.3333333333333333,
              "#9c179e"
             ],
             [
              0.4444444444444444,
              "#bd3786"
             ],
             [
              0.5555555555555556,
              "#d8576b"
             ],
             [
              0.6666666666666666,
              "#ed7953"
             ],
             [
              0.7777777777777778,
              "#fb9f3a"
             ],
             [
              0.8888888888888888,
              "#fdca26"
             ],
             [
              1,
              "#f0f921"
             ]
            ],
            "type": "histogram2dcontour"
           }
          ],
          "mesh3d": [
           {
            "colorbar": {
             "outlinewidth": 0,
             "ticks": ""
            },
            "type": "mesh3d"
           }
          ],
          "parcoords": [
           {
            "line": {
             "colorbar": {
              "outlinewidth": 0,
              "ticks": ""
             }
            },
            "type": "parcoords"
           }
          ],
          "pie": [
           {
            "automargin": true,
            "type": "pie"
           }
          ],
          "scatter": [
           {
            "marker": {
             "colorbar": {
              "outlinewidth": 0,
              "ticks": ""
             }
            },
            "type": "scatter"
           }
          ],
          "scatter3d": [
           {
            "line": {
             "colorbar": {
              "outlinewidth": 0,
              "ticks": ""
             }
            },
            "marker": {
             "colorbar": {
              "outlinewidth": 0,
              "ticks": ""
             }
            },
            "type": "scatter3d"
           }
          ],
          "scattercarpet": [
           {
            "marker": {
             "colorbar": {
              "outlinewidth": 0,
              "ticks": ""
             }
            },
            "type": "scattercarpet"
           }
          ],
          "scattergeo": [
           {
            "marker": {
             "colorbar": {
              "outlinewidth": 0,
              "ticks": ""
             }
            },
            "type": "scattergeo"
           }
          ],
          "scattergl": [
           {
            "marker": {
             "colorbar": {
              "outlinewidth": 0,
              "ticks": ""
             }
            },
            "type": "scattergl"
           }
          ],
          "scattermapbox": [
           {
            "marker": {
             "colorbar": {
              "outlinewidth": 0,
              "ticks": ""
             }
            },
            "type": "scattermapbox"
           }
          ],
          "scatterpolar": [
           {
            "marker": {
             "colorbar": {
              "outlinewidth": 0,
              "ticks": ""
             }
            },
            "type": "scatterpolar"
           }
          ],
          "scatterpolargl": [
           {
            "marker": {
             "colorbar": {
              "outlinewidth": 0,
              "ticks": ""
             }
            },
            "type": "scatterpolargl"
           }
          ],
          "scatterternary": [
           {
            "marker": {
             "colorbar": {
              "outlinewidth": 0,
              "ticks": ""
             }
            },
            "type": "scatterternary"
           }
          ],
          "surface": [
           {
            "colorbar": {
             "outlinewidth": 0,
             "ticks": ""
            },
            "colorscale": [
             [
              0,
              "#0d0887"
             ],
             [
              0.1111111111111111,
              "#46039f"
             ],
             [
              0.2222222222222222,
              "#7201a8"
             ],
             [
              0.3333333333333333,
              "#9c179e"
             ],
             [
              0.4444444444444444,
              "#bd3786"
             ],
             [
              0.5555555555555556,
              "#d8576b"
             ],
             [
              0.6666666666666666,
              "#ed7953"
             ],
             [
              0.7777777777777778,
              "#fb9f3a"
             ],
             [
              0.8888888888888888,
              "#fdca26"
             ],
             [
              1,
              "#f0f921"
             ]
            ],
            "type": "surface"
           }
          ],
          "table": [
           {
            "cells": {
             "fill": {
              "color": "#EBF0F8"
             },
             "line": {
              "color": "white"
             }
            },
            "header": {
             "fill": {
              "color": "#C8D4E3"
             },
             "line": {
              "color": "white"
             }
            },
            "type": "table"
           }
          ]
         },
         "layout": {
          "annotationdefaults": {
           "arrowcolor": "#2a3f5f",
           "arrowhead": 0,
           "arrowwidth": 1
          },
          "coloraxis": {
           "colorbar": {
            "outlinewidth": 0,
            "ticks": ""
           }
          },
          "colorscale": {
           "diverging": [
            [
             0,
             "#8e0152"
            ],
            [
             0.1,
             "#c51b7d"
            ],
            [
             0.2,
             "#de77ae"
            ],
            [
             0.3,
             "#f1b6da"
            ],
            [
             0.4,
             "#fde0ef"
            ],
            [
             0.5,
             "#f7f7f7"
            ],
            [
             0.6,
             "#e6f5d0"
            ],
            [
             0.7,
             "#b8e186"
            ],
            [
             0.8,
             "#7fbc41"
            ],
            [
             0.9,
             "#4d9221"
            ],
            [
             1,
             "#276419"
            ]
           ],
           "sequential": [
            [
             0,
             "#0d0887"
            ],
            [
             0.1111111111111111,
             "#46039f"
            ],
            [
             0.2222222222222222,
             "#7201a8"
            ],
            [
             0.3333333333333333,
             "#9c179e"
            ],
            [
             0.4444444444444444,
             "#bd3786"
            ],
            [
             0.5555555555555556,
             "#d8576b"
            ],
            [
             0.6666666666666666,
             "#ed7953"
            ],
            [
             0.7777777777777778,
             "#fb9f3a"
            ],
            [
             0.8888888888888888,
             "#fdca26"
            ],
            [
             1,
             "#f0f921"
            ]
           ],
           "sequentialminus": [
            [
             0,
             "#0d0887"
            ],
            [
             0.1111111111111111,
             "#46039f"
            ],
            [
             0.2222222222222222,
             "#7201a8"
            ],
            [
             0.3333333333333333,
             "#9c179e"
            ],
            [
             0.4444444444444444,
             "#bd3786"
            ],
            [
             0.5555555555555556,
             "#d8576b"
            ],
            [
             0.6666666666666666,
             "#ed7953"
            ],
            [
             0.7777777777777778,
             "#fb9f3a"
            ],
            [
             0.8888888888888888,
             "#fdca26"
            ],
            [
             1,
             "#f0f921"
            ]
           ]
          },
          "colorway": [
           "#636efa",
           "#EF553B",
           "#00cc96",
           "#ab63fa",
           "#FFA15A",
           "#19d3f3",
           "#FF6692",
           "#B6E880",
           "#FF97FF",
           "#FECB52"
          ],
          "font": {
           "color": "#2a3f5f"
          },
          "geo": {
           "bgcolor": "white",
           "lakecolor": "white",
           "landcolor": "#E5ECF6",
           "showlakes": true,
           "showland": true,
           "subunitcolor": "white"
          },
          "hoverlabel": {
           "align": "left"
          },
          "hovermode": "closest",
          "mapbox": {
           "style": "light"
          },
          "paper_bgcolor": "white",
          "plot_bgcolor": "#E5ECF6",
          "polar": {
           "angularaxis": {
            "gridcolor": "white",
            "linecolor": "white",
            "ticks": ""
           },
           "bgcolor": "#E5ECF6",
           "radialaxis": {
            "gridcolor": "white",
            "linecolor": "white",
            "ticks": ""
           }
          },
          "scene": {
           "xaxis": {
            "backgroundcolor": "#E5ECF6",
            "gridcolor": "white",
            "gridwidth": 2,
            "linecolor": "white",
            "showbackground": true,
            "ticks": "",
            "zerolinecolor": "white"
           },
           "yaxis": {
            "backgroundcolor": "#E5ECF6",
            "gridcolor": "white",
            "gridwidth": 2,
            "linecolor": "white",
            "showbackground": true,
            "ticks": "",
            "zerolinecolor": "white"
           },
           "zaxis": {
            "backgroundcolor": "#E5ECF6",
            "gridcolor": "white",
            "gridwidth": 2,
            "linecolor": "white",
            "showbackground": true,
            "ticks": "",
            "zerolinecolor": "white"
           }
          },
          "shapedefaults": {
           "line": {
            "color": "#2a3f5f"
           }
          },
          "ternary": {
           "aaxis": {
            "gridcolor": "white",
            "linecolor": "white",
            "ticks": ""
           },
           "baxis": {
            "gridcolor": "white",
            "linecolor": "white",
            "ticks": ""
           },
           "bgcolor": "#E5ECF6",
           "caxis": {
            "gridcolor": "white",
            "linecolor": "white",
            "ticks": ""
           }
          },
          "title": {
           "x": 0.05
          },
          "xaxis": {
           "automargin": true,
           "gridcolor": "white",
           "linecolor": "white",
           "ticks": "",
           "title": {
            "standoff": 15
           },
           "zerolinecolor": "white",
           "zerolinewidth": 2
          },
          "yaxis": {
           "automargin": true,
           "gridcolor": "white",
           "linecolor": "white",
           "ticks": "",
           "title": {
            "standoff": 15
           },
           "zerolinecolor": "white",
           "zerolinewidth": 2
          }
         }
        },
        "title": {
         "text": "Top 20 Best Yearly Cumulative Returns in 2019"
        },
        "xaxis": {
         "anchor": "y",
         "domain": [
          0,
          1
         ],
         "title": {
          "text": "Stocks"
         }
        },
        "yaxis": {
         "anchor": "x",
         "domain": [
          0,
          1
         ],
         "title": {
          "text": "Yearly Cumulative Return"
         }
        }
       }
      },
      "text/html": [
       "<div>                            <div id=\"0299bc79-e459-4ab4-99cb-ebcbe438b5c1\" class=\"plotly-graph-div\" style=\"height:525px; width:100%;\"></div>            <script type=\"text/javascript\">                require([\"plotly\"], function(Plotly) {                    window.PLOTLYENV=window.PLOTLYENV || {};                                    if (document.getElementById(\"0299bc79-e459-4ab4-99cb-ebcbe438b5c1\")) {                    Plotly.newPlot(                        \"0299bc79-e459-4ab4-99cb-ebcbe438b5c1\",                        [{\"alignmentgroup\": \"True\", \"hovertemplate\": \"variable=0<br>Stocks=%{x}<br>Yearly Cumulative Return=%{y}<extra></extra>\", \"legendgroup\": \"0\", \"marker\": {\"color\": \"#636efa\"}, \"name\": \"0\", \"offsetgroup\": \"0\", \"orientation\": \"v\", \"showlegend\": true, \"textposition\": \"auto\", \"type\": \"bar\", \"x\": [\"AAPL Return\", \"AVGO Return\", \"TYL Return\", \"SHOP Return\", \"SWKS Return\", \"CRM Return\", \"ASML Return\", \"PAYC Return\", \"NVDA Return\", \"EPAM Return\", \"FTNT Return\", \"GIB Return\", \"RNG Return\", \"UI Return\", \"ANSS Return\", \"NOW Return\", \"VRSN Return\", \"INTU Return\", \"FLT Return\", \"FISV Return\"], \"xaxis\": \"x\", \"y\": [7.3100489222744915, 7.111555111353673, 6.369136250018787, 6.075556854129315, 5.682166753835683, 5.231645963466164, 4.471349919434779, 3.521297017587476, 3.4087018454530913, 3.2972438861207527, 3.2519693915359715, 3.239445473921835, 3.207413477355594, 3.190988648604097, 2.8347460732233793, 2.707448756390749, 2.617291245230597, 2.590698201326364, 2.4704256353971767, 2.4046381501687395], \"yaxis\": \"y\"}],                        {\"barmode\": \"relative\", \"legend\": {\"title\": {\"text\": \"variable\"}, \"tracegroupgap\": 0}, \"showlegend\": false, \"template\": {\"data\": {\"bar\": [{\"error_x\": {\"color\": \"#2a3f5f\"}, \"error_y\": {\"color\": \"#2a3f5f\"}, \"marker\": {\"line\": {\"color\": \"#E5ECF6\", \"width\": 0.5}}, \"type\": \"bar\"}], \"barpolar\": [{\"marker\": {\"line\": {\"color\": \"#E5ECF6\", \"width\": 0.5}}, \"type\": \"barpolar\"}], \"carpet\": [{\"aaxis\": {\"endlinecolor\": \"#2a3f5f\", \"gridcolor\": \"white\", \"linecolor\": \"white\", \"minorgridcolor\": \"white\", \"startlinecolor\": \"#2a3f5f\"}, \"baxis\": {\"endlinecolor\": \"#2a3f5f\", \"gridcolor\": \"white\", \"linecolor\": \"white\", \"minorgridcolor\": \"white\", \"startlinecolor\": \"#2a3f5f\"}, \"type\": \"carpet\"}], \"choropleth\": [{\"colorbar\": {\"outlinewidth\": 0, \"ticks\": \"\"}, \"type\": \"choropleth\"}], \"contour\": [{\"colorbar\": {\"outlinewidth\": 0, \"ticks\": \"\"}, \"colorscale\": [[0.0, \"#0d0887\"], [0.1111111111111111, \"#46039f\"], [0.2222222222222222, \"#7201a8\"], [0.3333333333333333, \"#9c179e\"], [0.4444444444444444, \"#bd3786\"], [0.5555555555555556, \"#d8576b\"], [0.6666666666666666, \"#ed7953\"], [0.7777777777777778, \"#fb9f3a\"], [0.8888888888888888, \"#fdca26\"], [1.0, \"#f0f921\"]], \"type\": \"contour\"}], \"contourcarpet\": [{\"colorbar\": {\"outlinewidth\": 0, \"ticks\": \"\"}, \"type\": \"contourcarpet\"}], \"heatmap\": [{\"colorbar\": {\"outlinewidth\": 0, \"ticks\": \"\"}, \"colorscale\": [[0.0, \"#0d0887\"], [0.1111111111111111, \"#46039f\"], [0.2222222222222222, \"#7201a8\"], [0.3333333333333333, \"#9c179e\"], [0.4444444444444444, \"#bd3786\"], [0.5555555555555556, \"#d8576b\"], [0.6666666666666666, \"#ed7953\"], [0.7777777777777778, \"#fb9f3a\"], [0.8888888888888888, \"#fdca26\"], [1.0, \"#f0f921\"]], \"type\": \"heatmap\"}], \"heatmapgl\": [{\"colorbar\": {\"outlinewidth\": 0, \"ticks\": \"\"}, \"colorscale\": [[0.0, \"#0d0887\"], [0.1111111111111111, \"#46039f\"], [0.2222222222222222, \"#7201a8\"], [0.3333333333333333, \"#9c179e\"], [0.4444444444444444, \"#bd3786\"], [0.5555555555555556, \"#d8576b\"], [0.6666666666666666, \"#ed7953\"], [0.7777777777777778, \"#fb9f3a\"], [0.8888888888888888, \"#fdca26\"], [1.0, \"#f0f921\"]], \"type\": \"heatmapgl\"}], \"histogram\": [{\"marker\": {\"colorbar\": {\"outlinewidth\": 0, \"ticks\": \"\"}}, \"type\": \"histogram\"}], \"histogram2d\": [{\"colorbar\": {\"outlinewidth\": 0, \"ticks\": \"\"}, \"colorscale\": [[0.0, \"#0d0887\"], [0.1111111111111111, \"#46039f\"], [0.2222222222222222, \"#7201a8\"], [0.3333333333333333, \"#9c179e\"], [0.4444444444444444, \"#bd3786\"], [0.5555555555555556, \"#d8576b\"], [0.6666666666666666, \"#ed7953\"], [0.7777777777777778, \"#fb9f3a\"], [0.8888888888888888, \"#fdca26\"], [1.0, \"#f0f921\"]], \"type\": \"histogram2d\"}], \"histogram2dcontour\": [{\"colorbar\": {\"outlinewidth\": 0, \"ticks\": \"\"}, \"colorscale\": [[0.0, \"#0d0887\"], [0.1111111111111111, \"#46039f\"], [0.2222222222222222, \"#7201a8\"], [0.3333333333333333, \"#9c179e\"], [0.4444444444444444, \"#bd3786\"], [0.5555555555555556, \"#d8576b\"], [0.6666666666666666, \"#ed7953\"], [0.7777777777777778, \"#fb9f3a\"], [0.8888888888888888, \"#fdca26\"], [1.0, \"#f0f921\"]], \"type\": \"histogram2dcontour\"}], \"mesh3d\": [{\"colorbar\": {\"outlinewidth\": 0, \"ticks\": \"\"}, \"type\": \"mesh3d\"}], \"parcoords\": [{\"line\": {\"colorbar\": {\"outlinewidth\": 0, \"ticks\": \"\"}}, \"type\": \"parcoords\"}], \"pie\": [{\"automargin\": true, \"type\": \"pie\"}], \"scatter\": [{\"marker\": {\"colorbar\": {\"outlinewidth\": 0, \"ticks\": \"\"}}, \"type\": \"scatter\"}], \"scatter3d\": [{\"line\": {\"colorbar\": {\"outlinewidth\": 0, \"ticks\": \"\"}}, \"marker\": {\"colorbar\": {\"outlinewidth\": 0, \"ticks\": \"\"}}, \"type\": \"scatter3d\"}], \"scattercarpet\": [{\"marker\": {\"colorbar\": {\"outlinewidth\": 0, \"ticks\": \"\"}}, \"type\": \"scattercarpet\"}], \"scattergeo\": [{\"marker\": {\"colorbar\": {\"outlinewidth\": 0, \"ticks\": \"\"}}, \"type\": \"scattergeo\"}], \"scattergl\": [{\"marker\": {\"colorbar\": {\"outlinewidth\": 0, \"ticks\": \"\"}}, \"type\": \"scattergl\"}], \"scattermapbox\": [{\"marker\": {\"colorbar\": {\"outlinewidth\": 0, \"ticks\": \"\"}}, \"type\": \"scattermapbox\"}], \"scatterpolar\": [{\"marker\": {\"colorbar\": {\"outlinewidth\": 0, \"ticks\": \"\"}}, \"type\": \"scatterpolar\"}], \"scatterpolargl\": [{\"marker\": {\"colorbar\": {\"outlinewidth\": 0, \"ticks\": \"\"}}, \"type\": \"scatterpolargl\"}], \"scatterternary\": [{\"marker\": {\"colorbar\": {\"outlinewidth\": 0, \"ticks\": \"\"}}, \"type\": \"scatterternary\"}], \"surface\": [{\"colorbar\": {\"outlinewidth\": 0, \"ticks\": \"\"}, \"colorscale\": [[0.0, \"#0d0887\"], [0.1111111111111111, \"#46039f\"], [0.2222222222222222, \"#7201a8\"], [0.3333333333333333, \"#9c179e\"], [0.4444444444444444, \"#bd3786\"], [0.5555555555555556, \"#d8576b\"], [0.6666666666666666, \"#ed7953\"], [0.7777777777777778, \"#fb9f3a\"], [0.8888888888888888, \"#fdca26\"], [1.0, \"#f0f921\"]], \"type\": \"surface\"}], \"table\": [{\"cells\": {\"fill\": {\"color\": \"#EBF0F8\"}, \"line\": {\"color\": \"white\"}}, \"header\": {\"fill\": {\"color\": \"#C8D4E3\"}, \"line\": {\"color\": \"white\"}}, \"type\": \"table\"}]}, \"layout\": {\"annotationdefaults\": {\"arrowcolor\": \"#2a3f5f\", \"arrowhead\": 0, \"arrowwidth\": 1}, \"coloraxis\": {\"colorbar\": {\"outlinewidth\": 0, \"ticks\": \"\"}}, \"colorscale\": {\"diverging\": [[0, \"#8e0152\"], [0.1, \"#c51b7d\"], [0.2, \"#de77ae\"], [0.3, \"#f1b6da\"], [0.4, \"#fde0ef\"], [0.5, \"#f7f7f7\"], [0.6, \"#e6f5d0\"], [0.7, \"#b8e186\"], [0.8, \"#7fbc41\"], [0.9, \"#4d9221\"], [1, \"#276419\"]], \"sequential\": [[0.0, \"#0d0887\"], [0.1111111111111111, \"#46039f\"], [0.2222222222222222, \"#7201a8\"], [0.3333333333333333, \"#9c179e\"], [0.4444444444444444, \"#bd3786\"], [0.5555555555555556, \"#d8576b\"], [0.6666666666666666, \"#ed7953\"], [0.7777777777777778, \"#fb9f3a\"], [0.8888888888888888, \"#fdca26\"], [1.0, \"#f0f921\"]], \"sequentialminus\": [[0.0, \"#0d0887\"], [0.1111111111111111, \"#46039f\"], [0.2222222222222222, \"#7201a8\"], [0.3333333333333333, \"#9c179e\"], [0.4444444444444444, \"#bd3786\"], [0.5555555555555556, \"#d8576b\"], [0.6666666666666666, \"#ed7953\"], [0.7777777777777778, \"#fb9f3a\"], [0.8888888888888888, \"#fdca26\"], [1.0, \"#f0f921\"]]}, \"colorway\": [\"#636efa\", \"#EF553B\", \"#00cc96\", \"#ab63fa\", \"#FFA15A\", \"#19d3f3\", \"#FF6692\", \"#B6E880\", \"#FF97FF\", \"#FECB52\"], \"font\": {\"color\": \"#2a3f5f\"}, \"geo\": {\"bgcolor\": \"white\", \"lakecolor\": \"white\", \"landcolor\": \"#E5ECF6\", \"showlakes\": true, \"showland\": true, \"subunitcolor\": \"white\"}, \"hoverlabel\": {\"align\": \"left\"}, \"hovermode\": \"closest\", \"mapbox\": {\"style\": \"light\"}, \"paper_bgcolor\": \"white\", \"plot_bgcolor\": \"#E5ECF6\", \"polar\": {\"angularaxis\": {\"gridcolor\": \"white\", \"linecolor\": \"white\", \"ticks\": \"\"}, \"bgcolor\": \"#E5ECF6\", \"radialaxis\": {\"gridcolor\": \"white\", \"linecolor\": \"white\", \"ticks\": \"\"}}, \"scene\": {\"xaxis\": {\"backgroundcolor\": \"#E5ECF6\", \"gridcolor\": \"white\", \"gridwidth\": 2, \"linecolor\": \"white\", \"showbackground\": true, \"ticks\": \"\", \"zerolinecolor\": \"white\"}, \"yaxis\": {\"backgroundcolor\": \"#E5ECF6\", \"gridcolor\": \"white\", \"gridwidth\": 2, \"linecolor\": \"white\", \"showbackground\": true, \"ticks\": \"\", \"zerolinecolor\": \"white\"}, \"zaxis\": {\"backgroundcolor\": \"#E5ECF6\", \"gridcolor\": \"white\", \"gridwidth\": 2, \"linecolor\": \"white\", \"showbackground\": true, \"ticks\": \"\", \"zerolinecolor\": \"white\"}}, \"shapedefaults\": {\"line\": {\"color\": \"#2a3f5f\"}}, \"ternary\": {\"aaxis\": {\"gridcolor\": \"white\", \"linecolor\": \"white\", \"ticks\": \"\"}, \"baxis\": {\"gridcolor\": \"white\", \"linecolor\": \"white\", \"ticks\": \"\"}, \"bgcolor\": \"#E5ECF6\", \"caxis\": {\"gridcolor\": \"white\", \"linecolor\": \"white\", \"ticks\": \"\"}}, \"title\": {\"x\": 0.05}, \"xaxis\": {\"automargin\": true, \"gridcolor\": \"white\", \"linecolor\": \"white\", \"ticks\": \"\", \"title\": {\"standoff\": 15}, \"zerolinecolor\": \"white\", \"zerolinewidth\": 2}, \"yaxis\": {\"automargin\": true, \"gridcolor\": \"white\", \"linecolor\": \"white\", \"ticks\": \"\", \"title\": {\"standoff\": 15}, \"zerolinecolor\": \"white\", \"zerolinewidth\": 2}}}, \"title\": {\"text\": \"Top 20 Best Yearly Cumulative Returns in 2019\"}, \"xaxis\": {\"anchor\": \"y\", \"domain\": [0.0, 1.0], \"title\": {\"text\": \"Stocks\"}}, \"yaxis\": {\"anchor\": \"x\", \"domain\": [0.0, 1.0], \"title\": {\"text\": \"Yearly Cumulative Return\"}}},                        {\"responsive\": true}                    ).then(function(){\n",
       "                            \n",
       "var gd = document.getElementById('0299bc79-e459-4ab4-99cb-ebcbe438b5c1');\n",
       "var x = new MutationObserver(function (mutations, observer) {{\n",
       "        var display = window.getComputedStyle(gd).display;\n",
       "        if (!display || display === 'none') {{\n",
       "            console.log([gd, 'removed!']);\n",
       "            Plotly.purge(gd);\n",
       "            observer.disconnect();\n",
       "        }}\n",
       "}});\n",
       "\n",
       "// Listen for the removal of the full notebook cells\n",
       "var notebookContainer = gd.closest('#notebook-container');\n",
       "if (notebookContainer) {{\n",
       "    x.observe(notebookContainer, {childList: true});\n",
       "}}\n",
       "\n",
       "// Listen for the clearing of the current output cell\n",
       "var outputEl = gd.closest('.output');\n",
       "if (outputEl) {{\n",
       "    x.observe(outputEl, {childList: true});\n",
       "}}\n",
       "\n",
       "                        })                };                });            </script>        </div>"
      ]
     },
     "metadata": {},
     "output_type": "display_data"
    }
   ],
   "source": [
    "# 20 best yearly cumulative returns barchart\n",
    "best_yearly_cum = yearly_cumulative_returns.loc['2006-01-01' : '2019-12-31'].std().sort_values(ascending=False).head(20)\n",
    "figure = px.bar(best_yearly_cum, title='Top 20 Best Yearly Cumulative Returns from 2006-2020', \n",
    "                labels={'value':'Yearly Cumulative Return', 'index':'Stocks'})\n",
    "color_discrete_sequence =['green']\n",
    "figure.update_layout(showlegend=False)\n",
    "figure.show()\n"
   ]
  },
  {
   "cell_type": "code",
   "execution_count": 70,
   "metadata": {},
   "outputs": [
    {
     "data": {
      "application/vnd.plotly.v1+json": {
       "config": {
        "plotlyServerURL": "https://plot.ly"
       },
       "data": [
        {
         "alignmentgroup": "True",
         "hovertemplate": "variable=0<br>Stocks=%{x}<br>Yearly Cumulative Returns=%{y}<extra></extra>",
         "legendgroup": "0",
         "marker": {
          "color": "#636efa"
         },
         "name": "0",
         "offsetgroup": "0",
         "orientation": "v",
         "showlegend": true,
         "textposition": "auto",
         "type": "bar",
         "x": [
          "FTV Return",
          "DELL Return",
          "ERIC Return",
          "CAJ Return",
          "UMC Return",
          "WIT Return",
          "HPQ Return",
          "MRVL Return",
          "AKAM Return",
          "IBM Return",
          "SNE Return",
          "INFY Return",
          "GLW Return",
          "CSCO Return",
          "VMW Return",
          "QRVO Return",
          "AMD Return",
          "MSI Return",
          "STM Return",
          "QCOM Return"
         ],
         "xaxis": "x",
         "y": [
          0.0847466454635665,
          0.10565073682715478,
          0.11199163341434275,
          0.11760468998306747,
          0.145710351459786,
          0.3259451648522199,
          0.33071158315878657,
          0.3437377635774082,
          0.3681888675612195,
          0.4177733075891697,
          0.43682105522838394,
          0.460720965270054,
          0.5106013107720652,
          0.5213844066058195,
          0.5429117443599615,
          0.5633425127661854,
          0.5764876428813137,
          0.5817718253185763,
          0.5830865457065962,
          0.6017932168244228
         ],
         "yaxis": "y"
        }
       ],
       "layout": {
        "barmode": "relative",
        "legend": {
         "title": {
          "text": "variable"
         },
         "tracegroupgap": 0
        },
        "showlegend": false,
        "template": {
         "data": {
          "bar": [
           {
            "error_x": {
             "color": "#2a3f5f"
            },
            "error_y": {
             "color": "#2a3f5f"
            },
            "marker": {
             "line": {
              "color": "#E5ECF6",
              "width": 0.5
             }
            },
            "type": "bar"
           }
          ],
          "barpolar": [
           {
            "marker": {
             "line": {
              "color": "#E5ECF6",
              "width": 0.5
             }
            },
            "type": "barpolar"
           }
          ],
          "carpet": [
           {
            "aaxis": {
             "endlinecolor": "#2a3f5f",
             "gridcolor": "white",
             "linecolor": "white",
             "minorgridcolor": "white",
             "startlinecolor": "#2a3f5f"
            },
            "baxis": {
             "endlinecolor": "#2a3f5f",
             "gridcolor": "white",
             "linecolor": "white",
             "minorgridcolor": "white",
             "startlinecolor": "#2a3f5f"
            },
            "type": "carpet"
           }
          ],
          "choropleth": [
           {
            "colorbar": {
             "outlinewidth": 0,
             "ticks": ""
            },
            "type": "choropleth"
           }
          ],
          "contour": [
           {
            "colorbar": {
             "outlinewidth": 0,
             "ticks": ""
            },
            "colorscale": [
             [
              0,
              "#0d0887"
             ],
             [
              0.1111111111111111,
              "#46039f"
             ],
             [
              0.2222222222222222,
              "#7201a8"
             ],
             [
              0.3333333333333333,
              "#9c179e"
             ],
             [
              0.4444444444444444,
              "#bd3786"
             ],
             [
              0.5555555555555556,
              "#d8576b"
             ],
             [
              0.6666666666666666,
              "#ed7953"
             ],
             [
              0.7777777777777778,
              "#fb9f3a"
             ],
             [
              0.8888888888888888,
              "#fdca26"
             ],
             [
              1,
              "#f0f921"
             ]
            ],
            "type": "contour"
           }
          ],
          "contourcarpet": [
           {
            "colorbar": {
             "outlinewidth": 0,
             "ticks": ""
            },
            "type": "contourcarpet"
           }
          ],
          "heatmap": [
           {
            "colorbar": {
             "outlinewidth": 0,
             "ticks": ""
            },
            "colorscale": [
             [
              0,
              "#0d0887"
             ],
             [
              0.1111111111111111,
              "#46039f"
             ],
             [
              0.2222222222222222,
              "#7201a8"
             ],
             [
              0.3333333333333333,
              "#9c179e"
             ],
             [
              0.4444444444444444,
              "#bd3786"
             ],
             [
              0.5555555555555556,
              "#d8576b"
             ],
             [
              0.6666666666666666,
              "#ed7953"
             ],
             [
              0.7777777777777778,
              "#fb9f3a"
             ],
             [
              0.8888888888888888,
              "#fdca26"
             ],
             [
              1,
              "#f0f921"
             ]
            ],
            "type": "heatmap"
           }
          ],
          "heatmapgl": [
           {
            "colorbar": {
             "outlinewidth": 0,
             "ticks": ""
            },
            "colorscale": [
             [
              0,
              "#0d0887"
             ],
             [
              0.1111111111111111,
              "#46039f"
             ],
             [
              0.2222222222222222,
              "#7201a8"
             ],
             [
              0.3333333333333333,
              "#9c179e"
             ],
             [
              0.4444444444444444,
              "#bd3786"
             ],
             [
              0.5555555555555556,
              "#d8576b"
             ],
             [
              0.6666666666666666,
              "#ed7953"
             ],
             [
              0.7777777777777778,
              "#fb9f3a"
             ],
             [
              0.8888888888888888,
              "#fdca26"
             ],
             [
              1,
              "#f0f921"
             ]
            ],
            "type": "heatmapgl"
           }
          ],
          "histogram": [
           {
            "marker": {
             "colorbar": {
              "outlinewidth": 0,
              "ticks": ""
             }
            },
            "type": "histogram"
           }
          ],
          "histogram2d": [
           {
            "colorbar": {
             "outlinewidth": 0,
             "ticks": ""
            },
            "colorscale": [
             [
              0,
              "#0d0887"
             ],
             [
              0.1111111111111111,
              "#46039f"
             ],
             [
              0.2222222222222222,
              "#7201a8"
             ],
             [
              0.3333333333333333,
              "#9c179e"
             ],
             [
              0.4444444444444444,
              "#bd3786"
             ],
             [
              0.5555555555555556,
              "#d8576b"
             ],
             [
              0.6666666666666666,
              "#ed7953"
             ],
             [
              0.7777777777777778,
              "#fb9f3a"
             ],
             [
              0.8888888888888888,
              "#fdca26"
             ],
             [
              1,
              "#f0f921"
             ]
            ],
            "type": "histogram2d"
           }
          ],
          "histogram2dcontour": [
           {
            "colorbar": {
             "outlinewidth": 0,
             "ticks": ""
            },
            "colorscale": [
             [
              0,
              "#0d0887"
             ],
             [
              0.1111111111111111,
              "#46039f"
             ],
             [
              0.2222222222222222,
              "#7201a8"
             ],
             [
              0.3333333333333333,
              "#9c179e"
             ],
             [
              0.4444444444444444,
              "#bd3786"
             ],
             [
              0.5555555555555556,
              "#d8576b"
             ],
             [
              0.6666666666666666,
              "#ed7953"
             ],
             [
              0.7777777777777778,
              "#fb9f3a"
             ],
             [
              0.8888888888888888,
              "#fdca26"
             ],
             [
              1,
              "#f0f921"
             ]
            ],
            "type": "histogram2dcontour"
           }
          ],
          "mesh3d": [
           {
            "colorbar": {
             "outlinewidth": 0,
             "ticks": ""
            },
            "type": "mesh3d"
           }
          ],
          "parcoords": [
           {
            "line": {
             "colorbar": {
              "outlinewidth": 0,
              "ticks": ""
             }
            },
            "type": "parcoords"
           }
          ],
          "pie": [
           {
            "automargin": true,
            "type": "pie"
           }
          ],
          "scatter": [
           {
            "marker": {
             "colorbar": {
              "outlinewidth": 0,
              "ticks": ""
             }
            },
            "type": "scatter"
           }
          ],
          "scatter3d": [
           {
            "line": {
             "colorbar": {
              "outlinewidth": 0,
              "ticks": ""
             }
            },
            "marker": {
             "colorbar": {
              "outlinewidth": 0,
              "ticks": ""
             }
            },
            "type": "scatter3d"
           }
          ],
          "scattercarpet": [
           {
            "marker": {
             "colorbar": {
              "outlinewidth": 0,
              "ticks": ""
             }
            },
            "type": "scattercarpet"
           }
          ],
          "scattergeo": [
           {
            "marker": {
             "colorbar": {
              "outlinewidth": 0,
              "ticks": ""
             }
            },
            "type": "scattergeo"
           }
          ],
          "scattergl": [
           {
            "marker": {
             "colorbar": {
              "outlinewidth": 0,
              "ticks": ""
             }
            },
            "type": "scattergl"
           }
          ],
          "scattermapbox": [
           {
            "marker": {
             "colorbar": {
              "outlinewidth": 0,
              "ticks": ""
             }
            },
            "type": "scattermapbox"
           }
          ],
          "scatterpolar": [
           {
            "marker": {
             "colorbar": {
              "outlinewidth": 0,
              "ticks": ""
             }
            },
            "type": "scatterpolar"
           }
          ],
          "scatterpolargl": [
           {
            "marker": {
             "colorbar": {
              "outlinewidth": 0,
              "ticks": ""
             }
            },
            "type": "scatterpolargl"
           }
          ],
          "scatterternary": [
           {
            "marker": {
             "colorbar": {
              "outlinewidth": 0,
              "ticks": ""
             }
            },
            "type": "scatterternary"
           }
          ],
          "surface": [
           {
            "colorbar": {
             "outlinewidth": 0,
             "ticks": ""
            },
            "colorscale": [
             [
              0,
              "#0d0887"
             ],
             [
              0.1111111111111111,
              "#46039f"
             ],
             [
              0.2222222222222222,
              "#7201a8"
             ],
             [
              0.3333333333333333,
              "#9c179e"
             ],
             [
              0.4444444444444444,
              "#bd3786"
             ],
             [
              0.5555555555555556,
              "#d8576b"
             ],
             [
              0.6666666666666666,
              "#ed7953"
             ],
             [
              0.7777777777777778,
              "#fb9f3a"
             ],
             [
              0.8888888888888888,
              "#fdca26"
             ],
             [
              1,
              "#f0f921"
             ]
            ],
            "type": "surface"
           }
          ],
          "table": [
           {
            "cells": {
             "fill": {
              "color": "#EBF0F8"
             },
             "line": {
              "color": "white"
             }
            },
            "header": {
             "fill": {
              "color": "#C8D4E3"
             },
             "line": {
              "color": "white"
             }
            },
            "type": "table"
           }
          ]
         },
         "layout": {
          "annotationdefaults": {
           "arrowcolor": "#2a3f5f",
           "arrowhead": 0,
           "arrowwidth": 1
          },
          "coloraxis": {
           "colorbar": {
            "outlinewidth": 0,
            "ticks": ""
           }
          },
          "colorscale": {
           "diverging": [
            [
             0,
             "#8e0152"
            ],
            [
             0.1,
             "#c51b7d"
            ],
            [
             0.2,
             "#de77ae"
            ],
            [
             0.3,
             "#f1b6da"
            ],
            [
             0.4,
             "#fde0ef"
            ],
            [
             0.5,
             "#f7f7f7"
            ],
            [
             0.6,
             "#e6f5d0"
            ],
            [
             0.7,
             "#b8e186"
            ],
            [
             0.8,
             "#7fbc41"
            ],
            [
             0.9,
             "#4d9221"
            ],
            [
             1,
             "#276419"
            ]
           ],
           "sequential": [
            [
             0,
             "#0d0887"
            ],
            [
             0.1111111111111111,
             "#46039f"
            ],
            [
             0.2222222222222222,
             "#7201a8"
            ],
            [
             0.3333333333333333,
             "#9c179e"
            ],
            [
             0.4444444444444444,
             "#bd3786"
            ],
            [
             0.5555555555555556,
             "#d8576b"
            ],
            [
             0.6666666666666666,
             "#ed7953"
            ],
            [
             0.7777777777777778,
             "#fb9f3a"
            ],
            [
             0.8888888888888888,
             "#fdca26"
            ],
            [
             1,
             "#f0f921"
            ]
           ],
           "sequentialminus": [
            [
             0,
             "#0d0887"
            ],
            [
             0.1111111111111111,
             "#46039f"
            ],
            [
             0.2222222222222222,
             "#7201a8"
            ],
            [
             0.3333333333333333,
             "#9c179e"
            ],
            [
             0.4444444444444444,
             "#bd3786"
            ],
            [
             0.5555555555555556,
             "#d8576b"
            ],
            [
             0.6666666666666666,
             "#ed7953"
            ],
            [
             0.7777777777777778,
             "#fb9f3a"
            ],
            [
             0.8888888888888888,
             "#fdca26"
            ],
            [
             1,
             "#f0f921"
            ]
           ]
          },
          "colorway": [
           "#636efa",
           "#EF553B",
           "#00cc96",
           "#ab63fa",
           "#FFA15A",
           "#19d3f3",
           "#FF6692",
           "#B6E880",
           "#FF97FF",
           "#FECB52"
          ],
          "font": {
           "color": "#2a3f5f"
          },
          "geo": {
           "bgcolor": "white",
           "lakecolor": "white",
           "landcolor": "#E5ECF6",
           "showlakes": true,
           "showland": true,
           "subunitcolor": "white"
          },
          "hoverlabel": {
           "align": "left"
          },
          "hovermode": "closest",
          "mapbox": {
           "style": "light"
          },
          "paper_bgcolor": "white",
          "plot_bgcolor": "#E5ECF6",
          "polar": {
           "angularaxis": {
            "gridcolor": "white",
            "linecolor": "white",
            "ticks": ""
           },
           "bgcolor": "#E5ECF6",
           "radialaxis": {
            "gridcolor": "white",
            "linecolor": "white",
            "ticks": ""
           }
          },
          "scene": {
           "xaxis": {
            "backgroundcolor": "#E5ECF6",
            "gridcolor": "white",
            "gridwidth": 2,
            "linecolor": "white",
            "showbackground": true,
            "ticks": "",
            "zerolinecolor": "white"
           },
           "yaxis": {
            "backgroundcolor": "#E5ECF6",
            "gridcolor": "white",
            "gridwidth": 2,
            "linecolor": "white",
            "showbackground": true,
            "ticks": "",
            "zerolinecolor": "white"
           },
           "zaxis": {
            "backgroundcolor": "#E5ECF6",
            "gridcolor": "white",
            "gridwidth": 2,
            "linecolor": "white",
            "showbackground": true,
            "ticks": "",
            "zerolinecolor": "white"
           }
          },
          "shapedefaults": {
           "line": {
            "color": "#2a3f5f"
           }
          },
          "ternary": {
           "aaxis": {
            "gridcolor": "white",
            "linecolor": "white",
            "ticks": ""
           },
           "baxis": {
            "gridcolor": "white",
            "linecolor": "white",
            "ticks": ""
           },
           "bgcolor": "#E5ECF6",
           "caxis": {
            "gridcolor": "white",
            "linecolor": "white",
            "ticks": ""
           }
          },
          "title": {
           "x": 0.05
          },
          "xaxis": {
           "automargin": true,
           "gridcolor": "white",
           "linecolor": "white",
           "ticks": "",
           "title": {
            "standoff": 15
           },
           "zerolinecolor": "white",
           "zerolinewidth": 2
          },
          "yaxis": {
           "automargin": true,
           "gridcolor": "white",
           "linecolor": "white",
           "ticks": "",
           "title": {
            "standoff": 15
           },
           "zerolinecolor": "white",
           "zerolinewidth": 2
          }
         }
        },
        "title": {
         "text": "Top 20 Worst Yearly Cumulative Returns from 2006-2020"
        },
        "xaxis": {
         "anchor": "y",
         "domain": [
          0,
          1
         ],
         "title": {
          "text": "Stocks"
         }
        },
        "yaxis": {
         "anchor": "x",
         "domain": [
          0,
          1
         ],
         "title": {
          "text": "Yearly Cumulative Returns"
         }
        }
       }
      },
      "text/html": [
       "<div>                            <div id=\"12bd0e02-4603-4910-99a7-67e422863648\" class=\"plotly-graph-div\" style=\"height:525px; width:100%;\"></div>            <script type=\"text/javascript\">                require([\"plotly\"], function(Plotly) {                    window.PLOTLYENV=window.PLOTLYENV || {};                                    if (document.getElementById(\"12bd0e02-4603-4910-99a7-67e422863648\")) {                    Plotly.newPlot(                        \"12bd0e02-4603-4910-99a7-67e422863648\",                        [{\"alignmentgroup\": \"True\", \"hovertemplate\": \"variable=0<br>Stocks=%{x}<br>Yearly Cumulative Returns=%{y}<extra></extra>\", \"legendgroup\": \"0\", \"marker\": {\"color\": \"#636efa\"}, \"name\": \"0\", \"offsetgroup\": \"0\", \"orientation\": \"v\", \"showlegend\": true, \"textposition\": \"auto\", \"type\": \"bar\", \"x\": [\"FTV Return\", \"DELL Return\", \"ERIC Return\", \"CAJ Return\", \"UMC Return\", \"WIT Return\", \"HPQ Return\", \"MRVL Return\", \"AKAM Return\", \"IBM Return\", \"SNE Return\", \"INFY Return\", \"GLW Return\", \"CSCO Return\", \"VMW Return\", \"QRVO Return\", \"AMD Return\", \"MSI Return\", \"STM Return\", \"QCOM Return\"], \"xaxis\": \"x\", \"y\": [0.0847466454635665, 0.10565073682715478, 0.11199163341434275, 0.11760468998306747, 0.145710351459786, 0.3259451648522199, 0.33071158315878657, 0.3437377635774082, 0.3681888675612195, 0.4177733075891697, 0.43682105522838394, 0.460720965270054, 0.5106013107720652, 0.5213844066058195, 0.5429117443599615, 0.5633425127661854, 0.5764876428813137, 0.5817718253185763, 0.5830865457065962, 0.6017932168244228], \"yaxis\": \"y\"}],                        {\"barmode\": \"relative\", \"legend\": {\"title\": {\"text\": \"variable\"}, \"tracegroupgap\": 0}, \"showlegend\": false, \"template\": {\"data\": {\"bar\": [{\"error_x\": {\"color\": \"#2a3f5f\"}, \"error_y\": {\"color\": \"#2a3f5f\"}, \"marker\": {\"line\": {\"color\": \"#E5ECF6\", \"width\": 0.5}}, \"type\": \"bar\"}], \"barpolar\": [{\"marker\": {\"line\": {\"color\": \"#E5ECF6\", \"width\": 0.5}}, \"type\": \"barpolar\"}], \"carpet\": [{\"aaxis\": {\"endlinecolor\": \"#2a3f5f\", \"gridcolor\": \"white\", \"linecolor\": \"white\", \"minorgridcolor\": \"white\", \"startlinecolor\": \"#2a3f5f\"}, \"baxis\": {\"endlinecolor\": \"#2a3f5f\", \"gridcolor\": \"white\", \"linecolor\": \"white\", \"minorgridcolor\": \"white\", \"startlinecolor\": \"#2a3f5f\"}, \"type\": \"carpet\"}], \"choropleth\": [{\"colorbar\": {\"outlinewidth\": 0, \"ticks\": \"\"}, \"type\": \"choropleth\"}], \"contour\": [{\"colorbar\": {\"outlinewidth\": 0, \"ticks\": \"\"}, \"colorscale\": [[0.0, \"#0d0887\"], [0.1111111111111111, \"#46039f\"], [0.2222222222222222, \"#7201a8\"], [0.3333333333333333, \"#9c179e\"], [0.4444444444444444, \"#bd3786\"], [0.5555555555555556, \"#d8576b\"], [0.6666666666666666, \"#ed7953\"], [0.7777777777777778, \"#fb9f3a\"], [0.8888888888888888, \"#fdca26\"], [1.0, \"#f0f921\"]], \"type\": \"contour\"}], \"contourcarpet\": [{\"colorbar\": {\"outlinewidth\": 0, \"ticks\": \"\"}, \"type\": \"contourcarpet\"}], \"heatmap\": [{\"colorbar\": {\"outlinewidth\": 0, \"ticks\": \"\"}, \"colorscale\": [[0.0, \"#0d0887\"], [0.1111111111111111, \"#46039f\"], [0.2222222222222222, \"#7201a8\"], [0.3333333333333333, \"#9c179e\"], [0.4444444444444444, \"#bd3786\"], [0.5555555555555556, \"#d8576b\"], [0.6666666666666666, \"#ed7953\"], [0.7777777777777778, \"#fb9f3a\"], [0.8888888888888888, \"#fdca26\"], [1.0, \"#f0f921\"]], \"type\": \"heatmap\"}], \"heatmapgl\": [{\"colorbar\": {\"outlinewidth\": 0, \"ticks\": \"\"}, \"colorscale\": [[0.0, \"#0d0887\"], [0.1111111111111111, \"#46039f\"], [0.2222222222222222, \"#7201a8\"], [0.3333333333333333, \"#9c179e\"], [0.4444444444444444, \"#bd3786\"], [0.5555555555555556, \"#d8576b\"], [0.6666666666666666, \"#ed7953\"], [0.7777777777777778, \"#fb9f3a\"], [0.8888888888888888, \"#fdca26\"], [1.0, \"#f0f921\"]], \"type\": \"heatmapgl\"}], \"histogram\": [{\"marker\": {\"colorbar\": {\"outlinewidth\": 0, \"ticks\": \"\"}}, \"type\": \"histogram\"}], \"histogram2d\": [{\"colorbar\": {\"outlinewidth\": 0, \"ticks\": \"\"}, \"colorscale\": [[0.0, \"#0d0887\"], [0.1111111111111111, \"#46039f\"], [0.2222222222222222, \"#7201a8\"], [0.3333333333333333, \"#9c179e\"], [0.4444444444444444, \"#bd3786\"], [0.5555555555555556, \"#d8576b\"], [0.6666666666666666, \"#ed7953\"], [0.7777777777777778, \"#fb9f3a\"], [0.8888888888888888, \"#fdca26\"], [1.0, \"#f0f921\"]], \"type\": \"histogram2d\"}], \"histogram2dcontour\": [{\"colorbar\": {\"outlinewidth\": 0, \"ticks\": \"\"}, \"colorscale\": [[0.0, \"#0d0887\"], [0.1111111111111111, \"#46039f\"], [0.2222222222222222, \"#7201a8\"], [0.3333333333333333, \"#9c179e\"], [0.4444444444444444, \"#bd3786\"], [0.5555555555555556, \"#d8576b\"], [0.6666666666666666, \"#ed7953\"], [0.7777777777777778, \"#fb9f3a\"], [0.8888888888888888, \"#fdca26\"], [1.0, \"#f0f921\"]], \"type\": \"histogram2dcontour\"}], \"mesh3d\": [{\"colorbar\": {\"outlinewidth\": 0, \"ticks\": \"\"}, \"type\": \"mesh3d\"}], \"parcoords\": [{\"line\": {\"colorbar\": {\"outlinewidth\": 0, \"ticks\": \"\"}}, \"type\": \"parcoords\"}], \"pie\": [{\"automargin\": true, \"type\": \"pie\"}], \"scatter\": [{\"marker\": {\"colorbar\": {\"outlinewidth\": 0, \"ticks\": \"\"}}, \"type\": \"scatter\"}], \"scatter3d\": [{\"line\": {\"colorbar\": {\"outlinewidth\": 0, \"ticks\": \"\"}}, \"marker\": {\"colorbar\": {\"outlinewidth\": 0, \"ticks\": \"\"}}, \"type\": \"scatter3d\"}], \"scattercarpet\": [{\"marker\": {\"colorbar\": {\"outlinewidth\": 0, \"ticks\": \"\"}}, \"type\": \"scattercarpet\"}], \"scattergeo\": [{\"marker\": {\"colorbar\": {\"outlinewidth\": 0, \"ticks\": \"\"}}, \"type\": \"scattergeo\"}], \"scattergl\": [{\"marker\": {\"colorbar\": {\"outlinewidth\": 0, \"ticks\": \"\"}}, \"type\": \"scattergl\"}], \"scattermapbox\": [{\"marker\": {\"colorbar\": {\"outlinewidth\": 0, \"ticks\": \"\"}}, \"type\": \"scattermapbox\"}], \"scatterpolar\": [{\"marker\": {\"colorbar\": {\"outlinewidth\": 0, \"ticks\": \"\"}}, \"type\": \"scatterpolar\"}], \"scatterpolargl\": [{\"marker\": {\"colorbar\": {\"outlinewidth\": 0, \"ticks\": \"\"}}, \"type\": \"scatterpolargl\"}], \"scatterternary\": [{\"marker\": {\"colorbar\": {\"outlinewidth\": 0, \"ticks\": \"\"}}, \"type\": \"scatterternary\"}], \"surface\": [{\"colorbar\": {\"outlinewidth\": 0, \"ticks\": \"\"}, \"colorscale\": [[0.0, \"#0d0887\"], [0.1111111111111111, \"#46039f\"], [0.2222222222222222, \"#7201a8\"], [0.3333333333333333, \"#9c179e\"], [0.4444444444444444, \"#bd3786\"], [0.5555555555555556, \"#d8576b\"], [0.6666666666666666, \"#ed7953\"], [0.7777777777777778, \"#fb9f3a\"], [0.8888888888888888, \"#fdca26\"], [1.0, \"#f0f921\"]], \"type\": \"surface\"}], \"table\": [{\"cells\": {\"fill\": {\"color\": \"#EBF0F8\"}, \"line\": {\"color\": \"white\"}}, \"header\": {\"fill\": {\"color\": \"#C8D4E3\"}, \"line\": {\"color\": \"white\"}}, \"type\": \"table\"}]}, \"layout\": {\"annotationdefaults\": {\"arrowcolor\": \"#2a3f5f\", \"arrowhead\": 0, \"arrowwidth\": 1}, \"coloraxis\": {\"colorbar\": {\"outlinewidth\": 0, \"ticks\": \"\"}}, \"colorscale\": {\"diverging\": [[0, \"#8e0152\"], [0.1, \"#c51b7d\"], [0.2, \"#de77ae\"], [0.3, \"#f1b6da\"], [0.4, \"#fde0ef\"], [0.5, \"#f7f7f7\"], [0.6, \"#e6f5d0\"], [0.7, \"#b8e186\"], [0.8, \"#7fbc41\"], [0.9, \"#4d9221\"], [1, \"#276419\"]], \"sequential\": [[0.0, \"#0d0887\"], [0.1111111111111111, \"#46039f\"], [0.2222222222222222, \"#7201a8\"], [0.3333333333333333, \"#9c179e\"], [0.4444444444444444, \"#bd3786\"], [0.5555555555555556, \"#d8576b\"], [0.6666666666666666, \"#ed7953\"], [0.7777777777777778, \"#fb9f3a\"], [0.8888888888888888, \"#fdca26\"], [1.0, \"#f0f921\"]], \"sequentialminus\": [[0.0, \"#0d0887\"], [0.1111111111111111, \"#46039f\"], [0.2222222222222222, \"#7201a8\"], [0.3333333333333333, \"#9c179e\"], [0.4444444444444444, \"#bd3786\"], [0.5555555555555556, \"#d8576b\"], [0.6666666666666666, \"#ed7953\"], [0.7777777777777778, \"#fb9f3a\"], [0.8888888888888888, \"#fdca26\"], [1.0, \"#f0f921\"]]}, \"colorway\": [\"#636efa\", \"#EF553B\", \"#00cc96\", \"#ab63fa\", \"#FFA15A\", \"#19d3f3\", \"#FF6692\", \"#B6E880\", \"#FF97FF\", \"#FECB52\"], \"font\": {\"color\": \"#2a3f5f\"}, \"geo\": {\"bgcolor\": \"white\", \"lakecolor\": \"white\", \"landcolor\": \"#E5ECF6\", \"showlakes\": true, \"showland\": true, \"subunitcolor\": \"white\"}, \"hoverlabel\": {\"align\": \"left\"}, \"hovermode\": \"closest\", \"mapbox\": {\"style\": \"light\"}, \"paper_bgcolor\": \"white\", \"plot_bgcolor\": \"#E5ECF6\", \"polar\": {\"angularaxis\": {\"gridcolor\": \"white\", \"linecolor\": \"white\", \"ticks\": \"\"}, \"bgcolor\": \"#E5ECF6\", \"radialaxis\": {\"gridcolor\": \"white\", \"linecolor\": \"white\", \"ticks\": \"\"}}, \"scene\": {\"xaxis\": {\"backgroundcolor\": \"#E5ECF6\", \"gridcolor\": \"white\", \"gridwidth\": 2, \"linecolor\": \"white\", \"showbackground\": true, \"ticks\": \"\", \"zerolinecolor\": \"white\"}, \"yaxis\": {\"backgroundcolor\": \"#E5ECF6\", \"gridcolor\": \"white\", \"gridwidth\": 2, \"linecolor\": \"white\", \"showbackground\": true, \"ticks\": \"\", \"zerolinecolor\": \"white\"}, \"zaxis\": {\"backgroundcolor\": \"#E5ECF6\", \"gridcolor\": \"white\", \"gridwidth\": 2, \"linecolor\": \"white\", \"showbackground\": true, \"ticks\": \"\", \"zerolinecolor\": \"white\"}}, \"shapedefaults\": {\"line\": {\"color\": \"#2a3f5f\"}}, \"ternary\": {\"aaxis\": {\"gridcolor\": \"white\", \"linecolor\": \"white\", \"ticks\": \"\"}, \"baxis\": {\"gridcolor\": \"white\", \"linecolor\": \"white\", \"ticks\": \"\"}, \"bgcolor\": \"#E5ECF6\", \"caxis\": {\"gridcolor\": \"white\", \"linecolor\": \"white\", \"ticks\": \"\"}}, \"title\": {\"x\": 0.05}, \"xaxis\": {\"automargin\": true, \"gridcolor\": \"white\", \"linecolor\": \"white\", \"ticks\": \"\", \"title\": {\"standoff\": 15}, \"zerolinecolor\": \"white\", \"zerolinewidth\": 2}, \"yaxis\": {\"automargin\": true, \"gridcolor\": \"white\", \"linecolor\": \"white\", \"ticks\": \"\", \"title\": {\"standoff\": 15}, \"zerolinecolor\": \"white\", \"zerolinewidth\": 2}}}, \"title\": {\"text\": \"Top 20 Worst Yearly Cumulative Returns from 2006-2020\"}, \"xaxis\": {\"anchor\": \"y\", \"domain\": [0.0, 1.0], \"title\": {\"text\": \"Stocks\"}}, \"yaxis\": {\"anchor\": \"x\", \"domain\": [0.0, 1.0], \"title\": {\"text\": \"Yearly Cumulative Returns\"}}},                        {\"responsive\": true}                    ).then(function(){\n",
       "                            \n",
       "var gd = document.getElementById('12bd0e02-4603-4910-99a7-67e422863648');\n",
       "var x = new MutationObserver(function (mutations, observer) {{\n",
       "        var display = window.getComputedStyle(gd).display;\n",
       "        if (!display || display === 'none') {{\n",
       "            console.log([gd, 'removed!']);\n",
       "            Plotly.purge(gd);\n",
       "            observer.disconnect();\n",
       "        }}\n",
       "}});\n",
       "\n",
       "// Listen for the removal of the full notebook cells\n",
       "var notebookContainer = gd.closest('#notebook-container');\n",
       "if (notebookContainer) {{\n",
       "    x.observe(notebookContainer, {childList: true});\n",
       "}}\n",
       "\n",
       "// Listen for the clearing of the current output cell\n",
       "var outputEl = gd.closest('.output');\n",
       "if (outputEl) {{\n",
       "    x.observe(outputEl, {childList: true});\n",
       "}}\n",
       "\n",
       "                        })                };                });            </script>        </div>"
      ]
     },
     "metadata": {},
     "output_type": "display_data"
    }
   ],
   "source": [
    "# 20 worst yearly cumulative returns barchart \n",
    "best_yearly_cum = yearly_cumulative_returns.loc['2006-01-01' : '2019-12-31'].std().sort_values(ascending=True).head(20)\n",
    "figure = px.bar(best_yearly_cum, title='Top 20 Worst Yearly Cumulative Returns from 2006-2020', \n",
    "                labels={'value':'Yearly Cumulative Returns', 'index':'Stocks'})\n",
    "figure.update_layout(showlegend=False)\n",
    "figure.show()"
   ]
  },
  {
   "cell_type": "markdown",
   "metadata": {},
   "source": [
    "### **x. Visualizing Top 5 risky stocks based on daily and yearly returns std. deviation**\n",
    "\n",
    "Standard deviation is used as a statistical measure of market volatility, its used in measuring how widely prices are dispersed from the average price.The standard deviation will return a low value for a stock If prices trade in a narrow trading range which indicates low volatility.Also, if prices of a stock fluctuate wildly up and down, then standard deviation returns a high value that indicates high volatility of stock."
   ]
  },
  {
   "cell_type": "code",
   "execution_count": 61,
   "metadata": {},
   "outputs": [
    {
     "data": {
      "text/plain": [
       "Text(0.5, 1.0, 'Daily Stocks Standard Deviation')"
      ]
     },
     "execution_count": 61,
     "metadata": {},
     "output_type": "execute_result"
    },
    {
     "data": {
      "image/png": "[encoded data removed]",
      "text/plain": [
       "<Figure size 720x360 with 1 Axes>"
      ]
     },
     "metadata": {
      "needs_background": "light"
     },
     "output_type": "display_data"
    }
   ],
   "source": [
    "# Top 5 risky stocks based on daily returns standard deviation\n",
    "returns.std().sort_values(ascending=False).head().plot(figsize=(10,5), color='Blue', lw=1.0)\n",
    "plt.ylabel('Standard Deviation', fontsize=15)\n",
    "plt.title('Daily Stocks Standard Deviation', fontsize=18)\n"
   ]
  },
  {
   "cell_type": "code",
   "execution_count": 62,
   "metadata": {},
   "outputs": [
    {
     "data": {
      "text/plain": [
       "Text(0.5, 1.0, 'Yearly Stocks Standard Deviation')"
      ]
     },
     "execution_count": 62,
     "metadata": {},
     "output_type": "execute_result"
    },
    {
     "data": {
      "image/png": "[encoded data removed]",
      "text/plain": [
       "<Figure size 720x360 with 1 Axes>"
      ]
     },
     "metadata": {
      "needs_background": "light"
     },
     "output_type": "display_data"
    }
   ],
   "source": [
    "# top 5 risky stocks based on yearly returns standard deviation\n",
    "yearly_returns.std().sort_values(ascending=False).head().plot(figsize=(10,5), color='darkgreen', lw=1.0)\n",
    "plt.ylabel('Standard Deviation', fontsize=15)\n",
    "plt.title('Yearly Stocks Standard Deviation', fontsize=18)\n"
   ]
  },
  {
   "cell_type": "markdown",
   "metadata": {},
   "source": [
    "### **xi. Visualizing 20 most volatile stocks 2006-2020**"
   ]
  },
  {
   "cell_type": "code",
   "execution_count": 63,
   "metadata": {},
   "outputs": [
    {
     "data": {
      "application/vnd.plotly.v1+json": {
       "config": {
        "plotlyServerURL": "https://plot.ly"
       },
       "data": [
        {
         "alignmentgroup": "True",
         "hovertemplate": "variable=0<br>Stocks=%{x}<br>Standard Deviation=%{y}<extra></extra>",
         "legendgroup": "0",
         "marker": {
          "color": "#636efa"
         },
         "name": "0",
         "offsetgroup": "0",
         "orientation": "v",
         "showlegend": true,
         "textposition": "auto",
         "type": "bar",
         "x": [
          "AMD Return",
          "SHOP Return",
          "NVDA Return",
          "CRM Return",
          "NOW Return",
          "ASML Return",
          "AVGO Return",
          "SNE Return",
          "ADBE Return",
          "QCOM Return",
          "AAPL Return",
          "TSM Return",
          "INTC Return",
          "CSCO Return",
          "TXN Return",
          "SAP Return",
          "ORCL Return",
          "MSFT Return",
          "ACN Return",
          "IBM Return"
         ],
         "xaxis": "x",
         "y": [
          0.0378233861204247,
          0.03629832747718699,
          0.030413470928485203,
          0.026393581300339624,
          0.025740785624156496,
          0.022743060050193914,
          0.022606388396132184,
          0.02216090145363839,
          0.021328535684571378,
          0.021033302613882452,
          0.02078643741449645,
          0.020302611638527215,
          0.019528872515379353,
          0.018767867232177906,
          0.018420348002818283,
          0.018146754045772977,
          0.017765052233245298,
          0.017705451025632313,
          0.01647174907326201,
          0.014742424196319001
         ],
         "yaxis": "y"
        }
       ],
       "layout": {
        "barmode": "relative",
        "legend": {
         "title": {
          "text": "variable"
         },
         "tracegroupgap": 0
        },
        "showlegend": false,
        "template": {
         "data": {
          "bar": [
           {
            "error_x": {
             "color": "#2a3f5f"
            },
            "error_y": {
             "color": "#2a3f5f"
            },
            "marker": {
             "line": {
              "color": "#E5ECF6",
              "width": 0.5
             }
            },
            "type": "bar"
           }
          ],
          "barpolar": [
           {
            "marker": {
             "line": {
              "color": "#E5ECF6",
              "width": 0.5
             }
            },
            "type": "barpolar"
           }
          ],
          "carpet": [
           {
            "aaxis": {
             "endlinecolor": "#2a3f5f",
             "gridcolor": "white",
             "linecolor": "white",
             "minorgridcolor": "white",
             "startlinecolor": "#2a3f5f"
            },
            "baxis": {
             "endlinecolor": "#2a3f5f",
             "gridcolor": "white",
             "linecolor": "white",
             "minorgridcolor": "white",
             "startlinecolor": "#2a3f5f"
            },
            "type": "carpet"
           }
          ],
          "choropleth": [
           {
            "colorbar": {
             "outlinewidth": 0,
             "ticks": ""
            },
            "type": "choropleth"
           }
          ],
          "contour": [
           {
            "colorbar": {
             "outlinewidth": 0,
             "ticks": ""
            },
            "colorscale": [
             [
              0,
              "#0d0887"
             ],
             [
              0.1111111111111111,
              "#46039f"
             ],
             [
              0.2222222222222222,
              "#7201a8"
             ],
             [
              0.3333333333333333,
              "#9c179e"
             ],
             [
              0.4444444444444444,
              "#bd3786"
             ],
             [
              0.5555555555555556,
              "#d8576b"
             ],
             [
              0.6666666666666666,
              "#ed7953"
             ],
             [
              0.7777777777777778,
              "#fb9f3a"
             ],
             [
              0.8888888888888888,
              "#fdca26"
             ],
             [
              1,
              "#f0f921"
             ]
            ],
            "type": "contour"
           }
          ],
          "contourcarpet": [
           {
            "colorbar": {
             "outlinewidth": 0,
             "ticks": ""
            },
            "type": "contourcarpet"
           }
          ],
          "heatmap": [
           {
            "colorbar": {
             "outlinewidth": 0,
             "ticks": ""
            },
            "colorscale": [
             [
              0,
              "#0d0887"
             ],
             [
              0.1111111111111111,
              "#46039f"
             ],
             [
              0.2222222222222222,
              "#7201a8"
             ],
             [
              0.3333333333333333,
              "#9c179e"
             ],
             [
              0.4444444444444444,
              "#bd3786"
             ],
             [
              0.5555555555555556,
              "#d8576b"
             ],
             [
              0.6666666666666666,
              "#ed7953"
             ],
             [
              0.7777777777777778,
              "#fb9f3a"
             ],
             [
              0.8888888888888888,
              "#fdca26"
             ],
             [
              1,
              "#f0f921"
             ]
            ],
            "type": "heatmap"
           }
          ],
          "heatmapgl": [
           {
            "colorbar": {
             "outlinewidth": 0,
             "ticks": ""
            },
            "colorscale": [
             [
              0,
              "#0d0887"
             ],
             [
              0.1111111111111111,
              "#46039f"
             ],
             [
              0.2222222222222222,
              "#7201a8"
             ],
             [
              0.3333333333333333,
              "#9c179e"
             ],
             [
              0.4444444444444444,
              "#bd3786"
             ],
             [
              0.5555555555555556,
              "#d8576b"
             ],
             [
              0.6666666666666666,
              "#ed7953"
             ],
             [
              0.7777777777777778,
              "#fb9f3a"
             ],
             [
              0.8888888888888888,
              "#fdca26"
             ],
             [
              1,
              "#f0f921"
             ]
            ],
            "type": "heatmapgl"
           }
          ],
          "histogram": [
           {
            "marker": {
             "colorbar": {
              "outlinewidth": 0,
              "ticks": ""
             }
            },
            "type": "histogram"
           }
          ],
          "histogram2d": [
           {
            "colorbar": {
             "outlinewidth": 0,
             "ticks": ""
            },
            "colorscale": [
             [
              0,
              "#0d0887"
             ],
             [
              0.1111111111111111,
              "#46039f"
             ],
             [
              0.2222222222222222,
              "#7201a8"
             ],
             [
              0.3333333333333333,
              "#9c179e"
             ],
             [
              0.4444444444444444,
              "#bd3786"
             ],
             [
              0.5555555555555556,
              "#d8576b"
             ],
             [
              0.6666666666666666,
              "#ed7953"
             ],
             [
              0.7777777777777778,
              "#fb9f3a"
             ],
             [
              0.8888888888888888,
              "#fdca26"
             ],
             [
              1,
              "#f0f921"
             ]
            ],
            "type": "histogram2d"
           }
          ],
          "histogram2dcontour": [
           {
            "colorbar": {
             "outlinewidth": 0,
             "ticks": ""
            },
            "colorscale": [
             [
              0,
              "#0d0887"
             ],
             [
              0.1111111111111111,
              "#46039f"
             ],
             [
              0.2222222222222222,
              "#7201a8"
             ],
             [
              0.3333333333333333,
              "#9c179e"
             ],
             [
              0.4444444444444444,
              "#bd3786"
             ],
             [
              0.5555555555555556,
              "#d8576b"
             ],
             [
              0.6666666666666666,
              "#ed7953"
             ],
             [
              0.7777777777777778,
              "#fb9f3a"
             ],
             [
              0.8888888888888888,
              "#fdca26"
             ],
             [
              1,
              "#f0f921"
             ]
            ],
            "type": "histogram2dcontour"
           }
          ],
          "mesh3d": [
           {
            "colorbar": {
             "outlinewidth": 0,
             "ticks": ""
            },
            "type": "mesh3d"
           }
          ],
          "parcoords": [
           {
            "line": {
             "colorbar": {
              "outlinewidth": 0,
              "ticks": ""
             }
            },
            "type": "parcoords"
           }
          ],
          "pie": [
           {
            "automargin": true,
            "type": "pie"
           }
          ],
          "scatter": [
           {
            "marker": {
             "colorbar": {
              "outlinewidth": 0,
              "ticks": ""
             }
            },
            "type": "scatter"
           }
          ],
          "scatter3d": [
           {
            "line": {
             "colorbar": {
              "outlinewidth": 0,
              "ticks": ""
             }
            },
            "marker": {
             "colorbar": {
              "outlinewidth": 0,
              "ticks": ""
             }
            },
            "type": "scatter3d"
           }
          ],
          "scattercarpet": [
           {
            "marker": {
             "colorbar": {
              "outlinewidth": 0,
              "ticks": ""
             }
            },
            "type": "scattercarpet"
           }
          ],
          "scattergeo": [
           {
            "marker": {
             "colorbar": {
              "outlinewidth": 0,
              "ticks": ""
             }
            },
            "type": "scattergeo"
           }
          ],
          "scattergl": [
           {
            "marker": {
             "colorbar": {
              "outlinewidth": 0,
              "ticks": ""
             }
            },
            "type": "scattergl"
           }
          ],
          "scattermapbox": [
           {
            "marker": {
             "colorbar": {
              "outlinewidth": 0,
              "ticks": ""
             }
            },
            "type": "scattermapbox"
           }
          ],
          "scatterpolar": [
           {
            "marker": {
             "colorbar": {
              "outlinewidth": 0,
              "ticks": ""
             }
            },
            "type": "scatterpolar"
           }
          ],
          "scatterpolargl": [
           {
            "marker": {
             "colorbar": {
              "outlinewidth": 0,
              "ticks": ""
             }
            },
            "type": "scatterpolargl"
           }
          ],
          "scatterternary": [
           {
            "marker": {
             "colorbar": {
              "outlinewidth": 0,
              "ticks": ""
             }
            },
            "type": "scatterternary"
           }
          ],
          "surface": [
           {
            "colorbar": {
             "outlinewidth": 0,
             "ticks": ""
            },
            "colorscale": [
             [
              0,
              "#0d0887"
             ],
             [
              0.1111111111111111,
              "#46039f"
             ],
             [
              0.2222222222222222,
              "#7201a8"
             ],
             [
              0.3333333333333333,
              "#9c179e"
             ],
             [
              0.4444444444444444,
              "#bd3786"
             ],
             [
              0.5555555555555556,
              "#d8576b"
             ],
             [
              0.6666666666666666,
              "#ed7953"
             ],
             [
              0.7777777777777778,
              "#fb9f3a"
             ],
             [
              0.8888888888888888,
              "#fdca26"
             ],
             [
              1,
              "#f0f921"
             ]
            ],
            "type": "surface"
           }
          ],
          "table": [
           {
            "cells": {
             "fill": {
              "color": "#EBF0F8"
             },
             "line": {
              "color": "white"
             }
            },
            "header": {
             "fill": {
              "color": "#C8D4E3"
             },
             "line": {
              "color": "white"
             }
            },
            "type": "table"
           }
          ]
         },
         "layout": {
          "annotationdefaults": {
           "arrowcolor": "#2a3f5f",
           "arrowhead": 0,
           "arrowwidth": 1
          },
          "coloraxis": {
           "colorbar": {
            "outlinewidth": 0,
            "ticks": ""
           }
          },
          "colorscale": {
           "diverging": [
            [
             0,
             "#8e0152"
            ],
            [
             0.1,
             "#c51b7d"
            ],
            [
             0.2,
             "#de77ae"
            ],
            [
             0.3,
             "#f1b6da"
            ],
            [
             0.4,
             "#fde0ef"
            ],
            [
             0.5,
             "#f7f7f7"
            ],
            [
             0.6,
             "#e6f5d0"
            ],
            [
             0.7,
             "#b8e186"
            ],
            [
             0.8,
             "#7fbc41"
            ],
            [
             0.9,
             "#4d9221"
            ],
            [
             1,
             "#276419"
            ]
           ],
           "sequential": [
            [
             0,
             "#0d0887"
            ],
            [
             0.1111111111111111,
             "#46039f"
            ],
            [
             0.2222222222222222,
             "#7201a8"
            ],
            [
             0.3333333333333333,
             "#9c179e"
            ],
            [
             0.4444444444444444,
             "#bd3786"
            ],
            [
             0.5555555555555556,
             "#d8576b"
            ],
            [
             0.6666666666666666,
             "#ed7953"
            ],
            [
             0.7777777777777778,
             "#fb9f3a"
            ],
            [
             0.8888888888888888,
             "#fdca26"
            ],
            [
             1,
             "#f0f921"
            ]
           ],
           "sequentialminus": [
            [
             0,
             "#0d0887"
            ],
            [
             0.1111111111111111,
             "#46039f"
            ],
            [
             0.2222222222222222,
             "#7201a8"
            ],
            [
             0.3333333333333333,
             "#9c179e"
            ],
            [
             0.4444444444444444,
             "#bd3786"
            ],
            [
             0.5555555555555556,
             "#d8576b"
            ],
            [
             0.6666666666666666,
             "#ed7953"
            ],
            [
             0.7777777777777778,
             "#fb9f3a"
            ],
            [
             0.8888888888888888,
             "#fdca26"
            ],
            [
             1,
             "#f0f921"
            ]
           ]
          },
          "colorway": [
           "#636efa",
           "#EF553B",
           "#00cc96",
           "#ab63fa",
           "#FFA15A",
           "#19d3f3",
           "#FF6692",
           "#B6E880",
           "#FF97FF",
           "#FECB52"
          ],
          "font": {
           "color": "#2a3f5f"
          },
          "geo": {
           "bgcolor": "white",
           "lakecolor": "white",
           "landcolor": "#E5ECF6",
           "showlakes": true,
           "showland": true,
           "subunitcolor": "white"
          },
          "hoverlabel": {
           "align": "left"
          },
          "hovermode": "closest",
          "mapbox": {
           "style": "light"
          },
          "paper_bgcolor": "white",
          "plot_bgcolor": "#E5ECF6",
          "polar": {
           "angularaxis": {
            "gridcolor": "white",
            "linecolor": "white",
            "ticks": ""
           },
           "bgcolor": "#E5ECF6",
           "radialaxis": {
            "gridcolor": "white",
            "linecolor": "white",
            "ticks": ""
           }
          },
          "scene": {
           "xaxis": {
            "backgroundcolor": "#E5ECF6",
            "gridcolor": "white",
            "gridwidth": 2,
            "linecolor": "white",
            "showbackground": true,
            "ticks": "",
            "zerolinecolor": "white"
           },
           "yaxis": {
            "backgroundcolor": "#E5ECF6",
            "gridcolor": "white",
            "gridwidth": 2,
            "linecolor": "white",
            "showbackground": true,
            "ticks": "",
            "zerolinecolor": "white"
           },
           "zaxis": {
            "backgroundcolor": "#E5ECF6",
            "gridcolor": "white",
            "gridwidth": 2,
            "linecolor": "white",
            "showbackground": true,
            "ticks": "",
            "zerolinecolor": "white"
           }
          },
          "shapedefaults": {
           "line": {
            "color": "#2a3f5f"
           }
          },
          "ternary": {
           "aaxis": {
            "gridcolor": "white",
            "linecolor": "white",
            "ticks": ""
           },
           "baxis": {
            "gridcolor": "white",
            "linecolor": "white",
            "ticks": ""
           },
           "bgcolor": "#E5ECF6",
           "caxis": {
            "gridcolor": "white",
            "linecolor": "white",
            "ticks": ""
           }
          },
          "title": {
           "x": 0.05
          },
          "xaxis": {
           "automargin": true,
           "gridcolor": "white",
           "linecolor": "white",
           "ticks": "",
           "title": {
            "standoff": 15
           },
           "zerolinecolor": "white",
           "zerolinewidth": 2
          },
          "yaxis": {
           "automargin": true,
           "gridcolor": "white",
           "linecolor": "white",
           "ticks": "",
           "title": {
            "standoff": 15
           },
           "zerolinecolor": "white",
           "zerolinewidth": 2
          }
         }
        },
        "title": {
         "text": "Most Volatile Stocks 2006-2020"
        },
        "xaxis": {
         "anchor": "y",
         "domain": [
          0,
          1
         ],
         "title": {
          "text": "Stocks"
         }
        },
        "yaxis": {
         "anchor": "x",
         "domain": [
          0,
          1
         ],
         "title": {
          "text": "Standard Deviation"
         }
        }
       }
      },
      "text/html": [
       "<div>                            <div id=\"30cbdbaf-5425-4515-902b-f200f5b264c8\" class=\"plotly-graph-div\" style=\"height:525px; width:100%;\"></div>            <script type=\"text/javascript\">                require([\"plotly\"], function(Plotly) {                    window.PLOTLYENV=window.PLOTLYENV || {};                                    if (document.getElementById(\"30cbdbaf-5425-4515-902b-f200f5b264c8\")) {                    Plotly.newPlot(                        \"30cbdbaf-5425-4515-902b-f200f5b264c8\",                        [{\"alignmentgroup\": \"True\", \"hovertemplate\": \"variable=0<br>Stocks=%{x}<br>Standard Deviation=%{y}<extra></extra>\", \"legendgroup\": \"0\", \"marker\": {\"color\": \"#636efa\"}, \"name\": \"0\", \"offsetgroup\": \"0\", \"orientation\": \"v\", \"showlegend\": true, \"textposition\": \"auto\", \"type\": \"bar\", \"x\": [\"AMD Return\", \"SHOP Return\", \"NVDA Return\", \"CRM Return\", \"NOW Return\", \"ASML Return\", \"AVGO Return\", \"SNE Return\", \"ADBE Return\", \"QCOM Return\", \"AAPL Return\", \"TSM Return\", \"INTC Return\", \"CSCO Return\", \"TXN Return\", \"SAP Return\", \"ORCL Return\", \"MSFT Return\", \"ACN Return\", \"IBM Return\"], \"xaxis\": \"x\", \"y\": [0.0378233861204247, 0.03629832747718699, 0.030413470928485203, 0.026393581300339624, 0.025740785624156496, 0.022743060050193914, 0.022606388396132184, 0.02216090145363839, 0.021328535684571378, 0.021033302613882452, 0.02078643741449645, 0.020302611638527215, 0.019528872515379353, 0.018767867232177906, 0.018420348002818283, 0.018146754045772977, 0.017765052233245298, 0.017705451025632313, 0.01647174907326201, 0.014742424196319001], \"yaxis\": \"y\"}],                        {\"barmode\": \"relative\", \"legend\": {\"title\": {\"text\": \"variable\"}, \"tracegroupgap\": 0}, \"showlegend\": false, \"template\": {\"data\": {\"bar\": [{\"error_x\": {\"color\": \"#2a3f5f\"}, \"error_y\": {\"color\": \"#2a3f5f\"}, \"marker\": {\"line\": {\"color\": \"#E5ECF6\", \"width\": 0.5}}, \"type\": \"bar\"}], \"barpolar\": [{\"marker\": {\"line\": {\"color\": \"#E5ECF6\", \"width\": 0.5}}, \"type\": \"barpolar\"}], \"carpet\": [{\"aaxis\": {\"endlinecolor\": \"#2a3f5f\", \"gridcolor\": \"white\", \"linecolor\": \"white\", \"minorgridcolor\": \"white\", \"startlinecolor\": \"#2a3f5f\"}, \"baxis\": {\"endlinecolor\": \"#2a3f5f\", \"gridcolor\": \"white\", \"linecolor\": \"white\", \"minorgridcolor\": \"white\", \"startlinecolor\": \"#2a3f5f\"}, \"type\": \"carpet\"}], \"choropleth\": [{\"colorbar\": {\"outlinewidth\": 0, \"ticks\": \"\"}, \"type\": \"choropleth\"}], \"contour\": [{\"colorbar\": {\"outlinewidth\": 0, \"ticks\": \"\"}, \"colorscale\": [[0.0, \"#0d0887\"], [0.1111111111111111, \"#46039f\"], [0.2222222222222222, \"#7201a8\"], [0.3333333333333333, \"#9c179e\"], [0.4444444444444444, \"#bd3786\"], [0.5555555555555556, \"#d8576b\"], [0.6666666666666666, \"#ed7953\"], [0.7777777777777778, \"#fb9f3a\"], [0.8888888888888888, \"#fdca26\"], [1.0, \"#f0f921\"]], \"type\": \"contour\"}], \"contourcarpet\": [{\"colorbar\": {\"outlinewidth\": 0, \"ticks\": \"\"}, \"type\": \"contourcarpet\"}], \"heatmap\": [{\"colorbar\": {\"outlinewidth\": 0, \"ticks\": \"\"}, \"colorscale\": [[0.0, \"#0d0887\"], [0.1111111111111111, \"#46039f\"], [0.2222222222222222, \"#7201a8\"], [0.3333333333333333, \"#9c179e\"], [0.4444444444444444, \"#bd3786\"], [0.5555555555555556, \"#d8576b\"], [0.6666666666666666, \"#ed7953\"], [0.7777777777777778, \"#fb9f3a\"], [0.8888888888888888, \"#fdca26\"], [1.0, \"#f0f921\"]], \"type\": \"heatmap\"}], \"heatmapgl\": [{\"colorbar\": {\"outlinewidth\": 0, \"ticks\": \"\"}, \"colorscale\": [[0.0, \"#0d0887\"], [0.1111111111111111, \"#46039f\"], [0.2222222222222222, \"#7201a8\"], [0.3333333333333333, \"#9c179e\"], [0.4444444444444444, \"#bd3786\"], [0.5555555555555556, \"#d8576b\"], [0.6666666666666666, \"#ed7953\"], [0.7777777777777778, \"#fb9f3a\"], [0.8888888888888888, \"#fdca26\"], [1.0, \"#f0f921\"]], \"type\": \"heatmapgl\"}], \"histogram\": [{\"marker\": {\"colorbar\": {\"outlinewidth\": 0, \"ticks\": \"\"}}, \"type\": \"histogram\"}], \"histogram2d\": [{\"colorbar\": {\"outlinewidth\": 0, \"ticks\": \"\"}, \"colorscale\": [[0.0, \"#0d0887\"], [0.1111111111111111, \"#46039f\"], [0.2222222222222222, \"#7201a8\"], [0.3333333333333333, \"#9c179e\"], [0.4444444444444444, \"#bd3786\"], [0.5555555555555556, \"#d8576b\"], [0.6666666666666666, \"#ed7953\"], [0.7777777777777778, \"#fb9f3a\"], [0.8888888888888888, \"#fdca26\"], [1.0, \"#f0f921\"]], \"type\": \"histogram2d\"}], \"histogram2dcontour\": [{\"colorbar\": {\"outlinewidth\": 0, \"ticks\": \"\"}, \"colorscale\": [[0.0, \"#0d0887\"], [0.1111111111111111, \"#46039f\"], [0.2222222222222222, \"#7201a8\"], [0.3333333333333333, \"#9c179e\"], [0.4444444444444444, \"#bd3786\"], [0.5555555555555556, \"#d8576b\"], [0.6666666666666666, \"#ed7953\"], [0.7777777777777778, \"#fb9f3a\"], [0.8888888888888888, \"#fdca26\"], [1.0, \"#f0f921\"]], \"type\": \"histogram2dcontour\"}], \"mesh3d\": [{\"colorbar\": {\"outlinewidth\": 0, \"ticks\": \"\"}, \"type\": \"mesh3d\"}], \"parcoords\": [{\"line\": {\"colorbar\": {\"outlinewidth\": 0, \"ticks\": \"\"}}, \"type\": \"parcoords\"}], \"pie\": [{\"automargin\": true, \"type\": \"pie\"}], \"scatter\": [{\"marker\": {\"colorbar\": {\"outlinewidth\": 0, \"ticks\": \"\"}}, \"type\": \"scatter\"}], \"scatter3d\": [{\"line\": {\"colorbar\": {\"outlinewidth\": 0, \"ticks\": \"\"}}, \"marker\": {\"colorbar\": {\"outlinewidth\": 0, \"ticks\": \"\"}}, \"type\": \"scatter3d\"}], \"scattercarpet\": [{\"marker\": {\"colorbar\": {\"outlinewidth\": 0, \"ticks\": \"\"}}, \"type\": \"scattercarpet\"}], \"scattergeo\": [{\"marker\": {\"colorbar\": {\"outlinewidth\": 0, \"ticks\": \"\"}}, \"type\": \"scattergeo\"}], \"scattergl\": [{\"marker\": {\"colorbar\": {\"outlinewidth\": 0, \"ticks\": \"\"}}, \"type\": \"scattergl\"}], \"scattermapbox\": [{\"marker\": {\"colorbar\": {\"outlinewidth\": 0, \"ticks\": \"\"}}, \"type\": \"scattermapbox\"}], \"scatterpolar\": [{\"marker\": {\"colorbar\": {\"outlinewidth\": 0, \"ticks\": \"\"}}, \"type\": \"scatterpolar\"}], \"scatterpolargl\": [{\"marker\": {\"colorbar\": {\"outlinewidth\": 0, \"ticks\": \"\"}}, \"type\": \"scatterpolargl\"}], \"scatterternary\": [{\"marker\": {\"colorbar\": {\"outlinewidth\": 0, \"ticks\": \"\"}}, \"type\": \"scatterternary\"}], \"surface\": [{\"colorbar\": {\"outlinewidth\": 0, \"ticks\": \"\"}, \"colorscale\": [[0.0, \"#0d0887\"], [0.1111111111111111, \"#46039f\"], [0.2222222222222222, \"#7201a8\"], [0.3333333333333333, \"#9c179e\"], [0.4444444444444444, \"#bd3786\"], [0.5555555555555556, \"#d8576b\"], [0.6666666666666666, \"#ed7953\"], [0.7777777777777778, \"#fb9f3a\"], [0.8888888888888888, \"#fdca26\"], [1.0, \"#f0f921\"]], \"type\": \"surface\"}], \"table\": [{\"cells\": {\"fill\": {\"color\": \"#EBF0F8\"}, \"line\": {\"color\": \"white\"}}, \"header\": {\"fill\": {\"color\": \"#C8D4E3\"}, \"line\": {\"color\": \"white\"}}, \"type\": \"table\"}]}, \"layout\": {\"annotationdefaults\": {\"arrowcolor\": \"#2a3f5f\", \"arrowhead\": 0, \"arrowwidth\": 1}, \"coloraxis\": {\"colorbar\": {\"outlinewidth\": 0, \"ticks\": \"\"}}, \"colorscale\": {\"diverging\": [[0, \"#8e0152\"], [0.1, \"#c51b7d\"], [0.2, \"#de77ae\"], [0.3, \"#f1b6da\"], [0.4, \"#fde0ef\"], [0.5, \"#f7f7f7\"], [0.6, \"#e6f5d0\"], [0.7, \"#b8e186\"], [0.8, \"#7fbc41\"], [0.9, \"#4d9221\"], [1, \"#276419\"]], \"sequential\": [[0.0, \"#0d0887\"], [0.1111111111111111, \"#46039f\"], [0.2222222222222222, \"#7201a8\"], [0.3333333333333333, \"#9c179e\"], [0.4444444444444444, \"#bd3786\"], [0.5555555555555556, \"#d8576b\"], [0.6666666666666666, \"#ed7953\"], [0.7777777777777778, \"#fb9f3a\"], [0.8888888888888888, \"#fdca26\"], [1.0, \"#f0f921\"]], \"sequentialminus\": [[0.0, \"#0d0887\"], [0.1111111111111111, \"#46039f\"], [0.2222222222222222, \"#7201a8\"], [0.3333333333333333, \"#9c179e\"], [0.4444444444444444, \"#bd3786\"], [0.5555555555555556, \"#d8576b\"], [0.6666666666666666, \"#ed7953\"], [0.7777777777777778, \"#fb9f3a\"], [0.8888888888888888, \"#fdca26\"], [1.0, \"#f0f921\"]]}, \"colorway\": [\"#636efa\", \"#EF553B\", \"#00cc96\", \"#ab63fa\", \"#FFA15A\", \"#19d3f3\", \"#FF6692\", \"#B6E880\", \"#FF97FF\", \"#FECB52\"], \"font\": {\"color\": \"#2a3f5f\"}, \"geo\": {\"bgcolor\": \"white\", \"lakecolor\": \"white\", \"landcolor\": \"#E5ECF6\", \"showlakes\": true, \"showland\": true, \"subunitcolor\": \"white\"}, \"hoverlabel\": {\"align\": \"left\"}, \"hovermode\": \"closest\", \"mapbox\": {\"style\": \"light\"}, \"paper_bgcolor\": \"white\", \"plot_bgcolor\": \"#E5ECF6\", \"polar\": {\"angularaxis\": {\"gridcolor\": \"white\", \"linecolor\": \"white\", \"ticks\": \"\"}, \"bgcolor\": \"#E5ECF6\", \"radialaxis\": {\"gridcolor\": \"white\", \"linecolor\": \"white\", \"ticks\": \"\"}}, \"scene\": {\"xaxis\": {\"backgroundcolor\": \"#E5ECF6\", \"gridcolor\": \"white\", \"gridwidth\": 2, \"linecolor\": \"white\", \"showbackground\": true, \"ticks\": \"\", \"zerolinecolor\": \"white\"}, \"yaxis\": {\"backgroundcolor\": \"#E5ECF6\", \"gridcolor\": \"white\", \"gridwidth\": 2, \"linecolor\": \"white\", \"showbackground\": true, \"ticks\": \"\", \"zerolinecolor\": \"white\"}, \"zaxis\": {\"backgroundcolor\": \"#E5ECF6\", \"gridcolor\": \"white\", \"gridwidth\": 2, \"linecolor\": \"white\", \"showbackground\": true, \"ticks\": \"\", \"zerolinecolor\": \"white\"}}, \"shapedefaults\": {\"line\": {\"color\": \"#2a3f5f\"}}, \"ternary\": {\"aaxis\": {\"gridcolor\": \"white\", \"linecolor\": \"white\", \"ticks\": \"\"}, \"baxis\": {\"gridcolor\": \"white\", \"linecolor\": \"white\", \"ticks\": \"\"}, \"bgcolor\": \"#E5ECF6\", \"caxis\": {\"gridcolor\": \"white\", \"linecolor\": \"white\", \"ticks\": \"\"}}, \"title\": {\"x\": 0.05}, \"xaxis\": {\"automargin\": true, \"gridcolor\": \"white\", \"linecolor\": \"white\", \"ticks\": \"\", \"title\": {\"standoff\": 15}, \"zerolinecolor\": \"white\", \"zerolinewidth\": 2}, \"yaxis\": {\"automargin\": true, \"gridcolor\": \"white\", \"linecolor\": \"white\", \"ticks\": \"\", \"title\": {\"standoff\": 15}, \"zerolinecolor\": \"white\", \"zerolinewidth\": 2}}}, \"title\": {\"text\": \"Most Volatile Stocks 2006-2020\"}, \"xaxis\": {\"anchor\": \"y\", \"domain\": [0.0, 1.0], \"title\": {\"text\": \"Stocks\"}}, \"yaxis\": {\"anchor\": \"x\", \"domain\": [0.0, 1.0], \"title\": {\"text\": \"Standard Deviation\"}}},                        {\"responsive\": true}                    ).then(function(){\n",
       "                            \n",
       "var gd = document.getElementById('30cbdbaf-5425-4515-902b-f200f5b264c8');\n",
       "var x = new MutationObserver(function (mutations, observer) {{\n",
       "        var display = window.getComputedStyle(gd).display;\n",
       "        if (!display || display === 'none') {{\n",
       "            console.log([gd, 'removed!']);\n",
       "            Plotly.purge(gd);\n",
       "            observer.disconnect();\n",
       "        }}\n",
       "}});\n",
       "\n",
       "// Listen for the removal of the full notebook cells\n",
       "var notebookContainer = gd.closest('#notebook-container');\n",
       "if (notebookContainer) {{\n",
       "    x.observe(notebookContainer, {childList: true});\n",
       "}}\n",
       "\n",
       "// Listen for the clearing of the current output cell\n",
       "var outputEl = gd.closest('.output');\n",
       "if (outputEl) {{\n",
       "    x.observe(outputEl, {childList: true});\n",
       "}}\n",
       "\n",
       "                        })                };                });            </script>        </div>"
      ]
     },
     "metadata": {},
     "output_type": "display_data"
    }
   ],
   "source": [
    "#Bar chart for 20 most volatile stocks\n",
    "returns_until2020 = returns.loc['2006-01-01':'2020-12-31'].std().head(20).sort_values(ascending=False)\n",
    "figure = px.bar(returns_until2020, title='Most Volatile Stocks 2006-2020', \n",
    "                labels={'value':'Standard Deviation', 'index':'Stocks'})\n",
    "figure.update_layout(showlegend=False)\n",
    "figure.show()"
   ]
  },
  {
   "cell_type": "markdown",
   "metadata": {},
   "source": [
    "### **xii. Distplot for 4 most volatile stocks 2006-2020**\n",
    "We have created a displot for 4 most volatile stocks from 2006 to 2020 so we get a cumulative view of returns given by the stock along with standard deviation to show the volatility of the stock over the years."
   ]
  },
  {
   "cell_type": "code",
   "execution_count": 64,
   "metadata": {},
   "outputs": [
    {
     "data": {
      "text/plain": [
       "[Text(0, 0.5, 'Returns'),\n",
       " Text(0.5, 0, 'Standard Deviation'),\n",
       " Text(0.5, 1.0, 'Salesforce')]"
      ]
     },
     "execution_count": 64,
     "metadata": {},
     "output_type": "execute_result"
    },
    {
     "data": {
      "image/png": "[encoded data removed]",
      "text/plain": [
       "<Figure size 1080x720 with 4 Axes>"
      ]
     },
     "metadata": {
      "needs_background": "light"
     },
     "output_type": "display_data"
    }
   ],
   "source": [
    "fig, axes = plt.subplots(2, 2,figsize=(15,10))\n",
    "sns.distplot(returns.loc['2006-01-01':'2020-12-31']['AMD Return'], color='brown', bins=30, ax=axes[0,0])\n",
    "sns.distplot(returns.loc['2006-01-01':'2020-12-31']['SHOP Return'], color='blue', bins=30, ax=axes[0,1])\n",
    "sns.distplot(returns.loc['2006-01-01':'2020-12-31']['NVDA Return'], color='orange', bins=30, ax=axes[1,0])\n",
    "sns.distplot(returns.loc['2006-01-01':'2020-12-31']['CRM Return'], color='purple', bins=30, ax=axes[1,1])\n",
    "sns.despine()\n",
    "axes[0,0].set(xlabel='Standard Deviation', ylabel='Returns', title='AMD')\n",
    "axes[0,1].set(xlabel='Standard Deviation', ylabel='Returns', title='Shopify')\n",
    "axes[1,0].set(xlabel='Standard Deviation', ylabel='Returns', title='Nvidia')\n",
    "axes[1,1].set(xlabel='Standard Deviation', ylabel='Returns', title='Salesforce')"
   ]
  },
  {
   "cell_type": "markdown",
   "metadata": {},
   "source": [
    "So Exploratory data analysis helps us find out which sector is biggest. Then upon in depth analysis of IT sector companies we found which stocks offer best and worst returns, also we found out which stocks are most volatile and which are least. All these characteristics are important while analyzing the financial trends of companies for making wise investments."
   ]
  },
  {
   "cell_type": "markdown",
   "metadata": {},
   "source": [
    "## **6. Linear Regression to predict the future stock prices**"
   ]
  },
  {
   "cell_type": "code",
   "execution_count": null,
   "metadata": {},
   "outputs": [],
   "source": [
    "# Linear regression is used to predict the value of a variable based on the value of another variable.\n",
    "# We will be using svm (support vector regressor model) and linear regression and \n",
    "# we will find coefficient of determination R^2 to determine how well the model fits the data\n",
    "# This prediction will help the customers to get a better idea in which stocks they should invest"
   ]
  },
  {
   "cell_type": "markdown",
   "metadata": {},
   "source": [
    "### **i. Predicting stock prices for Apple**"
   ]
  },
  {
   "cell_type": "code",
   "execution_count": 55,
   "metadata": {},
   "outputs": [],
   "source": [
    "# Stock data of apple\n",
    "df1 = pd.read_csv('C:/Users/chava/Downloads/Technology Companies/AAPL.csv')"
   ]
  },
  {
   "cell_type": "code",
   "execution_count": 56,
   "metadata": {},
   "outputs": [
    {
     "data": {
      "text/html": [
       "<div>\n",
       "<style scoped>\n",
       "    .dataframe tbody tr th:only-of-type {\n",
       "        vertical-align: middle;\n",
       "    }\n",
       "\n",
       "    .dataframe tbody tr th {\n",
       "        vertical-align: top;\n",
       "    }\n",
       "\n",
       "    .dataframe thead th {\n",
       "        text-align: right;\n",
       "    }\n",
       "</style>\n",
       "<table border=\"1\" class=\"dataframe\">\n",
       "  <thead>\n",
       "    <tr style=\"text-align: right;\">\n",
       "      <th></th>\n",
       "      <th>Date</th>\n",
       "      <th>High</th>\n",
       "      <th>Low</th>\n",
       "      <th>Open</th>\n",
       "      <th>Close</th>\n",
       "      <th>Volume</th>\n",
       "      <th>Adj Close</th>\n",
       "    </tr>\n",
       "  </thead>\n",
       "  <tbody>\n",
       "    <tr>\n",
       "      <th>0</th>\n",
       "      <td>2006-01-03</td>\n",
       "      <td>2.669643</td>\n",
       "      <td>2.580357</td>\n",
       "      <td>2.585000</td>\n",
       "      <td>2.669643</td>\n",
       "      <td>807234400.0</td>\n",
       "      <td>2.284267</td>\n",
       "    </tr>\n",
       "    <tr>\n",
       "      <th>1</th>\n",
       "      <td>2006-01-04</td>\n",
       "      <td>2.713571</td>\n",
       "      <td>2.660714</td>\n",
       "      <td>2.683214</td>\n",
       "      <td>2.677500</td>\n",
       "      <td>619603600.0</td>\n",
       "      <td>2.290990</td>\n",
       "    </tr>\n",
       "    <tr>\n",
       "      <th>2</th>\n",
       "      <td>2006-01-05</td>\n",
       "      <td>2.675000</td>\n",
       "      <td>2.633929</td>\n",
       "      <td>2.672500</td>\n",
       "      <td>2.656429</td>\n",
       "      <td>449422400.0</td>\n",
       "      <td>2.272961</td>\n",
       "    </tr>\n",
       "    <tr>\n",
       "      <th>3</th>\n",
       "      <td>2006-01-06</td>\n",
       "      <td>2.739286</td>\n",
       "      <td>2.662500</td>\n",
       "      <td>2.687500</td>\n",
       "      <td>2.725000</td>\n",
       "      <td>704457600.0</td>\n",
       "      <td>2.331634</td>\n",
       "    </tr>\n",
       "    <tr>\n",
       "      <th>4</th>\n",
       "      <td>2006-01-09</td>\n",
       "      <td>2.757143</td>\n",
       "      <td>2.705000</td>\n",
       "      <td>2.740357</td>\n",
       "      <td>2.716071</td>\n",
       "      <td>675040800.0</td>\n",
       "      <td>2.323994</td>\n",
       "    </tr>\n",
       "  </tbody>\n",
       "</table>\n",
       "</div>"
      ],
      "text/plain": [
       "         Date      High       Low      Open     Close       Volume  Adj Close\n",
       "0  2006-01-03  2.669643  2.580357  2.585000  2.669643  807234400.0   2.284267\n",
       "1  2006-01-04  2.713571  2.660714  2.683214  2.677500  619603600.0   2.290990\n",
       "2  2006-01-05  2.675000  2.633929  2.672500  2.656429  449422400.0   2.272961\n",
       "3  2006-01-06  2.739286  2.662500  2.687500  2.725000  704457600.0   2.331634\n",
       "4  2006-01-09  2.757143  2.705000  2.740357  2.716071  675040800.0   2.323994"
      ]
     },
     "execution_count": 56,
     "metadata": {},
     "output_type": "execute_result"
    }
   ],
   "source": [
    "# Sample data\n",
    "df1.head()"
   ]
  },
  {
   "cell_type": "code",
   "execution_count": 99,
   "metadata": {},
   "outputs": [
    {
     "ename": "AttributeError",
     "evalue": "'Series' object has no attribute 'Date'",
     "output_type": "error",
     "traceback": [
      "\u001b[1;31m---------------------------------------------------------------------------\u001b[0m",
      "\u001b[1;31mAttributeError\u001b[0m                            Traceback (most recent call last)",
      "\u001b[1;32m<ipython-input-99-840f4675ae20>\u001b[0m in \u001b[0;36m<module>\u001b[1;34m\u001b[0m\n\u001b[0;32m      1\u001b[0m \u001b[1;31m#df_date = df1['Date']\u001b[0m\u001b[1;33m\u001b[0m\u001b[1;33m\u001b[0m\u001b[1;33m\u001b[0m\u001b[0m\n\u001b[0;32m      2\u001b[0m \u001b[1;33m\u001b[0m\u001b[0m\n\u001b[1;32m----> 3\u001b[1;33m \u001b[0mdf_date\u001b[0m\u001b[1;33m[\u001b[0m\u001b[1;34m'Date'\u001b[0m\u001b[1;33m]\u001b[0m \u001b[1;33m=\u001b[0m \u001b[0mpd\u001b[0m\u001b[1;33m.\u001b[0m\u001b[0mDatetimeIndex\u001b[0m\u001b[1;33m(\u001b[0m\u001b[0mdf_date\u001b[0m\u001b[1;33m.\u001b[0m\u001b[0mDate\u001b[0m\u001b[1;33m)\u001b[0m\u001b[1;33m.\u001b[0m\u001b[0mDate\u001b[0m\u001b[1;33m\u001b[0m\u001b[1;33m\u001b[0m\u001b[0m\n\u001b[0m",
      "\u001b[1;32m~\\anaconda3\\lib\\site-packages\\pandas\\core\\generic.py\u001b[0m in \u001b[0;36m__getattr__\u001b[1;34m(self, name)\u001b[0m\n\u001b[0;32m   5272\u001b[0m             \u001b[1;32mif\u001b[0m \u001b[0mself\u001b[0m\u001b[1;33m.\u001b[0m\u001b[0m_info_axis\u001b[0m\u001b[1;33m.\u001b[0m\u001b[0m_can_hold_identifiers_and_holds_name\u001b[0m\u001b[1;33m(\u001b[0m\u001b[0mname\u001b[0m\u001b[1;33m)\u001b[0m\u001b[1;33m:\u001b[0m\u001b[1;33m\u001b[0m\u001b[1;33m\u001b[0m\u001b[0m\n\u001b[0;32m   5273\u001b[0m                 \u001b[1;32mreturn\u001b[0m \u001b[0mself\u001b[0m\u001b[1;33m[\u001b[0m\u001b[0mname\u001b[0m\u001b[1;33m]\u001b[0m\u001b[1;33m\u001b[0m\u001b[1;33m\u001b[0m\u001b[0m\n\u001b[1;32m-> 5274\u001b[1;33m             \u001b[1;32mreturn\u001b[0m \u001b[0mobject\u001b[0m\u001b[1;33m.\u001b[0m\u001b[0m__getattribute__\u001b[0m\u001b[1;33m(\u001b[0m\u001b[0mself\u001b[0m\u001b[1;33m,\u001b[0m \u001b[0mname\u001b[0m\u001b[1;33m)\u001b[0m\u001b[1;33m\u001b[0m\u001b[1;33m\u001b[0m\u001b[0m\n\u001b[0m\u001b[0;32m   5275\u001b[0m \u001b[1;33m\u001b[0m\u001b[0m\n\u001b[0;32m   5276\u001b[0m     \u001b[1;32mdef\u001b[0m \u001b[0m__setattr__\u001b[0m\u001b[1;33m(\u001b[0m\u001b[0mself\u001b[0m\u001b[1;33m,\u001b[0m \u001b[0mname\u001b[0m\u001b[1;33m:\u001b[0m \u001b[0mstr\u001b[0m\u001b[1;33m,\u001b[0m \u001b[0mvalue\u001b[0m\u001b[1;33m)\u001b[0m \u001b[1;33m->\u001b[0m \u001b[1;32mNone\u001b[0m\u001b[1;33m:\u001b[0m\u001b[1;33m\u001b[0m\u001b[1;33m\u001b[0m\u001b[0m\n",
      "\u001b[1;31mAttributeError\u001b[0m: 'Series' object has no attribute 'Date'"
     ]
    }
   ],
   "source": [
    "#df_date = df1['Date']\n",
    "\n",
    "df_date['Date'] = pd.DatetimeIndex(df_date.Date).Date"
   ]
  },
  {
   "cell_type": "code",
   "execution_count": 83,
   "metadata": {},
   "outputs": [
    {
     "data": {
      "text/plain": [
       "0    2006-01-03\n",
       "1    2006-01-04\n",
       "2    2006-01-05\n",
       "3    2006-01-06\n",
       "4    2006-01-09\n",
       "Name: Date, dtype: object"
      ]
     },
     "execution_count": 83,
     "metadata": {},
     "output_type": "execute_result"
    }
   ],
   "source": [
    "df_date.head()"
   ]
  },
  {
   "cell_type": "code",
   "execution_count": 57,
   "metadata": {},
   "outputs": [],
   "source": [
    "# Get the Adjusted Close Price\n",
    "# Here the adjusted close price will be the independent variable\n",
    "df = df1[['Adj Close']]"
   ]
  },
  {
   "cell_type": "code",
   "execution_count": 58,
   "metadata": {},
   "outputs": [
    {
     "data": {
      "text/html": [
       "<div>\n",
       "<style scoped>\n",
       "    .dataframe tbody tr th:only-of-type {\n",
       "        vertical-align: middle;\n",
       "    }\n",
       "\n",
       "    .dataframe tbody tr th {\n",
       "        vertical-align: top;\n",
       "    }\n",
       "\n",
       "    .dataframe thead th {\n",
       "        text-align: right;\n",
       "    }\n",
       "</style>\n",
       "<table border=\"1\" class=\"dataframe\">\n",
       "  <thead>\n",
       "    <tr style=\"text-align: right;\">\n",
       "      <th></th>\n",
       "      <th>Date</th>\n",
       "      <th>High</th>\n",
       "      <th>Low</th>\n",
       "      <th>Open</th>\n",
       "      <th>Close</th>\n",
       "      <th>Volume</th>\n",
       "      <th>Adj Close</th>\n",
       "    </tr>\n",
       "  </thead>\n",
       "  <tbody>\n",
       "    <tr>\n",
       "      <th>3744</th>\n",
       "      <td>2020-11-16</td>\n",
       "      <td>120.989998</td>\n",
       "      <td>118.150002</td>\n",
       "      <td>118.919998</td>\n",
       "      <td>120.300003</td>\n",
       "      <td>91183000.0</td>\n",
       "      <td>120.300003</td>\n",
       "    </tr>\n",
       "    <tr>\n",
       "      <th>3745</th>\n",
       "      <td>2020-11-17</td>\n",
       "      <td>120.669998</td>\n",
       "      <td>118.959999</td>\n",
       "      <td>119.550003</td>\n",
       "      <td>119.389999</td>\n",
       "      <td>74271000.0</td>\n",
       "      <td>119.389999</td>\n",
       "    </tr>\n",
       "    <tr>\n",
       "      <th>3746</th>\n",
       "      <td>2020-11-18</td>\n",
       "      <td>119.820000</td>\n",
       "      <td>118.000000</td>\n",
       "      <td>118.610001</td>\n",
       "      <td>118.029999</td>\n",
       "      <td>76322100.0</td>\n",
       "      <td>118.029999</td>\n",
       "    </tr>\n",
       "    <tr>\n",
       "      <th>3747</th>\n",
       "      <td>2020-11-19</td>\n",
       "      <td>119.059998</td>\n",
       "      <td>116.809998</td>\n",
       "      <td>117.589996</td>\n",
       "      <td>118.639999</td>\n",
       "      <td>74113000.0</td>\n",
       "      <td>118.639999</td>\n",
       "    </tr>\n",
       "    <tr>\n",
       "      <th>3748</th>\n",
       "      <td>2020-11-20</td>\n",
       "      <td>118.769997</td>\n",
       "      <td>117.290001</td>\n",
       "      <td>118.639999</td>\n",
       "      <td>117.339996</td>\n",
       "      <td>73391400.0</td>\n",
       "      <td>117.339996</td>\n",
       "    </tr>\n",
       "  </tbody>\n",
       "</table>\n",
       "</div>"
      ],
      "text/plain": [
       "            Date        High         Low        Open       Close      Volume  \\\n",
       "3744  2020-11-16  120.989998  118.150002  118.919998  120.300003  91183000.0   \n",
       "3745  2020-11-17  120.669998  118.959999  119.550003  119.389999  74271000.0   \n",
       "3746  2020-11-18  119.820000  118.000000  118.610001  118.029999  76322100.0   \n",
       "3747  2020-11-19  119.059998  116.809998  117.589996  118.639999  74113000.0   \n",
       "3748  2020-11-20  118.769997  117.290001  118.639999  117.339996  73391400.0   \n",
       "\n",
       "       Adj Close  \n",
       "3744  120.300003  \n",
       "3745  119.389999  \n",
       "3746  118.029999  \n",
       "3747  118.639999  \n",
       "3748  117.339996  "
      ]
     },
     "execution_count": 58,
     "metadata": {},
     "output_type": "execute_result"
    }
   ],
   "source": [
    "df1.tail()"
   ]
  },
  {
   "cell_type": "code",
   "execution_count": 59,
   "metadata": {},
   "outputs": [],
   "source": [
    "# A variable for predicting 'n' days out into the future\n",
    "forecast_out = 30 #'n=30' days"
   ]
  },
  {
   "cell_type": "code",
   "execution_count": 60,
   "metadata": {},
   "outputs": [],
   "source": [
    "#Create another column (the target ) shifted 'n' units up\n",
    "# A new column 'Prediction will be created' which will be the target or the dependent variable\n",
    "df['Prediction'] = df[['Adj Close']].shift(-forecast_out)"
   ]
  },
  {
   "cell_type": "code",
   "execution_count": 70,
   "metadata": {},
   "outputs": [
    {
     "data": {
      "text/html": [
       "<div>\n",
       "<style scoped>\n",
       "    .dataframe tbody tr th:only-of-type {\n",
       "        vertical-align: middle;\n",
       "    }\n",
       "\n",
       "    .dataframe tbody tr th {\n",
       "        vertical-align: top;\n",
       "    }\n",
       "\n",
       "    .dataframe thead th {\n",
       "        text-align: right;\n",
       "    }\n",
       "</style>\n",
       "<table border=\"1\" class=\"dataframe\">\n",
       "  <thead>\n",
       "    <tr style=\"text-align: right;\">\n",
       "      <th></th>\n",
       "      <th>Adj Close</th>\n",
       "      <th>Prediction</th>\n",
       "    </tr>\n",
       "  </thead>\n",
       "  <tbody>\n",
       "    <tr>\n",
       "      <th>0</th>\n",
       "      <td>2.284267</td>\n",
       "      <td>2.115278</td>\n",
       "    </tr>\n",
       "    <tr>\n",
       "      <th>1</th>\n",
       "      <td>2.290990</td>\n",
       "      <td>2.156532</td>\n",
       "    </tr>\n",
       "    <tr>\n",
       "      <th>2</th>\n",
       "      <td>2.272961</td>\n",
       "      <td>2.147975</td>\n",
       "    </tr>\n",
       "    <tr>\n",
       "      <th>3</th>\n",
       "      <td>2.331634</td>\n",
       "      <td>2.110999</td>\n",
       "    </tr>\n",
       "    <tr>\n",
       "      <th>4</th>\n",
       "      <td>2.323994</td>\n",
       "      <td>2.179450</td>\n",
       "    </tr>\n",
       "  </tbody>\n",
       "</table>\n",
       "</div>"
      ],
      "text/plain": [
       "   Adj Close  Prediction\n",
       "0   2.284267    2.115278\n",
       "1   2.290990    2.156532\n",
       "2   2.272961    2.147975\n",
       "3   2.331634    2.110999\n",
       "4   2.323994    2.179450"
      ]
     },
     "execution_count": 70,
     "metadata": {},
     "output_type": "execute_result"
    }
   ],
   "source": [
    "# New dataset\n",
    "df.head()"
   ]
  },
  {
   "cell_type": "code",
   "execution_count": 62,
   "metadata": {},
   "outputs": [],
   "source": [
    "X = np.array(df.drop(['Prediction'],1))"
   ]
  },
  {
   "cell_type": "code",
   "execution_count": 63,
   "metadata": {},
   "outputs": [
    {
     "name": "stdout",
     "output_type": "stream",
     "text": [
      "[[  2.28426695]\n",
      " [  2.29098988]\n",
      " [  2.27296114]\n",
      " ...\n",
      " [114.88180542]\n",
      " [114.77198792]\n",
      " [116.76854706]]\n"
     ]
    }
   ],
   "source": [
    "#Remove the last '30' rows\n",
    "X = X[:-forecast_out]\n",
    "print(X)"
   ]
  },
  {
   "cell_type": "code",
   "execution_count": 64,
   "metadata": {},
   "outputs": [],
   "source": [
    "# Create the dependent data set (y)\n",
    "y = np.array(df['Prediction'])"
   ]
  },
  {
   "cell_type": "code",
   "execution_count": 65,
   "metadata": {},
   "outputs": [
    {
     "name": "stdout",
     "output_type": "stream",
     "text": [
      "[  2.11527801   2.15653205   2.14797521 ... 118.02999878 118.63999939\n",
      " 117.33999634]\n"
     ]
    }
   ],
   "source": [
    "# Get all of the y values except the last '30' rows\n",
    "y = y[:-forecast_out]\n",
    "print(y)"
   ]
  },
  {
   "cell_type": "code",
   "execution_count": 66,
   "metadata": {},
   "outputs": [],
   "source": [
    "# Split the data into 80% training and 20% testing\n",
    "x_train, x_test, y_train, y_test = train_test_split(X, y, test_size=0.2)"
   ]
  },
  {
   "cell_type": "code",
   "execution_count": 67,
   "metadata": {},
   "outputs": [
    {
     "data": {
      "text/plain": [
       "SVR(C=1000.0, gamma=0.1)"
      ]
     },
     "execution_count": 67,
     "metadata": {},
     "output_type": "execute_result"
    }
   ],
   "source": [
    "# Create and train the Support Vector Machine (Regressor) \n",
    "svr_rbf = SVR(kernel='rbf', C=1e3, gamma=0.1) \n",
    "svr_rbf.fit(x_train, y_train)"
   ]
  },
  {
   "cell_type": "code",
   "execution_count": 68,
   "metadata": {},
   "outputs": [
    {
     "name": "stdout",
     "output_type": "stream",
     "text": [
      "svm confidence:  0.979361392950324\n"
     ]
    }
   ],
   "source": [
    "# Testing Model: Score returns the coefficient of determination R^2 of the prediction. \n",
    "# The best possible score is 1.0\n",
    "svm_confidence = svr_rbf.score(x_test, y_test)\n",
    "print(\"svm confidence: \", svm_confidence)"
   ]
  },
  {
   "cell_type": "code",
   "execution_count": 69,
   "metadata": {},
   "outputs": [],
   "source": [
    "# Create and train the Linear Regression  Model\n",
    "lr = LinearRegression()"
   ]
  },
  {
   "cell_type": "code",
   "execution_count": 32,
   "metadata": {},
   "outputs": [
    {
     "data": {
      "text/plain": [
       "LinearRegression()"
      ]
     },
     "execution_count": 32,
     "metadata": {},
     "output_type": "execute_result"
    }
   ],
   "source": [
    "# Train the model\n",
    "lr.fit(x_train, y_train)"
   ]
  },
  {
   "cell_type": "code",
   "execution_count": 33,
   "metadata": {},
   "outputs": [
    {
     "name": "stdout",
     "output_type": "stream",
     "text": [
      "lr confidence:  0.9766403616458009\n"
     ]
    }
   ],
   "source": [
    "lr_confidence = lr.score(x_test, y_test)\n",
    "print(\"lr confidence: \", lr_confidence)"
   ]
  },
  {
   "cell_type": "code",
   "execution_count": 34,
   "metadata": {},
   "outputs": [
    {
     "name": "stdout",
     "output_type": "stream",
     "text": [
      "[[124.18575287]\n",
      " [120.89143372]\n",
      " [120.98127747]\n",
      " [120.50210571]\n",
      " [118.81501007]\n",
      " [115.78025055]\n",
      " [117.30761719]\n",
      " [116.66872406]\n",
      " [115.55064392]\n",
      " [114.84187317]\n",
      " [114.85185242]\n",
      " [116.39917755]\n",
      " [111.00847626]\n",
      " [115.12138367]\n",
      " [108.67251587]\n",
      " [108.58266449]\n",
      " [110.24979401]\n",
      " [114.75202179]\n",
      " [118.82499695]\n",
      " [118.69000244]\n",
      " [116.31999969]\n",
      " [115.97000122]\n",
      " [119.48999786]\n",
      " [119.20999908]\n",
      " [119.26000214]\n",
      " [120.30000305]\n",
      " [119.38999939]\n",
      " [118.02999878]\n",
      " [118.63999939]\n",
      " [117.33999634]]\n"
     ]
    }
   ],
   "source": [
    "# Set x_forecast equal to the last 30 rows of the original data set from Adj. Close column\n",
    "x_forecast = np.array(df.drop(['Prediction'],1))[-forecast_out:]\n",
    "print(x_forecast)"
   ]
  },
  {
   "cell_type": "code",
   "execution_count": 35,
   "metadata": {},
   "outputs": [
    {
     "name": "stdout",
     "output_type": "stream",
     "text": [
      "[130.89563933 127.41426336 127.50920858 127.00282868 125.21993699\n",
      " 122.01285887 123.62695188 122.95178136 121.7702148  121.02119889\n",
      " 121.03174478 122.66692956 116.97013544 121.31658045 114.50153541\n",
      " 114.40658212 116.16837398 120.9262456  125.23049094 125.08783122\n",
      " 122.58325585 122.21338389 125.93325169 125.63735413 125.69019643\n",
      " 126.7892503  125.82757514 124.39035148 125.03498892 123.66116957]\n"
     ]
    }
   ],
   "source": [
    "# Print linear regression model predictions for the next '30' days\n",
    "lr_prediction = lr.predict(x_forecast)\n",
    "print(lr_prediction)"
   ]
  },
  {
   "cell_type": "code",
   "execution_count": 37,
   "metadata": {},
   "outputs": [
    {
     "name": "stdout",
     "output_type": "stream",
     "text": [
      "[116.46588396 115.55183793 115.42636854 115.69166433 112.09407684\n",
      " 117.47418365 115.84010238 117.82526968 116.89022179 115.07057228\n",
      " 115.08890683 118.12710242 110.42445676 115.69670099 116.40799894\n",
      " 117.04367941 108.1678264  114.92157729 112.10201811 112.03633029\n",
      " 118.14378995 117.84785963 113.47957098 112.73428527 112.85493979\n",
      " 115.49605769 113.19665791 113.04836632 112.0354484  115.70917092]\n"
     ]
    }
   ],
   "source": [
    "# Print support vector regressor model predictions for the next '30' days\n",
    "svm_prediction = svr_rbf.predict(x_forecast)\n",
    "print(svm_prediction)"
   ]
  },
  {
   "cell_type": "markdown",
   "metadata": {},
   "source": [
    "### **ii. Predicting stock prices for Fiserv**"
   ]
  },
  {
   "cell_type": "code",
   "execution_count": 86,
   "metadata": {},
   "outputs": [],
   "source": [
    "# Stock data of Fiserv\n",
    "df = pd.read_csv('C:/Users/abhis/OneDrive/Desktop/idsproject/Technology Companies/FISV.csv')"
   ]
  },
  {
   "cell_type": "code",
   "execution_count": 87,
   "metadata": {},
   "outputs": [
    {
     "data": {
      "text/html": [
       "<div>\n",
       "<style scoped>\n",
       "    .dataframe tbody tr th:only-of-type {\n",
       "        vertical-align: middle;\n",
       "    }\n",
       "\n",
       "    .dataframe tbody tr th {\n",
       "        vertical-align: top;\n",
       "    }\n",
       "\n",
       "    .dataframe thead th {\n",
       "        text-align: right;\n",
       "    }\n",
       "</style>\n",
       "<table border=\"1\" class=\"dataframe\">\n",
       "  <thead>\n",
       "    <tr style=\"text-align: right;\">\n",
       "      <th></th>\n",
       "      <th>Date</th>\n",
       "      <th>High</th>\n",
       "      <th>Low</th>\n",
       "      <th>Open</th>\n",
       "      <th>Close</th>\n",
       "      <th>Volume</th>\n",
       "      <th>Adj Close</th>\n",
       "    </tr>\n",
       "  </thead>\n",
       "  <tbody>\n",
       "    <tr>\n",
       "      <th>0</th>\n",
       "      <td>2006-01-03</td>\n",
       "      <td>10.9875</td>\n",
       "      <td>10.7525</td>\n",
       "      <td>10.9150</td>\n",
       "      <td>10.9225</td>\n",
       "      <td>5774000.0</td>\n",
       "      <td>10.9225</td>\n",
       "    </tr>\n",
       "    <tr>\n",
       "      <th>1</th>\n",
       "      <td>2006-01-04</td>\n",
       "      <td>11.0775</td>\n",
       "      <td>10.8425</td>\n",
       "      <td>11.0000</td>\n",
       "      <td>11.0750</td>\n",
       "      <td>6338400.0</td>\n",
       "      <td>11.0750</td>\n",
       "    </tr>\n",
       "    <tr>\n",
       "      <th>2</th>\n",
       "      <td>2006-01-05</td>\n",
       "      <td>11.1725</td>\n",
       "      <td>11.0375</td>\n",
       "      <td>11.1075</td>\n",
       "      <td>11.1725</td>\n",
       "      <td>5084000.0</td>\n",
       "      <td>11.1725</td>\n",
       "    </tr>\n",
       "    <tr>\n",
       "      <th>3</th>\n",
       "      <td>2006-01-06</td>\n",
       "      <td>11.2425</td>\n",
       "      <td>11.0275</td>\n",
       "      <td>11.2375</td>\n",
       "      <td>11.2125</td>\n",
       "      <td>4714800.0</td>\n",
       "      <td>11.2125</td>\n",
       "    </tr>\n",
       "    <tr>\n",
       "      <th>4</th>\n",
       "      <td>2006-01-09</td>\n",
       "      <td>11.2950</td>\n",
       "      <td>11.1250</td>\n",
       "      <td>11.1775</td>\n",
       "      <td>11.2875</td>\n",
       "      <td>5208400.0</td>\n",
       "      <td>11.2875</td>\n",
       "    </tr>\n",
       "  </tbody>\n",
       "</table>\n",
       "</div>"
      ],
      "text/plain": [
       "         Date     High      Low     Open    Close     Volume  Adj Close\n",
       "0  2006-01-03  10.9875  10.7525  10.9150  10.9225  5774000.0    10.9225\n",
       "1  2006-01-04  11.0775  10.8425  11.0000  11.0750  6338400.0    11.0750\n",
       "2  2006-01-05  11.1725  11.0375  11.1075  11.1725  5084000.0    11.1725\n",
       "3  2006-01-06  11.2425  11.0275  11.2375  11.2125  4714800.0    11.2125\n",
       "4  2006-01-09  11.2950  11.1250  11.1775  11.2875  5208400.0    11.2875"
      ]
     },
     "execution_count": 87,
     "metadata": {},
     "output_type": "execute_result"
    }
   ],
   "source": [
    "# Sample data\n",
    "df.head()"
   ]
  },
  {
   "cell_type": "code",
   "execution_count": 88,
   "metadata": {},
   "outputs": [],
   "source": [
    "# Get the Adjusted Close Price\n",
    "df = df[['Adj Close']]"
   ]
  },
  {
   "cell_type": "code",
   "execution_count": 89,
   "metadata": {},
   "outputs": [
    {
     "data": {
      "text/html": [
       "<div>\n",
       "<style scoped>\n",
       "    .dataframe tbody tr th:only-of-type {\n",
       "        vertical-align: middle;\n",
       "    }\n",
       "\n",
       "    .dataframe tbody tr th {\n",
       "        vertical-align: top;\n",
       "    }\n",
       "\n",
       "    .dataframe thead th {\n",
       "        text-align: right;\n",
       "    }\n",
       "</style>\n",
       "<table border=\"1\" class=\"dataframe\">\n",
       "  <thead>\n",
       "    <tr style=\"text-align: right;\">\n",
       "      <th></th>\n",
       "      <th>Adj Close</th>\n",
       "    </tr>\n",
       "  </thead>\n",
       "  <tbody>\n",
       "    <tr>\n",
       "      <th>0</th>\n",
       "      <td>10.9225</td>\n",
       "    </tr>\n",
       "    <tr>\n",
       "      <th>1</th>\n",
       "      <td>11.0750</td>\n",
       "    </tr>\n",
       "    <tr>\n",
       "      <th>2</th>\n",
       "      <td>11.1725</td>\n",
       "    </tr>\n",
       "    <tr>\n",
       "      <th>3</th>\n",
       "      <td>11.2125</td>\n",
       "    </tr>\n",
       "    <tr>\n",
       "      <th>4</th>\n",
       "      <td>11.2875</td>\n",
       "    </tr>\n",
       "  </tbody>\n",
       "</table>\n",
       "</div>"
      ],
      "text/plain": [
       "   Adj Close\n",
       "0    10.9225\n",
       "1    11.0750\n",
       "2    11.1725\n",
       "3    11.2125\n",
       "4    11.2875"
      ]
     },
     "execution_count": 89,
     "metadata": {},
     "output_type": "execute_result"
    }
   ],
   "source": [
    "df.head()"
   ]
  },
  {
   "cell_type": "code",
   "execution_count": 90,
   "metadata": {},
   "outputs": [],
   "source": [
    "# A variable for predicting 'n' days out into the future\n",
    "forecast_out = 30 #'n=30' days"
   ]
  },
  {
   "cell_type": "code",
   "execution_count": 91,
   "metadata": {},
   "outputs": [],
   "source": [
    "#Create another column (the target ) shifted 'n' units up\n",
    "df['Prediction'] = df[['Adj Close']].shift(-forecast_out)"
   ]
  },
  {
   "cell_type": "code",
   "execution_count": 92,
   "metadata": {},
   "outputs": [
    {
     "data": {
      "text/html": [
       "<div>\n",
       "<style scoped>\n",
       "    .dataframe tbody tr th:only-of-type {\n",
       "        vertical-align: middle;\n",
       "    }\n",
       "\n",
       "    .dataframe tbody tr th {\n",
       "        vertical-align: top;\n",
       "    }\n",
       "\n",
       "    .dataframe thead th {\n",
       "        text-align: right;\n",
       "    }\n",
       "</style>\n",
       "<table border=\"1\" class=\"dataframe\">\n",
       "  <thead>\n",
       "    <tr style=\"text-align: right;\">\n",
       "      <th></th>\n",
       "      <th>Adj Close</th>\n",
       "      <th>Prediction</th>\n",
       "    </tr>\n",
       "  </thead>\n",
       "  <tbody>\n",
       "    <tr>\n",
       "      <th>3744</th>\n",
       "      <td>109.709999</td>\n",
       "      <td>NaN</td>\n",
       "    </tr>\n",
       "    <tr>\n",
       "      <th>3745</th>\n",
       "      <td>109.949997</td>\n",
       "      <td>NaN</td>\n",
       "    </tr>\n",
       "    <tr>\n",
       "      <th>3746</th>\n",
       "      <td>107.970001</td>\n",
       "      <td>NaN</td>\n",
       "    </tr>\n",
       "    <tr>\n",
       "      <th>3747</th>\n",
       "      <td>113.019997</td>\n",
       "      <td>NaN</td>\n",
       "    </tr>\n",
       "    <tr>\n",
       "      <th>3748</th>\n",
       "      <td>113.070000</td>\n",
       "      <td>NaN</td>\n",
       "    </tr>\n",
       "  </tbody>\n",
       "</table>\n",
       "</div>"
      ],
      "text/plain": [
       "       Adj Close  Prediction\n",
       "3744  109.709999         NaN\n",
       "3745  109.949997         NaN\n",
       "3746  107.970001         NaN\n",
       "3747  113.019997         NaN\n",
       "3748  113.070000         NaN"
      ]
     },
     "execution_count": 92,
     "metadata": {},
     "output_type": "execute_result"
    }
   ],
   "source": [
    "# New dataset\n",
    "df.tail()"
   ]
  },
  {
   "cell_type": "code",
   "execution_count": 93,
   "metadata": {},
   "outputs": [],
   "source": [
    "X = np.array(df.drop(['Prediction'],1))"
   ]
  },
  {
   "cell_type": "code",
   "execution_count": 94,
   "metadata": {},
   "outputs": [
    {
     "name": "stdout",
     "output_type": "stream",
     "text": [
      "[[ 10.92249966]\n",
      " [ 11.07499981]\n",
      " [ 11.17249966]\n",
      " ...\n",
      " [102.41999817]\n",
      " [103.38999939]\n",
      " [105.11000061]]\n"
     ]
    }
   ],
   "source": [
    "#Remove the last '30' rows\n",
    "X = X[:-forecast_out]\n",
    "print(X)"
   ]
  },
  {
   "cell_type": "code",
   "execution_count": 95,
   "metadata": {},
   "outputs": [],
   "source": [
    "y = np.array(df['Prediction'])"
   ]
  },
  {
   "cell_type": "code",
   "execution_count": 96,
   "metadata": {},
   "outputs": [],
   "source": [
    "# Create the dependent data set (y)\n",
    "y = np.array(df['Prediction'])"
   ]
  },
  {
   "cell_type": "code",
   "execution_count": 97,
   "metadata": {},
   "outputs": [
    {
     "name": "stdout",
     "output_type": "stream",
     "text": [
      "[ 10.29500008  10.35000038  10.375      ... 107.97000122 113.01999664\n",
      " 113.06999969]\n"
     ]
    }
   ],
   "source": [
    "# Get all of the y values except the last '30' rows\n",
    "y = y[:-forecast_out]\n",
    "print(y)"
   ]
  },
  {
   "cell_type": "code",
   "execution_count": 98,
   "metadata": {},
   "outputs": [],
   "source": [
    "# Split the data into 80% training and 20% testing\n",
    "x_train, x_test, y_train, y_test = train_test_split(X, y, test_size=0.2)"
   ]
  },
  {
   "cell_type": "code",
   "execution_count": 99,
   "metadata": {},
   "outputs": [
    {
     "data": {
      "text/plain": [
       "SVR(C=1000.0, gamma=0.1)"
      ]
     },
     "execution_count": 99,
     "metadata": {},
     "output_type": "execute_result"
    }
   ],
   "source": [
    "# Create and train the Support Vector Machine (Regressor) \n",
    "svr_rbf = SVR(kernel='rbf', C=1e3, gamma=0.1) \n",
    "svr_rbf.fit(x_train, y_train)"
   ]
  },
  {
   "cell_type": "code",
   "execution_count": 100,
   "metadata": {},
   "outputs": [
    {
     "name": "stdout",
     "output_type": "stream",
     "text": [
      "svm confidence:  0.9915199834962408\n"
     ]
    }
   ],
   "source": [
    "# Testing Model: Score returns the coefficient of determination R^2 of the prediction. \n",
    "# The best possible score is 1.0\n",
    "svm_confidence = svr_rbf.score(x_test, y_test)\n",
    "print(\"svm confidence: \", svm_confidence)"
   ]
  },
  {
   "cell_type": "code",
   "execution_count": 101,
   "metadata": {},
   "outputs": [],
   "source": [
    "# Create and train the Linear Regression  Model\n",
    "lr = LinearRegression()"
   ]
  },
  {
   "cell_type": "code",
   "execution_count": 102,
   "metadata": {},
   "outputs": [
    {
     "data": {
      "text/plain": [
       "LinearRegression()"
      ]
     },
     "execution_count": 102,
     "metadata": {},
     "output_type": "execute_result"
    }
   ],
   "source": [
    "# Train the model\n",
    "lr.fit(x_train, y_train)"
   ]
  },
  {
   "cell_type": "code",
   "execution_count": 103,
   "metadata": {},
   "outputs": [
    {
     "name": "stdout",
     "output_type": "stream",
     "text": [
      "lr confidence:  0.9830011598697045\n"
     ]
    }
   ],
   "source": [
    "lr_confidence = lr.score(x_test, y_test)\n",
    "print(\"lr confidence: \", lr_confidence)"
   ]
  },
  {
   "cell_type": "code",
   "execution_count": 104,
   "metadata": {},
   "outputs": [
    {
     "name": "stdout",
     "output_type": "stream",
     "text": [
      "[[106.68000031]\n",
      " [104.76000214]\n",
      " [102.70999908]\n",
      " [101.80999756]\n",
      " [101.22000122]\n",
      " [ 98.73999786]\n",
      " [ 99.52999878]\n",
      " [ 99.36000061]\n",
      " [100.87999725]\n",
      " [101.18000031]\n",
      " [ 98.37999725]\n",
      " [ 96.61000061]\n",
      " [ 93.51999664]\n",
      " [ 95.76999664]\n",
      " [ 95.47000122]\n",
      " [ 97.29000092]\n",
      " [ 98.94999695]\n",
      " [101.19000244]\n",
      " [102.16000366]\n",
      " [103.06999969]\n",
      " [109.09999847]\n",
      " [106.80000305]\n",
      " [107.36000061]\n",
      " [105.69999695]\n",
      " [108.84999847]\n",
      " [109.70999908]\n",
      " [109.94999695]\n",
      " [107.97000122]\n",
      " [113.01999664]\n",
      " [113.06999969]]\n"
     ]
    }
   ],
   "source": [
    "# Set x_forecast equal to the last 30 rows of the original data set from Adj. Close column\n",
    "x_forecast = np.array(df.drop(['Prediction'],1))[-forecast_out:]\n",
    "print(x_forecast)"
   ]
  },
  {
   "cell_type": "code",
   "execution_count": 105,
   "metadata": {},
   "outputs": [
    {
     "name": "stdout",
     "output_type": "stream",
     "text": [
      "[108.03899369 106.10248346 104.0348503  103.12710872 102.53203839\n",
      " 100.03070691 100.82750186 100.6560417  102.18911038 102.49169347\n",
      "  99.66761028  97.88239159  94.76581347  97.03516356  96.73258816\n",
      "  98.56823993 100.24251199 102.50178162 103.48012489 104.39794693\n",
      " 110.47980394 108.16002846 108.72484202 107.05056226 110.22765393\n",
      " 111.09505058 111.33711243 109.34008866 114.43351425 114.48394733]\n"
     ]
    }
   ],
   "source": [
    "# Print linear regression model predictions for the next '30' days\n",
    "lr_prediction = lr.predict(x_forecast)\n",
    "print(lr_prediction)"
   ]
  },
  {
   "cell_type": "code",
   "execution_count": 106,
   "metadata": {},
   "outputs": [
    {
     "name": "stdout",
     "output_type": "stream",
     "text": [
      "[106.10918414 104.63469061 102.97992877 102.3529016  101.75258344\n",
      " 101.3590962  100.55577245 100.64560017 101.36580264 101.70776831\n",
      " 101.91228452 102.49735507 106.89716288 102.8500863  103.41648691\n",
      " 102.76956938 101.06277471 101.71900546 102.63896396 103.14668195\n",
      " 101.38969261 105.67298155 102.69597673 106.58513765  99.5383258\n",
      " 108.13265739 110.9646411   99.21095558 107.08306444 107.28412641]\n"
     ]
    }
   ],
   "source": [
    "# Print support vector regressor model predictions for the next '30' days\n",
    "svm_prediction = svr_rbf.predict(x_forecast)\n",
    "print(svm_prediction)"
   ]
  },
  {
   "cell_type": "markdown",
   "metadata": {},
   "source": [
    "**Conclusion** \n",
    "\n",
    "Using Exploratory data analysis we determined that IT sector is one of the biggest sectors by percentage in s&p 500. Upon further in depth EDA of IT sector companies we found which stocks offer best and worst returns over the years, also we found out which stocks are most volatile and which are least over the years using standard deviation. Using EDA, we identified a good company for investment is the one which offers most returns and has least stock volatility such as AAPL, TYL, FISV, etc. Then we have used linear regression model to predict stock prices for next 30 days of these companies which were identified as good companies for investment based on their returns and stock volatility so that it helps us in determining whether to invest in this company or not. We used our model on test dataset and we got an accuracy of 98.7% for APPL stock and 98.3% for FISV stock."
   ]
  },
  {
   "cell_type": "code",
   "execution_count": null,
   "metadata": {},
   "outputs": [],
   "source": []
  }
 ],
 "metadata": {
  "kernelspec": {
   "display_name": "Python 3",
   "language": "python",
   "name": "python3"
  },
  "language_info": {
   "codemirror_mode": {
    "name": "ipython",
    "version": 3
   },
   "file_extension": ".py",
   "mimetype": "text/x-python",
   "name": "python",
   "nbconvert_exporter": "python",
   "pygments_lexer": "ipython3",
   "version": "3.8.3"
  }
 },
 "nbformat": 4,
 "nbformat_minor": 4
}
